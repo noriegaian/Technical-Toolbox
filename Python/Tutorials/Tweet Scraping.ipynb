{
 "cells": [
  {
   "cell_type": "code",
   "execution_count": 1,
   "metadata": {},
   "outputs": [],
   "source": [
    "#Import Libraries\n",
    "import csv\n",
    "import pandas as pd\n",
    "from getpass import getpass\n",
    "from time import sleep\n",
    "from selenium.webdriver.common.keys import Keys\n",
    "from selenium.common.exceptions import NoSuchElementException\n",
    "from msedge.selenium_tools import Edge, EdgeOptions"
   ]
  },
  {
   "cell_type": "code",
   "execution_count": 3,
   "metadata": {},
   "outputs": [],
   "source": [
    "def get_tweet_data(card):\n",
    "    \"\"\"Extract data from tweet card\"\"\"\n",
    "    username = card.find_element_by_xpath('.//span').text\n",
    "    try:   \n",
    "        handle = card.find_element_by_xpath('.//span[contains(text(), \"@\")]').text\n",
    "    except NoSuchElementException:\n",
    "        return\n",
    "    try:\n",
    "        postdate = card.find_element_by_xpath('.//time').get_attribute('datetime')\n",
    "    except NoSuchElementException:\n",
    "        return\n",
    "    comment = card.find_element_by_xpath('.//div[2]/div[2]/div[1]').text\n",
    "    responding = card.find_element_by_xpath('.//div[2]/div[2]/div[2]').text\n",
    "    text = comment + responding\n",
    "    reply_cnt = card.find_element_by_xpath('.//div[@data-testid=\"reply\"]').text\n",
    "    retweet_cnt = card.find_element_by_xpath('.//div[@data-testid=\"retweet\"]').text\n",
    "    like_cnt = card.find_element_by_xpath('.//div[@data-testid=\"like\"]').text\n",
    "    \n",
    "    tweet = (username, handle, postdate, text, reply_cnt, retweet_cnt, like_cnt)\n",
    "    return tweet   "
   ]
  },
  {
   "cell_type": "code",
   "execution_count": 10,
   "metadata": {},
   "outputs": [],
   "source": [
    "# application variables\n",
    "user = 'rdmmaqueensuni'\n",
    "search_term = 'tesla'\n",
    "my_password = 'kipling@7'\n",
    "\n",
    "# create instance of web driver\n",
    "options = EdgeOptions()\n",
    "options.use_chromium = True\n",
    "driver = Edge(options=options)\n",
    "\n",
    "# navigate to login screen\n",
    "driver.get('https://www.twitter.com/login')\n",
    "driver.maximize_window()\n",
    "\n",
    "username = driver.find_element_by_xpath('//input[@name=\"session[username_or_email]\"]')\n",
    "username.send_keys(user)\n",
    "\n",
    "password = driver.find_element_by_xpath('//input[@name=\"session[password]\"]')\n",
    "password.send_keys(my_password)\n",
    "password.send_keys(Keys.RETURN)\n",
    "sleep(1)"
   ]
  },
  {
   "cell_type": "code",
   "execution_count": 4,
   "metadata": {},
   "outputs": [],
   "source": [
    "# find search input and search for term\n",
    "search_term = 'tesla since:2020-10-09 until:2020-10-10'\n",
    "search_input = driver.find_element_by_xpath('//input[@aria-label=\"Search query\"]')\n",
    "search_input.send_keys(search_term)\n",
    "search_input.send_keys(Keys.RETURN)"
   ]
  },
  {
   "cell_type": "code",
   "execution_count": 7,
   "metadata": {},
   "outputs": [],
   "source": [
    "# navigate to historical 'latest' tab\n",
    "driver.find_element_by_link_text('Latest').click()\n",
    "\n",
    "# get all tweets on the page\n",
    "data = []\n",
    "data_temp = []\n",
    "tweet_ids = set()\n",
    "last_position = driver.execute_script(\"return window.pageYOffset;\")\n",
    "scrolling = True"
   ]
  },
  {
   "cell_type": "code",
   "execution_count": null,
   "metadata": {
    "scrolled": false
   },
   "outputs": [],
   "source": [
    "tweet_month = ['tesla since:2020-10-09 until:2020-10-10','tesla since:2020-10-08 until:2020-10-09']\n",
    "data = []\n",
    "\n",
    "for day in tweet_month: \n",
    "\n",
    "    # find search input and search for term\n",
    "    search_term = day\n",
    "    search_input = driver.find_element_by_xpath('//input[@aria-label=\"Search query\"]')\n",
    "    search_input.send_keys(search_term)\n",
    "    search_input.send_keys(Keys.RETURN)\n",
    "    \n",
    "    sleep(50)\n",
    "    driver.find_element_by_link_text('Latest').click()\n",
    "#     driver.find_element_by_css_selector('div.css-4rbku5 css-18t94o4 css-1dbjc4n r-1awozwy r-18p3no4 r-rull8r r-wgabs5 r-1loqt21 r-6koalj r-eqz5dr r-16y2uox r-1777fci r-1ny4l3l r-1oqcu8e r-o7ynqc r-6416eg').click()\n",
    "\n",
    "    data_temp = []\n",
    "    tweet_ids = set()\n",
    "    scrolling = True\n",
    "    last_position = driver.execute_script(\"return window.pageYOffset;\")\n",
    "\n",
    "    while scrolling:\n",
    "        page_cards = driver.find_elements_by_xpath('//div[@data-testid=\"tweet\"]')\n",
    "        for card in page_cards[-15:]:\n",
    "            tweet = get_tweet_data(card)\n",
    "            if tweet:\n",
    "                tweet_id = ''.join(tweet)\n",
    "                if tweet_id not in tweet_ids:\n",
    "                    tweet_ids.add(tweet_id)\n",
    "                    data_temp.append(tweet)\n",
    "\n",
    "        scroll_attempt = 0\n",
    "        while True:\n",
    "            # check scroll position\n",
    "            driver.execute_script('window.scrollTo(0, document.body.scrollHeight);')\n",
    "            sleep(1)\n",
    "            curr_position = driver.execute_script(\"return window.pageYOffset;\")\n",
    "            if last_position == curr_position:\n",
    "                scroll_attempt += 1\n",
    "\n",
    "                # end of scroll region\n",
    "                if scroll_attempt >= 3:\n",
    "                    scrolling = False\n",
    "                    break\n",
    "                else:\n",
    "                    sleep(2) # attempt another scroll\n",
    "            else:\n",
    "                last_position = curr_position\n",
    "                break\n",
    "    \n",
    "    data.append(data_temp)\n",
    "    \n",
    "    # close the web driver\n",
    "# driver.close()"
   ]
  },
  {
   "cell_type": "code",
   "execution_count": 6,
   "metadata": {},
   "outputs": [
    {
     "data": {
      "text/plain": [
       "[('10.13',\n",
       "  '@bgeeezy__',\n",
       "  '2020-10-10T20:35:02.000Z',\n",
       "  'If I see a Tesla in the buckhead area, I’m automatically looking for \\n@dearra\\n ',\n",
       "  '',\n",
       "  '',\n",
       "  ''),\n",
       " ('Rüya Öksin',\n",
       "  '@tatli_cadi84',\n",
       "  '2020-10-10T20:34:58.000Z',\n",
       "  'Replying to \\n@ama_tesla\\n @bagsbanny34\\n and \\n@onediocomSesli gulduk',\n",
       "  '',\n",
       "  '',\n",
       "  '')]"
      ]
     },
     "execution_count": 6,
     "metadata": {},
     "output_type": "execute_result"
    }
   ],
   "source": [
    "data[:2]"
   ]
  },
  {
   "cell_type": "code",
   "execution_count": null,
   "metadata": {},
   "outputs": [],
   "source": [
    "print(len(data[0]))"
   ]
  },
  {
   "cell_type": "code",
   "execution_count": 7,
   "metadata": {},
   "outputs": [],
   "source": [
    "with open('tesla_tweets.csv', 'w', newline='', encoding='utf-8') as f:\n",
    "    header = ['UserName', 'Handle', 'Timestamp', 'Comments', 'Likes', 'Retweets', 'Text']\n",
    "    writer = csv.writer(f)\n",
    "    writer.writerow(header)\n",
    "    writer.writerows(data)"
   ]
  },
  {
   "cell_type": "code",
   "execution_count": 15,
   "metadata": {},
   "outputs": [
    {
     "data": {
      "text/html": [
       "<div>\n",
       "<style scoped>\n",
       "    .dataframe tbody tr th:only-of-type {\n",
       "        vertical-align: middle;\n",
       "    }\n",
       "\n",
       "    .dataframe tbody tr th {\n",
       "        vertical-align: top;\n",
       "    }\n",
       "\n",
       "    .dataframe thead th {\n",
       "        text-align: right;\n",
       "    }\n",
       "</style>\n",
       "<table border=\"1\" class=\"dataframe\">\n",
       "  <thead>\n",
       "    <tr style=\"text-align: right;\">\n",
       "      <th></th>\n",
       "      <th>UserName</th>\n",
       "      <th>Handle</th>\n",
       "      <th>Timestamp</th>\n",
       "      <th>Comments</th>\n",
       "      <th>Likes</th>\n",
       "      <th>Retweets</th>\n",
       "      <th>Text</th>\n",
       "    </tr>\n",
       "  </thead>\n",
       "  <tbody>\n",
       "    <tr>\n",
       "      <th>0</th>\n",
       "      <td>Rafael Torres Mejìa</td>\n",
       "      <td>@torrespld01</td>\n",
       "      <td>2020-10-10T21:01:09.000Z</td>\n",
       "      <td>Competencia para la #cybertruck de #Tesla :Quo...</td>\n",
       "      <td></td>\n",
       "      <td></td>\n",
       "      <td></td>\n",
       "    </tr>\n",
       "    <tr>\n",
       "      <th>1</th>\n",
       "      <td>StatsApp</td>\n",
       "      <td>@StatsTeslaApp</td>\n",
       "      <td>2020-10-10T21:01:08.000Z</td>\n",
       "      <td>Replying to \\n@chris_grnwld\\n @DaddyFrunk\\n an...</td>\n",
       "      <td></td>\n",
       "      <td></td>\n",
       "      <td></td>\n",
       "    </tr>\n",
       "    <tr>\n",
       "      <th>2</th>\n",
       "      <td>la Jolla boy</td>\n",
       "      <td>@CpheinHein</td>\n",
       "      <td>2020-10-10T21:01:05.000Z</td>\n",
       "      <td>Replying to \\n@droid_tesla\\n @BarkMSmeagol\\n a...</td>\n",
       "      <td></td>\n",
       "      <td></td>\n",
       "      <td></td>\n",
       "    </tr>\n",
       "    <tr>\n",
       "      <th>3</th>\n",
       "      <td>The Shah of Blah</td>\n",
       "      <td>@onefumi</td>\n",
       "      <td>2020-10-10T21:00:59.000Z</td>\n",
       "      <td>Replying to \\n@tanyajunghansLike, he didn't ev...</td>\n",
       "      <td></td>\n",
       "      <td></td>\n",
       "      <td></td>\n",
       "    </tr>\n",
       "    <tr>\n",
       "      <th>4</th>\n",
       "      <td>Drew</td>\n",
       "      <td>@DrewDamnjanovic</td>\n",
       "      <td>2020-10-10T21:00:55.000Z</td>\n",
       "      <td>Replying to \\n@MemberSeeShareholders sell shar...</td>\n",
       "      <td></td>\n",
       "      <td></td>\n",
       "      <td></td>\n",
       "    </tr>\n",
       "  </tbody>\n",
       "</table>\n",
       "</div>"
      ],
      "text/plain": [
       "              UserName            Handle                 Timestamp  \\\n",
       "0  Rafael Torres Mejìa      @torrespld01  2020-10-10T21:01:09.000Z   \n",
       "1             StatsApp    @StatsTeslaApp  2020-10-10T21:01:08.000Z   \n",
       "2         la Jolla boy       @CpheinHein  2020-10-10T21:01:05.000Z   \n",
       "3     The Shah of Blah          @onefumi  2020-10-10T21:00:59.000Z   \n",
       "4                 Drew  @DrewDamnjanovic  2020-10-10T21:00:55.000Z   \n",
       "\n",
       "                                            Comments Likes Retweets Text  \n",
       "0  Competencia para la #cybertruck de #Tesla :Quo...                      \n",
       "1  Replying to \\n@chris_grnwld\\n @DaddyFrunk\\n an...                      \n",
       "2  Replying to \\n@droid_tesla\\n @BarkMSmeagol\\n a...                      \n",
       "3  Replying to \\n@tanyajunghansLike, he didn't ev...                      \n",
       "4  Replying to \\n@MemberSeeShareholders sell shar...                      "
      ]
     },
     "execution_count": 15,
     "metadata": {},
     "output_type": "execute_result"
    }
   ],
   "source": [
    "df = pd.DataFrame(data, columns =['UserName', 'Handle', 'Timestamp', 'Comments', 'Likes', 'Retweets', 'Text']) \n",
    "  \n",
    "df.head()"
   ]
  },
  {
   "cell_type": "code",
   "execution_count": 16,
   "metadata": {},
   "outputs": [],
   "source": [
    "df.to_csv(r\"C:\\Users\\Tom-T\\Google Drive\\Queen's MMA\\Analytics for Financial Markets - MMA 823\\Project\\Tesla_Tweets.csv\")"
   ]
  }
 ],
 "metadata": {
  "kernelspec": {
   "display_name": "Python 3",
   "language": "python",
   "name": "python3"
  },
  "language_info": {
   "codemirror_mode": {
    "name": "ipython",
    "version": 3
   },
   "file_extension": ".py",
   "mimetype": "text/x-python",
   "name": "python",
   "nbconvert_exporter": "python",
   "pygments_lexer": "ipython3",
   "version": "3.6.10"
  }
 },
 "nbformat": 4,
 "nbformat_minor": 4
}
