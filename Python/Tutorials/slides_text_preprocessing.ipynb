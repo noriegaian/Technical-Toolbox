{
 "cells": [
  {
   "cell_type": "markdown",
   "metadata": {},
   "source": [
    "# Playground for Preprocessing Slides\n",
    "\n",
    "- Stephen W. Thomas\n",
    "- Used for MMAI 891 and MMA 865"
   ]
  },
  {
   "cell_type": "code",
   "execution_count": 1,
   "metadata": {},
   "outputs": [
    {
     "name": "stdout",
     "output_type": "stream",
     "text": [
      "2020-09-03 22:04:23.719459\n"
     ]
    }
   ],
   "source": [
    "import datetime\n",
    "print(datetime.datetime.now())"
   ]
  },
  {
   "cell_type": "code",
   "execution_count": 2,
   "metadata": {},
   "outputs": [],
   "source": [
    "import pandas as pd\n",
    "import numpy as np\n",
    "\n",
    "import matplotlib\n",
    "import matplotlib.pyplot as plt\n",
    "import seaborn as sns \n",
    "\n",
    "import re\n",
    "import string\n",
    "import unicodedata\n",
    "\n",
    "import nltk\n",
    "from nltk.corpus import stopwords\n",
    "from nltk import word_tokenize\n",
    "from nltk import word_tokenize, sent_tokenize\n",
    "from nltk.corpus import stopwords\n",
    "from nltk.stem import LancasterStemmer, WordNetLemmatizer\n",
    "\n",
    "from bs4 import BeautifulSoup\n",
    "\n",
    "import os\n",
    "\n",
    "from IPython.core.interactiveshell import InteractiveShell\n",
    "InteractiveShell.ast_node_interactivity = \"all\""
   ]
  },
  {
   "cell_type": "markdown",
   "metadata": {},
   "source": [
    "# Case Normalization"
   ]
  },
  {
   "cell_type": "code",
   "execution_count": 3,
   "metadata": {},
   "outputs": [
    {
     "data": {
      "text/plain": [
       "'hi, my name is steve.'"
      ]
     },
     "execution_count": 3,
     "metadata": {},
     "output_type": "execute_result"
    },
    {
     "data": {
      "text/plain": [
       "'i work at the u.n. in nyc in the usa.'"
      ]
     },
     "execution_count": 3,
     "metadata": {},
     "output_type": "execute_result"
    }
   ],
   "source": [
    "\"Hi, my name is Steve.\".lower()\n",
    "'I work at the U.N. in NYC in the USA.'.lower()"
   ]
  },
  {
   "cell_type": "markdown",
   "metadata": {},
   "source": [
    "# Tokenization"
   ]
  },
  {
   "cell_type": "markdown",
   "metadata": {},
   "source": [
    "For simple tokenzation, the NLTK docs recommend to just use `.split()`"
   ]
  },
  {
   "cell_type": "code",
   "execution_count": 4,
   "metadata": {},
   "outputs": [
    {
     "data": {
      "text/plain": [
       "['Hi,', 'my', 'name', 'is', 'Steve.']"
      ]
     },
     "execution_count": 4,
     "metadata": {},
     "output_type": "execute_result"
    },
    {
     "data": {
      "text/plain": [
       "[\"Let's\", 'go', 'to', 'the', 'U.N.', 'in', 'NYC!!']"
      ]
     },
     "execution_count": 4,
     "metadata": {},
     "output_type": "execute_result"
    },
    {
     "data": {
      "text/plain": [
       "['The',\n",
       " 'ever-popular',\n",
       " 'San',\n",
       " 'Fransisco',\n",
       " 'love',\n",
       " 'letter',\n",
       " 'arrived',\n",
       " 'on',\n",
       " 'March',\n",
       " '11,',\n",
       " '2019.']"
      ]
     },
     "execution_count": 4,
     "metadata": {},
     "output_type": "execute_result"
    },
    {
     "data": {
      "text/plain": [
       "['stephen.thomas@queensu.ca']"
      ]
     },
     "execution_count": 4,
     "metadata": {},
     "output_type": "execute_result"
    },
    {
     "data": {
      "text/plain": [
       "['(613)', '453-6162']"
      ]
     },
     "execution_count": 4,
     "metadata": {},
     "output_type": "execute_result"
    }
   ],
   "source": [
    "\"Hi, my name is Steve.\".split()\n",
    "\"Let's go to the U.N. in NYC!!\".split()\n",
    "\"The ever-popular San Fransisco love letter arrived on March 11, 2019.\".split()\n",
    "\"stephen.thomas@queensu.ca\".split()\n",
    "\"(613) 453-6162\".split()"
   ]
  },
  {
   "cell_type": "markdown",
   "metadata": {},
   "source": [
    "Can also use `nltk`'s `word_tokenize()` function."
   ]
  },
  {
   "cell_type": "code",
   "execution_count": 5,
   "metadata": {},
   "outputs": [
    {
     "data": {
      "text/plain": [
       "['Hi', ',', 'my', 'name', 'is', 'Steve', '.']"
      ]
     },
     "execution_count": 5,
     "metadata": {},
     "output_type": "execute_result"
    },
    {
     "data": {
      "text/plain": [
       "['Let', \"'s\", 'go', 'to', 'the', 'U.N.', 'in', 'NYC', '!', '!']"
      ]
     },
     "execution_count": 5,
     "metadata": {},
     "output_type": "execute_result"
    },
    {
     "data": {
      "text/plain": [
       "['The',\n",
       " 'ever-popular',\n",
       " 'San',\n",
       " 'Fransisco',\n",
       " 'love',\n",
       " 'letter',\n",
       " 'arrived',\n",
       " 'on',\n",
       " 'March',\n",
       " '11',\n",
       " ',',\n",
       " '2019',\n",
       " '.']"
      ]
     },
     "execution_count": 5,
     "metadata": {},
     "output_type": "execute_result"
    },
    {
     "data": {
      "text/plain": [
       "['stephen.thomas', '@', 'queensu.ca']"
      ]
     },
     "execution_count": 5,
     "metadata": {},
     "output_type": "execute_result"
    },
    {
     "data": {
      "text/plain": [
       "['(', '613', ')', '453-6162']"
      ]
     },
     "execution_count": 5,
     "metadata": {},
     "output_type": "execute_result"
    }
   ],
   "source": [
    "from nltk import word_tokenize\n",
    "word_tokenize(\"Hi, my name is Steve.\")\n",
    "word_tokenize(\"Let's go to the U.N. in NYC!!\")\n",
    "word_tokenize(\"The ever-popular San Fransisco love letter arrived on March 11, 2019.\")\n",
    "word_tokenize(\"stephen.thomas@queensu.ca\")\n",
    "word_tokenize(\"(613) 453-6162\")"
   ]
  },
  {
   "cell_type": "markdown",
   "metadata": {},
   "source": [
    "`nltk` even has a tokenizer for tweets!"
   ]
  },
  {
   "cell_type": "code",
   "execution_count": 6,
   "metadata": {},
   "outputs": [
    {
     "data": {
      "text/plain": [
       "['This',\n",
       " 'is',\n",
       " 'a',\n",
       " 'cooool',\n",
       " '#dummysmiley',\n",
       " ':',\n",
       " ':-)',\n",
       " ':-P',\n",
       " '<3',\n",
       " 'and',\n",
       " 'some',\n",
       " 'arrows',\n",
       " '<',\n",
       " '>',\n",
       " '->',\n",
       " '<--']"
      ]
     },
     "execution_count": 6,
     "metadata": {},
     "output_type": "execute_result"
    }
   ],
   "source": [
    "from nltk.tokenize import TweetTokenizer\n",
    "tknzr = TweetTokenizer()\n",
    "s0 = \"This is a cooool #dummysmiley: :-) :-P <3 and some arrows < > -> <--\"\n",
    "tknzr.tokenize(s0)"
   ]
  },
  {
   "cell_type": "markdown",
   "metadata": {},
   "source": [
    "# N-Grams"
   ]
  },
  {
   "cell_type": "code",
   "execution_count": 7,
   "metadata": {},
   "outputs": [
    {
     "name": "stdout",
     "output_type": "stream",
     "text": [
      "('Hey', 'there')\n",
      "('there', ',')\n",
      "(',', 'I')\n",
      "('I', 'am')\n",
      "('am', 'awesome')\n",
      "('awesome', '.')\n",
      "('Hey', 'there', ',')\n",
      "('there', ',', 'I')\n",
      "(',', 'I', 'am')\n",
      "('I', 'am', 'awesome')\n",
      "('am', 'awesome', '.')\n"
     ]
    }
   ],
   "source": [
    "from nltk.util import ngrams\n",
    "tokens = nltk.word_tokenize(\"Hey there, I am awesome.\")\n",
    "\n",
    "grams = ngrams(tokens,2)\n",
    "for grams in grams:\n",
    "  print(grams)\n",
    "\n",
    "grams = ngrams(tokens,3)\n",
    "for grams in grams:\n",
    "  print(grams)"
   ]
  },
  {
   "cell_type": "markdown",
   "metadata": {},
   "source": [
    "# Removing Characters"
   ]
  },
  {
   "cell_type": "code",
   "execution_count": 8,
   "metadata": {},
   "outputs": [
    {
     "data": {
      "text/plain": [
       "'Hey Lets go to the bar'"
      ]
     },
     "execution_count": 8,
     "metadata": {},
     "output_type": "execute_result"
    }
   ],
   "source": [
    "import re\n",
    "s = \"Hey! Let's go to the bar...\"\n",
    "re.sub(r'[^\\w\\s]', '', s)"
   ]
  },
  {
   "cell_type": "code",
   "execution_count": 9,
   "metadata": {},
   "outputs": [
    {
     "data": {
      "text/plain": [
       "'Abcdeacoauu'"
      ]
     },
     "execution_count": 9,
     "metadata": {},
     "output_type": "execute_result"
    }
   ],
   "source": [
    "import unidecode\n",
    "s = u'Ábcdêãçoàúü'\n",
    "unidecode.unidecode(s)"
   ]
  },
  {
   "cell_type": "markdown",
   "metadata": {},
   "source": [
    "# Removing Numbers"
   ]
  },
  {
   "cell_type": "code",
   "execution_count": 10,
   "metadata": {},
   "outputs": [
    {
     "data": {
      "text/plain": [
       "'There are only  classes left.'"
      ]
     },
     "execution_count": 10,
     "metadata": {},
     "output_type": "execute_result"
    }
   ],
   "source": [
    "import re\n",
    "s = \"There are only 4 classes left.\"\n",
    "re.sub(r'\\d+', '', s)"
   ]
  },
  {
   "cell_type": "markdown",
   "metadata": {},
   "source": [
    "# Regular Expressions"
   ]
  },
  {
   "cell_type": "code",
   "execution_count": 11,
   "metadata": {},
   "outputs": [
    {
     "data": {
      "text/plain": [
       "['Alejandrina has a small store in her house where she sells basic products. ',\n",
       " 'Nancy works as a saleswoman, her main product being used clothing.',\n",
       " 'Marjorie sells lunch to companies and construction workers.  Kolb.']"
      ]
     },
     "execution_count": 11,
     "metadata": {},
     "output_type": "execute_result"
    }
   ],
   "source": [
    "sentences = [\n",
    "  \"Alejandrina has a small store in her house where she sells basic products. Translated from Spanish by Jennifer Day, Kiva Volunteer.\",\n",
    "  \"Nancy works as a saleswoman, her main product being used clothing.Translated from Spanish by Kiva Volunteer, Kristin Connor.\",\n",
    "  \"Marjorie sells lunch to companies and construction workers. Translated by Ramn F. Kolb.\"]\n",
    "\n",
    "[re.sub(r'Translated[^\\.]+\\.', '', s) for s in sentences]"
   ]
  },
  {
   "cell_type": "markdown",
   "metadata": {},
   "source": [
    "# Stemming and Lemmatization"
   ]
  },
  {
   "cell_type": "code",
   "execution_count": 13,
   "metadata": {},
   "outputs": [
    {
     "data": {
      "text/html": [
       "<div>\n",
       "<style scoped>\n",
       "    .dataframe tbody tr th:only-of-type {\n",
       "        vertical-align: middle;\n",
       "    }\n",
       "\n",
       "    .dataframe tbody tr th {\n",
       "        vertical-align: top;\n",
       "    }\n",
       "\n",
       "    .dataframe thead th {\n",
       "        text-align: right;\n",
       "    }\n",
       "</style>\n",
       "<table border=\"1\" class=\"dataframe\">\n",
       "  <thead>\n",
       "    <tr style=\"text-align: right;\">\n",
       "      <th></th>\n",
       "      <th>Orig</th>\n",
       "      <th>Porter</th>\n",
       "      <th>Snowball</th>\n",
       "      <th>Lancaster</th>\n",
       "      <th>WordNetLemmatizer</th>\n",
       "    </tr>\n",
       "  </thead>\n",
       "  <tbody>\n",
       "    <tr>\n",
       "      <td>0</td>\n",
       "      <td>caresses</td>\n",
       "      <td>caress</td>\n",
       "      <td>caress</td>\n",
       "      <td>caress</td>\n",
       "      <td>caress</td>\n",
       "    </tr>\n",
       "    <tr>\n",
       "      <td>1</td>\n",
       "      <td>flies</td>\n",
       "      <td>fli</td>\n",
       "      <td>fli</td>\n",
       "      <td>fli</td>\n",
       "      <td>fly</td>\n",
       "    </tr>\n",
       "    <tr>\n",
       "      <td>2</td>\n",
       "      <td>dies</td>\n",
       "      <td>die</td>\n",
       "      <td>die</td>\n",
       "      <td>die</td>\n",
       "      <td>dy</td>\n",
       "    </tr>\n",
       "    <tr>\n",
       "      <td>3</td>\n",
       "      <td>mules</td>\n",
       "      <td>mule</td>\n",
       "      <td>mule</td>\n",
       "      <td>mul</td>\n",
       "      <td>mule</td>\n",
       "    </tr>\n",
       "    <tr>\n",
       "      <td>4</td>\n",
       "      <td>denied</td>\n",
       "      <td>deni</td>\n",
       "      <td>deni</td>\n",
       "      <td>deny</td>\n",
       "      <td>denied</td>\n",
       "    </tr>\n",
       "    <tr>\n",
       "      <td>5</td>\n",
       "      <td>died</td>\n",
       "      <td>die</td>\n",
       "      <td>die</td>\n",
       "      <td>died</td>\n",
       "      <td>died</td>\n",
       "    </tr>\n",
       "    <tr>\n",
       "      <td>6</td>\n",
       "      <td>agreed</td>\n",
       "      <td>agre</td>\n",
       "      <td>agre</td>\n",
       "      <td>agree</td>\n",
       "      <td>agreed</td>\n",
       "    </tr>\n",
       "    <tr>\n",
       "      <td>7</td>\n",
       "      <td>owned</td>\n",
       "      <td>own</td>\n",
       "      <td>own</td>\n",
       "      <td>own</td>\n",
       "      <td>owned</td>\n",
       "    </tr>\n",
       "    <tr>\n",
       "      <td>8</td>\n",
       "      <td>humbled</td>\n",
       "      <td>humbl</td>\n",
       "      <td>humbl</td>\n",
       "      <td>humbl</td>\n",
       "      <td>humbled</td>\n",
       "    </tr>\n",
       "    <tr>\n",
       "      <td>9</td>\n",
       "      <td>sized</td>\n",
       "      <td>size</td>\n",
       "      <td>size</td>\n",
       "      <td>siz</td>\n",
       "      <td>sized</td>\n",
       "    </tr>\n",
       "    <tr>\n",
       "      <td>10</td>\n",
       "      <td>meeting</td>\n",
       "      <td>meet</td>\n",
       "      <td>meet</td>\n",
       "      <td>meet</td>\n",
       "      <td>meeting</td>\n",
       "    </tr>\n",
       "    <tr>\n",
       "      <td>11</td>\n",
       "      <td>stating</td>\n",
       "      <td>state</td>\n",
       "      <td>state</td>\n",
       "      <td>stat</td>\n",
       "      <td>stating</td>\n",
       "    </tr>\n",
       "    <tr>\n",
       "      <td>12</td>\n",
       "      <td>itemization</td>\n",
       "      <td>item</td>\n",
       "      <td>item</td>\n",
       "      <td>item</td>\n",
       "      <td>itemization</td>\n",
       "    </tr>\n",
       "    <tr>\n",
       "      <td>13</td>\n",
       "      <td>sensational</td>\n",
       "      <td>sensat</td>\n",
       "      <td>sensat</td>\n",
       "      <td>sens</td>\n",
       "      <td>sensational</td>\n",
       "    </tr>\n",
       "    <tr>\n",
       "      <td>14</td>\n",
       "      <td>traditional</td>\n",
       "      <td>tradit</td>\n",
       "      <td>tradit</td>\n",
       "      <td>tradit</td>\n",
       "      <td>traditional</td>\n",
       "    </tr>\n",
       "    <tr>\n",
       "      <td>15</td>\n",
       "      <td>reference</td>\n",
       "      <td>refer</td>\n",
       "      <td>refer</td>\n",
       "      <td>ref</td>\n",
       "      <td>reference</td>\n",
       "    </tr>\n",
       "    <tr>\n",
       "      <td>16</td>\n",
       "      <td>colonizer</td>\n",
       "      <td>colon</td>\n",
       "      <td>colon</td>\n",
       "      <td>colon</td>\n",
       "      <td>colonizer</td>\n",
       "    </tr>\n",
       "    <tr>\n",
       "      <td>17</td>\n",
       "      <td>plotted</td>\n",
       "      <td>plot</td>\n",
       "      <td>plot</td>\n",
       "      <td>plot</td>\n",
       "      <td>plotted</td>\n",
       "    </tr>\n",
       "    <tr>\n",
       "      <td>18</td>\n",
       "      <td>generously</td>\n",
       "      <td>gener</td>\n",
       "      <td>generous</td>\n",
       "      <td>gen</td>\n",
       "      <td>generously</td>\n",
       "    </tr>\n",
       "    <tr>\n",
       "      <td>19</td>\n",
       "      <td>crying</td>\n",
       "      <td>cri</td>\n",
       "      <td>cri</td>\n",
       "      <td>cry</td>\n",
       "      <td>cry</td>\n",
       "    </tr>\n",
       "  </tbody>\n",
       "</table>\n",
       "</div>"
      ],
      "text/plain": [
       "           Orig  Porter  Snowball Lancaster WordNetLemmatizer\n",
       "0      caresses  caress    caress    caress            caress\n",
       "1         flies     fli       fli       fli               fly\n",
       "2          dies     die       die       die                dy\n",
       "3         mules    mule      mule       mul              mule\n",
       "4        denied    deni      deni      deny            denied\n",
       "5          died     die       die      died              died\n",
       "6        agreed    agre      agre     agree            agreed\n",
       "7         owned     own       own       own             owned\n",
       "8       humbled   humbl     humbl     humbl           humbled\n",
       "9         sized    size      size       siz             sized\n",
       "10      meeting    meet      meet      meet           meeting\n",
       "11      stating   state     state      stat           stating\n",
       "12  itemization    item      item      item       itemization\n",
       "13  sensational  sensat    sensat      sens       sensational\n",
       "14  traditional  tradit    tradit    tradit       traditional\n",
       "15    reference   refer     refer       ref         reference\n",
       "16    colonizer   colon     colon     colon         colonizer\n",
       "17      plotted    plot      plot      plot           plotted\n",
       "18   generously   gener  generous       gen        generously\n",
       "19       crying     cri       cri       cry               cry"
      ]
     },
     "execution_count": 13,
     "metadata": {},
     "output_type": "execute_result"
    }
   ],
   "source": [
    "from nltk.stem.porter import PorterStemmer\n",
    "from nltk.stem.snowball import SnowballStemmer\n",
    "from nltk.stem.lancaster import LancasterStemmer\n",
    "from nltk.stem import WordNetLemmatizer\n",
    "\n",
    "\n",
    "words = ['caresses', 'flies', 'dies', 'mules', 'denied',\n",
    "            'died', 'agreed', 'owned', 'humbled', 'sized',\n",
    "            'meeting', 'stating', 'itemization',\n",
    "            'sensational', 'traditional', 'reference', 'colonizer',\n",
    "            'plotted', 'generously', 'crying']\n",
    "\n",
    "res = pd.DataFrame()\n",
    "res = res.assign(Orig=words,\n",
    "                 Porter=[PorterStemmer().stem(w) for w in words], #most gentle\n",
    "                 Snowball=[SnowballStemmer('english').stem(w) for w in words],\n",
    "                 Lancaster=[LancasterStemmer().stem(w) for w in words], #most aggressive\n",
    "                 WordNetLemmatizer=[WordNetLemmatizer().lemmatize(w) for w in words])\n",
    "res"
   ]
  },
  {
   "cell_type": "markdown",
   "metadata": {},
   "source": [
    "# Spell Checking"
   ]
  },
  {
   "cell_type": "code",
   "execution_count": 16,
   "metadata": {},
   "outputs": [
    {
     "ename": "RuntimeError",
     "evalue": "generator raised StopIteration",
     "output_type": "error",
     "traceback": [
      "\u001b[1;31m---------------------------------------------------------------------------\u001b[0m",
      "\u001b[1;31mStopIteration\u001b[0m                             Traceback (most recent call last)",
      "\u001b[1;32m~\\Anaconda3\\lib\\site-packages\\pattern\\text\\__init__.py\u001b[0m in \u001b[0;36m_read\u001b[1;34m(path, encoding, comment)\u001b[0m\n\u001b[0;32m    608\u001b[0m             \u001b[1;32myield\u001b[0m \u001b[0mline\u001b[0m\u001b[1;33m\u001b[0m\u001b[1;33m\u001b[0m\u001b[0m\n\u001b[1;32m--> 609\u001b[1;33m     \u001b[1;32mraise\u001b[0m \u001b[0mStopIteration\u001b[0m\u001b[1;33m\u001b[0m\u001b[1;33m\u001b[0m\u001b[0m\n\u001b[0m\u001b[0;32m    610\u001b[0m \u001b[1;33m\u001b[0m\u001b[0m\n",
      "\u001b[1;31mStopIteration\u001b[0m: ",
      "\nThe above exception was the direct cause of the following exception:\n",
      "\u001b[1;31mRuntimeError\u001b[0m                              Traceback (most recent call last)",
      "\u001b[1;32m<timed eval>\u001b[0m in \u001b[0;36m<module>\u001b[1;34m\u001b[0m\n",
      "\u001b[1;32m~\\Anaconda3\\lib\\site-packages\\pattern\\text\\en\\__init__.py\u001b[0m in \u001b[0;36msuggest\u001b[1;34m(w)\u001b[0m\n\u001b[0;32m    205\u001b[0m     \"\"\" Returns a list of (word, confidence)-tuples of spelling corrections.\n\u001b[0;32m    206\u001b[0m     \"\"\"\n\u001b[1;32m--> 207\u001b[1;33m     \u001b[1;32mreturn\u001b[0m \u001b[0mspelling\u001b[0m\u001b[1;33m.\u001b[0m\u001b[0msuggest\u001b[0m\u001b[1;33m(\u001b[0m\u001b[0mw\u001b[0m\u001b[1;33m)\u001b[0m\u001b[1;33m\u001b[0m\u001b[1;33m\u001b[0m\u001b[0m\n\u001b[0m\u001b[0;32m    208\u001b[0m \u001b[1;33m\u001b[0m\u001b[0m\n\u001b[0;32m    209\u001b[0m \u001b[1;33m\u001b[0m\u001b[0m\n",
      "\u001b[1;32m~\\Anaconda3\\lib\\site-packages\\pattern\\text\\__init__.py\u001b[0m in \u001b[0;36msuggest\u001b[1;34m(self, w)\u001b[0m\n\u001b[0;32m   2675\u001b[0m             \u001b[0mbased\u001b[0m \u001b[0mon\u001b[0m \u001b[0mthe\u001b[0m \u001b[0mprobability\u001b[0m \u001b[0mof\u001b[0m \u001b[0mknown\u001b[0m \u001b[0mwords\u001b[0m \u001b[1;32mwith\u001b[0m \u001b[0medit\u001b[0m \u001b[0mdistance\u001b[0m \u001b[1;36m1\u001b[0m\u001b[1;33m-\u001b[0m\u001b[1;36m2\u001b[0m \u001b[1;32mfrom\u001b[0m \u001b[0mthe\u001b[0m \u001b[0mgiven\u001b[0m \u001b[0mword\u001b[0m\u001b[1;33m.\u001b[0m\u001b[1;33m\u001b[0m\u001b[1;33m\u001b[0m\u001b[0m\n\u001b[0;32m   2676\u001b[0m         \"\"\"\n\u001b[1;32m-> 2677\u001b[1;33m         \u001b[1;32mif\u001b[0m \u001b[0mlen\u001b[0m\u001b[1;33m(\u001b[0m\u001b[0mself\u001b[0m\u001b[1;33m)\u001b[0m \u001b[1;33m==\u001b[0m \u001b[1;36m0\u001b[0m\u001b[1;33m:\u001b[0m\u001b[1;33m\u001b[0m\u001b[1;33m\u001b[0m\u001b[0m\n\u001b[0m\u001b[0;32m   2678\u001b[0m             \u001b[0mself\u001b[0m\u001b[1;33m.\u001b[0m\u001b[0mload\u001b[0m\u001b[1;33m(\u001b[0m\u001b[1;33m)\u001b[0m\u001b[1;33m\u001b[0m\u001b[1;33m\u001b[0m\u001b[0m\n\u001b[0;32m   2679\u001b[0m         \u001b[1;32mif\u001b[0m \u001b[0mlen\u001b[0m\u001b[1;33m(\u001b[0m\u001b[0mw\u001b[0m\u001b[1;33m)\u001b[0m \u001b[1;33m==\u001b[0m \u001b[1;36m1\u001b[0m\u001b[1;33m:\u001b[0m\u001b[1;33m\u001b[0m\u001b[1;33m\u001b[0m\u001b[0m\n",
      "\u001b[1;32m~\\Anaconda3\\lib\\site-packages\\pattern\\text\\__init__.py\u001b[0m in \u001b[0;36m__len__\u001b[1;34m(self)\u001b[0m\n\u001b[0;32m    374\u001b[0m \u001b[1;33m\u001b[0m\u001b[0m\n\u001b[0;32m    375\u001b[0m     \u001b[1;32mdef\u001b[0m \u001b[0m__len__\u001b[0m\u001b[1;33m(\u001b[0m\u001b[0mself\u001b[0m\u001b[1;33m)\u001b[0m\u001b[1;33m:\u001b[0m\u001b[1;33m\u001b[0m\u001b[1;33m\u001b[0m\u001b[0m\n\u001b[1;32m--> 376\u001b[1;33m         \u001b[1;32mreturn\u001b[0m \u001b[0mself\u001b[0m\u001b[1;33m.\u001b[0m\u001b[0m_lazy\u001b[0m\u001b[1;33m(\u001b[0m\u001b[1;34m\"__len__\"\u001b[0m\u001b[1;33m)\u001b[0m\u001b[1;33m\u001b[0m\u001b[1;33m\u001b[0m\u001b[0m\n\u001b[0m\u001b[0;32m    377\u001b[0m \u001b[1;33m\u001b[0m\u001b[0m\n\u001b[0;32m    378\u001b[0m     \u001b[1;32mdef\u001b[0m \u001b[0m__iter__\u001b[0m\u001b[1;33m(\u001b[0m\u001b[0mself\u001b[0m\u001b[1;33m)\u001b[0m\u001b[1;33m:\u001b[0m\u001b[1;33m\u001b[0m\u001b[1;33m\u001b[0m\u001b[0m\n",
      "\u001b[1;32m~\\Anaconda3\\lib\\site-packages\\pattern\\text\\__init__.py\u001b[0m in \u001b[0;36m_lazy\u001b[1;34m(self, method, *args)\u001b[0m\n\u001b[0;32m    366\u001b[0m         \"\"\"\n\u001b[0;32m    367\u001b[0m         \u001b[1;32mif\u001b[0m \u001b[0mdict\u001b[0m\u001b[1;33m.\u001b[0m\u001b[0m__len__\u001b[0m\u001b[1;33m(\u001b[0m\u001b[0mself\u001b[0m\u001b[1;33m)\u001b[0m \u001b[1;33m==\u001b[0m \u001b[1;36m0\u001b[0m\u001b[1;33m:\u001b[0m\u001b[1;33m\u001b[0m\u001b[1;33m\u001b[0m\u001b[0m\n\u001b[1;32m--> 368\u001b[1;33m             \u001b[0mself\u001b[0m\u001b[1;33m.\u001b[0m\u001b[0mload\u001b[0m\u001b[1;33m(\u001b[0m\u001b[1;33m)\u001b[0m\u001b[1;33m\u001b[0m\u001b[1;33m\u001b[0m\u001b[0m\n\u001b[0m\u001b[0;32m    369\u001b[0m             \u001b[0msetattr\u001b[0m\u001b[1;33m(\u001b[0m\u001b[0mself\u001b[0m\u001b[1;33m,\u001b[0m \u001b[0mmethod\u001b[0m\u001b[1;33m,\u001b[0m \u001b[0mtypes\u001b[0m\u001b[1;33m.\u001b[0m\u001b[0mMethodType\u001b[0m\u001b[1;33m(\u001b[0m\u001b[0mgetattr\u001b[0m\u001b[1;33m(\u001b[0m\u001b[0mdict\u001b[0m\u001b[1;33m,\u001b[0m \u001b[0mmethod\u001b[0m\u001b[1;33m)\u001b[0m\u001b[1;33m,\u001b[0m \u001b[0mself\u001b[0m\u001b[1;33m)\u001b[0m\u001b[1;33m)\u001b[0m\u001b[1;33m\u001b[0m\u001b[1;33m\u001b[0m\u001b[0m\n\u001b[0;32m    370\u001b[0m         \u001b[1;32mreturn\u001b[0m \u001b[0mgetattr\u001b[0m\u001b[1;33m(\u001b[0m\u001b[0mdict\u001b[0m\u001b[1;33m,\u001b[0m \u001b[0mmethod\u001b[0m\u001b[1;33m)\u001b[0m\u001b[1;33m(\u001b[0m\u001b[0mself\u001b[0m\u001b[1;33m,\u001b[0m \u001b[1;33m*\u001b[0m\u001b[0margs\u001b[0m\u001b[1;33m)\u001b[0m\u001b[1;33m\u001b[0m\u001b[1;33m\u001b[0m\u001b[0m\n",
      "\u001b[1;32m~\\Anaconda3\\lib\\site-packages\\pattern\\text\\__init__.py\u001b[0m in \u001b[0;36mload\u001b[1;34m(self)\u001b[0m\n\u001b[0;32m   2619\u001b[0m \u001b[1;33m\u001b[0m\u001b[0m\n\u001b[0;32m   2620\u001b[0m     \u001b[1;32mdef\u001b[0m \u001b[0mload\u001b[0m\u001b[1;33m(\u001b[0m\u001b[0mself\u001b[0m\u001b[1;33m)\u001b[0m\u001b[1;33m:\u001b[0m\u001b[1;33m\u001b[0m\u001b[1;33m\u001b[0m\u001b[0m\n\u001b[1;32m-> 2621\u001b[1;33m         \u001b[1;32mfor\u001b[0m \u001b[0mx\u001b[0m \u001b[1;32min\u001b[0m \u001b[0m_read\u001b[0m\u001b[1;33m(\u001b[0m\u001b[0mself\u001b[0m\u001b[1;33m.\u001b[0m\u001b[0m_path\u001b[0m\u001b[1;33m)\u001b[0m\u001b[1;33m:\u001b[0m\u001b[1;33m\u001b[0m\u001b[1;33m\u001b[0m\u001b[0m\n\u001b[0m\u001b[0;32m   2622\u001b[0m             \u001b[0mx\u001b[0m \u001b[1;33m=\u001b[0m \u001b[0mx\u001b[0m\u001b[1;33m.\u001b[0m\u001b[0msplit\u001b[0m\u001b[1;33m(\u001b[0m\u001b[1;33m)\u001b[0m\u001b[1;33m\u001b[0m\u001b[1;33m\u001b[0m\u001b[0m\n\u001b[0;32m   2623\u001b[0m             \u001b[0mdict\u001b[0m\u001b[1;33m.\u001b[0m\u001b[0m__setitem__\u001b[0m\u001b[1;33m(\u001b[0m\u001b[0mself\u001b[0m\u001b[1;33m,\u001b[0m \u001b[0mx\u001b[0m\u001b[1;33m[\u001b[0m\u001b[1;36m0\u001b[0m\u001b[1;33m]\u001b[0m\u001b[1;33m,\u001b[0m \u001b[0mint\u001b[0m\u001b[1;33m(\u001b[0m\u001b[0mx\u001b[0m\u001b[1;33m[\u001b[0m\u001b[1;36m1\u001b[0m\u001b[1;33m]\u001b[0m\u001b[1;33m)\u001b[0m\u001b[1;33m)\u001b[0m\u001b[1;33m\u001b[0m\u001b[1;33m\u001b[0m\u001b[0m\n",
      "\u001b[1;31mRuntimeError\u001b[0m: generator raised StopIteration"
     ]
    },
    {
     "data": {
      "text/plain": [
       "[('message', 0.6216216216216216), ('massage', 0.3783783783783784)]"
      ]
     },
     "execution_count": 16,
     "metadata": {},
     "output_type": "execute_result"
    },
    {
     "data": {
      "text/plain": [
       "[('service', 0.9253112033195021), ('survive', 0.07468879668049792)]"
      ]
     },
     "execution_count": 16,
     "metadata": {},
     "output_type": "execute_result"
    },
    {
     "data": {
      "text/plain": [
       "[('the', 0.8653201565642368),\n",
       " ('he', 0.13408515883485067),\n",
       " ('ate', 0.00022706139307570876),\n",
       " ('hate', 0.0002162489457863893),\n",
       " ('hue', 0.00012974936747183358),\n",
       " ('te', 1.0812447289319465e-05),\n",
       " ('htm', 1.0812447289319465e-05)]"
      ]
     },
     "execution_count": 16,
     "metadata": {},
     "output_type": "execute_result"
    },
    {
     "data": {
      "text/plain": [
       "[('whisky', 0.9333333333333333), ('risky', 0.06666666666666667)]"
      ]
     },
     "execution_count": 16,
     "metadata": {},
     "output_type": "execute_result"
    }
   ],
   "source": [
    "from pattern.en import suggest\n",
    "\n",
    "%time suggest(u'caar')\n",
    "suggest(u'mussage')\n",
    "suggest(u'survice')\n",
    "suggest(u'hte')\n",
    "suggest(u\"wisky\")"
   ]
  },
  {
   "cell_type": "markdown",
   "metadata": {},
   "source": [
    "# Stopping"
   ]
  },
  {
   "cell_type": "code",
   "execution_count": 17,
   "metadata": {},
   "outputs": [
    {
     "data": {
      "text/plain": [
       "['name', 'steve', ',', 'good', 'chef', '.']"
      ]
     },
     "execution_count": 17,
     "metadata": {},
     "output_type": "execute_result"
    }
   ],
   "source": [
    "from nltk.corpus import stopwords\n",
    "tokens = nltk.word_tokenize(\"My name is Steve, and I am a good chef.\".lower())\n",
    "[t for t in tokens if t not in stopwords.words('english')]"
   ]
  },
  {
   "cell_type": "code",
   "execution_count": 18,
   "metadata": {},
   "outputs": [
    {
     "name": "stdout",
     "output_type": "stream",
     "text": [
      "['a', 'about', 'above', 'after', 'again', 'against', 'ain', 'all', 'am', 'an',\n",
      " 'and', 'any', 'are', 'aren', \"aren't\", 'as', 'at', 'be', 'because', 'been',\n",
      " 'before', 'being', 'below', 'between', 'both', 'but', 'by', 'can', 'couldn',\n",
      " \"couldn't\", 'd', 'did', 'didn', \"didn't\", 'do', 'does', 'doesn', \"doesn't\",\n",
      " 'doing', 'don', \"don't\", 'down', 'during', 'each', 'few', 'for', 'from',\n",
      " 'further', 'had', 'hadn', \"hadn't\", 'has', 'hasn', \"hasn't\", 'have', 'haven',\n",
      " \"haven't\", 'having', 'he', 'her', 'here', 'hers', 'herself', 'him', 'himself',\n",
      " 'his', 'how', 'i', 'if', 'in', 'into', 'is', 'isn', \"isn't\", 'it', \"it's\",\n",
      " 'its', 'itself', 'just', 'll', 'm', 'ma', 'me', 'mightn', \"mightn't\", 'more',\n",
      " 'most', 'mustn', \"mustn't\", 'my', 'myself', 'needn', \"needn't\", 'no', 'nor',\n",
      " 'not', 'now', 'o', 'of', 'off', 'on', 'once', 'only', 'or', 'other', 'our',\n",
      " 'ours', 'ourselves', 'out', 'over', 'own', 're', 's', 'same', 'shan', \"shan't\",\n",
      " 'she', \"she's\", 'should', \"should've\", 'shouldn', \"shouldn't\", 'so', 'some',\n",
      " 'such', 't', 'than', 'that', \"that'll\", 'the', 'their', 'theirs', 'them',\n",
      " 'themselves', 'then', 'there', 'these', 'they', 'this', 'those', 'through',\n",
      " 'to', 'too', 'under', 'until', 'up', 've', 'very', 'was', 'wasn', \"wasn't\",\n",
      " 'we', 'were', 'weren', \"weren't\", 'what', 'when', 'where', 'which', 'while',\n",
      " 'who', 'whom', 'why', 'will', 'with', 'won', \"won't\", 'wouldn', \"wouldn't\",\n",
      " 'y', 'you', \"you'd\", \"you'll\", \"you're\", \"you've\", 'your', 'yours', 'yourself',\n",
      " 'yourselves']\n"
     ]
    }
   ],
   "source": [
    "import pprint\n",
    "pp = pprint.PrettyPrinter(width=80, compact=True)\n",
    "pp.pprint(sorted(stopwords.words('english')))"
   ]
  },
  {
   "cell_type": "markdown",
   "metadata": {},
   "source": [
    "# Fuzzy Matching"
   ]
  },
  {
   "cell_type": "code",
   "execution_count": 21,
   "metadata": {},
   "outputs": [
    {
     "name": "stderr",
     "output_type": "stream",
     "text": [
      "C:\\Users\\ianno\\Anaconda3\\lib\\site-packages\\fuzzywuzzy\\fuzz.py:11: UserWarning: Using slow pure-python SequenceMatcher. Install python-Levenshtein to remove this warning\n",
      "  warnings.warn('Using slow pure-python SequenceMatcher. Install python-Levenshtein to remove this warning')\n"
     ]
    },
    {
     "data": {
      "text/plain": [
       "'Queens University'"
      ]
     },
     "execution_count": 21,
     "metadata": {},
     "output_type": "execute_result"
    },
    {
     "data": {
      "text/plain": [
       "[(\"Queen's University\", 97),\n",
       " ('University of Toronto', 70),\n",
       " ('McGill University', 70)]"
      ]
     },
     "execution_count": 21,
     "metadata": {},
     "output_type": "execute_result"
    },
    {
     "data": {
      "text/plain": [
       "\"Queen's\""
      ]
     },
     "execution_count": 21,
     "metadata": {},
     "output_type": "execute_result"
    },
    {
     "data": {
      "text/plain": [
       "[(\"Queen's University\", 90),\n",
       " ('University of Toronto', 39),\n",
       " ('McGill University', 39)]"
      ]
     },
     "execution_count": 21,
     "metadata": {},
     "output_type": "execute_result"
    },
    {
     "data": {
      "text/plain": [
       "'Queens Univrsity'"
      ]
     },
     "execution_count": 21,
     "metadata": {},
     "output_type": "execute_result"
    },
    {
     "data": {
      "text/plain": [
       "[(\"Queen's University\", 94),\n",
       " ('McGill University', 61),\n",
       " ('University of Toronto', 56)]"
      ]
     },
     "execution_count": 21,
     "metadata": {},
     "output_type": "execute_result"
    },
    {
     "data": {
      "text/plain": [
       "'U of T'"
      ]
     },
     "execution_count": 21,
     "metadata": {},
     "output_type": "execute_result"
    },
    {
     "data": {
      "text/plain": [
       "[('University of Toronto', 86),\n",
       " ('University Of Waterloo', 86),\n",
       " (\"Queen's University\", 43)]"
      ]
     },
     "execution_count": 21,
     "metadata": {},
     "output_type": "execute_result"
    },
    {
     "data": {
      "text/plain": [
       "'Toronto'"
      ]
     },
     "execution_count": 21,
     "metadata": {},
     "output_type": "execute_result"
    },
    {
     "data": {
      "text/plain": [
       "[('University of Toronto', 90),\n",
       " ('University Of Waterloo', 41),\n",
       " (\"Queen's University\", 20)]"
      ]
     },
     "execution_count": 21,
     "metadata": {},
     "output_type": "execute_result"
    },
    {
     "data": {
      "text/plain": [
       "'Rotman'"
      ]
     },
     "execution_count": 21,
     "metadata": {},
     "output_type": "execute_result"
    },
    {
     "data": {
      "text/plain": [
       "[('University of Toronto', 50),\n",
       " (\"Queen's University\", 32),\n",
       " ('McGill University', 32)]"
      ]
     },
     "execution_count": 21,
     "metadata": {},
     "output_type": "execute_result"
    },
    {
     "data": {
      "text/plain": [
       "'Mcgill'"
      ]
     },
     "execution_count": 21,
     "metadata": {},
     "output_type": "execute_result"
    },
    {
     "data": {
      "text/plain": [
       "[('McGill University', 90),\n",
       " (\"Queen's University\", 15),\n",
       " ('University of Toronto', 15)]"
      ]
     },
     "execution_count": 21,
     "metadata": {},
     "output_type": "execute_result"
    },
    {
     "data": {
      "text/plain": [
       "'McGill U.'"
      ]
     },
     "execution_count": 21,
     "metadata": {},
     "output_type": "execute_result"
    },
    {
     "data": {
      "text/plain": [
       "[('McGill University', 90),\n",
       " (\"Queen's University\", 22),\n",
       " ('University of Toronto', 22)]"
      ]
     },
     "execution_count": 21,
     "metadata": {},
     "output_type": "execute_result"
    },
    {
     "data": {
      "text/plain": [
       "'Waterloo'"
      ]
     },
     "execution_count": 21,
     "metadata": {},
     "output_type": "execute_result"
    },
    {
     "data": {
      "text/plain": [
       "[('University Of Waterloo', 90),\n",
       " ('University of Toronto', 45),\n",
       " (\"Queen's University\", 22)]"
      ]
     },
     "execution_count": 21,
     "metadata": {},
     "output_type": "execute_result"
    },
    {
     "data": {
      "text/plain": [
       "'Waterloop University'"
      ]
     },
     "execution_count": 21,
     "metadata": {},
     "output_type": "execute_result"
    },
    {
     "data": {
      "text/plain": [
       "[('University Of Waterloo', 86),\n",
       " ('McGill University', 70),\n",
       " ('University of Toronto', 69)]"
      ]
     },
     "execution_count": 21,
     "metadata": {},
     "output_type": "execute_result"
    }
   ],
   "source": [
    "from fuzzywuzzy import fuzz\n",
    "from fuzzywuzzy import process\n",
    "\n",
    "choices = ['Queen\\'s University', 'University of Toronto', 'McGill University', 'University Of Waterloo']\n",
    "\n",
    "typos = ['Queens University', 'Queen\\'s', 'Queens Univrsity',\n",
    "                         'U of T', 'Toronto', 'Rotman',\n",
    "                         'Mcgill', 'McGill U.',\n",
    "                         'Waterloo', 'Waterloop University']\n",
    "\n",
    "for typo in typos:\n",
    "    typo\n",
    "    process.extract(typo, choices, limit=3)"
   ]
  },
  {
   "cell_type": "markdown",
   "metadata": {},
   "source": [
    "# Putting it all together"
   ]
  },
  {
   "cell_type": "markdown",
   "metadata": {},
   "source": [
    "## Simple Example"
   ]
  },
  {
   "cell_type": "code",
   "execution_count": 22,
   "metadata": {},
   "outputs": [
    {
     "name": "stdout",
     "output_type": "stream",
     "text": [
      "(3, 6)\n"
     ]
    },
    {
     "data": {
      "text/html": [
       "<div>\n",
       "<style scoped>\n",
       "    .dataframe tbody tr th:only-of-type {\n",
       "        vertical-align: middle;\n",
       "    }\n",
       "\n",
       "    .dataframe tbody tr th {\n",
       "        vertical-align: top;\n",
       "    }\n",
       "\n",
       "    .dataframe thead th {\n",
       "        text-align: right;\n",
       "    }\n",
       "</style>\n",
       "<table border=\"1\" class=\"dataframe\">\n",
       "  <thead>\n",
       "    <tr style=\"text-align: right;\">\n",
       "      <th></th>\n",
       "      <th>brown</th>\n",
       "      <th>brown furry</th>\n",
       "      <th>furry</th>\n",
       "      <th>matrix</th>\n",
       "      <th>quick</th>\n",
       "      <th>the quick</th>\n",
       "    </tr>\n",
       "  </thead>\n",
       "  <tbody>\n",
       "    <tr>\n",
       "      <td>0</td>\n",
       "      <td>2</td>\n",
       "      <td>1</td>\n",
       "      <td>2</td>\n",
       "      <td>0</td>\n",
       "      <td>1</td>\n",
       "      <td>1</td>\n",
       "    </tr>\n",
       "    <tr>\n",
       "      <td>1</td>\n",
       "      <td>1</td>\n",
       "      <td>1</td>\n",
       "      <td>1</td>\n",
       "      <td>1</td>\n",
       "      <td>0</td>\n",
       "      <td>0</td>\n",
       "    </tr>\n",
       "    <tr>\n",
       "      <td>2</td>\n",
       "      <td>0</td>\n",
       "      <td>0</td>\n",
       "      <td>0</td>\n",
       "      <td>1</td>\n",
       "      <td>1</td>\n",
       "      <td>1</td>\n",
       "    </tr>\n",
       "  </tbody>\n",
       "</table>\n",
       "</div>"
      ],
      "text/plain": [
       "   brown  brown furry  furry  matrix  quick  the quick\n",
       "0      2            1      2       0      1          1\n",
       "1      1            1      1       1      0          0\n",
       "2      0            0      0       1      1          1"
      ]
     },
     "execution_count": 22,
     "metadata": {},
     "output_type": "execute_result"
    }
   ],
   "source": [
    "from sklearn.feature_extraction.text import CountVectorizer\n",
    "\n",
    "myText = [\"the quick brown furry fox jumped over a second furry brown fox\",\n",
    "              \"the sparse brown furry matrix\",\n",
    "              \"the quick matrix\"]\n",
    "\n",
    "\n",
    "tf_vectorizer = CountVectorizer(min_df=.5, max_df=.75, ngram_range=[1,3])\n",
    "dtm_tf = tf_vectorizer.fit_transform(myText)\n",
    "print(dtm_tf.shape)\n",
    "\n",
    "df = pd.DataFrame(dtm_tf.toarray(), columns=tf_vectorizer.get_feature_names())\n",
    "df.head()"
   ]
  },
  {
   "cell_type": "markdown",
   "metadata": {},
   "source": [
    "## Bigger Example"
   ]
  },
  {
   "cell_type": "code",
   "execution_count": null,
   "metadata": {},
   "outputs": [],
   "source": [
    "in_dir = \"C:/Users/st50/Documents/sandbox/data\"\n",
    "out_dir = \"C:/Users/st50/Documents/sandbox/out\"\n",
    "\n",
    "%time kiva_df=pd.read_csv(os.path.join(in_dir, \"kiva.csv\"))\n",
    "#kiva_df = kiva_df.sample(frac=0.1)\n",
    "\n",
    "kiva_df.dropna(inplace=True)\n",
    "list(kiva_df)\n",
    "kiva_df.shape\n",
    "kiva_df.head()\n",
    "kiva_df.tail()"
   ]
  },
  {
   "cell_type": "code",
   "execution_count": 17,
   "metadata": {},
   "outputs": [
    {
     "name": "stdout",
     "output_type": "stream",
     "text": [
      "Wall time: 4.59 s\n"
     ]
    },
    {
     "data": {
      "text/html": [
       "<div>\n",
       "<style scoped>\n",
       "    .dataframe tbody tr th:only-of-type {\n",
       "        vertical-align: middle;\n",
       "    }\n",
       "\n",
       "    .dataframe tbody tr th {\n",
       "        vertical-align: top;\n",
       "    }\n",
       "\n",
       "    .dataframe thead th {\n",
       "        text-align: right;\n",
       "    }\n",
       "</style>\n",
       "<table border=\"1\" class=\"dataframe\">\n",
       "  <thead>\n",
       "    <tr style=\"text-align: right;\">\n",
       "      <th></th>\n",
       "      <th>status</th>\n",
       "      <th>sector</th>\n",
       "      <th>en</th>\n",
       "      <th>country</th>\n",
       "      <th>gender</th>\n",
       "      <th>loan_amount</th>\n",
       "      <th>nonpayment</th>\n",
       "      <th>en_clean</th>\n",
       "    </tr>\n",
       "  </thead>\n",
       "  <tbody>\n",
       "    <tr>\n",
       "      <th>0</th>\n",
       "      <td>defaulted</td>\n",
       "      <td>Agriculture</td>\n",
       "      <td>&lt;i&gt;This description is written by Rowland Amul...</td>\n",
       "      <td>Kenya</td>\n",
       "      <td>M</td>\n",
       "      <td>500.0</td>\n",
       "      <td>lender</td>\n",
       "      <td>description written rowland amulyoto staff mem...</td>\n",
       "    </tr>\n",
       "    <tr>\n",
       "      <th>1</th>\n",
       "      <td>defaulted</td>\n",
       "      <td>Food</td>\n",
       "      <td>&lt;i&gt;This description is written by Rowland Amul...</td>\n",
       "      <td>Kenya</td>\n",
       "      <td>F</td>\n",
       "      <td>500.0</td>\n",
       "      <td>lender</td>\n",
       "      <td>description written rowland amulyoto staff mem...</td>\n",
       "    </tr>\n",
       "    <tr>\n",
       "      <th>2</th>\n",
       "      <td>defaulted</td>\n",
       "      <td>Food</td>\n",
       "      <td>&lt;i&gt;This description was written by Richard Maz...</td>\n",
       "      <td>Kenya</td>\n",
       "      <td>M</td>\n",
       "      <td>500.0</td>\n",
       "      <td>lender</td>\n",
       "      <td>description written richard mazengo staff memb...</td>\n",
       "    </tr>\n",
       "    <tr>\n",
       "      <th>3</th>\n",
       "      <td>defaulted</td>\n",
       "      <td>Services</td>\n",
       "      <td>&lt;i&gt;This description was written by Rowland Amu...</td>\n",
       "      <td>Kenya</td>\n",
       "      <td>F</td>\n",
       "      <td>500.0</td>\n",
       "      <td>lender</td>\n",
       "      <td>description written rowland amulyoto staff mem...</td>\n",
       "    </tr>\n",
       "    <tr>\n",
       "      <th>4</th>\n",
       "      <td>defaulted</td>\n",
       "      <td>Construction</td>\n",
       "      <td>&lt;i&gt;This description was written by Rowland Amu...</td>\n",
       "      <td>Kenya</td>\n",
       "      <td>M</td>\n",
       "      <td>500.0</td>\n",
       "      <td>lender</td>\n",
       "      <td>description written rowland amulyoto staff mem...</td>\n",
       "    </tr>\n",
       "  </tbody>\n",
       "</table>\n",
       "</div>"
      ],
      "text/plain": [
       "      status        sector                                                 en  \\\n",
       "0  defaulted   Agriculture  <i>This description is written by Rowland Amul...   \n",
       "1  defaulted          Food  <i>This description is written by Rowland Amul...   \n",
       "2  defaulted          Food  <i>This description was written by Richard Maz...   \n",
       "3  defaulted      Services  <i>This description was written by Rowland Amu...   \n",
       "4  defaulted  Construction  <i>This description was written by Rowland Amu...   \n",
       "\n",
       "  country gender  loan_amount nonpayment  \\\n",
       "0   Kenya      M        500.0     lender   \n",
       "1   Kenya      F        500.0     lender   \n",
       "2   Kenya      M        500.0     lender   \n",
       "3   Kenya      F        500.0     lender   \n",
       "4   Kenya      M        500.0     lender   \n",
       "\n",
       "                                            en_clean  \n",
       "0  description written rowland amulyoto staff mem...  \n",
       "1  description written rowland amulyoto staff mem...  \n",
       "2  description written richard mazengo staff memb...  \n",
       "3  description written rowland amulyoto staff mem...  \n",
       "4  description written rowland amulyoto staff mem...  "
      ]
     },
     "execution_count": 17,
     "metadata": {},
     "output_type": "execute_result"
    }
   ],
   "source": [
    "from nltk.corpus import stopwords \n",
    "from bs4 import BeautifulSoup\n",
    "\n",
    "stop_words = set(stopwords.words('english') + stopwords.words('spanish'))\n",
    "\n",
    "lemmer = WordNetLemmatizer()\n",
    "\n",
    "def preprocess(x):\n",
    "    # Remove HTML tags\n",
    "    x = BeautifulSoup(x, \"lxml\").get_text()\n",
    "\n",
    "    # Lower case\n",
    "    x = x.lower()\n",
    "    \n",
    "    # Remove punctuation\n",
    "    x = re.sub(r'[^\\w\\s]', '', x)\n",
    "    \n",
    "    # Remove non-unicode\n",
    "    x = unidecode.unidecode(x)\n",
    "    \n",
    "    # Remove numbers\n",
    "    x = re.sub(r'\\d+', '', x)\n",
    "    \n",
    "    # Remove stopwords and lemmatize\n",
    "    x = [lemmer.lemmatize(w) for w in x.split() if w not in stop_words]\n",
    "    return ' '.join(x) \n",
    "\n",
    "%time kiva_df['en_clean'] = kiva_df['en'].apply(preprocess)\n",
    "kiva_df.head()"
   ]
  },
  {
   "cell_type": "code",
   "execution_count": 18,
   "metadata": {},
   "outputs": [
    {
     "name": "stdout",
     "output_type": "stream",
     "text": [
      "Wall time: 4.01 s\n",
      "(7882, 342)\n"
     ]
    }
   ],
   "source": [
    "from sklearn.feature_extraction.text import TfidfVectorizer, CountVectorizer\n",
    "\n",
    "no_features = 1000\n",
    "\n",
    "tf_vectorizer = CountVectorizer(min_df=.05, max_df=.5, max_features=no_features, ngram_range=[1,3]) #notice we are allowing ngrams up to n=3\n",
    "%time dtm_tf = tf_vectorizer.fit_transform(kiva_df['en_clean'])\n",
    "print(dtm_tf.shape)"
   ]
  },
  {
   "cell_type": "code",
   "execution_count": 19,
   "metadata": {},
   "outputs": [
    {
     "data": {
      "text/html": [
       "<div>\n",
       "<style scoped>\n",
       "    .dataframe tbody tr th:only-of-type {\n",
       "        vertical-align: middle;\n",
       "    }\n",
       "\n",
       "    .dataframe tbody tr th {\n",
       "        vertical-align: top;\n",
       "    }\n",
       "\n",
       "    .dataframe thead th {\n",
       "        text-align: right;\n",
       "    }\n",
       "</style>\n",
       "<table border=\"1\" class=\"dataframe\">\n",
       "  <thead>\n",
       "    <tr style=\"text-align: right;\">\n",
       "      <th></th>\n",
       "      <th>able</th>\n",
       "      <th>access</th>\n",
       "      <th>access business</th>\n",
       "      <th>access business training</th>\n",
       "      <th>active</th>\n",
       "      <th>active member</th>\n",
       "      <th>activity</th>\n",
       "      <th>add</th>\n",
       "      <th>additional</th>\n",
       "      <th>age</th>\n",
       "      <th>...</th>\n",
       "      <th>working</th>\n",
       "      <th>would</th>\n",
       "      <th>would like</th>\n",
       "      <th>wwwmifexorg</th>\n",
       "      <th>year ago</th>\n",
       "      <th>year experience</th>\n",
       "      <th>year old</th>\n",
       "      <th>year old married</th>\n",
       "      <th>yearold</th>\n",
       "      <th>young</th>\n",
       "    </tr>\n",
       "  </thead>\n",
       "  <tbody>\n",
       "    <tr>\n",
       "      <th>0</th>\n",
       "      <td>1</td>\n",
       "      <td>0</td>\n",
       "      <td>0</td>\n",
       "      <td>0</td>\n",
       "      <td>0</td>\n",
       "      <td>0</td>\n",
       "      <td>1</td>\n",
       "      <td>0</td>\n",
       "      <td>0</td>\n",
       "      <td>0</td>\n",
       "      <td>...</td>\n",
       "      <td>0</td>\n",
       "      <td>0</td>\n",
       "      <td>0</td>\n",
       "      <td>0</td>\n",
       "      <td>0</td>\n",
       "      <td>0</td>\n",
       "      <td>0</td>\n",
       "      <td>0</td>\n",
       "      <td>0</td>\n",
       "      <td>0</td>\n",
       "    </tr>\n",
       "    <tr>\n",
       "      <th>1</th>\n",
       "      <td>0</td>\n",
       "      <td>0</td>\n",
       "      <td>0</td>\n",
       "      <td>0</td>\n",
       "      <td>0</td>\n",
       "      <td>0</td>\n",
       "      <td>0</td>\n",
       "      <td>0</td>\n",
       "      <td>0</td>\n",
       "      <td>0</td>\n",
       "      <td>...</td>\n",
       "      <td>0</td>\n",
       "      <td>1</td>\n",
       "      <td>0</td>\n",
       "      <td>0</td>\n",
       "      <td>0</td>\n",
       "      <td>0</td>\n",
       "      <td>0</td>\n",
       "      <td>0</td>\n",
       "      <td>0</td>\n",
       "      <td>0</td>\n",
       "    </tr>\n",
       "    <tr>\n",
       "      <th>2</th>\n",
       "      <td>0</td>\n",
       "      <td>0</td>\n",
       "      <td>0</td>\n",
       "      <td>0</td>\n",
       "      <td>0</td>\n",
       "      <td>0</td>\n",
       "      <td>0</td>\n",
       "      <td>0</td>\n",
       "      <td>0</td>\n",
       "      <td>0</td>\n",
       "      <td>...</td>\n",
       "      <td>0</td>\n",
       "      <td>0</td>\n",
       "      <td>0</td>\n",
       "      <td>0</td>\n",
       "      <td>0</td>\n",
       "      <td>0</td>\n",
       "      <td>0</td>\n",
       "      <td>0</td>\n",
       "      <td>0</td>\n",
       "      <td>0</td>\n",
       "    </tr>\n",
       "    <tr>\n",
       "      <th>3</th>\n",
       "      <td>0</td>\n",
       "      <td>0</td>\n",
       "      <td>0</td>\n",
       "      <td>0</td>\n",
       "      <td>0</td>\n",
       "      <td>0</td>\n",
       "      <td>0</td>\n",
       "      <td>0</td>\n",
       "      <td>0</td>\n",
       "      <td>0</td>\n",
       "      <td>...</td>\n",
       "      <td>0</td>\n",
       "      <td>0</td>\n",
       "      <td>0</td>\n",
       "      <td>0</td>\n",
       "      <td>0</td>\n",
       "      <td>0</td>\n",
       "      <td>0</td>\n",
       "      <td>0</td>\n",
       "      <td>0</td>\n",
       "      <td>0</td>\n",
       "    </tr>\n",
       "    <tr>\n",
       "      <th>4</th>\n",
       "      <td>1</td>\n",
       "      <td>0</td>\n",
       "      <td>0</td>\n",
       "      <td>0</td>\n",
       "      <td>0</td>\n",
       "      <td>0</td>\n",
       "      <td>1</td>\n",
       "      <td>0</td>\n",
       "      <td>0</td>\n",
       "      <td>0</td>\n",
       "      <td>...</td>\n",
       "      <td>0</td>\n",
       "      <td>0</td>\n",
       "      <td>0</td>\n",
       "      <td>0</td>\n",
       "      <td>0</td>\n",
       "      <td>0</td>\n",
       "      <td>0</td>\n",
       "      <td>0</td>\n",
       "      <td>0</td>\n",
       "      <td>0</td>\n",
       "    </tr>\n",
       "  </tbody>\n",
       "</table>\n",
       "<p>5 rows × 342 columns</p>\n",
       "</div>"
      ],
      "text/plain": [
       "   able  access  access business  access business training  active  \\\n",
       "0     1       0                0                         0       0   \n",
       "1     0       0                0                         0       0   \n",
       "2     0       0                0                         0       0   \n",
       "3     0       0                0                         0       0   \n",
       "4     1       0                0                         0       0   \n",
       "\n",
       "   active member  activity  add  additional  age  ...    working  would  \\\n",
       "0              0         1    0           0    0  ...          0      0   \n",
       "1              0         0    0           0    0  ...          0      1   \n",
       "2              0         0    0           0    0  ...          0      0   \n",
       "3              0         0    0           0    0  ...          0      0   \n",
       "4              0         1    0           0    0  ...          0      0   \n",
       "\n",
       "   would like  wwwmifexorg  year ago  year experience  year old  \\\n",
       "0           0            0         0                0         0   \n",
       "1           0            0         0                0         0   \n",
       "2           0            0         0                0         0   \n",
       "3           0            0         0                0         0   \n",
       "4           0            0         0                0         0   \n",
       "\n",
       "   year old married  yearold  young  \n",
       "0                 0        0      0  \n",
       "1                 0        0      0  \n",
       "2                 0        0      0  \n",
       "3                 0        0      0  \n",
       "4                 0        0      0  \n",
       "\n",
       "[5 rows x 342 columns]"
      ]
     },
     "execution_count": 19,
     "metadata": {},
     "output_type": "execute_result"
    }
   ],
   "source": [
    "df = pd.DataFrame(dtm_tf.toarray(), columns=tf_vectorizer.get_feature_names())\n",
    "df.head()"
   ]
  },
  {
   "cell_type": "markdown",
   "metadata": {},
   "source": [
    "# Show the top tokens/grams"
   ]
  },
  {
   "cell_type": "code",
   "execution_count": 20,
   "metadata": {},
   "outputs": [
    {
     "data": {
      "text/plain": [
       "[('buy', 5359),\n",
       " ('also', 5169),\n",
       " ('school', 5148),\n",
       " ('group', 5086),\n",
       " ('family', 4768),\n",
       " ('able', 4550),\n",
       " ('work', 3951),\n",
       " ('old', 3929),\n",
       " ('one', 3811),\n",
       " ('small', 3780),\n",
       " ('product', 3728),\n",
       " ('help', 3712),\n",
       " ('two', 3673),\n",
       " ('year old', 3655),\n",
       " ('husband', 3488),\n",
       " ('member', 3264),\n",
       " ('community', 3212),\n",
       " ('woman', 3193),\n",
       " ('life', 3182),\n",
       " ('income', 3154)]"
      ]
     },
     "execution_count": 20,
     "metadata": {},
     "output_type": "execute_result"
    }
   ],
   "source": [
    "# Calculate column sums from DTM\n",
    "sum_words = dtm_tf.sum(axis=0) \n",
    "words_freq = [(word, sum_words[0, idx]) for word, idx in tf_vectorizer.vocabulary_.items()]\n",
    "\n",
    "# Now, sort them\n",
    "words_freq =sorted(words_freq, key = lambda x: x[1], reverse=True)\n",
    "\n",
    "# Display top few\n",
    "words_freq[:20]"
   ]
  },
  {
   "cell_type": "code",
   "execution_count": 21,
   "metadata": {},
   "outputs": [
    {
     "data": {
      "text/plain": [
       "<matplotlib.figure.Figure at 0x2401eef7470>"
      ]
     },
     "execution_count": 21,
     "metadata": {},
     "output_type": "execute_result"
    },
    {
     "data": {
      "text/plain": [
       "FrequencyVisualizer(ax=<matplotlib.axes._subplots.AxesSubplot object at 0x00000240261C77B8>,\n",
       "          color=None,\n",
       "          features=['able', 'access', 'access business', 'access business training', 'active', 'active member', 'activity', 'add', 'additional', 'age', 'ago', 'allow', 'already', 'also', 'always', 'amount', 'another', 'applied', 'area', 'attend', 'back', 'bank', 'basic', 'bean', 'began', 'belief', 'better', '...', 'wwwmifexorg', 'year ago', 'year experience', 'year old', 'year old married', 'yearold', 'young'],\n",
       "          n=None, orient='h')"
      ]
     },
     "execution_count": 21,
     "metadata": {},
     "output_type": "execute_result"
    },
    {
     "data": {
      "image/png": "[encoded data removed]",
      "text/plain": [
       "<matplotlib.figure.Figure at 0x2401eef7470>"
      ]
     },
     "metadata": {},
     "output_type": "display_data"
    }
   ],
   "source": [
    "from yellowbrick.text import FreqDistVisualizer\n",
    "\n",
    "plt.figure(figsize=(5,8))\n",
    "visualizer = FreqDistVisualizer(features=tf_vectorizer.get_feature_names(), n=25)\n",
    "visualizer.fit(dtm_tf)\n",
    "visualizer.poof()"
   ]
  },
  {
   "cell_type": "code",
   "execution_count": 22,
   "metadata": {},
   "outputs": [
    {
     "data": {
      "text/plain": [
       "TSNEVisualizer(alpha=0.7,\n",
       "        ax=<matplotlib.axes._subplots.AxesSubplot object at 0x0000024021AE32E8>,\n",
       "        classes=None, colormap=None, colors=None, decompose=None,\n",
       "        decompose_by=None, labels=None, random_state=123)"
      ]
     },
     "execution_count": 22,
     "metadata": {},
     "output_type": "execute_result"
    },
    {
     "data": {
      "image/png": "[encoded data removed]",
      "text/plain": [
       "<matplotlib.figure.Figure at 0x240261c7860>"
      ]
     },
     "metadata": {},
     "output_type": "display_data"
    }
   ],
   "source": [
    "from yellowbrick.text import TSNEVisualizer\n",
    "\n",
    "tsne = TSNEVisualizer(random_state=123)\n",
    "tsne.fit(dtm_tf, kiva_df['status'])\n",
    "tsne.poof()"
   ]
  },
  {
   "cell_type": "markdown",
   "metadata": {},
   "source": [
    "# Vectorization\n",
    "\n",
    "Using the cleaned Kiva data from above, we'll try a few different methods:\n",
    "\n",
    "- BOW (with raw TF, and TF-IDF)\n",
    "- Feature hashing\n",
    "- Topics\n",
    "- GloVe"
   ]
  },
  {
   "cell_type": "markdown",
   "metadata": {},
   "source": [
    "## BOW - TF"
   ]
  },
  {
   "cell_type": "code",
   "execution_count": 23,
   "metadata": {},
   "outputs": [
    {
     "name": "stdout",
     "output_type": "stream",
     "text": [
      "Wall time: 3.98 s\n"
     ]
    },
    {
     "data": {
      "text/plain": [
       "(7882, 342)"
      ]
     },
     "execution_count": 23,
     "metadata": {},
     "output_type": "execute_result"
    },
    {
     "data": {
      "text/plain": [
       "(7882, 348)"
      ]
     },
     "execution_count": 23,
     "metadata": {},
     "output_type": "execute_result"
    },
    {
     "data": {
      "text/html": [
       "<div>\n",
       "<style scoped>\n",
       "    .dataframe tbody tr th:only-of-type {\n",
       "        vertical-align: middle;\n",
       "    }\n",
       "\n",
       "    .dataframe tbody tr th {\n",
       "        vertical-align: top;\n",
       "    }\n",
       "\n",
       "    .dataframe thead th {\n",
       "        text-align: right;\n",
       "    }\n",
       "</style>\n",
       "<table border=\"1\" class=\"dataframe\">\n",
       "  <thead>\n",
       "    <tr style=\"text-align: right;\">\n",
       "      <th></th>\n",
       "      <th>status</th>\n",
       "      <th>sector</th>\n",
       "      <th>country</th>\n",
       "      <th>gender</th>\n",
       "      <th>loan_amount</th>\n",
       "      <th>nonpayment</th>\n",
       "      <th>able</th>\n",
       "      <th>access</th>\n",
       "      <th>access business</th>\n",
       "      <th>access business training</th>\n",
       "      <th>...</th>\n",
       "      <th>working</th>\n",
       "      <th>would</th>\n",
       "      <th>would like</th>\n",
       "      <th>wwwmifexorg</th>\n",
       "      <th>year ago</th>\n",
       "      <th>year experience</th>\n",
       "      <th>year old</th>\n",
       "      <th>year old married</th>\n",
       "      <th>yearold</th>\n",
       "      <th>young</th>\n",
       "    </tr>\n",
       "  </thead>\n",
       "  <tbody>\n",
       "    <tr>\n",
       "      <th>0</th>\n",
       "      <td>defaulted</td>\n",
       "      <td>Agriculture</td>\n",
       "      <td>Kenya</td>\n",
       "      <td>M</td>\n",
       "      <td>500.0</td>\n",
       "      <td>lender</td>\n",
       "      <td>1</td>\n",
       "      <td>0</td>\n",
       "      <td>0</td>\n",
       "      <td>0</td>\n",
       "      <td>...</td>\n",
       "      <td>0</td>\n",
       "      <td>0</td>\n",
       "      <td>0</td>\n",
       "      <td>0</td>\n",
       "      <td>0</td>\n",
       "      <td>0</td>\n",
       "      <td>0</td>\n",
       "      <td>0</td>\n",
       "      <td>0</td>\n",
       "      <td>0</td>\n",
       "    </tr>\n",
       "    <tr>\n",
       "      <th>1</th>\n",
       "      <td>defaulted</td>\n",
       "      <td>Food</td>\n",
       "      <td>Kenya</td>\n",
       "      <td>F</td>\n",
       "      <td>500.0</td>\n",
       "      <td>lender</td>\n",
       "      <td>0</td>\n",
       "      <td>0</td>\n",
       "      <td>0</td>\n",
       "      <td>0</td>\n",
       "      <td>...</td>\n",
       "      <td>0</td>\n",
       "      <td>1</td>\n",
       "      <td>0</td>\n",
       "      <td>0</td>\n",
       "      <td>0</td>\n",
       "      <td>0</td>\n",
       "      <td>0</td>\n",
       "      <td>0</td>\n",
       "      <td>0</td>\n",
       "      <td>0</td>\n",
       "    </tr>\n",
       "    <tr>\n",
       "      <th>2</th>\n",
       "      <td>defaulted</td>\n",
       "      <td>Food</td>\n",
       "      <td>Kenya</td>\n",
       "      <td>M</td>\n",
       "      <td>500.0</td>\n",
       "      <td>lender</td>\n",
       "      <td>0</td>\n",
       "      <td>0</td>\n",
       "      <td>0</td>\n",
       "      <td>0</td>\n",
       "      <td>...</td>\n",
       "      <td>0</td>\n",
       "      <td>0</td>\n",
       "      <td>0</td>\n",
       "      <td>0</td>\n",
       "      <td>0</td>\n",
       "      <td>0</td>\n",
       "      <td>0</td>\n",
       "      <td>0</td>\n",
       "      <td>0</td>\n",
       "      <td>0</td>\n",
       "    </tr>\n",
       "    <tr>\n",
       "      <th>3</th>\n",
       "      <td>defaulted</td>\n",
       "      <td>Services</td>\n",
       "      <td>Kenya</td>\n",
       "      <td>F</td>\n",
       "      <td>500.0</td>\n",
       "      <td>lender</td>\n",
       "      <td>0</td>\n",
       "      <td>0</td>\n",
       "      <td>0</td>\n",
       "      <td>0</td>\n",
       "      <td>...</td>\n",
       "      <td>0</td>\n",
       "      <td>0</td>\n",
       "      <td>0</td>\n",
       "      <td>0</td>\n",
       "      <td>0</td>\n",
       "      <td>0</td>\n",
       "      <td>0</td>\n",
       "      <td>0</td>\n",
       "      <td>0</td>\n",
       "      <td>0</td>\n",
       "    </tr>\n",
       "    <tr>\n",
       "      <th>4</th>\n",
       "      <td>defaulted</td>\n",
       "      <td>Construction</td>\n",
       "      <td>Kenya</td>\n",
       "      <td>M</td>\n",
       "      <td>500.0</td>\n",
       "      <td>lender</td>\n",
       "      <td>1</td>\n",
       "      <td>0</td>\n",
       "      <td>0</td>\n",
       "      <td>0</td>\n",
       "      <td>...</td>\n",
       "      <td>0</td>\n",
       "      <td>0</td>\n",
       "      <td>0</td>\n",
       "      <td>0</td>\n",
       "      <td>0</td>\n",
       "      <td>0</td>\n",
       "      <td>0</td>\n",
       "      <td>0</td>\n",
       "      <td>0</td>\n",
       "      <td>0</td>\n",
       "    </tr>\n",
       "  </tbody>\n",
       "</table>\n",
       "<p>5 rows × 348 columns</p>\n",
       "</div>"
      ],
      "text/plain": [
       "      status        sector country gender  loan_amount nonpayment  able  \\\n",
       "0  defaulted   Agriculture   Kenya      M        500.0     lender     1   \n",
       "1  defaulted          Food   Kenya      F        500.0     lender     0   \n",
       "2  defaulted          Food   Kenya      M        500.0     lender     0   \n",
       "3  defaulted      Services   Kenya      F        500.0     lender     0   \n",
       "4  defaulted  Construction   Kenya      M        500.0     lender     1   \n",
       "\n",
       "   access  access business  access business training  ...    working  would  \\\n",
       "0       0                0                         0  ...          0      0   \n",
       "1       0                0                         0  ...          0      1   \n",
       "2       0                0                         0  ...          0      0   \n",
       "3       0                0                         0  ...          0      0   \n",
       "4       0                0                         0  ...          0      0   \n",
       "\n",
       "   would like  wwwmifexorg  year ago  year experience  year old  \\\n",
       "0           0            0         0                0         0   \n",
       "1           0            0         0                0         0   \n",
       "2           0            0         0                0         0   \n",
       "3           0            0         0                0         0   \n",
       "4           0            0         0                0         0   \n",
       "\n",
       "   year old married  yearold  young  \n",
       "0                 0        0      0  \n",
       "1                 0        0      0  \n",
       "2                 0        0      0  \n",
       "3                 0        0      0  \n",
       "4                 0        0      0  \n",
       "\n",
       "[5 rows x 348 columns]"
      ]
     },
     "execution_count": 23,
     "metadata": {},
     "output_type": "execute_result"
    },
    {
     "data": {
      "text/html": [
       "<div>\n",
       "<style scoped>\n",
       "    .dataframe tbody tr th:only-of-type {\n",
       "        vertical-align: middle;\n",
       "    }\n",
       "\n",
       "    .dataframe tbody tr th {\n",
       "        vertical-align: top;\n",
       "    }\n",
       "\n",
       "    .dataframe thead th {\n",
       "        text-align: right;\n",
       "    }\n",
       "</style>\n",
       "<table border=\"1\" class=\"dataframe\">\n",
       "  <thead>\n",
       "    <tr style=\"text-align: right;\">\n",
       "      <th></th>\n",
       "      <th>status</th>\n",
       "      <th>sector</th>\n",
       "      <th>country</th>\n",
       "      <th>gender</th>\n",
       "      <th>loan_amount</th>\n",
       "      <th>nonpayment</th>\n",
       "      <th>able</th>\n",
       "      <th>access</th>\n",
       "      <th>access business</th>\n",
       "      <th>access business training</th>\n",
       "      <th>...</th>\n",
       "      <th>working</th>\n",
       "      <th>would</th>\n",
       "      <th>would like</th>\n",
       "      <th>wwwmifexorg</th>\n",
       "      <th>year ago</th>\n",
       "      <th>year experience</th>\n",
       "      <th>year old</th>\n",
       "      <th>year old married</th>\n",
       "      <th>yearold</th>\n",
       "      <th>young</th>\n",
       "    </tr>\n",
       "  </thead>\n",
       "  <tbody>\n",
       "    <tr>\n",
       "      <th>7983</th>\n",
       "      <td>paid</td>\n",
       "      <td>Clothing</td>\n",
       "      <td>Ecuador</td>\n",
       "      <td>F</td>\n",
       "      <td>1050.0</td>\n",
       "      <td>lender</td>\n",
       "      <td>0</td>\n",
       "      <td>0</td>\n",
       "      <td>0</td>\n",
       "      <td>0</td>\n",
       "      <td>...</td>\n",
       "      <td>0</td>\n",
       "      <td>0</td>\n",
       "      <td>0</td>\n",
       "      <td>0</td>\n",
       "      <td>0</td>\n",
       "      <td>0</td>\n",
       "      <td>0</td>\n",
       "      <td>0</td>\n",
       "      <td>0</td>\n",
       "      <td>0</td>\n",
       "    </tr>\n",
       "    <tr>\n",
       "      <th>7984</th>\n",
       "      <td>paid</td>\n",
       "      <td>Agriculture</td>\n",
       "      <td>Ecuador</td>\n",
       "      <td>F</td>\n",
       "      <td>2650.0</td>\n",
       "      <td>partner</td>\n",
       "      <td>2</td>\n",
       "      <td>0</td>\n",
       "      <td>0</td>\n",
       "      <td>0</td>\n",
       "      <td>...</td>\n",
       "      <td>0</td>\n",
       "      <td>0</td>\n",
       "      <td>0</td>\n",
       "      <td>0</td>\n",
       "      <td>0</td>\n",
       "      <td>0</td>\n",
       "      <td>0</td>\n",
       "      <td>0</td>\n",
       "      <td>4</td>\n",
       "      <td>0</td>\n",
       "    </tr>\n",
       "    <tr>\n",
       "      <th>7985</th>\n",
       "      <td>paid</td>\n",
       "      <td>Food</td>\n",
       "      <td>Ecuador</td>\n",
       "      <td>F</td>\n",
       "      <td>775.0</td>\n",
       "      <td>partner</td>\n",
       "      <td>0</td>\n",
       "      <td>0</td>\n",
       "      <td>0</td>\n",
       "      <td>0</td>\n",
       "      <td>...</td>\n",
       "      <td>0</td>\n",
       "      <td>0</td>\n",
       "      <td>0</td>\n",
       "      <td>0</td>\n",
       "      <td>0</td>\n",
       "      <td>0</td>\n",
       "      <td>0</td>\n",
       "      <td>0</td>\n",
       "      <td>0</td>\n",
       "      <td>0</td>\n",
       "    </tr>\n",
       "    <tr>\n",
       "      <th>7986</th>\n",
       "      <td>paid</td>\n",
       "      <td>Retail</td>\n",
       "      <td>Ecuador</td>\n",
       "      <td>F</td>\n",
       "      <td>275.0</td>\n",
       "      <td>partner</td>\n",
       "      <td>1</td>\n",
       "      <td>0</td>\n",
       "      <td>0</td>\n",
       "      <td>0</td>\n",
       "      <td>...</td>\n",
       "      <td>1</td>\n",
       "      <td>0</td>\n",
       "      <td>0</td>\n",
       "      <td>0</td>\n",
       "      <td>0</td>\n",
       "      <td>0</td>\n",
       "      <td>1</td>\n",
       "      <td>0</td>\n",
       "      <td>0</td>\n",
       "      <td>0</td>\n",
       "    </tr>\n",
       "    <tr>\n",
       "      <th>7987</th>\n",
       "      <td>paid</td>\n",
       "      <td>Services</td>\n",
       "      <td>Kenya</td>\n",
       "      <td>M</td>\n",
       "      <td>275.0</td>\n",
       "      <td>partner</td>\n",
       "      <td>0</td>\n",
       "      <td>0</td>\n",
       "      <td>0</td>\n",
       "      <td>0</td>\n",
       "      <td>...</td>\n",
       "      <td>0</td>\n",
       "      <td>0</td>\n",
       "      <td>0</td>\n",
       "      <td>0</td>\n",
       "      <td>0</td>\n",
       "      <td>0</td>\n",
       "      <td>0</td>\n",
       "      <td>0</td>\n",
       "      <td>1</td>\n",
       "      <td>0</td>\n",
       "    </tr>\n",
       "  </tbody>\n",
       "</table>\n",
       "<p>5 rows × 348 columns</p>\n",
       "</div>"
      ],
      "text/plain": [
       "     status       sector  country gender  loan_amount nonpayment  able  \\\n",
       "7983   paid     Clothing  Ecuador      F       1050.0     lender     0   \n",
       "7984   paid  Agriculture  Ecuador      F       2650.0    partner     2   \n",
       "7985   paid         Food  Ecuador      F        775.0    partner     0   \n",
       "7986   paid       Retail  Ecuador      F        275.0    partner     1   \n",
       "7987   paid     Services    Kenya      M        275.0    partner     0   \n",
       "\n",
       "      access  access business  access business training  ...    working  \\\n",
       "7983       0                0                         0  ...          0   \n",
       "7984       0                0                         0  ...          0   \n",
       "7985       0                0                         0  ...          0   \n",
       "7986       0                0                         0  ...          1   \n",
       "7987       0                0                         0  ...          0   \n",
       "\n",
       "      would  would like  wwwmifexorg  year ago  year experience  year old  \\\n",
       "7983      0           0            0         0                0         0   \n",
       "7984      0           0            0         0                0         0   \n",
       "7985      0           0            0         0                0         0   \n",
       "7986      0           0            0         0                0         1   \n",
       "7987      0           0            0         0                0         0   \n",
       "\n",
       "      year old married  yearold  young  \n",
       "7983                 0        0      0  \n",
       "7984                 0        4      0  \n",
       "7985                 0        0      0  \n",
       "7986                 0        0      0  \n",
       "7987                 0        1      0  \n",
       "\n",
       "[5 rows x 348 columns]"
      ]
     },
     "execution_count": 23,
     "metadata": {},
     "output_type": "execute_result"
    }
   ],
   "source": [
    "from sklearn.feature_extraction.text import CountVectorizer\n",
    "\n",
    "tf_vectorizer = CountVectorizer(min_df=.05, max_df=.5, ngram_range=[1,3])\n",
    "%time dtm_tf = tf_vectorizer.fit_transform(kiva_df['en_clean'])\n",
    "\n",
    "bow_df = pd.DataFrame(dtm_tf.toarray(), columns=tf_vectorizer.get_feature_names(), index=kiva_df.index)\n",
    "bow_df.shape\n",
    "\n",
    "kiva_df_bow = pd.concat([kiva_df, bow_df], axis=1)\n",
    "kiva_df_bow.drop(columns=['en', 'en_clean'], inplace=True)\n",
    "kiva_df_bow.shape\n",
    "kiva_df_bow.head()\n",
    "kiva_df_bow.tail()"
   ]
  },
  {
   "cell_type": "markdown",
   "metadata": {},
   "source": [
    "# BOW - TF-IDF"
   ]
  },
  {
   "cell_type": "code",
   "execution_count": 24,
   "metadata": {},
   "outputs": [
    {
     "name": "stdout",
     "output_type": "stream",
     "text": [
      "Wall time: 4.1 s\n"
     ]
    },
    {
     "data": {
      "text/plain": [
       "(7882, 342)"
      ]
     },
     "execution_count": 24,
     "metadata": {},
     "output_type": "execute_result"
    },
    {
     "data": {
      "text/plain": [
       "(7882, 348)"
      ]
     },
     "execution_count": 24,
     "metadata": {},
     "output_type": "execute_result"
    },
    {
     "data": {
      "text/html": [
       "<div>\n",
       "<style scoped>\n",
       "    .dataframe tbody tr th:only-of-type {\n",
       "        vertical-align: middle;\n",
       "    }\n",
       "\n",
       "    .dataframe tbody tr th {\n",
       "        vertical-align: top;\n",
       "    }\n",
       "\n",
       "    .dataframe thead th {\n",
       "        text-align: right;\n",
       "    }\n",
       "</style>\n",
       "<table border=\"1\" class=\"dataframe\">\n",
       "  <thead>\n",
       "    <tr style=\"text-align: right;\">\n",
       "      <th></th>\n",
       "      <th>status</th>\n",
       "      <th>sector</th>\n",
       "      <th>country</th>\n",
       "      <th>gender</th>\n",
       "      <th>loan_amount</th>\n",
       "      <th>nonpayment</th>\n",
       "      <th>able</th>\n",
       "      <th>access</th>\n",
       "      <th>access business</th>\n",
       "      <th>access business training</th>\n",
       "      <th>...</th>\n",
       "      <th>working</th>\n",
       "      <th>would</th>\n",
       "      <th>would like</th>\n",
       "      <th>wwwmifexorg</th>\n",
       "      <th>year ago</th>\n",
       "      <th>year experience</th>\n",
       "      <th>year old</th>\n",
       "      <th>year old married</th>\n",
       "      <th>yearold</th>\n",
       "      <th>young</th>\n",
       "    </tr>\n",
       "  </thead>\n",
       "  <tbody>\n",
       "    <tr>\n",
       "      <th>0</th>\n",
       "      <td>defaulted</td>\n",
       "      <td>Agriculture</td>\n",
       "      <td>Kenya</td>\n",
       "      <td>M</td>\n",
       "      <td>500.0</td>\n",
       "      <td>lender</td>\n",
       "      <td>0.121480</td>\n",
       "      <td>0.0</td>\n",
       "      <td>0.0</td>\n",
       "      <td>0.0</td>\n",
       "      <td>...</td>\n",
       "      <td>0.0</td>\n",
       "      <td>0.000000</td>\n",
       "      <td>0.0</td>\n",
       "      <td>0.0</td>\n",
       "      <td>0.0</td>\n",
       "      <td>0.0</td>\n",
       "      <td>0.0</td>\n",
       "      <td>0.0</td>\n",
       "      <td>0.0</td>\n",
       "      <td>0.0</td>\n",
       "    </tr>\n",
       "    <tr>\n",
       "      <th>1</th>\n",
       "      <td>defaulted</td>\n",
       "      <td>Food</td>\n",
       "      <td>Kenya</td>\n",
       "      <td>F</td>\n",
       "      <td>500.0</td>\n",
       "      <td>lender</td>\n",
       "      <td>0.000000</td>\n",
       "      <td>0.0</td>\n",
       "      <td>0.0</td>\n",
       "      <td>0.0</td>\n",
       "      <td>...</td>\n",
       "      <td>0.0</td>\n",
       "      <td>0.106737</td>\n",
       "      <td>0.0</td>\n",
       "      <td>0.0</td>\n",
       "      <td>0.0</td>\n",
       "      <td>0.0</td>\n",
       "      <td>0.0</td>\n",
       "      <td>0.0</td>\n",
       "      <td>0.0</td>\n",
       "      <td>0.0</td>\n",
       "    </tr>\n",
       "    <tr>\n",
       "      <th>2</th>\n",
       "      <td>defaulted</td>\n",
       "      <td>Food</td>\n",
       "      <td>Kenya</td>\n",
       "      <td>M</td>\n",
       "      <td>500.0</td>\n",
       "      <td>lender</td>\n",
       "      <td>0.000000</td>\n",
       "      <td>0.0</td>\n",
       "      <td>0.0</td>\n",
       "      <td>0.0</td>\n",
       "      <td>...</td>\n",
       "      <td>0.0</td>\n",
       "      <td>0.000000</td>\n",
       "      <td>0.0</td>\n",
       "      <td>0.0</td>\n",
       "      <td>0.0</td>\n",
       "      <td>0.0</td>\n",
       "      <td>0.0</td>\n",
       "      <td>0.0</td>\n",
       "      <td>0.0</td>\n",
       "      <td>0.0</td>\n",
       "    </tr>\n",
       "    <tr>\n",
       "      <th>3</th>\n",
       "      <td>defaulted</td>\n",
       "      <td>Services</td>\n",
       "      <td>Kenya</td>\n",
       "      <td>F</td>\n",
       "      <td>500.0</td>\n",
       "      <td>lender</td>\n",
       "      <td>0.000000</td>\n",
       "      <td>0.0</td>\n",
       "      <td>0.0</td>\n",
       "      <td>0.0</td>\n",
       "      <td>...</td>\n",
       "      <td>0.0</td>\n",
       "      <td>0.000000</td>\n",
       "      <td>0.0</td>\n",
       "      <td>0.0</td>\n",
       "      <td>0.0</td>\n",
       "      <td>0.0</td>\n",
       "      <td>0.0</td>\n",
       "      <td>0.0</td>\n",
       "      <td>0.0</td>\n",
       "      <td>0.0</td>\n",
       "    </tr>\n",
       "    <tr>\n",
       "      <th>4</th>\n",
       "      <td>defaulted</td>\n",
       "      <td>Construction</td>\n",
       "      <td>Kenya</td>\n",
       "      <td>M</td>\n",
       "      <td>500.0</td>\n",
       "      <td>lender</td>\n",
       "      <td>0.105798</td>\n",
       "      <td>0.0</td>\n",
       "      <td>0.0</td>\n",
       "      <td>0.0</td>\n",
       "      <td>...</td>\n",
       "      <td>0.0</td>\n",
       "      <td>0.000000</td>\n",
       "      <td>0.0</td>\n",
       "      <td>0.0</td>\n",
       "      <td>0.0</td>\n",
       "      <td>0.0</td>\n",
       "      <td>0.0</td>\n",
       "      <td>0.0</td>\n",
       "      <td>0.0</td>\n",
       "      <td>0.0</td>\n",
       "    </tr>\n",
       "  </tbody>\n",
       "</table>\n",
       "<p>5 rows × 348 columns</p>\n",
       "</div>"
      ],
      "text/plain": [
       "      status        sector country gender  loan_amount nonpayment      able  \\\n",
       "0  defaulted   Agriculture   Kenya      M        500.0     lender  0.121480   \n",
       "1  defaulted          Food   Kenya      F        500.0     lender  0.000000   \n",
       "2  defaulted          Food   Kenya      M        500.0     lender  0.000000   \n",
       "3  defaulted      Services   Kenya      F        500.0     lender  0.000000   \n",
       "4  defaulted  Construction   Kenya      M        500.0     lender  0.105798   \n",
       "\n",
       "   access  access business  access business training  ...    working  \\\n",
       "0     0.0              0.0                       0.0  ...        0.0   \n",
       "1     0.0              0.0                       0.0  ...        0.0   \n",
       "2     0.0              0.0                       0.0  ...        0.0   \n",
       "3     0.0              0.0                       0.0  ...        0.0   \n",
       "4     0.0              0.0                       0.0  ...        0.0   \n",
       "\n",
       "      would  would like  wwwmifexorg  year ago  year experience  year old  \\\n",
       "0  0.000000         0.0          0.0       0.0              0.0       0.0   \n",
       "1  0.106737         0.0          0.0       0.0              0.0       0.0   \n",
       "2  0.000000         0.0          0.0       0.0              0.0       0.0   \n",
       "3  0.000000         0.0          0.0       0.0              0.0       0.0   \n",
       "4  0.000000         0.0          0.0       0.0              0.0       0.0   \n",
       "\n",
       "   year old married  yearold  young  \n",
       "0               0.0      0.0    0.0  \n",
       "1               0.0      0.0    0.0  \n",
       "2               0.0      0.0    0.0  \n",
       "3               0.0      0.0    0.0  \n",
       "4               0.0      0.0    0.0  \n",
       "\n",
       "[5 rows x 348 columns]"
      ]
     },
     "execution_count": 24,
     "metadata": {},
     "output_type": "execute_result"
    }
   ],
   "source": [
    "from sklearn.feature_extraction.text import TfidfVectorizer\n",
    "\n",
    "tfidf_vectorizer = TfidfVectorizer(min_df=.05, max_df=.5, ngram_range=[1,3])\n",
    "%time dtm_tfidf = tfidf_vectorizer.fit_transform(kiva_df['en_clean'])\n",
    "\n",
    "bow_df_tfidf = pd.DataFrame(dtm_tfidf.toarray(), columns=tfidf_vectorizer.get_feature_names(), index=kiva_df.index)\n",
    "bow_df_tfidf.shape\n",
    "\n",
    "kiva_df_bow_tfidf = pd.concat([kiva_df, bow_df_tfidf], axis=1)\n",
    "kiva_df_bow_tfidf.drop(columns=['en', 'en_clean'], inplace=True)\n",
    "kiva_df_bow_tfidf.shape\n",
    "kiva_df_bow_tfidf.head()"
   ]
  },
  {
   "cell_type": "markdown",
   "metadata": {},
   "source": [
    "# Feature Hashing"
   ]
  },
  {
   "cell_type": "markdown",
   "metadata": {},
   "source": [
    "## Simple Example"
   ]
  },
  {
   "cell_type": "code",
   "execution_count": 65,
   "metadata": {},
   "outputs": [
    {
     "name": "stderr",
     "output_type": "stream",
     "text": [
      "C:\\Users\\st50\\AppData\\Local\\Continuum\\anaconda3\\lib\\site-packages\\sklearn\\feature_extraction\\hashing.py:102: DeprecationWarning: the option non_negative=True has been deprecated in 0.19 and will be removed in version 0.21.\n",
      "  \" in version 0.21.\", DeprecationWarning)\n",
      "C:\\Users\\st50\\AppData\\Local\\Continuum\\anaconda3\\lib\\site-packages\\sklearn\\feature_extraction\\hashing.py:102: DeprecationWarning: the option non_negative=True has been deprecated in 0.19 and will be removed in version 0.21.\n",
      "  \" in version 0.21.\", DeprecationWarning)\n"
     ]
    },
    {
     "data": {
      "text/plain": [
       "array([[0., 0., 1., 0., 1., 2., 0., 1.],\n",
       "       [0., 0., 0., 1., 1., 1., 1., 1.],\n",
       "       [0., 1., 2., 0., 1., 3., 0., 0.]])"
      ]
     },
     "execution_count": 65,
     "metadata": {},
     "output_type": "execute_result"
    },
    {
     "data": {
      "text/plain": [
       "(3, 8)"
      ]
     },
     "execution_count": 65,
     "metadata": {},
     "output_type": "execute_result"
    },
    {
     "data": {
      "text/html": [
       "<div>\n",
       "<style scoped>\n",
       "    .dataframe tbody tr th:only-of-type {\n",
       "        vertical-align: middle;\n",
       "    }\n",
       "\n",
       "    .dataframe tbody tr th {\n",
       "        vertical-align: top;\n",
       "    }\n",
       "\n",
       "    .dataframe thead th {\n",
       "        text-align: right;\n",
       "    }\n",
       "</style>\n",
       "<table border=\"1\" class=\"dataframe\">\n",
       "  <thead>\n",
       "    <tr style=\"text-align: right;\">\n",
       "      <th></th>\n",
       "      <th>0</th>\n",
       "      <th>1</th>\n",
       "      <th>2</th>\n",
       "      <th>3</th>\n",
       "      <th>4</th>\n",
       "      <th>5</th>\n",
       "      <th>6</th>\n",
       "      <th>7</th>\n",
       "    </tr>\n",
       "  </thead>\n",
       "  <tbody>\n",
       "    <tr>\n",
       "      <th>0</th>\n",
       "      <td>0.0</td>\n",
       "      <td>0.0</td>\n",
       "      <td>1.0</td>\n",
       "      <td>0.0</td>\n",
       "      <td>1.0</td>\n",
       "      <td>2.0</td>\n",
       "      <td>0.0</td>\n",
       "      <td>1.0</td>\n",
       "    </tr>\n",
       "    <tr>\n",
       "      <th>1</th>\n",
       "      <td>0.0</td>\n",
       "      <td>0.0</td>\n",
       "      <td>0.0</td>\n",
       "      <td>1.0</td>\n",
       "      <td>1.0</td>\n",
       "      <td>1.0</td>\n",
       "      <td>1.0</td>\n",
       "      <td>1.0</td>\n",
       "    </tr>\n",
       "    <tr>\n",
       "      <th>2</th>\n",
       "      <td>0.0</td>\n",
       "      <td>1.0</td>\n",
       "      <td>2.0</td>\n",
       "      <td>0.0</td>\n",
       "      <td>1.0</td>\n",
       "      <td>3.0</td>\n",
       "      <td>0.0</td>\n",
       "      <td>0.0</td>\n",
       "    </tr>\n",
       "  </tbody>\n",
       "</table>\n",
       "</div>"
      ],
      "text/plain": [
       "     0    1    2    3    4    5    6    7\n",
       "0  0.0  0.0  1.0  0.0  1.0  2.0  0.0  1.0\n",
       "1  0.0  0.0  0.0  1.0  1.0  1.0  1.0  1.0\n",
       "2  0.0  1.0  2.0  0.0  1.0  3.0  0.0  0.0"
      ]
     },
     "execution_count": 65,
     "metadata": {},
     "output_type": "execute_result"
    }
   ],
   "source": [
    "from sklearn.feature_extraction.text import HashingVectorizer\n",
    "\n",
    "docs = [\"my dog loves your dog\",\n",
    "        \"your dog loves the park\",\n",
    "        \"my dog and your dog love fleas\"]\n",
    "\n",
    "h_vectorizer = HashingVectorizer(n_features=2**3, ngram_range=[1,1], norm=None, non_negative=True, alternate_sign=False)\n",
    "dtm_h = h_vectorizer.fit_transform(docs)\n",
    "dtm_h.toarray()\n",
    "bow_df_h = pd.DataFrame(dtm_h.toarray())\n",
    "bow_df_h.shape\n",
    "bow_df_h.head()"
   ]
  },
  {
   "cell_type": "markdown",
   "metadata": {},
   "source": [
    "## Kiva Example"
   ]
  },
  {
   "cell_type": "code",
   "execution_count": 25,
   "metadata": {},
   "outputs": [
    {
     "name": "stdout",
     "output_type": "stream",
     "text": [
      "Wall time: 1.14 s\n"
     ]
    },
    {
     "data": {
      "text/plain": [
       "(7882, 512)"
      ]
     },
     "execution_count": 25,
     "metadata": {},
     "output_type": "execute_result"
    },
    {
     "data": {
      "text/plain": [
       "(7882, 518)"
      ]
     },
     "execution_count": 25,
     "metadata": {},
     "output_type": "execute_result"
    },
    {
     "data": {
      "text/html": [
       "<div>\n",
       "<style scoped>\n",
       "    .dataframe tbody tr th:only-of-type {\n",
       "        vertical-align: middle;\n",
       "    }\n",
       "\n",
       "    .dataframe tbody tr th {\n",
       "        vertical-align: top;\n",
       "    }\n",
       "\n",
       "    .dataframe thead th {\n",
       "        text-align: right;\n",
       "    }\n",
       "</style>\n",
       "<table border=\"1\" class=\"dataframe\">\n",
       "  <thead>\n",
       "    <tr style=\"text-align: right;\">\n",
       "      <th></th>\n",
       "      <th>status</th>\n",
       "      <th>sector</th>\n",
       "      <th>country</th>\n",
       "      <th>gender</th>\n",
       "      <th>loan_amount</th>\n",
       "      <th>nonpayment</th>\n",
       "      <th>0</th>\n",
       "      <th>1</th>\n",
       "      <th>2</th>\n",
       "      <th>3</th>\n",
       "      <th>...</th>\n",
       "      <th>502</th>\n",
       "      <th>503</th>\n",
       "      <th>504</th>\n",
       "      <th>505</th>\n",
       "      <th>506</th>\n",
       "      <th>507</th>\n",
       "      <th>508</th>\n",
       "      <th>509</th>\n",
       "      <th>510</th>\n",
       "      <th>511</th>\n",
       "    </tr>\n",
       "  </thead>\n",
       "  <tbody>\n",
       "    <tr>\n",
       "      <th>0</th>\n",
       "      <td>defaulted</td>\n",
       "      <td>Agriculture</td>\n",
       "      <td>Kenya</td>\n",
       "      <td>M</td>\n",
       "      <td>500.0</td>\n",
       "      <td>lender</td>\n",
       "      <td>0.000000</td>\n",
       "      <td>0.000000</td>\n",
       "      <td>0.0</td>\n",
       "      <td>0.000000</td>\n",
       "      <td>...</td>\n",
       "      <td>0.0</td>\n",
       "      <td>0.0</td>\n",
       "      <td>0.0</td>\n",
       "      <td>-0.063758</td>\n",
       "      <td>0.000000</td>\n",
       "      <td>-0.063758</td>\n",
       "      <td>0.127515</td>\n",
       "      <td>0.000000</td>\n",
       "      <td>-0.063758</td>\n",
       "      <td>0.000000</td>\n",
       "    </tr>\n",
       "    <tr>\n",
       "      <th>1</th>\n",
       "      <td>defaulted</td>\n",
       "      <td>Food</td>\n",
       "      <td>Kenya</td>\n",
       "      <td>F</td>\n",
       "      <td>500.0</td>\n",
       "      <td>lender</td>\n",
       "      <td>0.048853</td>\n",
       "      <td>0.048853</td>\n",
       "      <td>0.0</td>\n",
       "      <td>-0.048853</td>\n",
       "      <td>...</td>\n",
       "      <td>0.0</td>\n",
       "      <td>0.0</td>\n",
       "      <td>0.0</td>\n",
       "      <td>0.000000</td>\n",
       "      <td>-0.048853</td>\n",
       "      <td>0.000000</td>\n",
       "      <td>0.000000</td>\n",
       "      <td>-0.048853</td>\n",
       "      <td>-0.048853</td>\n",
       "      <td>0.000000</td>\n",
       "    </tr>\n",
       "    <tr>\n",
       "      <th>2</th>\n",
       "      <td>defaulted</td>\n",
       "      <td>Food</td>\n",
       "      <td>Kenya</td>\n",
       "      <td>M</td>\n",
       "      <td>500.0</td>\n",
       "      <td>lender</td>\n",
       "      <td>0.000000</td>\n",
       "      <td>-0.058926</td>\n",
       "      <td>0.0</td>\n",
       "      <td>0.000000</td>\n",
       "      <td>...</td>\n",
       "      <td>0.0</td>\n",
       "      <td>0.0</td>\n",
       "      <td>0.0</td>\n",
       "      <td>0.000000</td>\n",
       "      <td>0.000000</td>\n",
       "      <td>0.058926</td>\n",
       "      <td>0.000000</td>\n",
       "      <td>0.000000</td>\n",
       "      <td>0.000000</td>\n",
       "      <td>0.000000</td>\n",
       "    </tr>\n",
       "    <tr>\n",
       "      <th>3</th>\n",
       "      <td>defaulted</td>\n",
       "      <td>Services</td>\n",
       "      <td>Kenya</td>\n",
       "      <td>F</td>\n",
       "      <td>500.0</td>\n",
       "      <td>lender</td>\n",
       "      <td>0.000000</td>\n",
       "      <td>0.000000</td>\n",
       "      <td>0.0</td>\n",
       "      <td>0.000000</td>\n",
       "      <td>...</td>\n",
       "      <td>0.0</td>\n",
       "      <td>0.0</td>\n",
       "      <td>0.0</td>\n",
       "      <td>0.000000</td>\n",
       "      <td>-0.075593</td>\n",
       "      <td>0.000000</td>\n",
       "      <td>0.000000</td>\n",
       "      <td>0.000000</td>\n",
       "      <td>0.000000</td>\n",
       "      <td>0.000000</td>\n",
       "    </tr>\n",
       "    <tr>\n",
       "      <th>4</th>\n",
       "      <td>defaulted</td>\n",
       "      <td>Construction</td>\n",
       "      <td>Kenya</td>\n",
       "      <td>M</td>\n",
       "      <td>500.0</td>\n",
       "      <td>lender</td>\n",
       "      <td>-0.067116</td>\n",
       "      <td>0.000000</td>\n",
       "      <td>0.0</td>\n",
       "      <td>0.000000</td>\n",
       "      <td>...</td>\n",
       "      <td>0.0</td>\n",
       "      <td>0.0</td>\n",
       "      <td>0.0</td>\n",
       "      <td>0.067116</td>\n",
       "      <td>0.000000</td>\n",
       "      <td>0.067116</td>\n",
       "      <td>0.067116</td>\n",
       "      <td>0.000000</td>\n",
       "      <td>0.000000</td>\n",
       "      <td>0.067116</td>\n",
       "    </tr>\n",
       "  </tbody>\n",
       "</table>\n",
       "<p>5 rows × 518 columns</p>\n",
       "</div>"
      ],
      "text/plain": [
       "      status        sector country gender  loan_amount nonpayment         0  \\\n",
       "0  defaulted   Agriculture   Kenya      M        500.0     lender  0.000000   \n",
       "1  defaulted          Food   Kenya      F        500.0     lender  0.048853   \n",
       "2  defaulted          Food   Kenya      M        500.0     lender  0.000000   \n",
       "3  defaulted      Services   Kenya      F        500.0     lender  0.000000   \n",
       "4  defaulted  Construction   Kenya      M        500.0     lender -0.067116   \n",
       "\n",
       "          1    2         3    ...     502  503  504       505       506  \\\n",
       "0  0.000000  0.0  0.000000    ...     0.0  0.0  0.0 -0.063758  0.000000   \n",
       "1  0.048853  0.0 -0.048853    ...     0.0  0.0  0.0  0.000000 -0.048853   \n",
       "2 -0.058926  0.0  0.000000    ...     0.0  0.0  0.0  0.000000  0.000000   \n",
       "3  0.000000  0.0  0.000000    ...     0.0  0.0  0.0  0.000000 -0.075593   \n",
       "4  0.000000  0.0  0.000000    ...     0.0  0.0  0.0  0.067116  0.000000   \n",
       "\n",
       "        507       508       509       510       511  \n",
       "0 -0.063758  0.127515  0.000000 -0.063758  0.000000  \n",
       "1  0.000000  0.000000 -0.048853 -0.048853  0.000000  \n",
       "2  0.058926  0.000000  0.000000  0.000000  0.000000  \n",
       "3  0.000000  0.000000  0.000000  0.000000  0.000000  \n",
       "4  0.067116  0.067116  0.000000  0.000000  0.067116  \n",
       "\n",
       "[5 rows x 518 columns]"
      ]
     },
     "execution_count": 25,
     "metadata": {},
     "output_type": "execute_result"
    }
   ],
   "source": [
    "from sklearn.feature_extraction.text import HashingVectorizer\n",
    "\n",
    "h_vectorizer = HashingVectorizer(n_features=2**9, ngram_range=[1,3])\n",
    "%time dtm_h = h_vectorizer.fit_transform(kiva_df['en_clean'])\n",
    "bow_df_h = pd.DataFrame(dtm_h.toarray(), index=kiva_df.index)\n",
    "bow_df_h.shape\n",
    "\n",
    "kiva_df_h = pd.concat([kiva_df, bow_df_h], axis=1)\n",
    "kiva_df_h.drop(columns=['en', 'en_clean'], inplace=True)\n",
    "kiva_df_h.shape\n",
    "kiva_df_h.head()"
   ]
  },
  {
   "cell_type": "markdown",
   "metadata": {},
   "source": [
    "# Embeddings with Doc2Vec\n",
    "\n",
    "Inspirational blog posts:\n",
    "- https://www.analyticsvidhya.com/blog/2018/04/a-comprehensive-guide-to-understand-and-implement-text-classification-in-python/\n",
    "- https://markroxor.github.io/gensim/static/notebooks/doc2vec-lee.html"
   ]
  },
  {
   "cell_type": "markdown",
   "metadata": {},
   "source": [
    "## Toy Model 1"
   ]
  },
  {
   "cell_type": "code",
   "execution_count": 26,
   "metadata": {},
   "outputs": [
    {
     "name": "stderr",
     "output_type": "stream",
     "text": [
      "C:\\Users\\st50\\AppData\\Local\\Continuum\\anaconda3\\lib\\site-packages\\gensim\\utils.py:1197: UserWarning: detected Windows; aliasing chunkize to chunkize_serial\n",
      "  warnings.warn(\"detected Windows; aliasing chunkize to chunkize_serial\")\n"
     ]
    }
   ],
   "source": [
    "from gensim.models.doc2vec import Doc2Vec, TaggedDocument\n",
    "\n",
    "docs = [\"the dog is really smart\",\n",
    "        \"the cat is really smart\",\n",
    "        \"the rat is really smart\",\n",
    "        \"the mouse is really smart\",\n",
    "        \"the dog ran to the store\",\n",
    "        \"the cat ran to the store\",\n",
    "        \"the rat ran to the store\",\n",
    "        \"the mouse rand to the store\",\n",
    "        \"the dog is really dumb\",\n",
    "        \"the cat is really dumb\",\n",
    "        \"the dog is brown\",\n",
    "        \"the cat is brown\",\n",
    "        \"this document has nothing to do with any of the others\"]\n",
    "\n",
    "documents = [TaggedDocument(doc.split(), [i]) for i, doc in enumerate(docs)]"
   ]
  },
  {
   "cell_type": "code",
   "execution_count": 27,
   "metadata": {},
   "outputs": [
    {
     "name": "stdout",
     "output_type": "stream",
     "text": [
      "Wall time: 19.1 s\n",
      "Doc2Vec(dm/m,d5,n5,w2,s0.001,t4)\n",
      "[ 0.99248874  0.41061038  0.02131949  5.500582   -0.97168183]\n",
      "[-3.7883854 -1.4582045  1.6334202  0.6515057 -3.2550743]\n",
      "[-4.529103  -2.773157  -0.8444491  2.2315423 -1.759981 ]\n",
      "[-2.1608121  -1.8652055  -1.9994868   5.028724   -0.39297175]\n",
      "[0.9872789 3.5198617 2.4392228 1.7691325 4.3211737]\n",
      "[-3.2556016  1.585831   3.8298566 -2.5451846  2.4321797]\n",
      "[-4.310841   -0.42158404  1.0943148  -0.99977106  4.599478  ]\n",
      "[ 0.5099778  -1.716412   -0.13483465  3.6288497   6.089962  ]\n",
      "[-1.4100575  4.432139   0.5851983  4.7612267  1.3690388]\n",
      "[-5.8778386   2.5158525   1.8297108   0.31852654 -0.58893776]\n",
      "[ 2.2075603  3.1818073  3.8700628  2.948709  -1.1176034]\n",
      "[-1.439374    1.5633134   4.854304   -0.47629768 -2.7713668 ]\n",
      "[ 0.90785456 -5.2965612   4.4545765   2.5252194  -0.92053807]\n"
     ]
    }
   ],
   "source": [
    "%time model = Doc2Vec(documents, vector_size=5, window=2, min_count=1, workers=4, epochs=10000, alpha=0.065, seed=123)\n",
    "print(model)\n",
    "for i in range(0, len(docs)):\n",
    "    print(model.docvecs[i])"
   ]
  },
  {
   "cell_type": "code",
   "execution_count": 28,
   "metadata": {},
   "outputs": [
    {
     "name": "stdout",
     "output_type": "stream",
     "text": [
      "\n",
      "\n",
      "Doc 0\n",
      "the dog is really smart\n",
      "[ 0.99248874  0.41061038  0.02131949  5.500582   -0.97168183]\n",
      "\n",
      "\n",
      "Closest doc 0 3 (0.7194470167160034)\n",
      "the mouse is really smart\n",
      "[-2.1608121  -1.8652055  -1.9994868   5.028724   -0.39297175]\n",
      "Closest doc 1 8 (0.65193772315979)\n",
      "the dog is really dumb\n",
      "[-1.4100575  4.432139   0.5851983  4.7612267  1.3690388]\n",
      "Closest doc 2 10 (0.5811523795127869)\n",
      "the dog is brown\n",
      "[ 2.2075603  3.1818073  3.8700628  2.948709  -1.1176034]\n",
      "\n",
      "\n",
      "Doc 1\n",
      "the cat is really smart\n",
      "[-3.7883854 -1.4582045  1.6334202  0.6515057 -3.2550743]\n",
      "\n",
      "\n",
      "Closest doc 0 2 (0.8083950877189636)\n",
      "the rat is really smart\n",
      "[-4.529103  -2.773157  -0.8444491  2.2315423 -1.759981 ]\n",
      "Closest doc 1 9 (0.6459209322929382)\n",
      "the cat is really dumb\n",
      "[-5.8778386   2.5158525   1.8297108   0.31852654 -0.58893776]\n",
      "Closest doc 2 11 (0.6013350486755371)\n",
      "the cat is brown\n",
      "[-1.439374    1.5633134   4.854304   -0.47629768 -2.7713668 ]\n",
      "\n",
      "\n",
      "Doc 2\n",
      "the rat is really smart\n",
      "[-4.529103  -2.773157  -0.8444491  2.2315423 -1.759981 ]\n",
      "\n",
      "\n",
      "Closest doc 0 1 (0.8083950877189636)\n",
      "the cat is really smart\n",
      "[-3.7883854 -1.4582045  1.6334202  0.6515057 -3.2550743]\n",
      "Closest doc 1 3 (0.7659169435501099)\n",
      "the mouse is really smart\n",
      "[-2.1608121  -1.8652055  -1.9994868   5.028724   -0.39297175]\n",
      "Closest doc 2 9 (0.48819655179977417)\n",
      "the cat is really dumb\n",
      "[-5.8778386   2.5158525   1.8297108   0.31852654 -0.58893776]\n",
      "\n",
      "\n",
      "Doc 3\n",
      "the mouse is really smart\n",
      "[-2.1608121  -1.8652055  -1.9994868   5.028724   -0.39297175]\n",
      "\n",
      "\n",
      "Closest doc 0 2 (0.7659169435501099)\n",
      "the rat is really smart\n",
      "[-4.529103  -2.773157  -0.8444491  2.2315423 -1.759981 ]\n",
      "Closest doc 1 0 (0.7194470167160034)\n",
      "the dog is really smart\n",
      "[ 0.99248874  0.41061038  0.02131949  5.500582   -0.97168183]\n",
      "Closest doc 2 8 (0.4069010019302368)\n",
      "the dog is really dumb\n",
      "[-1.4100575  4.432139   0.5851983  4.7612267  1.3690388]\n",
      "\n",
      "\n",
      "Doc 4\n",
      "the dog ran to the store\n",
      "[0.9872789 3.5198617 2.4392228 1.7691325 4.3211737]\n",
      "\n",
      "\n",
      "Closest doc 0 8 (0.6853932738304138)\n",
      "the dog is really dumb\n",
      "[-1.4100575  4.432139   0.5851983  4.7612267  1.3690388]\n",
      "Closest doc 1 7 (0.5729843378067017)\n",
      "the mouse rand to the store\n",
      "[ 0.5099778  -1.716412   -0.13483465  3.6288497   6.089962  ]\n",
      "Closest doc 2 10 (0.5728097558021545)\n",
      "the dog is brown\n",
      "[ 2.2075603  3.1818073  3.8700628  2.948709  -1.1176034]\n",
      "\n",
      "\n",
      "Doc 5\n",
      "the cat ran to the store\n",
      "[-3.2556016  1.585831   3.8298566 -2.5451846  2.4321797]\n",
      "\n",
      "\n",
      "Closest doc 0 6 (0.7606644034385681)\n",
      "the rat ran to the store\n",
      "[-4.310841   -0.42158404  1.0943148  -0.99977106  4.599478  ]\n",
      "Closest doc 1 9 (0.6583247184753418)\n",
      "the cat is really dumb\n",
      "[-5.8778386   2.5158525   1.8297108   0.31852654 -0.58893776]\n",
      "Closest doc 2 11 (0.5319925546646118)\n",
      "the cat is brown\n",
      "[-1.439374    1.5633134   4.854304   -0.47629768 -2.7713668 ]\n",
      "\n",
      "\n",
      "Doc 6\n",
      "the rat ran to the store\n",
      "[-4.310841   -0.42158404  1.0943148  -0.99977106  4.599478  ]\n",
      "\n",
      "\n",
      "Closest doc 0 5 (0.7606644034385681)\n",
      "the cat ran to the store\n",
      "[-3.2556016  1.585831   3.8298566 -2.5451846  2.4321797]\n",
      "Closest doc 1 9 (0.5360864996910095)\n",
      "the cat is really dumb\n",
      "[-5.8778386   2.5158525   1.8297108   0.31852654 -0.58893776]\n",
      "Closest doc 2 7 (0.4795892536640167)\n",
      "the mouse rand to the store\n",
      "[ 0.5099778  -1.716412   -0.13483465  3.6288497   6.089962  ]\n",
      "\n",
      "\n",
      "Doc 7\n",
      "the mouse rand to the store\n",
      "[ 0.5099778  -1.716412   -0.13483465  3.6288497   6.089962  ]\n",
      "\n",
      "\n",
      "Closest doc 0 4 (0.5729843378067017)\n",
      "the dog ran to the store\n",
      "[0.9872789 3.5198617 2.4392228 1.7691325 4.3211737]\n",
      "Closest doc 1 6 (0.4795892536640167)\n",
      "the rat ran to the store\n",
      "[-4.310841   -0.42158404  1.0943148  -0.99977106  4.599478  ]\n",
      "Closest doc 2 3 (0.4064691364765167)\n",
      "the mouse is really smart\n",
      "[-2.1608121  -1.8652055  -1.9994868   5.028724   -0.39297175]\n",
      "\n",
      "\n",
      "Doc 8\n",
      "the dog is really dumb\n",
      "[-1.4100575  4.432139   0.5851983  4.7612267  1.3690388]\n",
      "\n",
      "\n",
      "Closest doc 0 4 (0.6853932738304138)\n",
      "the dog ran to the store\n",
      "[0.9872789 3.5198617 2.4392228 1.7691325 4.3211737]\n",
      "Closest doc 1 0 (0.65193772315979)\n",
      "the dog is really smart\n",
      "[ 0.99248874  0.41061038  0.02131949  5.500582   -0.97168183]\n",
      "Closest doc 2 10 (0.5978721380233765)\n",
      "the dog is brown\n",
      "[ 2.2075603  3.1818073  3.8700628  2.948709  -1.1176034]\n",
      "\n",
      "\n",
      "Doc 9\n",
      "the cat is really dumb\n",
      "[-5.8778386   2.5158525   1.8297108   0.31852654 -0.58893776]\n",
      "\n",
      "\n",
      "Closest doc 0 5 (0.6583248376846313)\n",
      "the cat ran to the store\n",
      "[-3.2556016  1.585831   3.8298566 -2.5451846  2.4321797]\n",
      "Closest doc 1 1 (0.645920991897583)\n",
      "the cat is really smart\n",
      "[-3.7883854 -1.4582045  1.6334202  0.6515057 -3.2550743]\n",
      "Closest doc 2 11 (0.5675294995307922)\n",
      "the cat is brown\n",
      "[-1.439374    1.5633134   4.854304   -0.47629768 -2.7713668 ]\n",
      "\n",
      "\n",
      "Doc 10\n",
      "the dog is brown\n",
      "[ 2.2075603  3.1818073  3.8700628  2.948709  -1.1176034]\n",
      "\n",
      "\n",
      "Closest doc 0 8 (0.5978721976280212)\n",
      "the dog is really dumb\n",
      "[-1.4100575  4.432139   0.5851983  4.7612267  1.3690388]\n",
      "Closest doc 1 11 (0.5877246856689453)\n",
      "the cat is brown\n",
      "[-1.439374    1.5633134   4.854304   -0.47629768 -2.7713668 ]\n",
      "Closest doc 2 0 (0.5811524391174316)\n",
      "the dog is really smart\n",
      "[ 0.99248874  0.41061038  0.02131949  5.500582   -0.97168183]\n",
      "\n",
      "\n",
      "Doc 11\n",
      "the cat is brown\n",
      "[-1.439374    1.5633134   4.854304   -0.47629768 -2.7713668 ]\n",
      "\n",
      "\n",
      "Closest doc 0 1 (0.6013350486755371)\n",
      "the cat is really smart\n",
      "[-3.7883854 -1.4582045  1.6334202  0.6515057 -3.2550743]\n",
      "Closest doc 1 10 (0.5877246856689453)\n",
      "the dog is brown\n",
      "[ 2.2075603  3.1818073  3.8700628  2.948709  -1.1176034]\n",
      "Closest doc 2 9 (0.5675294995307922)\n",
      "the cat is really dumb\n",
      "[-5.8778386   2.5158525   1.8297108   0.31852654 -0.58893776]\n",
      "\n",
      "\n",
      "Doc 12\n",
      "this document has nothing to do with any of the others\n",
      "[ 0.90785456 -5.2965612   4.4545765   2.5252194  -0.92053807]\n",
      "\n",
      "\n",
      "Closest doc 0 1 (0.3943902254104614)\n",
      "the cat is really smart\n",
      "[-3.7883854 -1.4582045  1.6334202  0.6515057 -3.2550743]\n",
      "Closest doc 1 0 (0.3197977542877197)\n",
      "the dog is really smart\n",
      "[ 0.99248874  0.41061038  0.02131949  5.500582   -0.97168183]\n",
      "Closest doc 2 2 (0.309279203414917)\n",
      "the rat is really smart\n",
      "[-4.529103  -2.773157  -0.8444491  2.2315423 -1.759981 ]\n"
     ]
    }
   ],
   "source": [
    "for idx in range(0, len(docs)):\n",
    "    print(\"\\n\\nDoc {}\".format(idx))\n",
    "    print(docs[idx])\n",
    "    print(model.docvecs[idx])\n",
    "    sim = model.docvecs.most_similar(idx, topn=5)\n",
    "    print(\"\\n\")\n",
    "    \n",
    "    for i in range(0, 3):\n",
    "        print(\"Closest doc {} {} ({})\".format(i, sim[i][0], sim[i][1]))\n",
    "        closest_idx = sim[i][0]\n",
    "        print(docs[closest_idx])\n",
    "        print(model.docvecs[closest_idx])"
   ]
  },
  {
   "cell_type": "markdown",
   "metadata": {},
   "source": [
    "## Toy Model 3 - Kiva"
   ]
  },
  {
   "cell_type": "code",
   "execution_count": 29,
   "metadata": {},
   "outputs": [],
   "source": [
    "from gensim.models.doc2vec import Doc2Vec, TaggedDocument\n",
    "\n",
    "docs = kiva_df['en_clean']\n",
    "\n",
    "documents = [TaggedDocument(doc.split(), [i]) for i, doc in enumerate(docs)]"
   ]
  },
  {
   "cell_type": "code",
   "execution_count": 30,
   "metadata": {},
   "outputs": [
    {
     "name": "stdout",
     "output_type": "stream",
     "text": [
      "Wall time: 2min 11s\n",
      "Doc2Vec(dm/m,d8,n5,w2,mc5,s0.001,t4)\n"
     ]
    }
   ],
   "source": [
    "%time model = Doc2Vec(documents, vector_size=8, window=2, min_count=5, workers=4, epochs=200, seed=123)\n",
    "print(model)\n"
   ]
  },
  {
   "cell_type": "code",
   "execution_count": 31,
   "metadata": {},
   "outputs": [
    {
     "name": "stdout",
     "output_type": "stream",
     "text": [
      "Wall time: 2min 48s\n"
     ]
    }
   ],
   "source": [
    "%%time\n",
    "\n",
    "import collections\n",
    "\n",
    "ranks = []\n",
    "second_ranks = []\n",
    "for doc_id in range(len(documents)):\n",
    "    inferred_vector = model.infer_vector(documents[doc_id].words)\n",
    "    sims = model.docvecs.most_similar([inferred_vector], topn=len(model.docvecs))\n",
    "    rank = [docid for docid, sim in sims].index(doc_id)\n",
    "    ranks.append(rank)\n",
    "    second_ranks.append(sims[1])"
   ]
  },
  {
   "cell_type": "code",
   "execution_count": 32,
   "metadata": {},
   "outputs": [
    {
     "data": {
      "text/plain": [
       "[(0, 467),\n",
       " (1, 313),\n",
       " (2, 256),\n",
       " (3, 231),\n",
       " (4, 204),\n",
       " (5, 191),\n",
       " (6, 167),\n",
       " (7, 151),\n",
       " (8, 146),\n",
       " (9, 139)]"
      ]
     },
     "execution_count": 32,
     "metadata": {},
     "output_type": "execute_result"
    },
    {
     "data": {
      "text/plain": [
       "467"
      ]
     },
     "execution_count": 32,
     "metadata": {},
     "output_type": "execute_result"
    },
    {
     "data": {
      "text/plain": [
       "313"
      ]
     },
     "execution_count": 32,
     "metadata": {},
     "output_type": "execute_result"
    },
    {
     "data": {
      "text/plain": [
       "37"
      ]
     },
     "execution_count": 32,
     "metadata": {},
     "output_type": "execute_result"
    }
   ],
   "source": [
    "collections.Counter(ranks).most_common(10) \n",
    "collections.Counter(ranks)[0]\n",
    "collections.Counter(ranks)[1]\n",
    "collections.Counter(ranks)[43]"
   ]
  },
  {
   "cell_type": "code",
   "execution_count": 33,
   "metadata": {},
   "outputs": [
    {
     "name": "stdout",
     "output_type": "stream",
     "text": [
      "Document (4554): «bolvar year experience manufacturing dresser storing clothes left native city came live near uncle isla trinitaira guayaquil started work learned profession slowly became independent two year ago married wife charge buying wood business located front place live dont pay rent caretaker place steady client order product every week charge advance balance upon delivery work monday saturday trying little little get ahead still paying used planing machine bought bolvar need loan buy another planing machine always employee working right need take turn permit production increase bolvar year old one child wife help business especially buying wood married two year since young trying get ahead family life well business aspiration establish business well save buy home translated spanish naomi johnson kiva volunteer»\n",
      "\n",
      "SIMILAR/DISSIMILAR DOCS PER MODEL Doc2Vec(dm/m,d8,n5,w2,mc5,s0.001,t4):\n",
      "\n",
      "MOST (6029, 0.9597870111465454): «deanis altagracia guzman wish build full scale beauty center featuring acrylic nail fixing capacity deanis living year husband three kid recently started selling clothing well since need complement income produced beauty aid service product also plan sell clothing family usa sends time time husband finish construction area plan move salon operation plan able assist helped feel lucky grateful able undertake thus far»\n",
      "\n",
      "MEDIAN (1234, 0.4166688919067383): «jane njoki year old married child jane never went school due effort educated child jane active member namelok woman group member baptist church kipayu started business steer help weec loan sale steer grazing period managed buy steer due determination steer profit earns enables repay group saving educate child jane want loan usd buy steer business»\n",
      "\n",
      "LEAST (5739, -0.2855098843574524): «young rolando farming past year day gaining experience cultivation rice profitable crop region rolando want use money purchase farming implement order productive short growing season currently rolando single child life house made reed live past year dream one day land farm work improving home making stable plan lot effort dedication translated spanish carolina zelayakronlund kiva volunteer»\n",
      "\n"
     ]
    }
   ],
   "source": [
    "doc_id = 4554\n",
    "print('Document ({}): «{}»\\n'.format(doc_id, ' '.join(documents[doc_id].words)))\n",
    "print(u'SIMILAR/DISSIMILAR DOCS PER MODEL %s:\\n' % model)\n",
    "for label, index in [('MOST', 0), ('MEDIAN', len(sims)//2), ('LEAST', len(sims) - 1)]:\n",
    "    print(u'%s %s: «%s»\\n' % (label, sims[index], ' '.join(documents[sims[index][0]].words)))"
   ]
  },
  {
   "cell_type": "code",
   "execution_count": 34,
   "metadata": {},
   "outputs": [
    {
     "name": "stdout",
     "output_type": "stream",
     "text": [
      "Train Document (543): «mary year old married child active member st jude woman group located githunguri thika unit christian faith member presbyterian church east africa teacher local school also practice farming rear dairy cattle grows vegetable farm earns total usd per month teaching job farming plan make sure child get good education provide best mother give biggest challenge finance feel improve farming method better position usd loan would like buy organic manure soil supplement increase production farm willing make repayment monthly basis»\n",
      "\n",
      "Similar Document (396, 0.9827365279197693): «mary gakenia maina year old single mother two child one child junior school second year old active member wendani self help group life ngorika settlement rift valley part kenya one acre piece land farm maize potato potato farming seasonal done four time year give competitive price planted right time given appropriate attention term water pest control requesting loan use follows lease two acre land buy potato seedling maize seed fertilizer buy pesticide sprayer pesticide plan save net profit yield offer better planned future two child since breadwinner»\n",
      "\n"
     ]
    }
   ],
   "source": [
    "doc_id = 543\n",
    "print('Train Document ({}): «{}»\\n'.format(doc_id, ' '.join(documents[doc_id].words)))\n",
    "sim_id = second_ranks[doc_id]\n",
    "print('Similar Document {}: «{}»\\n'.format(sim_id, ' '.join(documents[sim_id[0]].words)))"
   ]
  },
  {
   "cell_type": "code",
   "execution_count": 35,
   "metadata": {},
   "outputs": [
    {
     "data": {
      "text/plain": [
       "[(1712, 0.9852263927459717),\n",
       " (1170, 0.9747959971427917),\n",
       " (432, 0.9694892168045044),\n",
       " (2923, 0.9689468741416931),\n",
       " (3576, 0.9681254029273987),\n",
       " (954, 0.9673334360122681),\n",
       " (4276, 0.9670917987823486),\n",
       " (4277, 0.9649144411087036),\n",
       " (3429, 0.9647232294082642),\n",
       " (814, 0.9634026885032654)]"
      ]
     },
     "execution_count": 35,
     "metadata": {},
     "output_type": "execute_result"
    },
    {
     "data": {
      "text/plain": [
       "0"
      ]
     },
     "execution_count": 35,
     "metadata": {},
     "output_type": "execute_result"
    },
    {
     "data": {
      "text/plain": [
       "'description written rowland amulyoto staff member village enterprise fund representing business robert married child addition family take care mother brother robert started planting vegetable selling local market diversified tea nursery profitable given loan robert able improve activity buying fertilizer pesticide pump seedling pump remove uncertainty weather current capital venture ksh allow robert maximize potential robert completed high school never got employment got apprentice training tea extension officer go getter main hobby teaching music'"
      ]
     },
     "execution_count": 35,
     "metadata": {},
     "output_type": "execute_result"
    },
    {
     "data": {
      "text/plain": [
       "array([ 1.1980051 ,  1.023994  , -3.0658832 , -1.3409452 ,  1.1148725 ,\n",
       "       -2.077089  ,  0.19002658, -0.19003806], dtype=float32)"
      ]
     },
     "execution_count": 35,
     "metadata": {},
     "output_type": "execute_result"
    },
    {
     "name": "stdout",
     "output_type": "stream",
     "text": [
      "Closest doc 0 1712 (0.9852263927459717)\n"
     ]
    },
    {
     "data": {
      "text/plain": [
       "'teresia wanjiku born year ago town kiambu married four child first born working hotel nairobi two college fourth still primary school dedicated christian worship kanunga catholic church member catholic woman association cwa teresias obvious leadership skill made role model many young woman year since marriage husband run tailoring shop local shopping center working dairy farmer also raise pig earlier year friend told teresia many way woman economic empowerment consort kiva working boost business kiambu became interested project immediately joined woman group come u loan use boost tailoring business buying clothing material use make dress intends repay loan within month'"
      ]
     },
     "execution_count": 35,
     "metadata": {},
     "output_type": "execute_result"
    },
    {
     "data": {
      "text/plain": [
       "array([ 1.3800128 ,  1.0005883 , -3.229257  , -1.3149457 ,  1.5749676 ,\n",
       "       -1.5221534 ,  0.13650416, -0.17150591], dtype=float32)"
      ]
     },
     "execution_count": 35,
     "metadata": {},
     "output_type": "execute_result"
    },
    {
     "name": "stdout",
     "output_type": "stream",
     "text": [
      "Closest doc 1 1170 (0.9747959971427917)\n"
     ]
    },
    {
     "data": {
      "text/plain": [
       "'susan born st march married one child lower primary school private primary school nairobi susan like colleague joined group registered weec hearing good news weec kiva boosted many business kiambu surroundings elected discipline mistress group susan sell secondhand clothes kawangware business last year raised educated child income earned secondhand clothes business given loan usd intends buy bale secondhand clothes willing repay loan within month'"
      ]
     },
     "execution_count": 35,
     "metadata": {},
     "output_type": "execute_result"
    },
    {
     "data": {
      "text/plain": [
       "array([ 1.9684074 ,  2.007368  , -5.332796  , -2.4643576 ,  1.7331749 ,\n",
       "       -2.0837624 , -0.00788527, -0.99241424], dtype=float32)"
      ]
     },
     "execution_count": 35,
     "metadata": {},
     "output_type": "execute_result"
    },
    {
     "name": "stdout",
     "output_type": "stream",
     "text": [
      "Closest doc 2 432 (0.9694892168045044)\n"
     ]
    },
    {
     "data": {
      "text/plain": [
       "'jane married five child child attend public primary school isinya kenya active member also treasurer nanapae woman group also treasurer merry go round area emily joined group registered weec year jane started bead work business four year ago initial capital amount usd loaned weec make beautiful belt mat dress shoe earring conduct business open air market isinya stock increased usd usd jane seeking loan usd add additional stock business'"
      ]
     },
     "execution_count": 35,
     "metadata": {},
     "output_type": "execute_result"
    },
    {
     "data": {
      "text/plain": [
       "array([ 1.9800103 ,  2.120033  , -4.589822  , -1.7324752 ,  1.300927  ,\n",
       "       -1.6647959 ,  0.33758453, -0.24634889], dtype=float32)"
      ]
     },
     "execution_count": 35,
     "metadata": {},
     "output_type": "execute_result"
    }
   ],
   "source": [
    "idx = 0\n",
    "sim = model.docvecs.most_similar(idx, topn=10)\n",
    "sim\n",
    "\n",
    "idx\n",
    "docs.iloc[idx]\n",
    "model.docvecs[idx]\n",
    "\n",
    "for i in range(0, 3):\n",
    "    print(\"Closest doc {} {} ({})\".format(i, sim[i][0], sim[i][1]))\n",
    "    closest_idx = sim[i][0]\n",
    "    docs.iloc[closest_idx]\n",
    "    model.docvecs[closest_idx]\n"
   ]
  },
  {
   "cell_type": "code",
   "execution_count": 36,
   "metadata": {},
   "outputs": [
    {
     "data": {
      "text/plain": [
       "'saami year old married child religiuou together wither family saami primary education class married completing primary level education due cultural limitationssaami treasurer kiret naboisho w g attended various leadership training session organized weec training assist woman running group activity saami steer however died drought period death almost whole stock affected family income generating activity saami plan build stock intends buy steer usd sell steer month reinvest proceeds steer business saami intends attend livestock management course scheduled december saami feel important train modern method managing livestock also listed train basic business management skill'"
      ]
     },
     "execution_count": 36,
     "metadata": {},
     "output_type": "execute_result"
    }
   ],
   "source": [
    "docs.iloc[25]"
   ]
  }
 ],
 "metadata": {
  "kernelspec": {
   "display_name": "Python 3",
   "language": "python",
   "name": "python3"
  },
  "language_info": {
   "codemirror_mode": {
    "name": "ipython",
    "version": 3
   },
   "file_extension": ".py",
   "mimetype": "text/x-python",
   "name": "python",
   "nbconvert_exporter": "python",
   "pygments_lexer": "ipython3",
   "version": "3.7.4"
  }
 },
 "nbformat": 4,
 "nbformat_minor": 2
}
