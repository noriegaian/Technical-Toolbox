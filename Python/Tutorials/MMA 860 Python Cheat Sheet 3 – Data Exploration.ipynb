{
 "cells": [
  {
   "cell_type": "markdown",
   "metadata": {},
   "source": [
    "For this cheat sheet, we will be working with the Grocery Store data we have imported in the previous workbook. Let's import it here (we can use the same code as from the previous module):"
   ]
  },
  {
   "cell_type": "code",
   "execution_count": null,
   "metadata": {},
   "outputs": [],
   "source": [
    "import pandas as pd\n",
    "import os\n",
    "from os.path import curdir\n",
    "\n",
    "# This time we will give our variables more meaningful names.\n",
    "# This is significantly improves code readability.\n",
    "grocery_data_path = os.path.join(curdir,'Data','MMA_860_Grocery_Data.csv')\n",
    "grocery_data = pd.read_csv(grocery_data_path, header='infer', index_col='Obs')"
   ]
  },
  {
   "cell_type": "markdown",
   "metadata": {},
   "source": [
    "As a Data Scientist you will find that most of your time is spent on data acquisition and data prep long before you are able to begin modelling. This is a sad truth, but not one worth complaining about. Instead, we are going to learn some Python functions that simplify the data exploration and cleaning portion of the Model Development Cycle. Specifically, let us look into..."
   ]
  },
  {
   "cell_type": "markdown",
   "metadata": {},
   "source": [
    "# Anaconda Distribution"
   ]
  },
  {
   "cell_type": "markdown",
   "metadata": {},
   "source": [
    "The Anaconda Distribution comes pre-loaded with many libraries, majority of which are very useful for data analysis and data wrangling. The libraries mentioned above are just a few examples but will be the main focus of this course. See below for a more concise definition of each."
   ]
  },
  {
   "cell_type": "markdown",
   "metadata": {},
   "source": [
    "**pandas** - An open-sourced library providing a simple interface for data analysis. You have already imported data using this library. I like to think of this library as a command-line version of Microsoft Excel as it shares many of the features."
   ]
  },
  {
   "cell_type": "markdown",
   "metadata": {},
   "source": [
    "**NumPy** - A library used for numerical analysis. Where pandas key purpose is structuring data, filtering columns, and joining tables, NumPy is used for actual computation."
   ]
  },
  {
   "cell_type": "markdown",
   "metadata": {},
   "source": [
    "**MatPlotLib** - A library used for data visualization. MatPlotLib can be used to generate several plots from given NumPy arrays and Pandas series."
   ]
  },
  {
   "cell_type": "markdown",
   "metadata": {},
   "source": [
    "**SciPy** - A library used for scientific computation. It has a comprehensive stats library which we will use in this course."
   ]
  },
  {
   "cell_type": "markdown",
   "metadata": {},
   "source": [
    "**scikit-learn** - A library used to make machine learning models such as linear regression, logistic regression, and neural networks."
   ]
  },
  {
   "cell_type": "markdown",
   "metadata": {},
   "source": [
    "These libraries are closely related and there is some overlap with their functions. For example, you are able to generate plots using pandas."
   ]
  },
  {
   "cell_type": "markdown",
   "metadata": {},
   "source": [
    "# A Deeper Dive into Pandas"
   ]
  },
  {
   "cell_type": "markdown",
   "metadata": {},
   "source": [
    "## Processing our Input"
   ]
  },
  {
   "cell_type": "markdown",
   "metadata": {},
   "source": [
    "We explored some functions at the end of the last notebook related to getting snapshots of our data. I want to call attention to two of these functions: $\\text{describe}$ and $\\text{dtype}$."
   ]
  },
  {
   "cell_type": "code",
   "execution_count": null,
   "metadata": {},
   "outputs": [],
   "source": [
    "grocery_data.describe()"
   ]
  },
  {
   "cell_type": "code",
   "execution_count": null,
   "metadata": {},
   "outputs": [],
   "source": [
    "grocery_data.dtypes"
   ]
  },
  {
   "cell_type": "markdown",
   "metadata": {},
   "source": [
    "If we look at the $\\text{describe}$ output, we will notice that Grocery_Bill and Family_Income were not included. The $\\text{dtypes}$ output tells us why: Pandas thinks these are 'objects' and not 'integers' ($\\text{int64}$ is short for 64-bit integer). This is because our data had a dollar sign infront of it; this must be resolved if we want to do any calculations with these values. The below code performs the required conversion."
   ]
  },
  {
   "cell_type": "code",
   "execution_count": null,
   "metadata": {},
   "outputs": [],
   "source": [
    "#First declare a function that removes a dollar sign from a string.\n",
    "def remove_dollar_sign(s):\n",
    "    '''\n",
    "    The Python String replace function can be used to replace any\n",
    "    instances of a substring in a string with another substring.\n",
    "    In this case, we are replacing \"$\" with \"\" (an empty string);\n",
    "    this effectively gets rid of any dollar signs in your string.\n",
    "    '''\n",
    "    return s.replace(\"$\",\"\")\n",
    "\n",
    "'''\n",
    "Now we must apply this function to each value in the 'Grocery_Bill'\n",
    "column. We can index the column of interest like so:\n",
    "'''\n",
    "grocery_data['Grocery_Bill'].head()"
   ]
  },
  {
   "cell_type": "code",
   "execution_count": null,
   "metadata": {},
   "outputs": [],
   "source": [
    "'''\n",
    "Now, to apply a function to all entries in this column, we must\n",
    "use the pandas map function.\n",
    "'''\n",
    "grocery_data['Grocery_Bill'] = grocery_data['Grocery_Bill'].map(\n",
    "    remove_dollar_sign)"
   ]
  },
  {
   "cell_type": "code",
   "execution_count": null,
   "metadata": {},
   "outputs": [],
   "source": [
    "'''\n",
    "Although our columns values are now in the proper format, pandas still \n",
    "thinks that this column is filled with strings. We must explicitly tell\n",
    "pandas that this column is filled with floats (decimal numbers). We do\n",
    "this with the 'astype' function.\n",
    "'''\n",
    "grocery_data['Grocery_Bill'] = grocery_data['Grocery_Bill'].astype(\n",
    "    'float64')"
   ]
  },
  {
   "cell_type": "code",
   "execution_count": null,
   "metadata": {},
   "outputs": [],
   "source": [
    "'''\n",
    "Family_Income contains a leading dollar sign as well as commas. We must\n",
    "write an additional function to remove the commas. We can reuse the general\n",
    "format from the dollar sign.\n",
    "'''\n",
    "def remove_comma(s):\n",
    "    return s.replace(\",\",\"\")\n",
    "\n",
    "'''\n",
    "Map the functions in the exact same way as in the 'Grocery_Bill' example. Note\n",
    "that we can 'double map' by appending another map function. We then append \n",
    "'astype' and encode the values as integers. Encoding as float64 is also\n",
    "acceptable.\n",
    "'''\n",
    "grocery_data['Family_Income'] = grocery_data['Family_Income'].map(\n",
    "    remove_dollar_sign).map(remove_comma).astype('int64')"
   ]
  },
  {
   "cell_type": "code",
   "execution_count": null,
   "metadata": {},
   "outputs": [],
   "source": [
    "'''\n",
    "All data is now in a workable dtype and we will be able to perform \n",
    "operations on all the data.\n",
    "'''\n",
    "grocery_data.dtypes"
   ]
  },
  {
   "cell_type": "markdown",
   "metadata": {},
   "source": [
    "## Filtering Data"
   ]
  },
  {
   "cell_type": "markdown",
   "metadata": {},
   "source": [
    "Pandas has several useful tools for working with data – filtering, sorting, selecting, modifying, summarizing, and sampling."
   ]
  },
  {
   "cell_type": "markdown",
   "metadata": {},
   "source": [
    "*Filtering* allows you to select certain *rows* of data (i.e., observations). In this dataset, perhaps you are interested in only a subset of observations – let’s say those with no cars, and no kids. I find that the simplest way to filter in Pandas is to index columns directly. This is best explained through an example. Note, that I used the $\\text{head()}$ function to surpress the output to 5 rows; unless otherwise stated, that is its sole purpose. "
   ]
  },
  {
   "cell_type": "code",
   "execution_count": null,
   "metadata": {},
   "outputs": [],
   "source": [
    "'''\n",
    "The following code gives a data series where the\n",
    "value is true in all the corresponding rows where \n",
    "N_Children = 0. I used the head() function to \n",
    "suppress the output to 5 rows. Unless otherwise\n",
    "stated\n",
    "'''\n",
    "(grocery_data['N_Children'] == 0).head()"
   ]
  },
  {
   "cell_type": "code",
   "execution_count": null,
   "metadata": {
    "scrolled": true
   },
   "outputs": [],
   "source": [
    "#Applying the above condition as a filter is done like so\n",
    "\n",
    "grocery_data[(grocery_data['N_Children'] == 0)].head()"
   ]
  },
  {
   "cell_type": "markdown",
   "metadata": {},
   "source": [
    "If we wish to combine multiple conditions, like mentioned above, a boolean 'AND' operator must be used. Our two conditions are $\\text{N_Children} = 0$ and $\\text{N_Vehicles} = 0$."
   ]
  },
  {
   "cell_type": "code",
   "execution_count": null,
   "metadata": {},
   "outputs": [],
   "source": [
    "filtered_grocery_data = grocery_data[\n",
    "    (grocery_data['N_Children'] == 0) & (grocery_data[\n",
    "        'N_Vehicles'] == 0)]\n",
    "\n",
    "filtered_grocery_data.head()"
   ]
  },
  {
   "cell_type": "markdown",
   "metadata": {},
   "source": [
    "## Sorting"
   ]
  },
  {
   "cell_type": "markdown",
   "metadata": {},
   "source": [
    "You can also use $\\text{sort_values}$ on the dataframe and present it in a new order. You can sort by as many columns as you’d like. I often think of this as being very similar to Excel’s sort function. In this case, let’s sort Grocery Data to be descending by Grocery_Bill. Print the first 10 rows and observe the order (Hint: you can tell the head command how many rows to print)."
   ]
  },
  {
   "cell_type": "code",
   "execution_count": null,
   "metadata": {},
   "outputs": [],
   "source": [
    "arranged_grocery_data = grocery_data.sort_values(\n",
    "    'Grocery_Bill', ascending=False)\n",
    "\n",
    "arranged_grocery_data.head()"
   ]
  },
  {
   "cell_type": "markdown",
   "metadata": {},
   "source": [
    "## Selecting and Slicing"
   ]
  },
  {
   "cell_type": "markdown",
   "metadata": {},
   "source": [
    "Select is used to select certain columns of data (i.e., variables). It works much the same way as Arrange. In this case, let’s select for only grocery bill, family size and family income. You’ll notice we get all the rows (observations) but only the columns we selected. We index the dataframe like so:"
   ]
  },
  {
   "cell_type": "code",
   "execution_count": null,
   "metadata": {},
   "outputs": [],
   "source": [
    "selected_grocery_data = grocery_data[\n",
    "    ['Grocery_Bill','Family_Income','Family_Size']]\n",
    "selected_grocery_data.head()"
   ]
  },
  {
   "cell_type": "markdown",
   "metadata": {},
   "source": [
    "## More with Pandas"
   ]
  },
  {
   "cell_type": "markdown",
   "metadata": {},
   "source": [
    "1) Add a new column that contains the percentage of income spent on each grocery purchase. Hint: dataframe.assign will be useful.\n",
    "\n",
    "2) Create a new dataframe named my_test_frame that is a 30% random sample of the original file. \n",
    "\n",
    "3) Summarize the average distance to store\n",
    "\n",
    "\n",
    "**Next, spend some time with the pandas documentation and the current data set:**\n",
    "\n",
    "The Application Programming Interface (API) can be found here: https://pandas.pydata.org/pandas-docs/stable/reference/index.html\n",
    "\n",
    "Do not be discouraged by the volume of functions that exist in this library; the best developers Google basics almost daily so don't worry if you are relying heavily on the reference!"
   ]
  },
  {
   "cell_type": "markdown",
   "metadata": {},
   "source": [
    "## More with Pandas - Solutions "
   ]
  },
  {
   "cell_type": "markdown",
   "metadata": {},
   "source": [
    "### Question 1"
   ]
  },
  {
   "cell_type": "code",
   "execution_count": null,
   "metadata": {},
   "outputs": [],
   "source": [
    "'''\n",
    "Using the assign function, we pass an argument containing the new column name\n",
    "(note it is not defined as a string) and set it equal to the approprate indexed\n",
    "columns divided by each other.\n",
    "'''\n",
    "grocery_data = grocery_data.assign(\n",
    "    Percentage_Income = grocery_data['Grocery_Bill'] \n",
    "    / grocery_data['Family_Income'])\n",
    "\n",
    "grocery_data[['Grocery_Bill','Family_Income','Percentage_Income']].head()"
   ]
  },
  {
   "cell_type": "markdown",
   "metadata": {},
   "source": [
    "Find out more about the assign function here:\n",
    "\n",
    "https://pandas.pydata.org/pandas-docs/stable/reference/api/pandas.DataFrame.assign.html"
   ]
  },
  {
   "cell_type": "markdown",
   "metadata": {},
   "source": [
    "### Question 2"
   ]
  },
  {
   "cell_type": "code",
   "execution_count": null,
   "metadata": {},
   "outputs": [],
   "source": [
    "'''\n",
    "This question can be done with the Pandas 'sample' function using the frac\n",
    "argument to dictate the proportion you want to keep. We then call the shape\n",
    "property on the old and new dataframe to see if the new one is indeed 30% of\n",
    "the size\n",
    "'''\n",
    "\n",
    "my_test_frame = grocery_data.sample(frac = 0.3)\n",
    "my_test_frame.shape[0]/grocery_data.shape[0]"
   ]
  },
  {
   "cell_type": "markdown",
   "metadata": {},
   "source": [
    "Find out more about the sample and shape functions at the below links, respectively:\n",
    "\n",
    "https://pandas.pydata.org/pandas-docs/stable/reference/api/pandas.DataFrame.sample.html\n",
    "\n",
    "https://pandas.pydata.org/pandas-docs/stable/reference/api/pandas.DataFrame.shape.html"
   ]
  },
  {
   "cell_type": "markdown",
   "metadata": {},
   "source": [
    "### Question 3 "
   ]
  },
  {
   "cell_type": "code",
   "execution_count": null,
   "metadata": {},
   "outputs": [],
   "source": [
    "'''\n",
    "This question can be done by calling the mean function on the Distance_to_Store\n",
    "data series.\n",
    "'''\n",
    "grocery_data['Distance_to_Store'].mean()"
   ]
  },
  {
   "cell_type": "markdown",
   "metadata": {},
   "source": [
    "Find out more about the mean function here:\n",
    "\n",
    "https://pandas.pydata.org/pandas-docs/stable/reference/api/pandas.Series.mean.html"
   ]
  },
  {
   "cell_type": "markdown",
   "metadata": {},
   "source": [
    "# MatPlotLib"
   ]
  },
  {
   "cell_type": "markdown",
   "metadata": {},
   "source": [
    "MatPlotLib is a Python library used to produce graphs and other data visualizations. In general, a function takes a minimum two arguments: the x axis data, the y axis data. There are also several other optional arguments that dictate how the chart will look. Check out this link for the documentation for the matplotlib scatterplot function:\n",
    "\n",
    "https://matplotlib.org/3.1.1/api/_as_gen/matplotlib.pyplot.scatter.html"
   ]
  },
  {
   "cell_type": "markdown",
   "metadata": {},
   "source": [
    "Let’s say we are interested in discovering the relationship between grocery spend and family income. How would you represent the data? Try coding it in Python to look like the plot below. What do you notice about the plot? How would you describe the data?"
   ]
  },
  {
   "attachments": {
    "untitled.png": {
     "image/png": "[encoded data removed]"
    }
   },
   "cell_type": "markdown",
   "metadata": {},
   "source": [
    "![untitled.png](attachment:untitled.png)"
   ]
  },
  {
   "cell_type": "markdown",
   "metadata": {},
   "source": [
    "Scroll down when you are ready to see the solution."
   ]
  },
  {
   "cell_type": "code",
   "execution_count": null,
   "metadata": {},
   "outputs": [],
   "source": [
    "import matplotlib.pyplot as plt\n",
    "\n",
    "'''\n",
    "The x and y data that are applied in the scatter\n",
    "function are indexed straight from the pandas \n",
    "Dataframe. Additionally, 's' modifies the point\n",
    "size and 'c' modifies the point colour.\n",
    "'''\n",
    "plt.scatter(grocery_data['Grocery_Bill'],\n",
    "    grocery_data['Family_Income'],s=2,c='black')\n",
    "\n",
    "plt.show()"
   ]
  },
  {
   "cell_type": "markdown",
   "metadata": {},
   "source": [
    "We can make this plot 'fancier' by applying additional properties. Run the below code and spend some time to figure out how it works and what line does what."
   ]
  },
  {
   "cell_type": "code",
   "execution_count": null,
   "metadata": {},
   "outputs": [],
   "source": [
    "fig = plt.figure()\n",
    "scatter = plt.scatter(\n",
    "    grocery_data['Grocery_Bill'],grocery_data['Family_Income'],\n",
    "    s=1,c=grocery_data['Family_Size'])\n",
    "fig.suptitle('Grocery Bill vs. Family Income')\n",
    "plt.ylabel(\"Family Income\")\n",
    "plt.xlabel(\"Grocery Bill\")\n",
    "#plt.xlim(0,600)\n",
    "#plt.ylim(0,180000)\n",
    "cbar = plt.colorbar(scatter)\n",
    "cbar.ax.set_ylabel('Number of Children')\n",
    "plt.show()"
   ]
  },
  {
   "cell_type": "markdown",
   "metadata": {},
   "source": [
    "Hint: If this code isn’t working and you get an error, make sure you have run all the code earlier in the cheat sheet – it’s likely the case that the Grocery Bill and Family Income variables are still ‘objects’. \n",
    "\n",
    "**Also, take a look at some of the awesome visualizations other people make. Many of these are beyond the scope of this course, but are cool.**\n",
    "\n",
    "https://matplotlib.org/gallery/index.html"
   ]
  },
  {
   "cell_type": "markdown",
   "metadata": {},
   "source": [
    "# Tidying Data - Long and Wide Data Formats "
   ]
  },
  {
   "cell_type": "markdown",
   "metadata": {},
   "source": [
    "Pandas has two functions for tidying data you should be aware of - $\\text{pivot()}$ and $\\text{melt()}$. Both make it easy to create a tidy data set. That is, a dataset that is long and not wide, with all columns representing variables and all rows containing observations.\n",
    "\n",
    "The Grocery Store data set is already tidy, so for this we will need to use a different example. It is easy to create some data using NumPy. In this case, let’s create a dataset with 10 observations of 3 stocks."
   ]
  },
  {
   "cell_type": "code",
   "execution_count": null,
   "metadata": {},
   "outputs": [],
   "source": [
    "#First we import numpy and assign it to np\n",
    "import numpy as np\n",
    "\n",
    "'''\n",
    "Assign variable to desired dataset size; \n",
    "in all cases this dictates the size of the\n",
    "arrays produced\n",
    "'''\n",
    "data_size = 5\n",
    "\n",
    "#We generate a series column of dates that are one day apart\n",
    "dti = pd.date_range('2018-01-01',periods=data_size, freq = 'd')\n",
    "\n",
    "#Generate 3 numpy arrays with normally distributed numbers\n",
    "#S1: mean of 50, std dev of 10\n",
    "S1 = np.random.normal(size=data_size,loc=50,scale=10)\n",
    "S2 = np.random.normal(size=data_size,loc=10,scale=0.5)\n",
    "S3 = np.random.normal(size=data_size,loc=1,scale=1)"
   ]
  },
  {
   "cell_type": "code",
   "execution_count": null,
   "metadata": {},
   "outputs": [],
   "source": [
    "#Create a dataframe explicitly using the dataframe function\n",
    "stocks_data = pd.DataFrame({'Date':dti,'Stock 1': S1,\n",
    "              'Stock 2': S2,'Stock 3': S3})\n",
    "stocks_data"
   ]
  },
  {
   "cell_type": "markdown",
   "metadata": {},
   "source": [
    "Using the melt function, change the structure of the dataset to have each row contain only one specific stock. Then, use the pivot function to bring it back to the original structure. The structure of the code is below:"
   ]
  },
  {
   "cell_type": "markdown",
   "metadata": {},
   "source": [
    "You can find the documentation for the two functions at the following links:\n",
    "\n",
    "https://pandas.pydata.org/pandas-docs/stable/reference/api/pandas.DataFrame.melt.html\n",
    "\n",
    "https://pandas.pydata.org/pandas-docs/stable/reference/api/pandas.DataFrame.pivot.html"
   ]
  },
  {
   "cell_type": "code",
   "execution_count": null,
   "metadata": {},
   "outputs": [],
   "source": [
    "'''\n",
    "We put the sheet in the long format by applying the\n",
    "melt function and keeping the date variable.\n",
    "'''\n",
    "long = pd.melt(stocks_data,id_vars='Date')\n",
    "long.head()"
   ]
  },
  {
   "cell_type": "code",
   "execution_count": null,
   "metadata": {},
   "outputs": [],
   "source": [
    "'''\n",
    "The pivot function reverts the data into a wide format. We\n",
    "specify that the columns are dictated by the values under\n",
    "the column \"variable\" in the 'long' dataframe and that the\n",
    "values for each variable are stored under the column called\n",
    "'values'.\n",
    "'''\n",
    "long.pivot(index='Date',columns='variable',values='value')"
   ]
  },
  {
   "cell_type": "markdown",
   "metadata": {},
   "source": [
    "# String Manipulation"
   ]
  },
  {
   "cell_type": "markdown",
   "metadata": {},
   "source": [
    "For dealing with whitespace and occasional strange characters in strings, Python has many built-in useful functions. Often, I find that exported data contains leading spaces or 0s, especially as it relates to customer numbers.\n",
    "\n",
    "For example, Queen’s increased the length of employee/student IDs by one digit – this means that all old IDs will have a leading 0. If you import these IDs as a number, the leading 0 will be dropped. Another example would be strings or numbers with a leading space. Observations with a leading space makes it very difficult to join and even more difficult to use any numerical functions. "
   ]
  },
  {
   "cell_type": "markdown",
   "metadata": {},
   "source": [
    "## Trim Operations"
   ]
  },
  {
   "cell_type": "code",
   "execution_count": null,
   "metadata": {},
   "outputs": [],
   "source": [
    "'''\n",
    "The function strip will remove all leading\n",
    "and trailing whitespace in a string.\n",
    "'''\n",
    "string = \"    hello   \"\n",
    "print(\"Before:\",string,\"<end>\")\n",
    "print(\"After:\",string.strip(),\"<end>\")"
   ]
  },
  {
   "cell_type": "code",
   "execution_count": null,
   "metadata": {},
   "outputs": [],
   "source": [
    "'''\n",
    "Additionally, lstrip and rstrip will remove\n",
    "only leading or only trailing white space \n",
    "respectively.\n",
    "'''\n",
    "\n",
    "print(\"Before:\", string,\"<end>\")\n",
    "print(\"lstrip:\", string.lstrip(),\"<end>\")\n",
    "print(\"rstrip:\", string.rstrip(),\"<end>\")"
   ]
  },
  {
   "cell_type": "markdown",
   "metadata": {},
   "source": [
    "## Padding Operations "
   ]
  },
  {
   "cell_type": "code",
   "execution_count": null,
   "metadata": {},
   "outputs": [],
   "source": [
    "'''\n",
    "The functions ljust and rjust can be used to\n",
    "fill the left and right side of the string with\n",
    "some character.\n",
    "'''\n",
    "\n",
    "string = 'padleft'\n",
    "\n",
    "#The first argument is the length of the resulting string\n",
    "#The second argument is the character to be padded\n",
    "print(string.ljust(10,'0'))"
   ]
  },
  {
   "cell_type": "markdown",
   "metadata": {},
   "source": [
    "Try writing your own code using $\\text{rjust()}$ as it takes very similar arguments. You can start by substituting 'ljust' for 'rjust' in the code above. You can also find additional information on string manipulation in Python here:\n",
    "\n",
    "https://docs.python.org/3/library/stdtypes.html"
   ]
  },
  {
   "cell_type": "markdown",
   "metadata": {},
   "source": [
    "# Handling Dates"
   ]
  },
  {
   "cell_type": "markdown",
   "metadata": {},
   "source": [
    "Dates are a tricky data type to work with. Incorporate time and it becomes even more complex. Different tools store time in different formats, or in different DMY orders. Some countries have different time formats. Either of these differences can make time data very difficult to use. Pandas can read a variety of time data and manipulate it into a single format.The function $\\text{to_datetime()}$ is useful for converting these to Pandas Dates. By setting the two parameters 'dayfirst' and 'yearfirst' to the appropriate value, you can parse different date formats. Note how the below outputs are all the same."
   ]
  },
  {
   "cell_type": "code",
   "execution_count": null,
   "metadata": {},
   "outputs": [],
   "source": [
    "pd.to_datetime('05/11/2018')"
   ]
  },
  {
   "cell_type": "code",
   "execution_count": null,
   "metadata": {},
   "outputs": [],
   "source": [
    "pd.to_datetime('11/05/2018',dayfirst=True)"
   ]
  },
  {
   "cell_type": "code",
   "execution_count": null,
   "metadata": {},
   "outputs": [],
   "source": [
    "pd.to_datetime('2018/05/11',yearfirst=True)"
   ]
  },
  {
   "cell_type": "markdown",
   "metadata": {},
   "source": [
    "See the following link for documentation on the function:\n",
    "\n",
    "https://pandas.pydata.org/pandas-docs/stable/reference/api/pandas.to_datetime.html"
   ]
  }
 ],
 "metadata": {
  "kernelspec": {
   "display_name": "Python 3",
   "language": "python",
   "name": "python3"
  },
  "language_info": {
   "codemirror_mode": {
    "name": "ipython",
    "version": 3
   },
   "file_extension": ".py",
   "mimetype": "text/x-python",
   "name": "python",
   "nbconvert_exporter": "python",
   "pygments_lexer": "ipython3",
   "version": "3.7.4"
  }
 },
 "nbformat": 4,
 "nbformat_minor": 2
}
