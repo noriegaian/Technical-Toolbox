{
 "cells": [
  {
   "cell_type": "markdown",
   "metadata": {},
   "source": [
    "Our activities in 860 will focus around data manipulation, visualizations, and analysis in Python. We will be using the Anaconda Distribution. This particular file is written in what is called Jupyter Notebook. It is a neat tool due to its ability to have both cells for Python code and for text."
   ]
  },
  {
   "cell_type": "markdown",
   "metadata": {},
   "source": [
    "# A Taste of Python"
   ]
  },
  {
   "cell_type": "markdown",
   "metadata": {},
   "source": [
    "Python is a dynamic, object-oriented programming language which has gained significant popularity in the world of data analysis due to its vast collection of libraries and relatively easy syntax. This is not a programming course so you need not be an expert on Python but it is important to understand a few concepts.\n",
    "\n",
    "You can run the code in each code box by selecting it and pressing **Shift+Enter**. If you double click this cell, you can edit the text in it. Try it!"
   ]
  },
  {
   "cell_type": "markdown",
   "metadata": {},
   "source": [
    "## Leaving Comments "
   ]
  },
  {
   "cell_type": "code",
   "execution_count": 1,
   "metadata": {},
   "outputs": [
    {
     "data": {
      "text/plain": [
       "'Hello World'"
      ]
     },
     "execution_count": 1,
     "metadata": {},
     "output_type": "execute_result"
    }
   ],
   "source": [
    "'''\n",
    "This text is commented out, meaning that Python will\n",
    "not attempt to read it. This feature should be used by the \n",
    "programmer to leave notes and document the code they are\n",
    "writing. Text is commented out by putting three apostrophes\n",
    "before and after it.\n",
    "'''\n",
    "\n",
    "#This is an alternative way to leave comments in Python.\n",
    "#Simply precede the text with a hashtag or \"number-sign\".\n",
    "#Note, this method only works for one line.\n",
    "\n",
    "#Only this line will be executed.\n",
    "\"Hello World\""
   ]
  },
  {
   "cell_type": "markdown",
   "metadata": {},
   "source": [
    "## Printing Values to the Console"
   ]
  },
  {
   "cell_type": "markdown",
   "metadata": {},
   "source": [
    "Jupyter has the nice feature that it returns the result of the last line of code entered by the user (if it is not assigned to a variable). But if we wish to produce multiple outputs we need the print statement."
   ]
  },
  {
   "cell_type": "code",
   "execution_count": 4,
   "metadata": {},
   "outputs": [
    {
     "name": "stdout",
     "output_type": "stream",
     "text": [
      "Hello World\n",
      "MMA 860 is a great course!\n",
      "Go Queen's Go!\n",
      "My Name is Ian\n"
     ]
    }
   ],
   "source": [
    "print(\"Hello World\")\n",
    "print(\"MMA 860 is a great course!\")\n",
    "\n",
    "#Alternatively, we can set our message equal to a variable and print the variable\n",
    "my_message = \"Go Queen's Go!\"\n",
    "print(my_message)\n",
    "\n",
    "#Added in on my own\n",
    "my_message2 = \"My Name is Ian\"\n",
    "print(my_message2)"
   ]
  },
  {
   "cell_type": "markdown",
   "metadata": {},
   "source": [
    "There are a few restrictions on variable names in Python, you can find an effective reference here:\n",
    "\n"
   ]
  },
  {
   "cell_type": "markdown",
   "metadata": {},
   "source": [
    "## Strings "
   ]
  },
  {
   "cell_type": "markdown",
   "metadata": {},
   "source": [
    "We will spend more time on string manipulation in a later cheat sheet."
   ]
  },
  {
   "cell_type": "markdown",
   "metadata": {},
   "source": [
    "## Numerical inputs and Calculation"
   ]
  },
  {
   "cell_type": "markdown",
   "metadata": {},
   "source": [
    "Python can actually be used outright as a calculator."
   ]
  },
  {
   "cell_type": "code",
   "execution_count": null,
   "metadata": {},
   "outputs": [],
   "source": [
    "# Addition\n",
    "print(4+3)\n",
    "\n",
    "#Subtraction\n",
    "print(3-1)\n",
    "\n",
    "#Multiplication\n",
    "print(7*2)\n",
    "\n",
    "#Division\n",
    "print(15/2)\n",
    "\n",
    "#Exponential (2 to the power of 3)\n",
    "print(2**3)"
   ]
  },
  {
   "cell_type": "code",
   "execution_count": null,
   "metadata": {},
   "outputs": [],
   "source": [
    "#You can set variables with numbers just like you could with strings\n",
    "chocolate = 4\n",
    "cookie = 7\n",
    "\n",
    "choc_chip = chocolate*cookie\n",
    "print(choc_chip)"
   ]
  },
  {
   "cell_type": "markdown",
   "metadata": {},
   "source": [
    "## Libraries"
   ]
  },
  {
   "cell_type": "markdown",
   "metadata": {},
   "source": [
    "A big benefit of the Anaconda Distribution is the vast collection of libraries it possesses. For this course, the libraries contained within Anaconda will be sufficient. Libraries allow us to accomplish complex tasks without actually understanding their implementations. Let's see how we can import them."
   ]
  },
  {
   "cell_type": "code",
   "execution_count": 6,
   "metadata": {},
   "outputs": [],
   "source": [
    "# Here, we will import the math library\n",
    "import math"
   ]
  },
  {
   "cell_type": "markdown",
   "metadata": {},
   "source": [
    "Yes it is that simple! Now we can call functions and get variables from the math function! Let's use the sine function as an example."
   ]
  },
  {
   "cell_type": "code",
   "execution_count": 7,
   "metadata": {},
   "outputs": [
    {
     "data": {
      "text/plain": [
       "0.8414709848078965"
      ]
     },
     "execution_count": 7,
     "metadata": {},
     "output_type": "execute_result"
    }
   ],
   "source": [
    "# Note we must put math in front of sin to run it\n",
    "math.sin(1)"
   ]
  },
  {
   "cell_type": "markdown",
   "metadata": {},
   "source": [
    "Some libraries, such as the 'os' library, which let's us interact with our Operating System, are very big. They are, as a result broken down into sub-libraries. In these cases, it is best to only import the part of the library that you need as it will lead to quicker execution and smaller memory usage."
   ]
  },
  {
   "cell_type": "code",
   "execution_count": 9,
   "metadata": {},
   "outputs": [
    {
     "name": "stdout",
     "output_type": "stream",
     "text": [
      ".\\Data\n"
     ]
    }
   ],
   "source": [
    "'''\n",
    "Here, I will import the path sub-library from os and shortcut \n",
    "it as osp so i don't need to retype the full name\n",
    "'''\n",
    "import os.path as osp\n",
    "\n",
    "'''\n",
    "This generates a valid file path for a folder named 'Data'\n",
    "that is in the same folder as this notebook. We will be using\n",
    "these functions heavily.\n",
    "'''\n",
    "print(osp.join(osp.curdir,'Data'))"
   ]
  },
  {
   "cell_type": "markdown",
   "metadata": {},
   "source": [
    "# Installing Python Packages with PIP"
   ]
  },
  {
   "cell_type": "markdown",
   "metadata": {},
   "source": [
    "One of Python's biggest advantages is the wide array of libraries and packages that are online. A significant portion of these are open sourced and can be downloaded for free. You can use PIP to download many of these.  PIP is a package manager for Python. It is used to downloading packages so you can import them into Python code."
   ]
  },
  {
   "cell_type": "markdown",
   "metadata": {},
   "source": [
    "In order to download a package, you need to open the command line (Command Prompt for Windows or Terminal for Mac) and type $\\text{pip install <package-name>}$. The following is a command prompt example:"
   ]
  },
  {
   "attachments": {
    "Pip%20Install.png": {
     "image/png": "[encoded data removed]"
    }
   },
   "cell_type": "markdown",
   "metadata": {},
   "source": [
    "![Pip%20Install.png](attachment:Pip%20Install.png)"
   ]
  },
  {
   "cell_type": "markdown",
   "metadata": {},
   "source": [
    "Find more about pip at this link:\n",
    "\n",
    "https://www.w3schools.com/python/python_pip.asp"
   ]
  },
  {
   "cell_type": "code",
   "execution_count": 10,
   "metadata": {},
   "outputs": [
    {
     "ename": "SyntaxError",
     "evalue": "invalid syntax (<ipython-input-10-14f3c293a9ff>, line 1)",
     "output_type": "error",
     "traceback": [
      "\u001b[1;36m  File \u001b[1;32m\"<ipython-input-10-14f3c293a9ff>\"\u001b[1;36m, line \u001b[1;32m1\u001b[0m\n\u001b[1;33m    isntall camelcase\u001b[0m\n\u001b[1;37m                    ^\u001b[0m\n\u001b[1;31mSyntaxError\u001b[0m\u001b[1;31m:\u001b[0m invalid syntax\n"
     ]
    }
   ],
   "source": []
  },
  {
   "cell_type": "code",
   "execution_count": null,
   "metadata": {},
   "outputs": [],
   "source": [
    "C:\\Users\\Your Name\\AppData\\Local\\Programs\\Python\\Python36-32\\Scripts>pip --version"
   ]
  }
 ],
 "metadata": {
  "kernelspec": {
   "display_name": "Python 3",
   "language": "python",
   "name": "python3"
  },
  "language_info": {
   "codemirror_mode": {
    "name": "ipython",
    "version": 3
   },
   "file_extension": ".py",
   "mimetype": "text/x-python",
   "name": "python",
   "nbconvert_exporter": "python",
   "pygments_lexer": "ipython3",
   "version": "3.7.4"
  }
 },
 "nbformat": 4,
 "nbformat_minor": 2
}
