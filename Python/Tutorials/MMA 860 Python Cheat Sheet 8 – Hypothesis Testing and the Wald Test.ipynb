{
 "cells": [
  {
   "cell_type": "markdown",
   "metadata": {},
   "source": [
    "Hypothesis testing is one of the most common applications in statistical analysis.  We construct hypotheses in attempt to provide evidence in order to justify an action or change a belief.  We do this by forming an opinion we are prepared to believe in the absence of data and attempt to find evidence that would support changing that opinion.  \n",
    "\n",
    "For example, we might consider launching a new product, but we would only do so if there were sufficient demand.  We would assume there was not sufficient demand and then look for evidence that there was.  If we found sufficient evidence, we would conclude that it was worth launching the new product; if we did not, we would conclude that there was not sufficient evidence to justify launching the new product.  \n",
    "\n",
    "**Hypothesis tests can be simple or complicated; they can have multiple simultaneous components.  Python makes it simple to run either type!**"
   ]
  },
  {
   "cell_type": "markdown",
   "metadata": {},
   "source": [
    "# Import data and run regression\n",
    "\n",
    "The data can be found in the structural change data tab in the Cheat_Sheet_Hypothesis_Testing_V1_0 spreadsheet."
   ]
  },
  {
   "cell_type": "code",
   "execution_count": null,
   "metadata": {},
   "outputs": [],
   "source": [
    "#Import the required libraries\n",
    "import pandas as pd\n",
    "import os.path as osp\n",
    "import statsmodels.api as sm\n",
    "from statsmodels.formula.api import ols\n",
    "\n",
    "#Build the path for the data file\n",
    "data_path = osp.join(\n",
    "    osp.curdir,'Data','Cheat_Sheet_Hypothesis_Testing_V1_0.xlsx')\n",
    "\n",
    "#Use the read_excel function to pull data from the Hypothesis Testing Sheet\n",
    "data = pd.read_excel(\n",
    "    data_path,sheet_name=0,index_col='Obs')\n",
    "\n",
    "#Build our model using statsmodels\n",
    "model = ols('Y ~ X1 + X2 + X3 + X4 + X5',data).fit()\n",
    "model.summary()"
   ]
  },
  {
   "cell_type": "markdown",
   "metadata": {},
   "source": [
    "# Performing Hypothesis Testing using the Wald Test"
   ]
  },
  {
   "cell_type": "markdown",
   "metadata": {},
   "source": [
    "Using the following arguments, we will test and see whether $X_1$, $X_2$, and $X_3$ have a coefficient of zero in front of them. In other words, we are testing the correllation."
   ]
  },
  {
   "cell_type": "code",
   "execution_count": null,
   "metadata": {},
   "outputs": [],
   "source": [
    "'''\n",
    "We put our null hypothesis in the following string format. Here we are going\n",
    "to test whether X1, X2, and X3 have a 0 coefficient in front of them.\n",
    "'''\n",
    "hypothesis = '(X1=0,X2=0,X3=0)'"
   ]
  },
  {
   "cell_type": "code",
   "execution_count": null,
   "metadata": {},
   "outputs": [],
   "source": [
    "#Pass the hypothesis to the Wald_Test\n",
    "print(model.wald_test(hypothesis))"
   ]
  },
  {
   "cell_type": "markdown",
   "metadata": {},
   "source": [
    "The p-value above is what we are concerned with the most. You should have gotten a value of 8.27306050734528e-14 (the 'e' here means $\\times 10 \\text{ to the power of}$). For example, 8.27e-14 is $8.27\\times 10^{-14}$ (very small!). If our p-value is less than $0.05$, which it clearly is here, then we **reject the null hypothesis**. This tells us that there is, to great confidence, some correllation between the three parameters and our $Y$ value. Let's try another example where we test the correllation of just $X_1$ and $X_5$."
   ]
  },
  {
   "cell_type": "code",
   "execution_count": null,
   "metadata": {},
   "outputs": [],
   "source": [
    "hypothesis_2 = '(X1=0,X5=0)'\n",
    "print(model.wald_test(hypothesis_2))"
   ]
  },
  {
   "cell_type": "markdown",
   "metadata": {},
   "source": [
    "Here, our p-value is much higher, about $0.09$. This p-value is not less than $0.05$, so in this case, we **do not reject the null hypothesis**. Note, this does not mean that we have confirmed $X_1$ and $X_5$ are not correllated with our $Y$ value, we simply found that there is not enough evidence to suggest that they are."
   ]
  },
  {
   "cell_type": "markdown",
   "metadata": {},
   "source": [
    "# General Notes"
   ]
  },
  {
   "cell_type": "markdown",
   "metadata": {},
   "source": [
    "- All of these restrictions are tested simultaneously as part of the null hypothesis.\n",
    "- You can test many null hypotheses using the linearHypothesis command.\n",
    "- There are other tests (for heteroskedasticity, specification error, etc.) that cannot be tested using this approach."
   ]
  }
 ],
 "metadata": {
  "kernelspec": {
   "display_name": "Python 3",
   "language": "python",
   "name": "python3"
  },
  "language_info": {
   "codemirror_mode": {
    "name": "ipython",
    "version": 3
   },
   "file_extension": ".py",
   "mimetype": "text/x-python",
   "name": "python",
   "nbconvert_exporter": "python",
   "pygments_lexer": "ipython3",
   "version": "3.7.4"
  }
 },
 "nbformat": 4,
 "nbformat_minor": 2
}
