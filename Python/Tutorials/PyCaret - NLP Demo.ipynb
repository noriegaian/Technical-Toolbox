{
 "cells": [
  {
   "cell_type": "markdown",
   "metadata": {},
   "source": [
    "# Installation"
   ]
  },
  {
   "cell_type": "code",
   "execution_count": null,
   "metadata": {},
   "outputs": [],
   "source": [
    "# run this cell to install pycaret in Google Colab\n",
    "# !pip install pycaret"
   ]
  },
  {
   "cell_type": "code",
   "execution_count": null,
   "metadata": {},
   "outputs": [],
   "source": [
    "# If you are using Jupyter notebook, you can pip install pycaret using jupyter notebook or command line\n",
    "# pip install pycaret"
   ]
  },
  {
   "cell_type": "code",
   "execution_count": 1,
   "metadata": {},
   "outputs": [
    {
     "name": "stdout",
     "output_type": "stream",
     "text": [
      "1.0.0\n"
     ]
    }
   ],
   "source": [
    "from pycaret.utils import version\n",
    "version()"
   ]
  },
  {
   "cell_type": "code",
   "execution_count": null,
   "metadata": {},
   "outputs": [],
   "source": [
    "# only run this cell if you are using google colab\n",
    "# from pycaret.utils import enable_colab\n",
    "# enable_colab()"
   ]
  },
  {
   "cell_type": "markdown",
   "metadata": {},
   "source": [
    "# 1. Importing Dataset"
   ]
  },
  {
   "cell_type": "code",
   "execution_count": 2,
   "metadata": {},
   "outputs": [
    {
     "data": {
      "text/html": [
       "<div>\n",
       "<style scoped>\n",
       "    .dataframe tbody tr th:only-of-type {\n",
       "        vertical-align: middle;\n",
       "    }\n",
       "\n",
       "    .dataframe tbody tr th {\n",
       "        vertical-align: top;\n",
       "    }\n",
       "\n",
       "    .dataframe thead th {\n",
       "        text-align: right;\n",
       "    }\n",
       "</style>\n",
       "<table border=\"1\" class=\"dataframe\">\n",
       "  <thead>\n",
       "    <tr style=\"text-align: right;\">\n",
       "      <th></th>\n",
       "      <th>country</th>\n",
       "      <th>en</th>\n",
       "      <th>gender</th>\n",
       "      <th>loan_amount</th>\n",
       "      <th>nonpayment</th>\n",
       "      <th>sector</th>\n",
       "      <th>status</th>\n",
       "    </tr>\n",
       "  </thead>\n",
       "  <tbody>\n",
       "    <tr>\n",
       "      <th>0</th>\n",
       "      <td>Dominican Republic</td>\n",
       "      <td>\"Banco Esperanza\" is a group of 10 women looki...</td>\n",
       "      <td>F</td>\n",
       "      <td>1225</td>\n",
       "      <td>partner</td>\n",
       "      <td>Retail</td>\n",
       "      <td>0</td>\n",
       "    </tr>\n",
       "    <tr>\n",
       "      <th>1</th>\n",
       "      <td>Dominican Republic</td>\n",
       "      <td>\"Caminemos Hacia Adelante\" or \"Walking Forward...</td>\n",
       "      <td>F</td>\n",
       "      <td>1975</td>\n",
       "      <td>lender</td>\n",
       "      <td>Clothing</td>\n",
       "      <td>0</td>\n",
       "    </tr>\n",
       "    <tr>\n",
       "      <th>2</th>\n",
       "      <td>Dominican Republic</td>\n",
       "      <td>\"Creciendo Por La Union\" is a group of 10 peop...</td>\n",
       "      <td>F</td>\n",
       "      <td>2175</td>\n",
       "      <td>partner</td>\n",
       "      <td>Clothing</td>\n",
       "      <td>0</td>\n",
       "    </tr>\n",
       "    <tr>\n",
       "      <th>3</th>\n",
       "      <td>Dominican Republic</td>\n",
       "      <td>\"Cristo Vive\" (\"Christ lives\" is a group of 10...</td>\n",
       "      <td>F</td>\n",
       "      <td>1425</td>\n",
       "      <td>partner</td>\n",
       "      <td>Clothing</td>\n",
       "      <td>0</td>\n",
       "    </tr>\n",
       "    <tr>\n",
       "      <th>4</th>\n",
       "      <td>Dominican Republic</td>\n",
       "      <td>\"Cristo Vive\" is a large group of 35 people, 2...</td>\n",
       "      <td>F</td>\n",
       "      <td>4025</td>\n",
       "      <td>partner</td>\n",
       "      <td>Food</td>\n",
       "      <td>0</td>\n",
       "    </tr>\n",
       "  </tbody>\n",
       "</table>\n",
       "</div>"
      ],
      "text/plain": [
       "              country                                                 en  \\\n",
       "0  Dominican Republic  \"Banco Esperanza\" is a group of 10 women looki...   \n",
       "1  Dominican Republic  \"Caminemos Hacia Adelante\" or \"Walking Forward...   \n",
       "2  Dominican Republic  \"Creciendo Por La Union\" is a group of 10 peop...   \n",
       "3  Dominican Republic  \"Cristo Vive\" (\"Christ lives\" is a group of 10...   \n",
       "4  Dominican Republic  \"Cristo Vive\" is a large group of 35 people, 2...   \n",
       "\n",
       "  gender  loan_amount nonpayment    sector  status  \n",
       "0      F         1225    partner    Retail       0  \n",
       "1      F         1975     lender  Clothing       0  \n",
       "2      F         2175    partner  Clothing       0  \n",
       "3      F         1425    partner  Clothing       0  \n",
       "4      F         4025    partner      Food       0  "
      ]
     },
     "metadata": {},
     "output_type": "display_data"
    }
   ],
   "source": [
    "from pycaret.datasets import get_data\n",
    "data = get_data('kiva')"
   ]
  },
  {
   "cell_type": "code",
   "execution_count": 4,
   "metadata": {},
   "outputs": [
    {
     "data": {
      "text/plain": [
       "'\"Banco Esperanza\" is a group of 10 women looking to receive a small loan. Each of them has taken out a very small loan already, so this would be their second. With this loan the group is going to try and expand their small businesses and start generating more income. <P>\\r\\n\\r\\nEduviges is the group representative and leader of the group. Eduviges has a lot on the line because she has 6 children that she has to take care of. She told me that those children are the reason she wants to be successful. She wants to be able to provide a different life for them and show them that they can be successful as well. <P>\\r\\n\\r\\nEduviges has a very small business selling shoes and Avon products. She plans to expand using this loan and dreams of success. The whole group is ready for this new challenge and are on the road to bettering their lives. On behalf of Eduviges, the group, and Esperanza International--------- Thank you for your support!!!!'"
      ]
     },
     "execution_count": 4,
     "metadata": {},
     "output_type": "execute_result"
    }
   ],
   "source": [
    "data.en[0]"
   ]
  },
  {
   "cell_type": "code",
   "execution_count": 5,
   "metadata": {},
   "outputs": [],
   "source": [
    "data = data.head(1000)"
   ]
  },
  {
   "cell_type": "markdown",
   "metadata": {},
   "source": [
    "# 2. Setting up Environment"
   ]
  },
  {
   "cell_type": "code",
   "execution_count": 7,
   "metadata": {},
   "outputs": [
    {
     "data": {
      "text/html": [
       "<style  type=\"text/css\" >\n",
       "</style><table id=\"T_3821fbc2_962c_11ea_b64d_84fdd13f47d7\" ><thead>    <tr>        <th class=\"col_heading level0 col0\" >Description</th>        <th class=\"col_heading level0 col1\" >Value</th>    </tr></thead><tbody>\n",
       "                <tr>\n",
       "                                <td id=\"T_3821fbc2_962c_11ea_b64d_84fdd13f47d7row0_col0\" class=\"data row0 col0\" >session_id</td>\n",
       "                        <td id=\"T_3821fbc2_962c_11ea_b64d_84fdd13f47d7row0_col1\" class=\"data row0 col1\" >786</td>\n",
       "            </tr>\n",
       "            <tr>\n",
       "                                <td id=\"T_3821fbc2_962c_11ea_b64d_84fdd13f47d7row1_col0\" class=\"data row1 col0\" ># Documents</td>\n",
       "                        <td id=\"T_3821fbc2_962c_11ea_b64d_84fdd13f47d7row1_col1\" class=\"data row1 col1\" >1000</td>\n",
       "            </tr>\n",
       "            <tr>\n",
       "                                <td id=\"T_3821fbc2_962c_11ea_b64d_84fdd13f47d7row2_col0\" class=\"data row2 col0\" >Vocab Size</td>\n",
       "                        <td id=\"T_3821fbc2_962c_11ea_b64d_84fdd13f47d7row2_col1\" class=\"data row2 col1\" >3865</td>\n",
       "            </tr>\n",
       "            <tr>\n",
       "                                <td id=\"T_3821fbc2_962c_11ea_b64d_84fdd13f47d7row3_col0\" class=\"data row3 col0\" >Custom Stopwords</td>\n",
       "                        <td id=\"T_3821fbc2_962c_11ea_b64d_84fdd13f47d7row3_col1\" class=\"data row3 col1\" >False</td>\n",
       "            </tr>\n",
       "    </tbody></table>"
      ],
      "text/plain": [
       "<pandas.io.formats.style.Styler at 0x244ab27c348>"
      ]
     },
     "metadata": {},
     "output_type": "display_data"
    }
   ],
   "source": [
    "from pycaret.nlp import *\n",
    "nlp1 = setup(data, target='en', session_id=786)"
   ]
  },
  {
   "cell_type": "markdown",
   "metadata": {},
   "source": [
    "# 3. Train Topic Model"
   ]
  },
  {
   "cell_type": "code",
   "execution_count": 8,
   "metadata": {},
   "outputs": [],
   "source": [
    "lda = create_model('lda')"
   ]
  },
  {
   "cell_type": "code",
   "execution_count": 9,
   "metadata": {},
   "outputs": [
    {
     "name": "stdout",
     "output_type": "stream",
     "text": [
      "LdaModel(num_terms=3865, num_topics=4, decay=0.5, chunksize=100)\n"
     ]
    }
   ],
   "source": [
    "print(lda)"
   ]
  },
  {
   "cell_type": "code",
   "execution_count": 10,
   "metadata": {},
   "outputs": [],
   "source": [
    "nmf = create_model('nmf')"
   ]
  },
  {
   "cell_type": "code",
   "execution_count": 11,
   "metadata": {},
   "outputs": [
    {
     "name": "stdout",
     "output_type": "stream",
     "text": [
      "NMF(alpha=0.0, beta_loss='frobenius', init='nndsvd', l1_ratio=0.0, max_iter=200,\n",
      "    n_components=4, random_state=786, shuffle=False, solver='cd', tol=0.0001,\n",
      "    verbose=0)\n"
     ]
    }
   ],
   "source": [
    "print(nmf)"
   ]
  },
  {
   "cell_type": "markdown",
   "metadata": {},
   "source": [
    "# 4. Analyze Trained Model"
   ]
  },
  {
   "cell_type": "code",
   "execution_count": 13,
   "metadata": {},
   "outputs": [
    {
     "data": {
      "text/html": [
       "        <script type=\"text/javascript\">\n",
       "        window.PlotlyConfig = {MathJaxConfig: 'local'};\n",
       "        if (window.MathJax) {MathJax.Hub.Config({SVG: {font: \"STIX-Web\"}});}\n",
       "        if (typeof require !== 'undefined') {\n",
       "        require.undef(\"plotly\");\n",
       "        requirejs.config({\n",
       "            paths: {\n",
       "                'plotly': ['https://cdn.plot.ly/plotly-latest.min']\n",
       "            }\n",
       "        });\n",
       "        require(['plotly'], function(Plotly) {\n",
       "            window._Plotly = Plotly;\n",
       "        });\n",
       "        }\n",
       "        </script>\n",
       "        "
      ]
     },
     "metadata": {},
     "output_type": "display_data"
    },
    {
     "data": {
      "application/vnd.plotly.v1+json": {
       "config": {
        "linkText": "Export to plot.ly",
        "plotlyServerURL": "https://plot.ly",
        "showLink": true
       },
       "data": [
        {
         "marker": {
          "color": "rgba(255, 153, 51, 0.6)",
          "line": {
           "color": "rgba(255, 153, 51, 1.0)",
           "width": 1
          }
         },
         "name": "count",
         "orientation": "v",
         "text": "",
         "type": "bar",
         "x": [
          "loan",
          "business",
          "sell",
          "child",
          "year",
          "small",
          "group",
          "buy",
          "community",
          "live",
          "woman",
          "family",
          "old",
          "store",
          "entrepreneur",
          "hope",
          "start",
          "support",
          "work",
          "good",
          "clothing",
          "product",
          "make",
          "help",
          "able",
          "member",
          "use",
          "go",
          "new",
          "say",
          "school",
          "purchase",
          "people",
          "also",
          "mother",
          "well",
          "want",
          "husband",
          "life",
          "customer",
          "order",
          "hard",
          "increase",
          "income",
          "provide",
          "request",
          "run",
          "money",
          "take",
          "food",
          "house",
          "need",
          "grow",
          "operate",
          "keep",
          "age",
          "receive",
          "continue",
          "first",
          "plan",
          "home",
          "time",
          "thank",
          "explain",
          "large",
          "improve",
          "day",
          "expand",
          "future",
          "dream",
          "allow",
          "clothe",
          "currently",
          "education",
          "daughter",
          "profit",
          "esperanza",
          "young",
          "offer",
          "together",
          "shoe",
          "son",
          "get",
          "ago",
          "attend",
          "inventory",
          "enough",
          "pay",
          "item",
          "sale",
          "neighborhood",
          "lot",
          "invest",
          "grocery",
          "many",
          "santo_domingo",
          "give",
          "boy",
          "capital",
          "single"
         ],
         "y": [
          1951,
          1905,
          1146,
          1107,
          878,
          748,
          739,
          693,
          639,
          628,
          568,
          522,
          515,
          512,
          491,
          477,
          458,
          458,
          454,
          441,
          440,
          433,
          431,
          418,
          388,
          367,
          361,
          360,
          357,
          355,
          340,
          333,
          330,
          327,
          327,
          327,
          323,
          322,
          300,
          299,
          280,
          275,
          271,
          269,
          262,
          261,
          257,
          242,
          240,
          237,
          222,
          220,
          219,
          218,
          217,
          215,
          211,
          209,
          205,
          204,
          203,
          203,
          199,
          187,
          183,
          179,
          178,
          173,
          173,
          173,
          168,
          167,
          163,
          160,
          159,
          155,
          154,
          153,
          151,
          143,
          142,
          141,
          139,
          139,
          137,
          134,
          131,
          130,
          130,
          128,
          127,
          126,
          124,
          123,
          122,
          120,
          116,
          115,
          114,
          112
         ]
        }
       ],
       "layout": {
        "legend": {
         "bgcolor": "#F5F6F9",
         "font": {
          "color": "#4D5663"
         }
        },
        "paper_bgcolor": "#F5F6F9",
        "plot_bgcolor": "#F5F6F9",
        "template": {
         "data": {
          "bar": [
           {
            "error_x": {
             "color": "#2a3f5f"
            },
            "error_y": {
             "color": "#2a3f5f"
            },
            "marker": {
             "line": {
              "color": "#E5ECF6",
              "width": 0.5
             }
            },
            "type": "bar"
           }
          ],
          "barpolar": [
           {
            "marker": {
             "line": {
              "color": "#E5ECF6",
              "width": 0.5
             }
            },
            "type": "barpolar"
           }
          ],
          "carpet": [
           {
            "aaxis": {
             "endlinecolor": "#2a3f5f",
             "gridcolor": "white",
             "linecolor": "white",
             "minorgridcolor": "white",
             "startlinecolor": "#2a3f5f"
            },
            "baxis": {
             "endlinecolor": "#2a3f5f",
             "gridcolor": "white",
             "linecolor": "white",
             "minorgridcolor": "white",
             "startlinecolor": "#2a3f5f"
            },
            "type": "carpet"
           }
          ],
          "choropleth": [
           {
            "colorbar": {
             "outlinewidth": 0,
             "ticks": ""
            },
            "type": "choropleth"
           }
          ],
          "contour": [
           {
            "colorbar": {
             "outlinewidth": 0,
             "ticks": ""
            },
            "colorscale": [
             [
              0,
              "#0d0887"
             ],
             [
              0.1111111111111111,
              "#46039f"
             ],
             [
              0.2222222222222222,
              "#7201a8"
             ],
             [
              0.3333333333333333,
              "#9c179e"
             ],
             [
              0.4444444444444444,
              "#bd3786"
             ],
             [
              0.5555555555555556,
              "#d8576b"
             ],
             [
              0.6666666666666666,
              "#ed7953"
             ],
             [
              0.7777777777777778,
              "#fb9f3a"
             ],
             [
              0.8888888888888888,
              "#fdca26"
             ],
             [
              1,
              "#f0f921"
             ]
            ],
            "type": "contour"
           }
          ],
          "contourcarpet": [
           {
            "colorbar": {
             "outlinewidth": 0,
             "ticks": ""
            },
            "type": "contourcarpet"
           }
          ],
          "heatmap": [
           {
            "colorbar": {
             "outlinewidth": 0,
             "ticks": ""
            },
            "colorscale": [
             [
              0,
              "#0d0887"
             ],
             [
              0.1111111111111111,
              "#46039f"
             ],
             [
              0.2222222222222222,
              "#7201a8"
             ],
             [
              0.3333333333333333,
              "#9c179e"
             ],
             [
              0.4444444444444444,
              "#bd3786"
             ],
             [
              0.5555555555555556,
              "#d8576b"
             ],
             [
              0.6666666666666666,
              "#ed7953"
             ],
             [
              0.7777777777777778,
              "#fb9f3a"
             ],
             [
              0.8888888888888888,
              "#fdca26"
             ],
             [
              1,
              "#f0f921"
             ]
            ],
            "type": "heatmap"
           }
          ],
          "heatmapgl": [
           {
            "colorbar": {
             "outlinewidth": 0,
             "ticks": ""
            },
            "colorscale": [
             [
              0,
              "#0d0887"
             ],
             [
              0.1111111111111111,
              "#46039f"
             ],
             [
              0.2222222222222222,
              "#7201a8"
             ],
             [
              0.3333333333333333,
              "#9c179e"
             ],
             [
              0.4444444444444444,
              "#bd3786"
             ],
             [
              0.5555555555555556,
              "#d8576b"
             ],
             [
              0.6666666666666666,
              "#ed7953"
             ],
             [
              0.7777777777777778,
              "#fb9f3a"
             ],
             [
              0.8888888888888888,
              "#fdca26"
             ],
             [
              1,
              "#f0f921"
             ]
            ],
            "type": "heatmapgl"
           }
          ],
          "histogram": [
           {
            "marker": {
             "colorbar": {
              "outlinewidth": 0,
              "ticks": ""
             }
            },
            "type": "histogram"
           }
          ],
          "histogram2d": [
           {
            "colorbar": {
             "outlinewidth": 0,
             "ticks": ""
            },
            "colorscale": [
             [
              0,
              "#0d0887"
             ],
             [
              0.1111111111111111,
              "#46039f"
             ],
             [
              0.2222222222222222,
              "#7201a8"
             ],
             [
              0.3333333333333333,
              "#9c179e"
             ],
             [
              0.4444444444444444,
              "#bd3786"
             ],
             [
              0.5555555555555556,
              "#d8576b"
             ],
             [
              0.6666666666666666,
              "#ed7953"
             ],
             [
              0.7777777777777778,
              "#fb9f3a"
             ],
             [
              0.8888888888888888,
              "#fdca26"
             ],
             [
              1,
              "#f0f921"
             ]
            ],
            "type": "histogram2d"
           }
          ],
          "histogram2dcontour": [
           {
            "colorbar": {
             "outlinewidth": 0,
             "ticks": ""
            },
            "colorscale": [
             [
              0,
              "#0d0887"
             ],
             [
              0.1111111111111111,
              "#46039f"
             ],
             [
              0.2222222222222222,
              "#7201a8"
             ],
             [
              0.3333333333333333,
              "#9c179e"
             ],
             [
              0.4444444444444444,
              "#bd3786"
             ],
             [
              0.5555555555555556,
              "#d8576b"
             ],
             [
              0.6666666666666666,
              "#ed7953"
             ],
             [
              0.7777777777777778,
              "#fb9f3a"
             ],
             [
              0.8888888888888888,
              "#fdca26"
             ],
             [
              1,
              "#f0f921"
             ]
            ],
            "type": "histogram2dcontour"
           }
          ],
          "mesh3d": [
           {
            "colorbar": {
             "outlinewidth": 0,
             "ticks": ""
            },
            "type": "mesh3d"
           }
          ],
          "parcoords": [
           {
            "line": {
             "colorbar": {
              "outlinewidth": 0,
              "ticks": ""
             }
            },
            "type": "parcoords"
           }
          ],
          "pie": [
           {
            "automargin": true,
            "type": "pie"
           }
          ],
          "scatter": [
           {
            "marker": {
             "colorbar": {
              "outlinewidth": 0,
              "ticks": ""
             }
            },
            "type": "scatter"
           }
          ],
          "scatter3d": [
           {
            "line": {
             "colorbar": {
              "outlinewidth": 0,
              "ticks": ""
             }
            },
            "marker": {
             "colorbar": {
              "outlinewidth": 0,
              "ticks": ""
             }
            },
            "type": "scatter3d"
           }
          ],
          "scattercarpet": [
           {
            "marker": {
             "colorbar": {
              "outlinewidth": 0,
              "ticks": ""
             }
            },
            "type": "scattercarpet"
           }
          ],
          "scattergeo": [
           {
            "marker": {
             "colorbar": {
              "outlinewidth": 0,
              "ticks": ""
             }
            },
            "type": "scattergeo"
           }
          ],
          "scattergl": [
           {
            "marker": {
             "colorbar": {
              "outlinewidth": 0,
              "ticks": ""
             }
            },
            "type": "scattergl"
           }
          ],
          "scattermapbox": [
           {
            "marker": {
             "colorbar": {
              "outlinewidth": 0,
              "ticks": ""
             }
            },
            "type": "scattermapbox"
           }
          ],
          "scatterpolar": [
           {
            "marker": {
             "colorbar": {
              "outlinewidth": 0,
              "ticks": ""
             }
            },
            "type": "scatterpolar"
           }
          ],
          "scatterpolargl": [
           {
            "marker": {
             "colorbar": {
              "outlinewidth": 0,
              "ticks": ""
             }
            },
            "type": "scatterpolargl"
           }
          ],
          "scatterternary": [
           {
            "marker": {
             "colorbar": {
              "outlinewidth": 0,
              "ticks": ""
             }
            },
            "type": "scatterternary"
           }
          ],
          "surface": [
           {
            "colorbar": {
             "outlinewidth": 0,
             "ticks": ""
            },
            "colorscale": [
             [
              0,
              "#0d0887"
             ],
             [
              0.1111111111111111,
              "#46039f"
             ],
             [
              0.2222222222222222,
              "#7201a8"
             ],
             [
              0.3333333333333333,
              "#9c179e"
             ],
             [
              0.4444444444444444,
              "#bd3786"
             ],
             [
              0.5555555555555556,
              "#d8576b"
             ],
             [
              0.6666666666666666,
              "#ed7953"
             ],
             [
              0.7777777777777778,
              "#fb9f3a"
             ],
             [
              0.8888888888888888,
              "#fdca26"
             ],
             [
              1,
              "#f0f921"
             ]
            ],
            "type": "surface"
           }
          ],
          "table": [
           {
            "cells": {
             "fill": {
              "color": "#EBF0F8"
             },
             "line": {
              "color": "white"
             }
            },
            "header": {
             "fill": {
              "color": "#C8D4E3"
             },
             "line": {
              "color": "white"
             }
            },
            "type": "table"
           }
          ]
         },
         "layout": {
          "annotationdefaults": {
           "arrowcolor": "#2a3f5f",
           "arrowhead": 0,
           "arrowwidth": 1
          },
          "coloraxis": {
           "colorbar": {
            "outlinewidth": 0,
            "ticks": ""
           }
          },
          "colorscale": {
           "diverging": [
            [
             0,
             "#8e0152"
            ],
            [
             0.1,
             "#c51b7d"
            ],
            [
             0.2,
             "#de77ae"
            ],
            [
             0.3,
             "#f1b6da"
            ],
            [
             0.4,
             "#fde0ef"
            ],
            [
             0.5,
             "#f7f7f7"
            ],
            [
             0.6,
             "#e6f5d0"
            ],
            [
             0.7,
             "#b8e186"
            ],
            [
             0.8,
             "#7fbc41"
            ],
            [
             0.9,
             "#4d9221"
            ],
            [
             1,
             "#276419"
            ]
           ],
           "sequential": [
            [
             0,
             "#0d0887"
            ],
            [
             0.1111111111111111,
             "#46039f"
            ],
            [
             0.2222222222222222,
             "#7201a8"
            ],
            [
             0.3333333333333333,
             "#9c179e"
            ],
            [
             0.4444444444444444,
             "#bd3786"
            ],
            [
             0.5555555555555556,
             "#d8576b"
            ],
            [
             0.6666666666666666,
             "#ed7953"
            ],
            [
             0.7777777777777778,
             "#fb9f3a"
            ],
            [
             0.8888888888888888,
             "#fdca26"
            ],
            [
             1,
             "#f0f921"
            ]
           ],
           "sequentialminus": [
            [
             0,
             "#0d0887"
            ],
            [
             0.1111111111111111,
             "#46039f"
            ],
            [
             0.2222222222222222,
             "#7201a8"
            ],
            [
             0.3333333333333333,
             "#9c179e"
            ],
            [
             0.4444444444444444,
             "#bd3786"
            ],
            [
             0.5555555555555556,
             "#d8576b"
            ],
            [
             0.6666666666666666,
             "#ed7953"
            ],
            [
             0.7777777777777778,
             "#fb9f3a"
            ],
            [
             0.8888888888888888,
             "#fdca26"
            ],
            [
             1,
             "#f0f921"
            ]
           ]
          },
          "colorway": [
           "#636efa",
           "#EF553B",
           "#00cc96",
           "#ab63fa",
           "#FFA15A",
           "#19d3f3",
           "#FF6692",
           "#B6E880",
           "#FF97FF",
           "#FECB52"
          ],
          "font": {
           "color": "#2a3f5f"
          },
          "geo": {
           "bgcolor": "white",
           "lakecolor": "white",
           "landcolor": "#E5ECF6",
           "showlakes": true,
           "showland": true,
           "subunitcolor": "white"
          },
          "hoverlabel": {
           "align": "left"
          },
          "hovermode": "closest",
          "mapbox": {
           "style": "light"
          },
          "paper_bgcolor": "white",
          "plot_bgcolor": "#E5ECF6",
          "polar": {
           "angularaxis": {
            "gridcolor": "white",
            "linecolor": "white",
            "ticks": ""
           },
           "bgcolor": "#E5ECF6",
           "radialaxis": {
            "gridcolor": "white",
            "linecolor": "white",
            "ticks": ""
           }
          },
          "scene": {
           "xaxis": {
            "backgroundcolor": "#E5ECF6",
            "gridcolor": "white",
            "gridwidth": 2,
            "linecolor": "white",
            "showbackground": true,
            "ticks": "",
            "zerolinecolor": "white"
           },
           "yaxis": {
            "backgroundcolor": "#E5ECF6",
            "gridcolor": "white",
            "gridwidth": 2,
            "linecolor": "white",
            "showbackground": true,
            "ticks": "",
            "zerolinecolor": "white"
           },
           "zaxis": {
            "backgroundcolor": "#E5ECF6",
            "gridcolor": "white",
            "gridwidth": 2,
            "linecolor": "white",
            "showbackground": true,
            "ticks": "",
            "zerolinecolor": "white"
           }
          },
          "shapedefaults": {
           "line": {
            "color": "#2a3f5f"
           }
          },
          "ternary": {
           "aaxis": {
            "gridcolor": "white",
            "linecolor": "white",
            "ticks": ""
           },
           "baxis": {
            "gridcolor": "white",
            "linecolor": "white",
            "ticks": ""
           },
           "bgcolor": "#E5ECF6",
           "caxis": {
            "gridcolor": "white",
            "linecolor": "white",
            "ticks": ""
           }
          },
          "title": {
           "x": 0.05
          },
          "xaxis": {
           "automargin": true,
           "gridcolor": "white",
           "linecolor": "white",
           "ticks": "",
           "title": {
            "standoff": 15
           },
           "zerolinecolor": "white",
           "zerolinewidth": 2
          },
          "yaxis": {
           "automargin": true,
           "gridcolor": "white",
           "linecolor": "white",
           "ticks": "",
           "title": {
            "standoff": 15
           },
           "zerolinecolor": "white",
           "zerolinewidth": 2
          }
         }
        },
        "title": {
         "font": {
          "color": "#4D5663"
         },
         "text": "Top 100 words after removing stop words"
        },
        "xaxis": {
         "gridcolor": "#E1E5ED",
         "linecolor": "black",
         "showgrid": true,
         "tickfont": {
          "color": "#4D5663"
         },
         "title": {
          "font": {
           "color": "#4D5663"
          },
          "text": ""
         },
         "zerolinecolor": "#E1E5ED"
        },
        "yaxis": {
         "gridcolor": "#E1E5ED",
         "linecolor": "black",
         "showgrid": true,
         "tickfont": {
          "color": "#4D5663"
         },
         "title": {
          "font": {
           "color": "#4D5663"
          },
          "text": "Count"
         },
         "zerolinecolor": "#E1E5ED"
        }
       }
      },
      "text/html": [
       "<div>\n",
       "        \n",
       "        \n",
       "            <div id=\"a7b9c4ef-0215-494a-ae91-2bd19fc3158b\" class=\"plotly-graph-div\" style=\"height:525px; width:100%;\"></div>\n",
       "            <script type=\"text/javascript\">\n",
       "                require([\"plotly\"], function(Plotly) {\n",
       "                    window.PLOTLYENV=window.PLOTLYENV || {};\n",
       "                    window.PLOTLYENV.BASE_URL='https://plot.ly';\n",
       "                    \n",
       "                if (document.getElementById(\"a7b9c4ef-0215-494a-ae91-2bd19fc3158b\")) {\n",
       "                    Plotly.newPlot(\n",
       "                        'a7b9c4ef-0215-494a-ae91-2bd19fc3158b',\n",
       "                        [{\"marker\": {\"color\": \"rgba(255, 153, 51, 0.6)\", \"line\": {\"color\": \"rgba(255, 153, 51, 1.0)\", \"width\": 1}}, \"name\": \"count\", \"orientation\": \"v\", \"text\": \"\", \"type\": \"bar\", \"x\": [\"loan\", \"business\", \"sell\", \"child\", \"year\", \"small\", \"group\", \"buy\", \"community\", \"live\", \"woman\", \"family\", \"old\", \"store\", \"entrepreneur\", \"hope\", \"start\", \"support\", \"work\", \"good\", \"clothing\", \"product\", \"make\", \"help\", \"able\", \"member\", \"use\", \"go\", \"new\", \"say\", \"school\", \"purchase\", \"people\", \"also\", \"mother\", \"well\", \"want\", \"husband\", \"life\", \"customer\", \"order\", \"hard\", \"increase\", \"income\", \"provide\", \"request\", \"run\", \"money\", \"take\", \"food\", \"house\", \"need\", \"grow\", \"operate\", \"keep\", \"age\", \"receive\", \"continue\", \"first\", \"plan\", \"home\", \"time\", \"thank\", \"explain\", \"large\", \"improve\", \"day\", \"expand\", \"future\", \"dream\", \"allow\", \"clothe\", \"currently\", \"education\", \"daughter\", \"profit\", \"esperanza\", \"young\", \"offer\", \"together\", \"shoe\", \"son\", \"get\", \"ago\", \"attend\", \"inventory\", \"enough\", \"pay\", \"item\", \"sale\", \"neighborhood\", \"lot\", \"invest\", \"grocery\", \"many\", \"santo_domingo\", \"give\", \"boy\", \"capital\", \"single\"], \"y\": [1951, 1905, 1146, 1107, 878, 748, 739, 693, 639, 628, 568, 522, 515, 512, 491, 477, 458, 458, 454, 441, 440, 433, 431, 418, 388, 367, 361, 360, 357, 355, 340, 333, 330, 327, 327, 327, 323, 322, 300, 299, 280, 275, 271, 269, 262, 261, 257, 242, 240, 237, 222, 220, 219, 218, 217, 215, 211, 209, 205, 204, 203, 203, 199, 187, 183, 179, 178, 173, 173, 173, 168, 167, 163, 160, 159, 155, 154, 153, 151, 143, 142, 141, 139, 139, 137, 134, 131, 130, 130, 128, 127, 126, 124, 123, 122, 120, 116, 115, 114, 112]}],\n",
       "                        {\"legend\": {\"bgcolor\": \"#F5F6F9\", \"font\": {\"color\": \"#4D5663\"}}, \"paper_bgcolor\": \"#F5F6F9\", \"plot_bgcolor\": \"#F5F6F9\", \"template\": {\"data\": {\"bar\": [{\"error_x\": {\"color\": \"#2a3f5f\"}, \"error_y\": {\"color\": \"#2a3f5f\"}, \"marker\": {\"line\": {\"color\": \"#E5ECF6\", \"width\": 0.5}}, \"type\": \"bar\"}], \"barpolar\": [{\"marker\": {\"line\": {\"color\": \"#E5ECF6\", \"width\": 0.5}}, \"type\": \"barpolar\"}], \"carpet\": [{\"aaxis\": {\"endlinecolor\": \"#2a3f5f\", \"gridcolor\": \"white\", \"linecolor\": \"white\", \"minorgridcolor\": \"white\", \"startlinecolor\": \"#2a3f5f\"}, \"baxis\": {\"endlinecolor\": \"#2a3f5f\", \"gridcolor\": \"white\", \"linecolor\": \"white\", \"minorgridcolor\": \"white\", \"startlinecolor\": \"#2a3f5f\"}, \"type\": \"carpet\"}], \"choropleth\": [{\"colorbar\": {\"outlinewidth\": 0, \"ticks\": \"\"}, \"type\": \"choropleth\"}], \"contour\": [{\"colorbar\": {\"outlinewidth\": 0, \"ticks\": \"\"}, \"colorscale\": [[0.0, \"#0d0887\"], [0.1111111111111111, \"#46039f\"], [0.2222222222222222, \"#7201a8\"], [0.3333333333333333, \"#9c179e\"], [0.4444444444444444, \"#bd3786\"], [0.5555555555555556, \"#d8576b\"], [0.6666666666666666, \"#ed7953\"], [0.7777777777777778, \"#fb9f3a\"], [0.8888888888888888, \"#fdca26\"], [1.0, \"#f0f921\"]], \"type\": \"contour\"}], \"contourcarpet\": [{\"colorbar\": {\"outlinewidth\": 0, \"ticks\": \"\"}, \"type\": \"contourcarpet\"}], \"heatmap\": [{\"colorbar\": {\"outlinewidth\": 0, \"ticks\": \"\"}, \"colorscale\": [[0.0, \"#0d0887\"], [0.1111111111111111, \"#46039f\"], [0.2222222222222222, \"#7201a8\"], [0.3333333333333333, \"#9c179e\"], [0.4444444444444444, \"#bd3786\"], [0.5555555555555556, \"#d8576b\"], [0.6666666666666666, \"#ed7953\"], [0.7777777777777778, \"#fb9f3a\"], [0.8888888888888888, \"#fdca26\"], [1.0, \"#f0f921\"]], \"type\": \"heatmap\"}], \"heatmapgl\": [{\"colorbar\": {\"outlinewidth\": 0, \"ticks\": \"\"}, \"colorscale\": [[0.0, \"#0d0887\"], [0.1111111111111111, \"#46039f\"], [0.2222222222222222, \"#7201a8\"], [0.3333333333333333, \"#9c179e\"], [0.4444444444444444, \"#bd3786\"], [0.5555555555555556, \"#d8576b\"], [0.6666666666666666, \"#ed7953\"], [0.7777777777777778, \"#fb9f3a\"], [0.8888888888888888, \"#fdca26\"], [1.0, \"#f0f921\"]], \"type\": \"heatmapgl\"}], \"histogram\": [{\"marker\": {\"colorbar\": {\"outlinewidth\": 0, \"ticks\": \"\"}}, \"type\": \"histogram\"}], \"histogram2d\": [{\"colorbar\": {\"outlinewidth\": 0, \"ticks\": \"\"}, \"colorscale\": [[0.0, \"#0d0887\"], [0.1111111111111111, \"#46039f\"], [0.2222222222222222, \"#7201a8\"], [0.3333333333333333, \"#9c179e\"], [0.4444444444444444, \"#bd3786\"], [0.5555555555555556, \"#d8576b\"], [0.6666666666666666, \"#ed7953\"], [0.7777777777777778, \"#fb9f3a\"], [0.8888888888888888, \"#fdca26\"], [1.0, \"#f0f921\"]], \"type\": \"histogram2d\"}], \"histogram2dcontour\": [{\"colorbar\": {\"outlinewidth\": 0, \"ticks\": \"\"}, \"colorscale\": [[0.0, \"#0d0887\"], [0.1111111111111111, \"#46039f\"], [0.2222222222222222, \"#7201a8\"], [0.3333333333333333, \"#9c179e\"], [0.4444444444444444, \"#bd3786\"], [0.5555555555555556, \"#d8576b\"], [0.6666666666666666, \"#ed7953\"], [0.7777777777777778, \"#fb9f3a\"], [0.8888888888888888, \"#fdca26\"], [1.0, \"#f0f921\"]], \"type\": \"histogram2dcontour\"}], \"mesh3d\": [{\"colorbar\": {\"outlinewidth\": 0, \"ticks\": \"\"}, \"type\": \"mesh3d\"}], \"parcoords\": [{\"line\": {\"colorbar\": {\"outlinewidth\": 0, \"ticks\": \"\"}}, \"type\": \"parcoords\"}], \"pie\": [{\"automargin\": true, \"type\": \"pie\"}], \"scatter\": [{\"marker\": {\"colorbar\": {\"outlinewidth\": 0, \"ticks\": \"\"}}, \"type\": \"scatter\"}], \"scatter3d\": [{\"line\": {\"colorbar\": {\"outlinewidth\": 0, \"ticks\": \"\"}}, \"marker\": {\"colorbar\": {\"outlinewidth\": 0, \"ticks\": \"\"}}, \"type\": \"scatter3d\"}], \"scattercarpet\": [{\"marker\": {\"colorbar\": {\"outlinewidth\": 0, \"ticks\": \"\"}}, \"type\": \"scattercarpet\"}], \"scattergeo\": [{\"marker\": {\"colorbar\": {\"outlinewidth\": 0, \"ticks\": \"\"}}, \"type\": \"scattergeo\"}], \"scattergl\": [{\"marker\": {\"colorbar\": {\"outlinewidth\": 0, \"ticks\": \"\"}}, \"type\": \"scattergl\"}], \"scattermapbox\": [{\"marker\": {\"colorbar\": {\"outlinewidth\": 0, \"ticks\": \"\"}}, \"type\": \"scattermapbox\"}], \"scatterpolar\": [{\"marker\": {\"colorbar\": {\"outlinewidth\": 0, \"ticks\": \"\"}}, \"type\": \"scatterpolar\"}], \"scatterpolargl\": [{\"marker\": {\"colorbar\": {\"outlinewidth\": 0, \"ticks\": \"\"}}, \"type\": \"scatterpolargl\"}], \"scatterternary\": [{\"marker\": {\"colorbar\": {\"outlinewidth\": 0, \"ticks\": \"\"}}, \"type\": \"scatterternary\"}], \"surface\": [{\"colorbar\": {\"outlinewidth\": 0, \"ticks\": \"\"}, \"colorscale\": [[0.0, \"#0d0887\"], [0.1111111111111111, \"#46039f\"], [0.2222222222222222, \"#7201a8\"], [0.3333333333333333, \"#9c179e\"], [0.4444444444444444, \"#bd3786\"], [0.5555555555555556, \"#d8576b\"], [0.6666666666666666, \"#ed7953\"], [0.7777777777777778, \"#fb9f3a\"], [0.8888888888888888, \"#fdca26\"], [1.0, \"#f0f921\"]], \"type\": \"surface\"}], \"table\": [{\"cells\": {\"fill\": {\"color\": \"#EBF0F8\"}, \"line\": {\"color\": \"white\"}}, \"header\": {\"fill\": {\"color\": \"#C8D4E3\"}, \"line\": {\"color\": \"white\"}}, \"type\": \"table\"}]}, \"layout\": {\"annotationdefaults\": {\"arrowcolor\": \"#2a3f5f\", \"arrowhead\": 0, \"arrowwidth\": 1}, \"coloraxis\": {\"colorbar\": {\"outlinewidth\": 0, \"ticks\": \"\"}}, \"colorscale\": {\"diverging\": [[0, \"#8e0152\"], [0.1, \"#c51b7d\"], [0.2, \"#de77ae\"], [0.3, \"#f1b6da\"], [0.4, \"#fde0ef\"], [0.5, \"#f7f7f7\"], [0.6, \"#e6f5d0\"], [0.7, \"#b8e186\"], [0.8, \"#7fbc41\"], [0.9, \"#4d9221\"], [1, \"#276419\"]], \"sequential\": [[0.0, \"#0d0887\"], [0.1111111111111111, \"#46039f\"], [0.2222222222222222, \"#7201a8\"], [0.3333333333333333, \"#9c179e\"], [0.4444444444444444, \"#bd3786\"], [0.5555555555555556, \"#d8576b\"], [0.6666666666666666, \"#ed7953\"], [0.7777777777777778, \"#fb9f3a\"], [0.8888888888888888, \"#fdca26\"], [1.0, \"#f0f921\"]], \"sequentialminus\": [[0.0, \"#0d0887\"], [0.1111111111111111, \"#46039f\"], [0.2222222222222222, \"#7201a8\"], [0.3333333333333333, \"#9c179e\"], [0.4444444444444444, \"#bd3786\"], [0.5555555555555556, \"#d8576b\"], [0.6666666666666666, \"#ed7953\"], [0.7777777777777778, \"#fb9f3a\"], [0.8888888888888888, \"#fdca26\"], [1.0, \"#f0f921\"]]}, \"colorway\": [\"#636efa\", \"#EF553B\", \"#00cc96\", \"#ab63fa\", \"#FFA15A\", \"#19d3f3\", \"#FF6692\", \"#B6E880\", \"#FF97FF\", \"#FECB52\"], \"font\": {\"color\": \"#2a3f5f\"}, \"geo\": {\"bgcolor\": \"white\", \"lakecolor\": \"white\", \"landcolor\": \"#E5ECF6\", \"showlakes\": true, \"showland\": true, \"subunitcolor\": \"white\"}, \"hoverlabel\": {\"align\": \"left\"}, \"hovermode\": \"closest\", \"mapbox\": {\"style\": \"light\"}, \"paper_bgcolor\": \"white\", \"plot_bgcolor\": \"#E5ECF6\", \"polar\": {\"angularaxis\": {\"gridcolor\": \"white\", \"linecolor\": \"white\", \"ticks\": \"\"}, \"bgcolor\": \"#E5ECF6\", \"radialaxis\": {\"gridcolor\": \"white\", \"linecolor\": \"white\", \"ticks\": \"\"}}, \"scene\": {\"xaxis\": {\"backgroundcolor\": \"#E5ECF6\", \"gridcolor\": \"white\", \"gridwidth\": 2, \"linecolor\": \"white\", \"showbackground\": true, \"ticks\": \"\", \"zerolinecolor\": \"white\"}, \"yaxis\": {\"backgroundcolor\": \"#E5ECF6\", \"gridcolor\": \"white\", \"gridwidth\": 2, \"linecolor\": \"white\", \"showbackground\": true, \"ticks\": \"\", \"zerolinecolor\": \"white\"}, \"zaxis\": {\"backgroundcolor\": \"#E5ECF6\", \"gridcolor\": \"white\", \"gridwidth\": 2, \"linecolor\": \"white\", \"showbackground\": true, \"ticks\": \"\", \"zerolinecolor\": \"white\"}}, \"shapedefaults\": {\"line\": {\"color\": \"#2a3f5f\"}}, \"ternary\": {\"aaxis\": {\"gridcolor\": \"white\", \"linecolor\": \"white\", \"ticks\": \"\"}, \"baxis\": {\"gridcolor\": \"white\", \"linecolor\": \"white\", \"ticks\": \"\"}, \"bgcolor\": \"#E5ECF6\", \"caxis\": {\"gridcolor\": \"white\", \"linecolor\": \"white\", \"ticks\": \"\"}}, \"title\": {\"x\": 0.05}, \"xaxis\": {\"automargin\": true, \"gridcolor\": \"white\", \"linecolor\": \"white\", \"ticks\": \"\", \"title\": {\"standoff\": 15}, \"zerolinecolor\": \"white\", \"zerolinewidth\": 2}, \"yaxis\": {\"automargin\": true, \"gridcolor\": \"white\", \"linecolor\": \"white\", \"ticks\": \"\", \"title\": {\"standoff\": 15}, \"zerolinecolor\": \"white\", \"zerolinewidth\": 2}}}, \"title\": {\"font\": {\"color\": \"#4D5663\"}, \"text\": \"Top 100 words after removing stop words\"}, \"xaxis\": {\"gridcolor\": \"#E1E5ED\", \"linecolor\": \"black\", \"showgrid\": true, \"tickfont\": {\"color\": \"#4D5663\"}, \"title\": {\"font\": {\"color\": \"#4D5663\"}, \"text\": \"\"}, \"zerolinecolor\": \"#E1E5ED\"}, \"yaxis\": {\"gridcolor\": \"#E1E5ED\", \"linecolor\": \"black\", \"showgrid\": true, \"tickfont\": {\"color\": \"#4D5663\"}, \"title\": {\"font\": {\"color\": \"#4D5663\"}, \"text\": \"Count\"}, \"zerolinecolor\": \"#E1E5ED\"}},\n",
       "                        {\"showLink\": true, \"linkText\": \"Export to plot.ly\", \"plotlyServerURL\": \"https://plot.ly\", \"responsive\": true}\n",
       "                    ).then(function(){\n",
       "                            \n",
       "var gd = document.getElementById('a7b9c4ef-0215-494a-ae91-2bd19fc3158b');\n",
       "var x = new MutationObserver(function (mutations, observer) {{\n",
       "        var display = window.getComputedStyle(gd).display;\n",
       "        if (!display || display === 'none') {{\n",
       "            console.log([gd, 'removed!']);\n",
       "            Plotly.purge(gd);\n",
       "            observer.disconnect();\n",
       "        }}\n",
       "}});\n",
       "\n",
       "// Listen for the removal of the full notebook cells\n",
       "var notebookContainer = gd.closest('#notebook-container');\n",
       "if (notebookContainer) {{\n",
       "    x.observe(notebookContainer, {childList: true});\n",
       "}}\n",
       "\n",
       "// Listen for the clearing of the current output cell\n",
       "var outputEl = gd.closest('.output');\n",
       "if (outputEl) {{\n",
       "    x.observe(outputEl, {childList: true});\n",
       "}}\n",
       "\n",
       "                        })\n",
       "                };\n",
       "                });\n",
       "            </script>\n",
       "        </div>"
      ]
     },
     "metadata": {},
     "output_type": "display_data"
    }
   ],
   "source": [
    "plot_model()"
   ]
  },
  {
   "cell_type": "code",
   "execution_count": 14,
   "metadata": {},
   "outputs": [
    {
     "data": {
      "text/html": [
       "        <script type=\"text/javascript\">\n",
       "        window.PlotlyConfig = {MathJaxConfig: 'local'};\n",
       "        if (window.MathJax) {MathJax.Hub.Config({SVG: {font: \"STIX-Web\"}});}\n",
       "        if (typeof require !== 'undefined') {\n",
       "        require.undef(\"plotly\");\n",
       "        requirejs.config({\n",
       "            paths: {\n",
       "                'plotly': ['https://cdn.plot.ly/plotly-latest.min']\n",
       "            }\n",
       "        });\n",
       "        require(['plotly'], function(Plotly) {\n",
       "            window._Plotly = Plotly;\n",
       "        });\n",
       "        }\n",
       "        </script>\n",
       "        "
      ]
     },
     "metadata": {},
     "output_type": "display_data"
    },
    {
     "data": {
      "application/vnd.plotly.v1+json": {
       "config": {
        "linkText": "Export to plot.ly",
        "plotlyServerURL": "https://plot.ly",
        "showLink": true
       },
       "data": [
        {
         "marker": {
          "color": "rgba(255, 153, 51, 0.6)",
          "line": {
           "color": "rgba(255, 153, 51, 1.0)",
           "width": 1
          }
         },
         "name": "count",
         "orientation": "v",
         "text": "",
         "type": "bar",
         "x": [
          "loan",
          "business",
          "group",
          "child",
          "sell",
          "small",
          "live",
          "member",
          "able",
          "hope",
          "woman",
          "community",
          "family",
          "support",
          "buy",
          "start",
          "help",
          "year",
          "life",
          "make",
          "store",
          "clothing",
          "go",
          "well",
          "work",
          "use",
          "want",
          "provide",
          "first",
          "thank",
          "old",
          "take",
          "also",
          "age",
          "dream",
          "future",
          "grow",
          "mother",
          "esperanza",
          "receive",
          "continue",
          "product",
          "food",
          "home",
          "say",
          "day",
          "new",
          "people",
          "expand",
          "good",
          "house",
          "large",
          "increase",
          "purchase",
          "hard",
          "time",
          "husband",
          "school",
          "money",
          "together",
          "entrepreneur",
          "need",
          "profit",
          "town",
          "improve",
          "plan",
          "clothe",
          "run",
          "young",
          "call",
          "come",
          "next",
          "income",
          "pay",
          "sale",
          "education",
          "item",
          "share",
          "second",
          "note",
          "opportunity",
          "selling",
          "enough",
          "give",
          "include",
          "order",
          "feel",
          "many",
          "person",
          "part",
          "see",
          "like",
          "currently",
          "know",
          "leader",
          "area",
          "goal",
          "request",
          "customer",
          "shoe"
         ],
         "y": [
          1173,
          963,
          675,
          591,
          459,
          400,
          339,
          315,
          289,
          261,
          255,
          250,
          249,
          244,
          231,
          227,
          227,
          220,
          218,
          209,
          207,
          204,
          204,
          191,
          188,
          187,
          182,
          179,
          170,
          170,
          169,
          160,
          151,
          145,
          145,
          144,
          141,
          140,
          139,
          132,
          131,
          130,
          127,
          122,
          122,
          118,
          116,
          115,
          113,
          112,
          108,
          108,
          106,
          104,
          103,
          103,
          101,
          100,
          100,
          96,
          92,
          90,
          89,
          87,
          87,
          84,
          83,
          82,
          81,
          74,
          74,
          70,
          70,
          70,
          69,
          68,
          66,
          65,
          64,
          63,
          61,
          61,
          60,
          60,
          60,
          59,
          58,
          57,
          57,
          56,
          56,
          53,
          53,
          52,
          52,
          52,
          51,
          51,
          49,
          49
         ]
        }
       ],
       "layout": {
        "legend": {
         "bgcolor": "#F5F6F9",
         "font": {
          "color": "#4D5663"
         }
        },
        "paper_bgcolor": "#F5F6F9",
        "plot_bgcolor": "#F5F6F9",
        "template": {
         "data": {
          "bar": [
           {
            "error_x": {
             "color": "#2a3f5f"
            },
            "error_y": {
             "color": "#2a3f5f"
            },
            "marker": {
             "line": {
              "color": "#E5ECF6",
              "width": 0.5
             }
            },
            "type": "bar"
           }
          ],
          "barpolar": [
           {
            "marker": {
             "line": {
              "color": "#E5ECF6",
              "width": 0.5
             }
            },
            "type": "barpolar"
           }
          ],
          "carpet": [
           {
            "aaxis": {
             "endlinecolor": "#2a3f5f",
             "gridcolor": "white",
             "linecolor": "white",
             "minorgridcolor": "white",
             "startlinecolor": "#2a3f5f"
            },
            "baxis": {
             "endlinecolor": "#2a3f5f",
             "gridcolor": "white",
             "linecolor": "white",
             "minorgridcolor": "white",
             "startlinecolor": "#2a3f5f"
            },
            "type": "carpet"
           }
          ],
          "choropleth": [
           {
            "colorbar": {
             "outlinewidth": 0,
             "ticks": ""
            },
            "type": "choropleth"
           }
          ],
          "contour": [
           {
            "colorbar": {
             "outlinewidth": 0,
             "ticks": ""
            },
            "colorscale": [
             [
              0,
              "#0d0887"
             ],
             [
              0.1111111111111111,
              "#46039f"
             ],
             [
              0.2222222222222222,
              "#7201a8"
             ],
             [
              0.3333333333333333,
              "#9c179e"
             ],
             [
              0.4444444444444444,
              "#bd3786"
             ],
             [
              0.5555555555555556,
              "#d8576b"
             ],
             [
              0.6666666666666666,
              "#ed7953"
             ],
             [
              0.7777777777777778,
              "#fb9f3a"
             ],
             [
              0.8888888888888888,
              "#fdca26"
             ],
             [
              1,
              "#f0f921"
             ]
            ],
            "type": "contour"
           }
          ],
          "contourcarpet": [
           {
            "colorbar": {
             "outlinewidth": 0,
             "ticks": ""
            },
            "type": "contourcarpet"
           }
          ],
          "heatmap": [
           {
            "colorbar": {
             "outlinewidth": 0,
             "ticks": ""
            },
            "colorscale": [
             [
              0,
              "#0d0887"
             ],
             [
              0.1111111111111111,
              "#46039f"
             ],
             [
              0.2222222222222222,
              "#7201a8"
             ],
             [
              0.3333333333333333,
              "#9c179e"
             ],
             [
              0.4444444444444444,
              "#bd3786"
             ],
             [
              0.5555555555555556,
              "#d8576b"
             ],
             [
              0.6666666666666666,
              "#ed7953"
             ],
             [
              0.7777777777777778,
              "#fb9f3a"
             ],
             [
              0.8888888888888888,
              "#fdca26"
             ],
             [
              1,
              "#f0f921"
             ]
            ],
            "type": "heatmap"
           }
          ],
          "heatmapgl": [
           {
            "colorbar": {
             "outlinewidth": 0,
             "ticks": ""
            },
            "colorscale": [
             [
              0,
              "#0d0887"
             ],
             [
              0.1111111111111111,
              "#46039f"
             ],
             [
              0.2222222222222222,
              "#7201a8"
             ],
             [
              0.3333333333333333,
              "#9c179e"
             ],
             [
              0.4444444444444444,
              "#bd3786"
             ],
             [
              0.5555555555555556,
              "#d8576b"
             ],
             [
              0.6666666666666666,
              "#ed7953"
             ],
             [
              0.7777777777777778,
              "#fb9f3a"
             ],
             [
              0.8888888888888888,
              "#fdca26"
             ],
             [
              1,
              "#f0f921"
             ]
            ],
            "type": "heatmapgl"
           }
          ],
          "histogram": [
           {
            "marker": {
             "colorbar": {
              "outlinewidth": 0,
              "ticks": ""
             }
            },
            "type": "histogram"
           }
          ],
          "histogram2d": [
           {
            "colorbar": {
             "outlinewidth": 0,
             "ticks": ""
            },
            "colorscale": [
             [
              0,
              "#0d0887"
             ],
             [
              0.1111111111111111,
              "#46039f"
             ],
             [
              0.2222222222222222,
              "#7201a8"
             ],
             [
              0.3333333333333333,
              "#9c179e"
             ],
             [
              0.4444444444444444,
              "#bd3786"
             ],
             [
              0.5555555555555556,
              "#d8576b"
             ],
             [
              0.6666666666666666,
              "#ed7953"
             ],
             [
              0.7777777777777778,
              "#fb9f3a"
             ],
             [
              0.8888888888888888,
              "#fdca26"
             ],
             [
              1,
              "#f0f921"
             ]
            ],
            "type": "histogram2d"
           }
          ],
          "histogram2dcontour": [
           {
            "colorbar": {
             "outlinewidth": 0,
             "ticks": ""
            },
            "colorscale": [
             [
              0,
              "#0d0887"
             ],
             [
              0.1111111111111111,
              "#46039f"
             ],
             [
              0.2222222222222222,
              "#7201a8"
             ],
             [
              0.3333333333333333,
              "#9c179e"
             ],
             [
              0.4444444444444444,
              "#bd3786"
             ],
             [
              0.5555555555555556,
              "#d8576b"
             ],
             [
              0.6666666666666666,
              "#ed7953"
             ],
             [
              0.7777777777777778,
              "#fb9f3a"
             ],
             [
              0.8888888888888888,
              "#fdca26"
             ],
             [
              1,
              "#f0f921"
             ]
            ],
            "type": "histogram2dcontour"
           }
          ],
          "mesh3d": [
           {
            "colorbar": {
             "outlinewidth": 0,
             "ticks": ""
            },
            "type": "mesh3d"
           }
          ],
          "parcoords": [
           {
            "line": {
             "colorbar": {
              "outlinewidth": 0,
              "ticks": ""
             }
            },
            "type": "parcoords"
           }
          ],
          "pie": [
           {
            "automargin": true,
            "type": "pie"
           }
          ],
          "scatter": [
           {
            "marker": {
             "colorbar": {
              "outlinewidth": 0,
              "ticks": ""
             }
            },
            "type": "scatter"
           }
          ],
          "scatter3d": [
           {
            "line": {
             "colorbar": {
              "outlinewidth": 0,
              "ticks": ""
             }
            },
            "marker": {
             "colorbar": {
              "outlinewidth": 0,
              "ticks": ""
             }
            },
            "type": "scatter3d"
           }
          ],
          "scattercarpet": [
           {
            "marker": {
             "colorbar": {
              "outlinewidth": 0,
              "ticks": ""
             }
            },
            "type": "scattercarpet"
           }
          ],
          "scattergeo": [
           {
            "marker": {
             "colorbar": {
              "outlinewidth": 0,
              "ticks": ""
             }
            },
            "type": "scattergeo"
           }
          ],
          "scattergl": [
           {
            "marker": {
             "colorbar": {
              "outlinewidth": 0,
              "ticks": ""
             }
            },
            "type": "scattergl"
           }
          ],
          "scattermapbox": [
           {
            "marker": {
             "colorbar": {
              "outlinewidth": 0,
              "ticks": ""
             }
            },
            "type": "scattermapbox"
           }
          ],
          "scatterpolar": [
           {
            "marker": {
             "colorbar": {
              "outlinewidth": 0,
              "ticks": ""
             }
            },
            "type": "scatterpolar"
           }
          ],
          "scatterpolargl": [
           {
            "marker": {
             "colorbar": {
              "outlinewidth": 0,
              "ticks": ""
             }
            },
            "type": "scatterpolargl"
           }
          ],
          "scatterternary": [
           {
            "marker": {
             "colorbar": {
              "outlinewidth": 0,
              "ticks": ""
             }
            },
            "type": "scatterternary"
           }
          ],
          "surface": [
           {
            "colorbar": {
             "outlinewidth": 0,
             "ticks": ""
            },
            "colorscale": [
             [
              0,
              "#0d0887"
             ],
             [
              0.1111111111111111,
              "#46039f"
             ],
             [
              0.2222222222222222,
              "#7201a8"
             ],
             [
              0.3333333333333333,
              "#9c179e"
             ],
             [
              0.4444444444444444,
              "#bd3786"
             ],
             [
              0.5555555555555556,
              "#d8576b"
             ],
             [
              0.6666666666666666,
              "#ed7953"
             ],
             [
              0.7777777777777778,
              "#fb9f3a"
             ],
             [
              0.8888888888888888,
              "#fdca26"
             ],
             [
              1,
              "#f0f921"
             ]
            ],
            "type": "surface"
           }
          ],
          "table": [
           {
            "cells": {
             "fill": {
              "color": "#EBF0F8"
             },
             "line": {
              "color": "white"
             }
            },
            "header": {
             "fill": {
              "color": "#C8D4E3"
             },
             "line": {
              "color": "white"
             }
            },
            "type": "table"
           }
          ]
         },
         "layout": {
          "annotationdefaults": {
           "arrowcolor": "#2a3f5f",
           "arrowhead": 0,
           "arrowwidth": 1
          },
          "coloraxis": {
           "colorbar": {
            "outlinewidth": 0,
            "ticks": ""
           }
          },
          "colorscale": {
           "diverging": [
            [
             0,
             "#8e0152"
            ],
            [
             0.1,
             "#c51b7d"
            ],
            [
             0.2,
             "#de77ae"
            ],
            [
             0.3,
             "#f1b6da"
            ],
            [
             0.4,
             "#fde0ef"
            ],
            [
             0.5,
             "#f7f7f7"
            ],
            [
             0.6,
             "#e6f5d0"
            ],
            [
             0.7,
             "#b8e186"
            ],
            [
             0.8,
             "#7fbc41"
            ],
            [
             0.9,
             "#4d9221"
            ],
            [
             1,
             "#276419"
            ]
           ],
           "sequential": [
            [
             0,
             "#0d0887"
            ],
            [
             0.1111111111111111,
             "#46039f"
            ],
            [
             0.2222222222222222,
             "#7201a8"
            ],
            [
             0.3333333333333333,
             "#9c179e"
            ],
            [
             0.4444444444444444,
             "#bd3786"
            ],
            [
             0.5555555555555556,
             "#d8576b"
            ],
            [
             0.6666666666666666,
             "#ed7953"
            ],
            [
             0.7777777777777778,
             "#fb9f3a"
            ],
            [
             0.8888888888888888,
             "#fdca26"
            ],
            [
             1,
             "#f0f921"
            ]
           ],
           "sequentialminus": [
            [
             0,
             "#0d0887"
            ],
            [
             0.1111111111111111,
             "#46039f"
            ],
            [
             0.2222222222222222,
             "#7201a8"
            ],
            [
             0.3333333333333333,
             "#9c179e"
            ],
            [
             0.4444444444444444,
             "#bd3786"
            ],
            [
             0.5555555555555556,
             "#d8576b"
            ],
            [
             0.6666666666666666,
             "#ed7953"
            ],
            [
             0.7777777777777778,
             "#fb9f3a"
            ],
            [
             0.8888888888888888,
             "#fdca26"
            ],
            [
             1,
             "#f0f921"
            ]
           ]
          },
          "colorway": [
           "#636efa",
           "#EF553B",
           "#00cc96",
           "#ab63fa",
           "#FFA15A",
           "#19d3f3",
           "#FF6692",
           "#B6E880",
           "#FF97FF",
           "#FECB52"
          ],
          "font": {
           "color": "#2a3f5f"
          },
          "geo": {
           "bgcolor": "white",
           "lakecolor": "white",
           "landcolor": "#E5ECF6",
           "showlakes": true,
           "showland": true,
           "subunitcolor": "white"
          },
          "hoverlabel": {
           "align": "left"
          },
          "hovermode": "closest",
          "mapbox": {
           "style": "light"
          },
          "paper_bgcolor": "white",
          "plot_bgcolor": "#E5ECF6",
          "polar": {
           "angularaxis": {
            "gridcolor": "white",
            "linecolor": "white",
            "ticks": ""
           },
           "bgcolor": "#E5ECF6",
           "radialaxis": {
            "gridcolor": "white",
            "linecolor": "white",
            "ticks": ""
           }
          },
          "scene": {
           "xaxis": {
            "backgroundcolor": "#E5ECF6",
            "gridcolor": "white",
            "gridwidth": 2,
            "linecolor": "white",
            "showbackground": true,
            "ticks": "",
            "zerolinecolor": "white"
           },
           "yaxis": {
            "backgroundcolor": "#E5ECF6",
            "gridcolor": "white",
            "gridwidth": 2,
            "linecolor": "white",
            "showbackground": true,
            "ticks": "",
            "zerolinecolor": "white"
           },
           "zaxis": {
            "backgroundcolor": "#E5ECF6",
            "gridcolor": "white",
            "gridwidth": 2,
            "linecolor": "white",
            "showbackground": true,
            "ticks": "",
            "zerolinecolor": "white"
           }
          },
          "shapedefaults": {
           "line": {
            "color": "#2a3f5f"
           }
          },
          "ternary": {
           "aaxis": {
            "gridcolor": "white",
            "linecolor": "white",
            "ticks": ""
           },
           "baxis": {
            "gridcolor": "white",
            "linecolor": "white",
            "ticks": ""
           },
           "bgcolor": "#E5ECF6",
           "caxis": {
            "gridcolor": "white",
            "linecolor": "white",
            "ticks": ""
           }
          },
          "title": {
           "x": 0.05
          },
          "xaxis": {
           "automargin": true,
           "gridcolor": "white",
           "linecolor": "white",
           "ticks": "",
           "title": {
            "standoff": 15
           },
           "zerolinecolor": "white",
           "zerolinewidth": 2
          },
          "yaxis": {
           "automargin": true,
           "gridcolor": "white",
           "linecolor": "white",
           "ticks": "",
           "title": {
            "standoff": 15
           },
           "zerolinecolor": "white",
           "zerolinewidth": 2
          }
         }
        },
        "title": {
         "font": {
          "color": "#4D5663"
         },
         "text": "Topic 0: Top 100 words after removing stop words"
        },
        "xaxis": {
         "gridcolor": "#E1E5ED",
         "linecolor": "black",
         "showgrid": true,
         "tickfont": {
          "color": "#4D5663"
         },
         "title": {
          "font": {
           "color": "#4D5663"
          },
          "text": ""
         },
         "zerolinecolor": "#E1E5ED"
        },
        "yaxis": {
         "gridcolor": "#E1E5ED",
         "linecolor": "black",
         "showgrid": true,
         "tickfont": {
          "color": "#4D5663"
         },
         "title": {
          "font": {
           "color": "#4D5663"
          },
          "text": "Count"
         },
         "zerolinecolor": "#E1E5ED"
        }
       }
      },
      "text/html": [
       "<div>\n",
       "        \n",
       "        \n",
       "            <div id=\"475ad47d-4186-42b1-8f08-d18e9518c16a\" class=\"plotly-graph-div\" style=\"height:525px; width:100%;\"></div>\n",
       "            <script type=\"text/javascript\">\n",
       "                require([\"plotly\"], function(Plotly) {\n",
       "                    window.PLOTLYENV=window.PLOTLYENV || {};\n",
       "                    window.PLOTLYENV.BASE_URL='https://plot.ly';\n",
       "                    \n",
       "                if (document.getElementById(\"475ad47d-4186-42b1-8f08-d18e9518c16a\")) {\n",
       "                    Plotly.newPlot(\n",
       "                        '475ad47d-4186-42b1-8f08-d18e9518c16a',\n",
       "                        [{\"marker\": {\"color\": \"rgba(255, 153, 51, 0.6)\", \"line\": {\"color\": \"rgba(255, 153, 51, 1.0)\", \"width\": 1}}, \"name\": \"count\", \"orientation\": \"v\", \"text\": \"\", \"type\": \"bar\", \"x\": [\"loan\", \"business\", \"group\", \"child\", \"sell\", \"small\", \"live\", \"member\", \"able\", \"hope\", \"woman\", \"community\", \"family\", \"support\", \"buy\", \"start\", \"help\", \"year\", \"life\", \"make\", \"store\", \"clothing\", \"go\", \"well\", \"work\", \"use\", \"want\", \"provide\", \"first\", \"thank\", \"old\", \"take\", \"also\", \"age\", \"dream\", \"future\", \"grow\", \"mother\", \"esperanza\", \"receive\", \"continue\", \"product\", \"food\", \"home\", \"say\", \"day\", \"new\", \"people\", \"expand\", \"good\", \"house\", \"large\", \"increase\", \"purchase\", \"hard\", \"time\", \"husband\", \"school\", \"money\", \"together\", \"entrepreneur\", \"need\", \"profit\", \"town\", \"improve\", \"plan\", \"clothe\", \"run\", \"young\", \"call\", \"come\", \"next\", \"income\", \"pay\", \"sale\", \"education\", \"item\", \"share\", \"second\", \"note\", \"opportunity\", \"selling\", \"enough\", \"give\", \"include\", \"order\", \"feel\", \"many\", \"person\", \"part\", \"see\", \"like\", \"currently\", \"know\", \"leader\", \"area\", \"goal\", \"request\", \"customer\", \"shoe\"], \"y\": [1173, 963, 675, 591, 459, 400, 339, 315, 289, 261, 255, 250, 249, 244, 231, 227, 227, 220, 218, 209, 207, 204, 204, 191, 188, 187, 182, 179, 170, 170, 169, 160, 151, 145, 145, 144, 141, 140, 139, 132, 131, 130, 127, 122, 122, 118, 116, 115, 113, 112, 108, 108, 106, 104, 103, 103, 101, 100, 100, 96, 92, 90, 89, 87, 87, 84, 83, 82, 81, 74, 74, 70, 70, 70, 69, 68, 66, 65, 64, 63, 61, 61, 60, 60, 60, 59, 58, 57, 57, 56, 56, 53, 53, 52, 52, 52, 51, 51, 49, 49]}],\n",
       "                        {\"legend\": {\"bgcolor\": \"#F5F6F9\", \"font\": {\"color\": \"#4D5663\"}}, \"paper_bgcolor\": \"#F5F6F9\", \"plot_bgcolor\": \"#F5F6F9\", \"template\": {\"data\": {\"bar\": [{\"error_x\": {\"color\": \"#2a3f5f\"}, \"error_y\": {\"color\": \"#2a3f5f\"}, \"marker\": {\"line\": {\"color\": \"#E5ECF6\", \"width\": 0.5}}, \"type\": \"bar\"}], \"barpolar\": [{\"marker\": {\"line\": {\"color\": \"#E5ECF6\", \"width\": 0.5}}, \"type\": \"barpolar\"}], \"carpet\": [{\"aaxis\": {\"endlinecolor\": \"#2a3f5f\", \"gridcolor\": \"white\", \"linecolor\": \"white\", \"minorgridcolor\": \"white\", \"startlinecolor\": \"#2a3f5f\"}, \"baxis\": {\"endlinecolor\": \"#2a3f5f\", \"gridcolor\": \"white\", \"linecolor\": \"white\", \"minorgridcolor\": \"white\", \"startlinecolor\": \"#2a3f5f\"}, \"type\": \"carpet\"}], \"choropleth\": [{\"colorbar\": {\"outlinewidth\": 0, \"ticks\": \"\"}, \"type\": \"choropleth\"}], \"contour\": [{\"colorbar\": {\"outlinewidth\": 0, \"ticks\": \"\"}, \"colorscale\": [[0.0, \"#0d0887\"], [0.1111111111111111, \"#46039f\"], [0.2222222222222222, \"#7201a8\"], [0.3333333333333333, \"#9c179e\"], [0.4444444444444444, \"#bd3786\"], [0.5555555555555556, \"#d8576b\"], [0.6666666666666666, \"#ed7953\"], [0.7777777777777778, \"#fb9f3a\"], [0.8888888888888888, \"#fdca26\"], [1.0, \"#f0f921\"]], \"type\": \"contour\"}], \"contourcarpet\": [{\"colorbar\": {\"outlinewidth\": 0, \"ticks\": \"\"}, \"type\": \"contourcarpet\"}], \"heatmap\": [{\"colorbar\": {\"outlinewidth\": 0, \"ticks\": \"\"}, \"colorscale\": [[0.0, \"#0d0887\"], [0.1111111111111111, \"#46039f\"], [0.2222222222222222, \"#7201a8\"], [0.3333333333333333, \"#9c179e\"], [0.4444444444444444, \"#bd3786\"], [0.5555555555555556, \"#d8576b\"], [0.6666666666666666, \"#ed7953\"], [0.7777777777777778, \"#fb9f3a\"], [0.8888888888888888, \"#fdca26\"], [1.0, \"#f0f921\"]], \"type\": \"heatmap\"}], \"heatmapgl\": [{\"colorbar\": {\"outlinewidth\": 0, \"ticks\": \"\"}, \"colorscale\": [[0.0, \"#0d0887\"], [0.1111111111111111, \"#46039f\"], [0.2222222222222222, \"#7201a8\"], [0.3333333333333333, \"#9c179e\"], [0.4444444444444444, \"#bd3786\"], [0.5555555555555556, \"#d8576b\"], [0.6666666666666666, \"#ed7953\"], [0.7777777777777778, \"#fb9f3a\"], [0.8888888888888888, \"#fdca26\"], [1.0, \"#f0f921\"]], \"type\": \"heatmapgl\"}], \"histogram\": [{\"marker\": {\"colorbar\": {\"outlinewidth\": 0, \"ticks\": \"\"}}, \"type\": \"histogram\"}], \"histogram2d\": [{\"colorbar\": {\"outlinewidth\": 0, \"ticks\": \"\"}, \"colorscale\": [[0.0, \"#0d0887\"], [0.1111111111111111, \"#46039f\"], [0.2222222222222222, \"#7201a8\"], [0.3333333333333333, \"#9c179e\"], [0.4444444444444444, \"#bd3786\"], [0.5555555555555556, \"#d8576b\"], [0.6666666666666666, \"#ed7953\"], [0.7777777777777778, \"#fb9f3a\"], [0.8888888888888888, \"#fdca26\"], [1.0, \"#f0f921\"]], \"type\": \"histogram2d\"}], \"histogram2dcontour\": [{\"colorbar\": {\"outlinewidth\": 0, \"ticks\": \"\"}, \"colorscale\": [[0.0, \"#0d0887\"], [0.1111111111111111, \"#46039f\"], [0.2222222222222222, \"#7201a8\"], [0.3333333333333333, \"#9c179e\"], [0.4444444444444444, \"#bd3786\"], [0.5555555555555556, \"#d8576b\"], [0.6666666666666666, \"#ed7953\"], [0.7777777777777778, \"#fb9f3a\"], [0.8888888888888888, \"#fdca26\"], [1.0, \"#f0f921\"]], \"type\": \"histogram2dcontour\"}], \"mesh3d\": [{\"colorbar\": {\"outlinewidth\": 0, \"ticks\": \"\"}, \"type\": \"mesh3d\"}], \"parcoords\": [{\"line\": {\"colorbar\": {\"outlinewidth\": 0, \"ticks\": \"\"}}, \"type\": \"parcoords\"}], \"pie\": [{\"automargin\": true, \"type\": \"pie\"}], \"scatter\": [{\"marker\": {\"colorbar\": {\"outlinewidth\": 0, \"ticks\": \"\"}}, \"type\": \"scatter\"}], \"scatter3d\": [{\"line\": {\"colorbar\": {\"outlinewidth\": 0, \"ticks\": \"\"}}, \"marker\": {\"colorbar\": {\"outlinewidth\": 0, \"ticks\": \"\"}}, \"type\": \"scatter3d\"}], \"scattercarpet\": [{\"marker\": {\"colorbar\": {\"outlinewidth\": 0, \"ticks\": \"\"}}, \"type\": \"scattercarpet\"}], \"scattergeo\": [{\"marker\": {\"colorbar\": {\"outlinewidth\": 0, \"ticks\": \"\"}}, \"type\": \"scattergeo\"}], \"scattergl\": [{\"marker\": {\"colorbar\": {\"outlinewidth\": 0, \"ticks\": \"\"}}, \"type\": \"scattergl\"}], \"scattermapbox\": [{\"marker\": {\"colorbar\": {\"outlinewidth\": 0, \"ticks\": \"\"}}, \"type\": \"scattermapbox\"}], \"scatterpolar\": [{\"marker\": {\"colorbar\": {\"outlinewidth\": 0, \"ticks\": \"\"}}, \"type\": \"scatterpolar\"}], \"scatterpolargl\": [{\"marker\": {\"colorbar\": {\"outlinewidth\": 0, \"ticks\": \"\"}}, \"type\": \"scatterpolargl\"}], \"scatterternary\": [{\"marker\": {\"colorbar\": {\"outlinewidth\": 0, \"ticks\": \"\"}}, \"type\": \"scatterternary\"}], \"surface\": [{\"colorbar\": {\"outlinewidth\": 0, \"ticks\": \"\"}, \"colorscale\": [[0.0, \"#0d0887\"], [0.1111111111111111, \"#46039f\"], [0.2222222222222222, \"#7201a8\"], [0.3333333333333333, \"#9c179e\"], [0.4444444444444444, \"#bd3786\"], [0.5555555555555556, \"#d8576b\"], [0.6666666666666666, \"#ed7953\"], [0.7777777777777778, \"#fb9f3a\"], [0.8888888888888888, \"#fdca26\"], [1.0, \"#f0f921\"]], \"type\": \"surface\"}], \"table\": [{\"cells\": {\"fill\": {\"color\": \"#EBF0F8\"}, \"line\": {\"color\": \"white\"}}, \"header\": {\"fill\": {\"color\": \"#C8D4E3\"}, \"line\": {\"color\": \"white\"}}, \"type\": \"table\"}]}, \"layout\": {\"annotationdefaults\": {\"arrowcolor\": \"#2a3f5f\", \"arrowhead\": 0, \"arrowwidth\": 1}, \"coloraxis\": {\"colorbar\": {\"outlinewidth\": 0, \"ticks\": \"\"}}, \"colorscale\": {\"diverging\": [[0, \"#8e0152\"], [0.1, \"#c51b7d\"], [0.2, \"#de77ae\"], [0.3, \"#f1b6da\"], [0.4, \"#fde0ef\"], [0.5, \"#f7f7f7\"], [0.6, \"#e6f5d0\"], [0.7, \"#b8e186\"], [0.8, \"#7fbc41\"], [0.9, \"#4d9221\"], [1, \"#276419\"]], \"sequential\": [[0.0, \"#0d0887\"], [0.1111111111111111, \"#46039f\"], [0.2222222222222222, \"#7201a8\"], [0.3333333333333333, \"#9c179e\"], [0.4444444444444444, \"#bd3786\"], [0.5555555555555556, \"#d8576b\"], [0.6666666666666666, \"#ed7953\"], [0.7777777777777778, \"#fb9f3a\"], [0.8888888888888888, \"#fdca26\"], [1.0, \"#f0f921\"]], \"sequentialminus\": [[0.0, \"#0d0887\"], [0.1111111111111111, \"#46039f\"], [0.2222222222222222, \"#7201a8\"], [0.3333333333333333, \"#9c179e\"], [0.4444444444444444, \"#bd3786\"], [0.5555555555555556, \"#d8576b\"], [0.6666666666666666, \"#ed7953\"], [0.7777777777777778, \"#fb9f3a\"], [0.8888888888888888, \"#fdca26\"], [1.0, \"#f0f921\"]]}, \"colorway\": [\"#636efa\", \"#EF553B\", \"#00cc96\", \"#ab63fa\", \"#FFA15A\", \"#19d3f3\", \"#FF6692\", \"#B6E880\", \"#FF97FF\", \"#FECB52\"], \"font\": {\"color\": \"#2a3f5f\"}, \"geo\": {\"bgcolor\": \"white\", \"lakecolor\": \"white\", \"landcolor\": \"#E5ECF6\", \"showlakes\": true, \"showland\": true, \"subunitcolor\": \"white\"}, \"hoverlabel\": {\"align\": \"left\"}, \"hovermode\": \"closest\", \"mapbox\": {\"style\": \"light\"}, \"paper_bgcolor\": \"white\", \"plot_bgcolor\": \"#E5ECF6\", \"polar\": {\"angularaxis\": {\"gridcolor\": \"white\", \"linecolor\": \"white\", \"ticks\": \"\"}, \"bgcolor\": \"#E5ECF6\", \"radialaxis\": {\"gridcolor\": \"white\", \"linecolor\": \"white\", \"ticks\": \"\"}}, \"scene\": {\"xaxis\": {\"backgroundcolor\": \"#E5ECF6\", \"gridcolor\": \"white\", \"gridwidth\": 2, \"linecolor\": \"white\", \"showbackground\": true, \"ticks\": \"\", \"zerolinecolor\": \"white\"}, \"yaxis\": {\"backgroundcolor\": \"#E5ECF6\", \"gridcolor\": \"white\", \"gridwidth\": 2, \"linecolor\": \"white\", \"showbackground\": true, \"ticks\": \"\", \"zerolinecolor\": \"white\"}, \"zaxis\": {\"backgroundcolor\": \"#E5ECF6\", \"gridcolor\": \"white\", \"gridwidth\": 2, \"linecolor\": \"white\", \"showbackground\": true, \"ticks\": \"\", \"zerolinecolor\": \"white\"}}, \"shapedefaults\": {\"line\": {\"color\": \"#2a3f5f\"}}, \"ternary\": {\"aaxis\": {\"gridcolor\": \"white\", \"linecolor\": \"white\", \"ticks\": \"\"}, \"baxis\": {\"gridcolor\": \"white\", \"linecolor\": \"white\", \"ticks\": \"\"}, \"bgcolor\": \"#E5ECF6\", \"caxis\": {\"gridcolor\": \"white\", \"linecolor\": \"white\", \"ticks\": \"\"}}, \"title\": {\"x\": 0.05}, \"xaxis\": {\"automargin\": true, \"gridcolor\": \"white\", \"linecolor\": \"white\", \"ticks\": \"\", \"title\": {\"standoff\": 15}, \"zerolinecolor\": \"white\", \"zerolinewidth\": 2}, \"yaxis\": {\"automargin\": true, \"gridcolor\": \"white\", \"linecolor\": \"white\", \"ticks\": \"\", \"title\": {\"standoff\": 15}, \"zerolinecolor\": \"white\", \"zerolinewidth\": 2}}}, \"title\": {\"font\": {\"color\": \"#4D5663\"}, \"text\": \"Topic 0: Top 100 words after removing stop words\"}, \"xaxis\": {\"gridcolor\": \"#E1E5ED\", \"linecolor\": \"black\", \"showgrid\": true, \"tickfont\": {\"color\": \"#4D5663\"}, \"title\": {\"font\": {\"color\": \"#4D5663\"}, \"text\": \"\"}, \"zerolinecolor\": \"#E1E5ED\"}, \"yaxis\": {\"gridcolor\": \"#E1E5ED\", \"linecolor\": \"black\", \"showgrid\": true, \"tickfont\": {\"color\": \"#4D5663\"}, \"title\": {\"font\": {\"color\": \"#4D5663\"}, \"text\": \"Count\"}, \"zerolinecolor\": \"#E1E5ED\"}},\n",
       "                        {\"showLink\": true, \"linkText\": \"Export to plot.ly\", \"plotlyServerURL\": \"https://plot.ly\", \"responsive\": true}\n",
       "                    ).then(function(){\n",
       "                            \n",
       "var gd = document.getElementById('475ad47d-4186-42b1-8f08-d18e9518c16a');\n",
       "var x = new MutationObserver(function (mutations, observer) {{\n",
       "        var display = window.getComputedStyle(gd).display;\n",
       "        if (!display || display === 'none') {{\n",
       "            console.log([gd, 'removed!']);\n",
       "            Plotly.purge(gd);\n",
       "            observer.disconnect();\n",
       "        }}\n",
       "}});\n",
       "\n",
       "// Listen for the removal of the full notebook cells\n",
       "var notebookContainer = gd.closest('#notebook-container');\n",
       "if (notebookContainer) {{\n",
       "    x.observe(notebookContainer, {childList: true});\n",
       "}}\n",
       "\n",
       "// Listen for the clearing of the current output cell\n",
       "var outputEl = gd.closest('.output');\n",
       "if (outputEl) {{\n",
       "    x.observe(outputEl, {childList: true});\n",
       "}}\n",
       "\n",
       "                        })\n",
       "                };\n",
       "                });\n",
       "            </script>\n",
       "        </div>"
      ]
     },
     "metadata": {},
     "output_type": "display_data"
    }
   ],
   "source": [
    "plot_model(lda)"
   ]
  },
  {
   "cell_type": "code",
   "execution_count": 15,
   "metadata": {},
   "outputs": [
    {
     "data": {
      "text/html": [
       "        <script type=\"text/javascript\">\n",
       "        window.PlotlyConfig = {MathJaxConfig: 'local'};\n",
       "        if (window.MathJax) {MathJax.Hub.Config({SVG: {font: \"STIX-Web\"}});}\n",
       "        if (typeof require !== 'undefined') {\n",
       "        require.undef(\"plotly\");\n",
       "        requirejs.config({\n",
       "            paths: {\n",
       "                'plotly': ['https://cdn.plot.ly/plotly-latest.min']\n",
       "            }\n",
       "        });\n",
       "        require(['plotly'], function(Plotly) {\n",
       "            window._Plotly = Plotly;\n",
       "        });\n",
       "        }\n",
       "        </script>\n",
       "        "
      ]
     },
     "metadata": {},
     "output_type": "display_data"
    },
    {
     "data": {
      "application/vnd.plotly.v1+json": {
       "config": {
        "plotlyServerURL": "https://plot.ly"
       },
       "data": [
        {
         "hoverlabel": {
          "namelength": 0
         },
         "hovertemplate": "Dominant_Topic=Topic 0<br>0=%{x}<br>1=%{y}<br>2=%{z}",
         "legendgroup": "Dominant_Topic=Topic 0",
         "marker": {
          "color": "#636efa",
          "opacity": 0.7,
          "symbol": "circle"
         },
         "mode": "markers",
         "name": "Dominant_Topic=Topic 0",
         "scene": "scene",
         "showlegend": true,
         "type": "scatter3d",
         "x": [
          -6.653586387634277,
          -6.389996528625488,
          -8.113950729370117,
          2.203718662261963,
          -0.9979873895645142,
          1.1413878202438354,
          2.4791066646575928,
          -10.543399810791016,
          -7.61577844619751,
          0.7952315211296082,
          -1.2103471755981445,
          -2.530261516571045,
          4.146433353424072,
          2.267265558242798,
          -6.390849590301514,
          -5.839134693145752,
          -10.125308990478516,
          -10.451591491699219,
          0.17481590807437897,
          0.600054144859314,
          -9.871489524841309,
          -8.158648490905762,
          -0.176735982298851,
          -1.674742579460144,
          3.0523109436035156,
          -10.4158935546875,
          -7.2892045974731445,
          -8.05671215057373,
          -6.07709264755249,
          2.7480006217956543,
          4.949361324310303,
          -8.109884262084961,
          -2.4357259273529053,
          -7.118577003479004,
          1.8897548913955688,
          -7.047000885009766,
          3.2735135555267334,
          -6.490754127502441,
          -7.260921955108643,
          -8.959735870361328,
          -6.541964530944824,
          -0.054358962923288345,
          -10.357958793640137,
          1.8005839586257935,
          2.398698329925537,
          -5.919161319732666,
          -5.922781467437744,
          2.613156318664551,
          0.6714404821395874,
          -5.717220306396484,
          -10.301504135131836,
          -1.451567530632019,
          -6.263130187988281,
          -10.366227149963379,
          -10.446996688842773,
          -7.567715644836426,
          5.430831432342529,
          -9.265398979187012,
          -6.987372875213623,
          0.8027712106704712,
          -7.311433792114258,
          -7.4080681800842285,
          -6.574814319610596,
          5.419061660766602,
          -5.373106956481934,
          -8.943279266357422,
          -7.096403121948242,
          5.307923793792725,
          -10.419012069702148,
          2.0856409072875977,
          -8.415131568908691,
          -8.358894348144531,
          -2.3071844577789307,
          -10.45590591430664,
          -9.867558479309082,
          -10.175378799438477,
          3.4859366416931152,
          -8.144370079040527,
          -8.12182903289795,
          -0.14922724664211273,
          -1.2125778198242188,
          -7.630821228027344,
          -1.3257795572280884,
          2.2398884296417236,
          -8.311429977416992,
          -2.3723056316375732,
          3.1931612491607666,
          -0.3321356475353241,
          -0.7637360692024231,
          1.9509295225143433,
          -2.2828826904296875,
          -2.544959306716919,
          2.801682710647583,
          -0.9013715982437134,
          -9.767857551574707,
          0.16226857900619507,
          1.9825091361999512,
          3.60497784614563,
          -0.22308817505836487,
          -8.22436809539795,
          -6.391365051269531,
          3.539212703704834,
          3.3448076248168945,
          -8.079387664794922,
          -7.235097885131836,
          -10.357836723327637,
          -7.765432357788086,
          -1.6150990724563599,
          -10.438067436218262,
          -2.2683136463165283,
          1.5298207998275757,
          1.28567636013031,
          1.373268961906433,
          -2.9518027305603027,
          0.9251824617385864,
          -8.186394691467285,
          -9.50794506072998,
          -3.237386465072632,
          1.7654868364334106,
          -2.007110595703125,
          -1.8725489377975464,
          -1.1332666873931885,
          -6.7972798347473145,
          -9.643861770629883,
          -6.685345649719238,
          -6.4960150718688965,
          -2.03769850730896,
          3.3871164321899414,
          1.6956539154052734,
          7.042333602905273,
          -7.190426349639893,
          -6.640163421630859,
          -6.843952655792236,
          -5.814863681793213,
          3.4319005012512207,
          -7.283495903015137,
          -10.106565475463867,
          -8.175817489624023,
          6.45815896987915,
          2.8996081352233887,
          1.570157527923584,
          -7.226047992706299,
          1.2196134328842163,
          3.897087574005127,
          -1.5792210102081299,
          0.4065950810909271,
          -9.419098854064941,
          -5.775838851928711,
          -2.814321517944336,
          -9.325462341308594,
          -3.3530049324035645,
          6.174638748168945,
          -10.275935173034668,
          -8.306439399719238,
          -5.377505302429199,
          -3.3556177616119385,
          5.190746784210205,
          -6.370104789733887,
          -3.0826828479766846,
          -4.851577281951904,
          1.5697535276412964,
          2.254300117492676,
          -5.31480598449707,
          -7.406723976135254,
          -10.416996955871582,
          -7.826415061950684,
          -10.456984519958496,
          -2.2109484672546387,
          2.2726101875305176,
          4.4557013511657715,
          -5.672037601470947,
          -6.50796365737915,
          3.269233465194702,
          1.4848964214324951,
          5.18792200088501,
          -1.4943745136260986,
          -7.051912784576416,
          -8.110640525817871,
          -3.1842105388641357,
          -9.597844123840332,
          -8.074847221374512,
          6.8648457527160645,
          -6.762851715087891,
          -0.3452325165271759,
          -7.27668571472168,
          2.350111722946167,
          2.446399450302124,
          -2.7846765518188477,
          -7.368043422698975,
          -0.3943338990211487,
          1.6732332706451416,
          -9.462373733520508,
          2.1871018409729004,
          -3.1499757766723633,
          0.07677391916513443,
          -1.2913390398025513,
          -1.5254043340682983,
          -8.49996280670166,
          0.1431005895137787,
          -7.818257808685303,
          -10.229718208312988,
          -3.611402988433838,
          -2.355346202850342,
          -2.4425928592681885,
          0.7366694808006287,
          -3.115119457244873,
          -7.556576728820801,
          4.424221515655518,
          -0.4474100172519684,
          -1.051498293876648,
          2.479663133621216,
          2.1248016357421875,
          3.4476869106292725,
          -7.8564300537109375,
          -8.101007461547852,
          -9.598993301391602,
          0.9500501751899719,
          1.2399824857711792,
          1.656130313873291,
          0.4386441111564636,
          -7.1737165451049805,
          -10.199053764343262,
          1.270060420036316,
          -5.23018741607666,
          -5.879592418670654,
          -6.460261344909668,
          -0.02247687242925167,
          -8.030168533325195,
          -10.371328353881836,
          -1.2848421335220337,
          -3.118837594985962,
          0.44856953620910645,
          1.2002553939819336,
          2.3110010623931885,
          0.21313832700252533,
          -5.084867000579834,
          5.1782145500183105,
          -7.435400009155273,
          -8.139324188232422,
          5.335678577423096,
          0.8564308285713196,
          -8.364526748657227,
          4.179751873016357,
          5.428338527679443,
          -4.400698184967041,
          -8.249476432800293,
          -10.220503807067871,
          -1.586883306503296,
          -1.6299787759780884,
          1.0581235885620117,
          0.5616154670715332,
          -8.241328239440918,
          7.044463157653809,
          -6.433940887451172,
          -3.274500846862793,
          -1.828843593597412,
          0.7975789904594421,
          -1.5676641464233398,
          -10.439870834350586,
          -1.6059929132461548,
          -3.825108528137207,
          1.0979264974594116,
          -0.9866079688072205,
          -10.686077117919922,
          -9.092267036437988,
          -7.2739386558532715,
          -9.746639251708984,
          -2.9477953910827637,
          -0.2719714939594269,
          -8.096477508544922,
          -8.521988868713379,
          0.12419179081916809,
          -3.674415111541748,
          -8.860340118408203,
          -8.962846755981445,
          -9.833191871643066,
          1.1616170406341553,
          -5.825119495391846,
          -2.149266242980957,
          -10.435678482055664,
          -10.4039888381958,
          -0.5508113503456116,
          -7.272665023803711,
          -8.928807258605957,
          -9.522406578063965,
          -10.312031745910645,
          -0.2151070237159729,
          -9.94550895690918,
          -9.931480407714844,
          -9.664008140563965,
          6.586193561553955,
          2.9697771072387695,
          -10.186126708984375,
          -8.344656944274902,
          6.070147514343262,
          -5.610470294952393,
          -9.27088737487793,
          -10.233975410461426,
          -10.35672378540039,
          -8.099433898925781,
          -0.7529675960540771,
          -1.7127143144607544,
          1.4442228078842163,
          -8.63642406463623,
          4.0162248611450195,
          -9.74257755279541,
          -7.454976558685303,
          5.008453369140625,
          -6.538567066192627,
          -8.156307220458984,
          2.090646505355835,
          -7.203408241271973,
          -7.701910495758057,
          -7.740185260772705,
          -10.512229919433594,
          -8.096979141235352,
          5.1735944747924805,
          -7.442444324493408,
          -9.473248481750488,
          -4.711241245269775,
          -10.420125961303711,
          -9.581692695617676,
          -5.239409923553467,
          -6.9487152099609375,
          -4.49761438369751,
          -5.965582370758057,
          -1.3596298694610596,
          1.3130735158920288,
          -0.26889336109161377,
          3.352020740509033,
          -0.42914703488349915,
          5.0477118492126465,
          -8.677886009216309,
          -0.9112771153450012,
          -0.6572892665863037,
          -10.477397918701172,
          -8.340189933776855,
          -4.087480545043945,
          -7.560009956359863,
          -3.9311788082122803,
          -2.575810670852661,
          -8.525343894958496,
          -10.513469696044922,
          -10.414314270019531,
          6.991959571838379,
          6.064175128936768,
          -10.222259521484375,
          -9.553820610046387,
          1.593238115310669,
          4.828093528747559,
          -1.5043007135391235,
          -9.742568016052246,
          -8.095110893249512,
          -9.706525802612305,
          0.47758981585502625,
          0.8380481004714966,
          -8.09948444366455,
          -8.230077743530273,
          -4.960200786590576,
          -8.094776153564453,
          -2.2536299228668213,
          -8.132355690002441,
          -5.376551628112793,
          -10.174903869628906,
          -8.85042667388916,
          -5.769638538360596,
          -10.691924095153809,
          -1.8374196290969849,
          -10.436944961547852,
          -10.47463607788086,
          -10.426983833312988,
          -8.108969688415527,
          1.934224247932434,
          -8.416860580444336,
          -10.508206367492676,
          -9.416651725769043,
          0.6542535424232483,
          -9.432787895202637,
          -10.20333480834961,
          -9.766111373901367,
          -10.423151969909668,
          -8.6435546875,
          0.1509966105222702,
          -1.6276676654815674,
          -9.68649959564209,
          -10.10511302947998,
          -9.489165306091309,
          1.825364589691162,
          -10.370454788208008,
          -10.362456321716309,
          3.1350209712982178,
          2.444204092025757,
          -9.009408950805664,
          -10.28928279876709,
          -10.214643478393555,
          -10.49215030670166,
          -9.6547212600708,
          -8.060276985168457,
          -5.5656609535217285,
          -9.351872444152832,
          6.465917110443115,
          -10.4348726272583,
          -2.347843647003174,
          -9.097668647766113,
          -10.449760437011719,
          -7.816948413848877,
          -8.176923751831055,
          -6.42795467376709,
          -2.7650935649871826,
          -10.409631729125977,
          -10.1184663772583,
          -10.583651542663574,
          -10.359208106994629,
          -9.553739547729492,
          -8.616564750671387,
          -1.2050343751907349,
          -10.476746559143066,
          6.274341583251953,
          2.738840341567993,
          -1.2995898723602295
         ],
         "y": [
          2.5938289165496826,
          -9.338225364685059,
          -3.7388763427734375,
          -9.534287452697754,
          -9.545347213745117,
          -12.514205932617188,
          -5.484910488128662,
          8.013835906982422,
          -7.235166072845459,
          -7.658496856689453,
          -5.909945011138916,
          -9.877290725708008,
          -10.733363151550293,
          -6.486201763153076,
          -9.34713077545166,
          -10.148216247558594,
          4.395839214324951,
          5.0897674560546875,
          -6.056304454803467,
          -7.518269062042236,
          3.521232843399048,
          -4.215974807739258,
          -7.371379852294922,
          -5.363317489624023,
          -10.521791458129883,
          6.704279899597168,
          -7.6747965812683105,
          -5.113031387329102,
          -9.646040916442871,
          -6.66500997543335,
          -9.273024559020996,
          -3.8247241973876953,
          -7.1602373123168945,
          -8.365394592285156,
          -11.952601432800293,
          1.4515471458435059,
          -6.517512798309326,
          3.020690441131592,
          -2.859402656555176,
          0.7677793502807617,
          -4.42258358001709,
          -11.406757354736328,
          6.122321128845215,
          -6.896729469299316,
          -12.036452293395996,
          -10.014803886413574,
          -6.158137321472168,
          -10.806013107299805,
          -6.122203350067139,
          -8.477812767028809,
          8.297296524047852,
          -6.353823661804199,
          -3.851306438446045,
          8.44791316986084,
          4.448760509490967,
          -7.406355381011963,
          -8.59194564819336,
          1.3484128713607788,
          -5.712323188781738,
          -6.059396266937256,
          -4.998170375823975,
          -5.223097324371338,
          2.8878118991851807,
          -7.998267650604248,
          -7.067619323730469,
          4.150876998901367,
          -5.468146324157715,
          -9.910935401916504,
          6.597213268280029,
          -4.912225246429443,
          -0.5502358078956604,
          5.572910785675049,
          -5.2849884033203125,
          5.905288219451904,
          1.854304313659668,
          4.234989166259766,
          -5.885058879852295,
          -4.414259910583496,
          -3.9156453609466553,
          -8.296263694763184,
          -6.289730548858643,
          -7.189290523529053,
          -9.742091178894043,
          -5.3759660720825195,
          -0.7631657123565674,
          -10.433030128479004,
          -5.946439743041992,
          -7.648449420928955,
          -9.347026824951172,
          -12.258113861083984,
          -7.024729251861572,
          -5.134922981262207,
          -6.513784408569336,
          -5.3773322105407715,
          2.7123844623565674,
          -8.113027572631836,
          -12.114823341369629,
          -10.864849090576172,
          -7.7529377937316895,
          -1.3972760438919067,
          -3.695958137512207,
          -4.769694805145264,
          -11.361488342285156,
          -2.954308271408081,
          -8.122931480407715,
          8.038487434387207,
          -2.9717721939086914,
          -11.005329132080078,
          6.329190731048584,
          -11.386409759521484,
          -12.260455131530762,
          -12.461639404296875,
          -6.827567100524902,
          -10.392251014709473,
          -10.800248146057129,
          -1.6135777235031128,
          0.29167798161506653,
          -8.340412139892578,
          -5.72891902923584,
          -11.966708183288574,
          -6.975048542022705,
          -6.499510288238525,
          -6.089117527008057,
          1.3414866924285889,
          2.384162187576294,
          -8.890390396118164,
          -11.955428123474121,
          -5.408219337463379,
          -4.919646739959717,
          -8.18863582611084,
          -8.231888771057129,
          2.9982502460479736,
          -4.368955135345459,
          -9.890830039978027,
          -10.2559232711792,
          -5.04448127746582,
          4.579336643218994,
          -1.6935657262802124,
          -8.289621353149414,
          -11.727034568786621,
          -5.392220497131348,
          -5.489178657531738,
          -7.9943461418151855,
          -10.429887771606445,
          -9.888603210449219,
          -5.1486430168151855,
          7.624770164489746,
          -6.188599109649658,
          -11.123995780944824,
          1.4856213331222534,
          -11.548803329467773,
          -9.020796775817871,
          3.4380578994750977,
          -1.6339380741119385,
          -9.471301078796387,
          -8.570002555847168,
          -9.996756553649902,
          -3.4568331241607666,
          -8.596458435058594,
          -10.846490859985352,
          -11.591151237487793,
          -12.104649543762207,
          -10.536727905273438,
          -6.065684795379639,
          5.921008586883545,
          -6.272731304168701,
          5.094566345214844,
          -10.933046340942383,
          -6.871425151824951,
          -7.913743019104004,
          -10.362142562866211,
          3.100583553314209,
          -5.092243671417236,
          -6.1306471824646,
          -9.043155670166016,
          -5.417575836181641,
          -5.884097099304199,
          -4.465135097503662,
          -8.765097618103027,
          1.2454755306243896,
          -4.852286338806152,
          -8.14962100982666,
          -8.695958137512207,
          -11.385289192199707,
          -8.107024192810059,
          -9.683578491210938,
          -5.227196216583252,
          -11.664674758911133,
          -4.798002243041992,
          -7.818166255950928,
          -12.072446823120117,
          4.876773357391357,
          -5.376287460327148,
          -8.307703971862793,
          -6.972753047943115,
          -9.73801326751709,
          -5.826941967010498,
          0.10607807338237762,
          -6.160680770874023,
          -6.231595039367676,
          3.2640175819396973,
          -8.50009536743164,
          -7.728943347930908,
          -7.941694736480713,
          -12.143233299255371,
          -8.73250675201416,
          -4.804919242858887,
          -10.579431533813477,
          -5.888993740081787,
          -5.842516899108887,
          -9.949015617370605,
          -10.882755279541016,
          -6.137532711029053,
          -6.195139408111572,
          -4.639547348022461,
          1.2171759605407715,
          -12.470001220703125,
          -9.593313217163086,
          -5.146030902862549,
          -8.143350601196289,
          1.1776455640792847,
          3.0408265590667725,
          -7.7268900871276855,
          -8.311601638793945,
          -7.816356658935547,
          2.9807839393615723,
          -8.212504386901855,
          -5.204320907592773,
          6.4817118644714355,
          -10.167963981628418,
          -11.657861709594727,
          -10.97382640838623,
          -12.47509765625,
          -11.539731979370117,
          -12.552412033081055,
          -10.686798095703125,
          -10.030004501342773,
          -7.805996894836426,
          -4.448324203491211,
          -8.816442489624023,
          -12.490076065063477,
          -2.4777777194976807,
          -9.703929901123047,
          -9.81605339050293,
          -11.046089172363281,
          -1.298329472541809,
          3.1468260288238525,
          -10.774789810180664,
          -11.305960655212402,
          -4.66304349899292,
          -7.502028942108154,
          -1.3305423259735107,
          -8.16115665435791,
          -9.319961547851562,
          -8.74958610534668,
          -7.205014705657959,
          -11.090689659118652,
          -10.471454620361328,
          5.668308734893799,
          -8.287954330444336,
          -10.505692481994629,
          -6.532907962799072,
          -10.851971626281738,
          7.664719581604004,
          1.0059401988983154,
          -5.1098480224609375,
          2.638154983520508,
          -11.684248924255371,
          -7.708926677703857,
          -4.549173355102539,
          -0.4061572551727295,
          -12.517585754394531,
          -8.418190956115723,
          0.42493578791618347,
          0.7112521529197693,
          1.3474310636520386,
          -7.478312969207764,
          -9.983708381652832,
          -5.2615766525268555,
          4.551898956298828,
          6.3964152336120605,
          -6.032147407531738,
          -5.146944999694824,
          0.595419704914093,
          0.7174351811408997,
          4.767873764038086,
          -12.477221488952637,
          1.9784375429153442,
          3.2521142959594727,
          2.3849897384643555,
          -8.547414779663086,
          -11.636453628540039,
          4.604245662689209,
          -0.3779139220714569,
          -9.18867015838623,
          -10.422974586486816,
          1.3724334239959717,
          4.2594075202941895,
          8.406593322753906,
          -3.0549938678741455,
          -12.284974098205566,
          -11.86198616027832,
          -7.290434837341309,
          -0.09359241276979446,
          -10.883980751037598,
          2.6296639442443848,
          -7.7452521324157715,
          -10.124550819396973,
          -3.176846742630005,
          -4.215151786804199,
          -12.226591110229492,
          -5.326423645019531,
          -6.782503604888916,
          -6.723419666290283,
          7.461946487426758,
          -4.604290962219238,
          -9.893838882446289,
          -7.768477916717529,
          1.8504778146743774,
          -10.904637336730957,
          4.455245494842529,
          0.5448600053787231,
          -10.398658752441406,
          -8.546187400817871,
          -11.0052490234375,
          -8.235679626464844,
          -12.155858039855957,
          -6.147706508636475,
          -8.031402587890625,
          -11.404898643493652,
          -12.391390800476074,
          -8.192831993103027,
          0.35377687215805054,
          -10.841712951660156,
          -12.32418155670166,
          7.397806644439697,
          -0.8421642780303955,
          -11.197120666503906,
          -7.336549758911133,
          -8.373333930969238,
          -11.813589096069336,
          -0.3423084020614624,
          4.962806701660156,
          4.470574855804443,
          -8.262507438659668,
          -9.1691255569458,
          3.184774875640869,
          5.915406227111816,
          -4.725040435791016,
          -9.732791900634766,
          -9.970741271972656,
          7.560450553894043,
          -3.2861874103546143,
          7.848209857940674,
          -9.961081504821777,
          -6.553380012512207,
          -3.6553843021392822,
          -1.409731149673462,
          -10.722646713256836,
          -2.3972549438476562,
          -11.887167930603027,
          -4.126748085021973,
          -9.684045791625977,
          4.880474090576172,
          0.47617989778518677,
          -10.267646789550781,
          7.889306545257568,
          -11.263545036315918,
          7.314083099365234,
          7.465419769287109,
          5.328657150268555,
          -2.202986717224121,
          -6.131562232971191,
          5.611321449279785,
          7.904752731323242,
          0.6860071420669556,
          -12.472200393676758,
          0.0921286791563034,
          3.0648550987243652,
          7.85056209564209,
          7.117075443267822,
          0.18060098588466644,
          -12.485615730285645,
          -10.218384742736816,
          0.8804016709327698,
          4.8990020751953125,
          1.8899239301681519,
          -9.665242195129395,
          5.167506694793701,
          7.985184669494629,
          -5.965137481689453,
          -10.838507652282715,
          0.8571187853813171,
          3.5189695358276367,
          3.1333506107330322,
          7.833040237426758,
          2.352985143661499,
          -2.7342708110809326,
          -10.185517311096191,
          -0.13896070420742035,
          -8.775376319885254,
          7.384915828704834,
          -7.4327545166015625,
          5.678626537322998,
          5.629419803619385,
          -6.408095359802246,
          -1.7015454769134521,
          -4.150557994842529,
          -11.787508010864258,
          5.304835796356201,
          3.772352695465088,
          7.755074501037598,
          8.142777442932129,
          0.4742521047592163,
          -0.030196672305464745,
          -6.851759433746338,
          8.548500061035156,
          -8.962946891784668,
          -9.629990577697754,
          -11.792945861816406
         ],
         "z": [
          9.123580932617188,
          5.004040718078613,
          9.225591659545898,
          2.1178395748138428,
          3.5992684364318848,
          1.3880159854888916,
          1.1100181341171265,
          7.220439910888672,
          6.42924690246582,
          3.6083855628967285,
          4.893795490264893,
          3.8418021202087402,
          0.39087679982185364,
          2.9399898052215576,
          5.0047197341918945,
          4.686626434326172,
          10.420392036437988,
          9.889890670776367,
          4.397514820098877,
          -2.365374803543091,
          10.529569625854492,
          8.940199851989746,
          -3.135571002960205,
          5.28326940536499,
          1.1515600681304932,
          8.003639221191406,
          5.837344646453857,
          8.309793472290039,
          4.7646307945251465,
          2.4967615604400635,
          -0.5251069068908691,
          9.015790939331055,
          3.911984920501709,
          5.641629219055176,
          0.9601911902427673,
          9.550484657287598,
          2.0399391651153564,
          8.939116477966309,
          8.660661697387695,
          10.81107234954834,
          6.64105749130249,
          1.044524908065796,
          7.652774810791016,
          3.230893850326538,
          0.9583397507667542,
          4.699593544006348,
          5.860503196716309,
          1.2921277284622192,
          4.171069622039795,
          4.866497993469238,
          6.841350078582764,
          4.7304487228393555,
          7.036461353302002,
          6.4778594970703125,
          10.402255058288574,
          6.299096584320068,
          0.1475113183259964,
          10.927984237670898,
          5.4960174560546875,
          4.1206512451171875,
          4.865894317626953,
          7.461822032928467,
          9.006335258483887,
          0.27427953481674194,
          4.760627746582031,
          9.816814422607422,
          5.468086242675781,
          0.034807514399290085,
          8.12710189819336,
          3.380540132522583,
          10.568297386169434,
          8.083724975585938,
          5.475828170776367,
          8.98219108581543,
          7.601195812225342,
          10.427796363830566,
          1.7767831087112427,
          8.963960647583008,
          9.129918098449707,
          -1.5674312114715576,
          4.689153671264648,
          6.469887733459473,
          3.630451202392578,
          3.1554198265075684,
          10.217377662658691,
          3.771348714828491,
          2.088226556777954,
          -2.7146828174591064,
          3.617525100708008,
          1.1030168533325195,
          4.4045491218566895,
          5.616598129272461,
          2.463080644607544,
          5.025720596313477,
          10.866118431091309,
          -1.8053135871887207,
          1.037527084350586,
          0.6602534055709839,
          -2.47825026512146,
          10.19074821472168,
          7.22967529296875,
          1.7121111154556274,
          0.6340354084968567,
          9.504595756530762,
          5.777483940124512,
          7.202397346496582,
          9.208453178405762,
          3.2933456897735596,
          8.453021049499512,
          3.4463133811950684,
          1.1641995906829834,
          1.3243612051010132,
          3.56170916557312,
          3.905366897583008,
          0.5736913681030273,
          9.958784103393555,
          6.864091396331787,
          3.5124459266662598,
          3.611769437789917,
          3.0459084510803223,
          4.519236087799072,
          4.591865062713623,
          6.381619453430176,
          8.546184539794922,
          9.192137718200684,
          5.070450305938721,
          3.0626354217529297,
          1.8422930240631104,
          3.744363307952881,
          -0.7266957759857178,
          5.721892356872559,
          8.9823637008667,
          6.994489669799805,
          4.542782783508301,
          0.9803410172462463,
          7.404845237731934,
          9.730460166931152,
          10.108447074890137,
          -0.8952103853225708,
          0.7927678823471069,
          3.7559893131256104,
          5.2321391105651855,
          3.284937620162964,
          0.6251524686813354,
          2.5237338542938232,
          4.489289283752441,
          6.592595100402832,
          5.820953845977783,
          3.7310450077056885,
          10.964695930480957,
          3.746020555496216,
          -0.35581040382385254,
          6.8851542472839355,
          9.324644088745117,
          3.929452896118164,
          2.0243518352508545,
          0.07147042453289032,
          7.380320072174072,
          3.454925537109375,
          4.297918319702148,
          0.6767319440841675,
          1.0099284648895264,
          4.445152282714844,
          6.90262508392334,
          8.865058898925781,
          7.2255659103393555,
          10.030512809753418,
          3.595160722732544,
          3.992499351501465,
          0.9227233529090881,
          4.628390312194824,
          8.916058540344238,
          1.938784122467041,
          4.17191743850708,
          -0.6802497506141663,
          5.207337856292725,
          5.727174282073975,
          8.792586326599121,
          2.762803554534912,
          8.628874778747559,
          8.501675605773926,
          -0.7153341174125671,
          5.307365417480469,
          1.1880319118499756,
          5.821703910827637,
          1.962279200553894,
          2.9533562660217285,
          3.4908864498138428,
          4.794025897979736,
          -2.43194580078125,
          1.0391178131103516,
          9.45763111114502,
          3.385194778442383,
          1.189805030822754,
          -3.6896510124206543,
          3.60789155960083,
          4.999021530151367,
          10.215507507324219,
          4.374813556671143,
          7.2318501472473145,
          6.931949615478516,
          1.991117238998413,
          4.299756050109863,
          4.214870929718018,
          1.9085983037948608,
          1.5702346563339233,
          7.896773815155029,
          0.319889634847641,
          4.671477317810059,
          4.882812023162842,
          -0.2389955371618271,
          0.16630280017852783,
          1.8480327129364014,
          7.31974458694458,
          8.655599594116211,
          8.531550407409668,
          1.4225969314575195,
          -0.642812192440033,
          3.8507397174835205,
          3.5780258178710938,
          9.658936500549316,
          6.974826335906982,
          3.3551526069641113,
          3.5261316299438477,
          5.084915637969971,
          8.940229415893555,
          -1.709307312965393,
          8.195526123046875,
          7.172047138214111,
          2.918356418609619,
          3.644735813140869,
          0.5482118129730225,
          1.3521347045898438,
          1.168308138847351,
          1.7739514112472534,
          4.359401226043701,
          0.08453266322612762,
          6.031476974487305,
          8.099197387695312,
          0.1975623220205307,
          1.462111234664917,
          8.543278694152832,
          -0.17906129360198975,
          -0.004394947085529566,
          4.145199775695801,
          10.258670806884766,
          6.955134391784668,
          3.3213858604431152,
          2.2100396156311035,
          4.224595546722412,
          -2.4589383602142334,
          10.250256538391113,
          -0.7246843576431274,
          5.039980888366699,
          2.0157384872436523,
          4.2758612632751465,
          0.5238457322120667,
          1.5825423002243042,
          9.210563659667969,
          4.09309720993042,
          4.0985493659973145,
          -3.603301763534546,
          1.280156135559082,
          7.005178451538086,
          10.8596773147583,
          4.708503246307373,
          10.886165618896484,
          3.5702099800109863,
          -2.5767781734466553,
          8.694489479064941,
          10.70816707611084,
          1.8047562837600708,
          1.8768099546432495,
          10.975760459899902,
          10.955358505249023,
          6.450285911560059,
          3.5006039142608643,
          4.5692338943481445,
          5.456007957458496,
          9.985954284667969,
          8.28905200958252,
          4.647951126098633,
          4.914973735809326,
          10.96703815460205,
          7.755422115325928,
          7.797617435455322,
          1.9850366115570068,
          7.117145538330078,
          10.767730712890625,
          10.91411018371582,
          -0.5577276349067688,
          0.758006751537323,
          10.46127700805664,
          10.14457893371582,
          -0.28642743825912476,
          4.606140613555908,
          10.980666160583496,
          10.4775390625,
          6.587498188018799,
          9.570534706115723,
          2.2637438774108887,
          2.748654842376709,
          3.3829329013824463,
          10.820733070373535,
          0.43977785110473633,
          10.884636878967285,
          6.0658135414123535,
          0.12307748943567276,
          7.725885391235352,
          8.940481185913086,
          1.0767831802368164,
          4.748953342437744,
          6.742735862731934,
          6.841248989105225,
          6.988934516906738,
          8.663987159729004,
          0.027589846402406693,
          6.046324253082275,
          10.904115676879883,
          4.249378681182861,
          10.477218627929688,
          6.813712120056152,
          4.339016437530518,
          5.4778242111206055,
          4.178255081176758,
          4.559372901916504,
          2.6663150787353516,
          3.8775250911712646,
          -2.027824640274048,
          0.6438663601875305,
          2.082000494003296,
          0.49724841117858887,
          10.52609920501709,
          1.2035282850265503,
          2.212019443511963,
          7.428184986114502,
          10.428016662597656,
          4.035573482513428,
          6.3012590408325195,
          2.1015074253082275,
          3.373337507247925,
          10.687224388122559,
          10.172287940979004,
          10.060579299926758,
          -0.6966774463653564,
          -0.29214146733283997,
          7.0055251121521,
          8.303309440612793,
          3.8596367835998535,
          -0.18120494484901428,
          0.9861723184585571,
          6.822457790374756,
          9.375849723815918,
          6.5239105224609375,
          -0.20796115696430206,
          3.956779718399048,
          9.10641098022461,
          10.27778434753418,
          4.31904935836792,
          9.794350624084473,
          3.1879279613494873,
          9.064142227172852,
          4.644789218902588,
          10.262492179870605,
          10.914443969726562,
          4.679775714874268,
          6.942974090576172,
          3.2964775562286377,
          7.377911567687988,
          7.387813568115234,
          9.597820281982422,
          9.87138843536377,
          3.2980077266693115,
          8.072755813598633,
          6.570796966552734,
          8.331550598144531,
          1.527458906173706,
          5.8442559242248535,
          6.975836753845215,
          6.558194637298584,
          7.528683185577393,
          10.769752502441406,
          1.7734273672103882,
          1.3968852758407593,
          6.616635799407959,
          10.006223678588867,
          10.95854663848877,
          -0.5913892388343811,
          9.562156677246094,
          7.24114990234375,
          2.0303990840911865,
          0.15581928193569183,
          10.838150024414062,
          6.861652851104736,
          6.992941379547119,
          6.590323448181152,
          10.92350959777832,
          9.382628440856934,
          4.410966396331787,
          5.555338382720947,
          -0.4673316478729248,
          7.310187816619873,
          4.418833255767822,
          8.313786506652832,
          9.287433624267578,
          7.141606330871582,
          10.17808723449707,
          6.752551555633545,
          3.4749536514282227,
          9.571054458618164,
          10.653783798217773,
          6.6944427490234375,
          6.019387722015381,
          6.9197564125061035,
          10.784202575683594,
          4.4519362449646,
          6.449916839599609,
          -0.3861148953437805,
          1.7191989421844482,
          2.315988540649414
         ]
        },
        {
         "hoverlabel": {
          "namelength": 0
         },
         "hovertemplate": "Dominant_Topic=Topic 1<br>0=%{x}<br>1=%{y}<br>2=%{z}",
         "legendgroup": "Dominant_Topic=Topic 1",
         "marker": {
          "color": "#EF553B",
          "opacity": 0.7,
          "symbol": "circle"
         },
         "mode": "markers",
         "name": "Dominant_Topic=Topic 1",
         "scene": "scene",
         "showlegend": true,
         "type": "scatter3d",
         "x": [
          3.173837184906006,
          7.3509650230407715,
          0.878136396408081,
          3.742351770401001,
          5.041033744812012,
          0.5017962455749512,
          2.6789023876190186,
          -0.047571759670972824,
          2.0763914585113525,
          0.23756441473960876,
          -0.49308833479881287,
          4.622164726257324,
          6.344721794128418,
          0.3308771550655365,
          6.416173458099365,
          7.337078094482422,
          7.333870887756348,
          4.779633045196533,
          1.5134758949279785,
          7.653817176818848,
          2.217085599899292,
          2.7854955196380615,
          0.4484199583530426,
          0.7877272367477417,
          3.34554123878479,
          5.887399673461914,
          8.153105735778809,
          0.5090761780738831,
          0.12957940995693207,
          3.732386827468872,
          0.892069935798645,
          3.4279425144195557,
          1.2178332805633545,
          3.3702120780944824,
          -0.9834286570549011,
          1.800152063369751,
          6.615664958953857,
          2.130195379257202,
          4.525850772857666,
          1.3776358366012573,
          0.45290055871009827,
          8.548296928405762,
          0.14237529039382935,
          -0.999109148979187,
          6.804376125335693,
          0.2721364200115204,
          8.557159423828125,
          3.9118292331695557,
          6.446570873260498,
          6.618036270141602,
          4.388465881347656,
          8.640292167663574,
          5.1756110191345215,
          -0.7850856781005859,
          0.0755622610449791,
          4.866730690002441,
          0.5273312330245972,
          2.356583833694458,
          3.2788755893707275,
          7.273749351501465,
          0.34999799728393555,
          0.22607174515724182,
          7.065622806549072,
          7.181143760681152,
          7.309720039367676,
          -0.5745184421539307,
          6.0429911613464355,
          1.205350399017334,
          0.6826163530349731,
          1.2314516305923462,
          1.1652628183364868,
          -2.710319757461548,
          7.937007427215576,
          3.149207592010498,
          2.9889113903045654,
          2.26884388923645,
          1.1004842519760132,
          4.080687046051025,
          2.032925844192505,
          0.54877769947052,
          6.480971336364746,
          1.6887311935424805,
          6.83168363571167,
          0.908357560634613,
          0.5721101760864258,
          6.288865089416504,
          1.1665817499160767,
          3.867710828781128,
          -1.0210630893707275,
          0.839313268661499,
          0.7022794485092163,
          5.584243297576904,
          0.7980726957321167,
          6.991661071777344,
          0.7836191058158875,
          2.6952431201934814,
          8.574075698852539,
          4.042498588562012,
          6.054548740386963,
          3.0965194702148438,
          1.2388842105865479,
          0.5810006856918335,
          1.1812245845794678,
          1.0865967273712158,
          1.7338021993637085,
          3.300065755844116,
          4.87490701675415,
          -0.37117791175842285,
          6.900455474853516,
          7.36851692199707,
          1.731826663017273,
          0.25302252173423767,
          4.318315029144287,
          8.682929039001465,
          5.274975776672363,
          8.585726737976074,
          3.0845930576324463,
          7.884730815887451,
          0.7112956643104553,
          0.19981959462165833,
          1.3676433563232422,
          0.6301581859588623,
          1.582149624824524,
          -1.393525242805481,
          -1.901200771331787,
          8.2047700881958,
          0.8403869867324829,
          8.557188034057617,
          4.285605430603027,
          4.908027172088623,
          5.0995097160339355,
          8.661517143249512,
          4.1750946044921875,
          -1.574962854385376,
          -1.574897050857544,
          7.406172275543213,
          1.774651050567627,
          -0.4303743541240692,
          0.7824384570121765,
          5.6580681800842285,
          4.927363872528076,
          2.1772778034210205,
          1.851654052734375,
          -1.5393654108047485,
          7.410427093505859,
          2.2800824642181396,
          1.2627898454666138,
          1.8463947772979736,
          0.31422159075737,
          5.7675886154174805,
          0.013239961117506027,
          1.4201055765151978,
          1.6849638223648071,
          2.054752826690674,
          8.594752311706543,
          0.5334389805793762,
          7.665644645690918,
          0.9074641466140747,
          8.026637077331543,
          3.598902463912964,
          0.27513137459754944,
          3.4169745445251465,
          8.546784400939941,
          6.581360340118408,
          0.26857027411460876,
          -0.582403838634491,
          0.7435829043388367,
          5.627108573913574,
          2.7050085067749023,
          1.5355981588363647,
          -0.7939900159835815,
          0.6324331760406494,
          0.6506175398826599,
          8.454607963562012,
          8.570303916931152,
          1.345741629600525,
          -0.8275669813156128,
          -2.512601137161255,
          0.16696903109550476,
          2.6416208744049072,
          3.4739389419555664,
          -2.492636203765869,
          2.9434354305267334,
          5.479225158691406,
          -0.8227186799049377,
          3.0019431114196777,
          5.462994575500488,
          -0.29988721013069153,
          2.57832670211792,
          0.21039161086082458,
          5.000631809234619,
          0.3284915089607239,
          0.8844478130340576,
          5.310575485229492,
          7.192863464355469,
          2.6868438720703125,
          5.786374568939209,
          1.940299391746521,
          -1.0286329984664917,
          1.145761251449585,
          -2.0779855251312256,
          4.77464485168457,
          -1.1653096675872803,
          4.252033233642578,
          5.991078853607178,
          0.3342737555503845,
          3.135096788406372,
          1.7748397588729858,
          7.334980487823486,
          3.026951789855957,
          4.3171563148498535,
          -1.5279686450958252,
          3.6936228275299072,
          0.7568923234939575,
          3.0280096530914307,
          2.8445332050323486,
          6.643239974975586,
          4.801209926605225,
          5.8877410888671875,
          0.7897863984107971,
          0.3502499759197235,
          1.4077272415161133,
          0.05335894972085953,
          4.324101448059082,
          8.642248153686523,
          7.674197673797607,
          4.425220489501953,
          -2.4693291187286377,
          2.2733747959136963,
          1.5757744312286377,
          -0.9726777076721191,
          1.2648522853851318,
          6.080832481384277,
          4.0726776123046875,
          -0.9256768226623535,
          7.413273334503174,
          6.324095726013184,
          6.463191986083984,
          4.230685710906982,
          -1.180540919303894,
          7.631597995758057,
          2.6018364429473877,
          3.0322301387786865,
          6.7880425453186035,
          7.502706527709961,
          0.1858208030462265,
          6.783106803894043,
          3.761981248855591,
          0.8311989903450012,
          6.030238151550293,
          -2.7512545585632324,
          3.5358688831329346,
          -2.7383434772491455,
          0.5379305481910706,
          3.4453508853912354,
          1.3718867301940918,
          -2.4929404258728027,
          0.18011203408241272,
          1.917198896408081,
          0.7888953685760498,
          8.575494766235352,
          6.399566650390625,
          1.7258381843566895,
          3.7658751010894775,
          3.9368131160736084,
          1.119751214981079,
          0.19049212336540222,
          6.5393452644348145,
          -0.3434431552886963,
          2.7192306518554688,
          -0.36916545033454895,
          5.844696044921875,
          0.5306224226951599,
          0.5284596681594849,
          6.037628650665283,
          8.546027183532715,
          0.8736616373062134,
          7.44149923324585,
          3.2704617977142334,
          3.9074764251708984,
          2.1403281688690186,
          3.9010884761810303,
          2.2414824962615967,
          6.899625778198242,
          0.989618718624115,
          6.442760467529297,
          0.5758843421936035,
          -0.09989501535892487,
          2.5580320358276367,
          4.886300086975098,
          1.1592212915420532,
          5.538036346435547,
          6.368842601776123,
          7.824002265930176,
          1.0374963283538818,
          6.5380353927612305,
          1.8191429376602173,
          3.3367204666137695,
          7.6739935874938965,
          3.2487540245056152,
          1.0793087482452393,
          -1.4077244997024536,
          1.1188241243362427,
          -2.3806135654449463,
          3.927830219268799,
          -0.840911865234375,
          0.7883746027946472,
          1.6118190288543701,
          1.1213483810424805,
          3.5287907123565674,
          0.5671315789222717,
          3.775322914123535,
          6.196427345275879,
          8.6278657913208,
          3.466764211654663,
          0.6841763257980347,
          4.549201011657715,
          5.831340789794922,
          4.929992198944092,
          0.08959872275590897,
          1.3276697397232056,
          -0.894457221031189,
          7.438632011413574,
          5.15057373046875,
          7.966001033782959,
          6.382596969604492,
          2.6600117683410645,
          5.92614221572876,
          -2.318154811859131,
          0.847478449344635,
          6.1767706871032715,
          2.407668352127075,
          2.4037187099456787,
          8.403627395629883,
          1.3484869003295898,
          1.4424728155136108,
          3.208787202835083,
          6.317631244659424,
          8.612138748168945,
          4.067603588104248,
          4.926281929016113,
          4.895965099334717,
          0.20130854845046997,
          8.112727165222168,
          0.05774359777569771,
          7.516300678253174,
          -2.788213014602661,
          2.1016452312469482,
          1.815232515335083,
          -1.1343525648117065,
          1.736480712890625,
          7.205774784088135,
          7.493219375610352,
          4.0075836181640625,
          0.4135657250881195,
          3.1006386280059814,
          6.1285319328308105,
          8.651597023010254,
          1.0118414163589478,
          0.6409171223640442,
          -0.6086782813072205,
          4.105306148529053,
          0.786962628364563,
          0.9897955060005188,
          3.461911201477051,
          6.363155364990234,
          1.4064701795578003,
          3.430398464202881,
          -2.784390687942505,
          0.8908032774925232,
          4.438395977020264,
          -1.1171613931655884,
          2.361016035079956,
          3.8105318546295166,
          0.8439144492149353,
          0.4973333179950714,
          2.568979501724243,
          6.518274307250977,
          0.42002129554748535,
          2.49259352684021,
          4.011979103088379,
          7.995439529418945,
          -1.4399148225784302,
          2.70391583442688,
          5.755468845367432,
          0.8513049483299255,
          6.181042671203613,
          1.9029210805892944,
          7.1963911056518555,
          0.36232754588127136,
          1.3720166683197021,
          -1.6846740245819092,
          3.2841665744781494,
          0.8990693092346191,
          1.6478005647659302,
          7.742833137512207,
          -0.09591539949178696,
          2.066837787628174,
          -1.6523913145065308,
          3.5121662616729736,
          0.31814882159233093,
          6.734777927398682,
          1.5250639915466309,
          1.7158197164535522,
          3.8946518898010254,
          2.7499632835388184,
          2.7301506996154785,
          4.23477840423584,
          0.1736077070236206,
          8.51900863647461,
          0.19445715844631195,
          8.176933288574219,
          6.345653057098389,
          -1.7233600616455078,
          -0.563508152961731,
          7.729387283325195,
          8.644181251525879,
          3.079813003540039,
          0.18154631555080414,
          7.760839462280273,
          6.738194465637207,
          0.235309436917305,
          1.9476927518844604,
          8.19792652130127,
          8.408133506774902,
          8.385414123535156,
          3.582914352416992,
          4.909952163696289,
          1.0914524793624878,
          2.116659164428711,
          0.7163539528846741,
          4.033111095428467,
          1.6607134342193604,
          8.441055297851562,
          2.233609676361084,
          7.744529724121094,
          7.701278209686279,
          2.9561612606048584,
          8.570772171020508,
          4.348954677581787,
          8.642178535461426,
          -2.0102651119232178,
          0.6346120238304138,
          1.1991642713546753,
          2.114504098892212,
          2.9243063926696777,
          -2.2602009773254395,
          -2.4224488735198975,
          0.14035919308662415,
          8.605851173400879,
          7.930295944213867,
          8.547623634338379,
          1.9882166385650635,
          3.37677264213562,
          0.716239333152771,
          3.875229597091675,
          5.979228496551514,
          7.364776134490967,
          -2.4066357612609863,
          -0.32838860154151917,
          -2.502397298812866,
          2.3308377265930176,
          -0.5352721810340881,
          3.8923189640045166,
          6.6230692863464355,
          4.414423942565918,
          5.289180278778076,
          8.364624977111816,
          6.982686519622803,
          4.275350570678711,
          1.7644299268722534,
          -0.8370630145072937,
          7.556908130645752,
          1.5976755619049072,
          0.19485783576965332,
          5.775008678436279,
          1.9206887483596802,
          6.354964256286621,
          7.4980082511901855,
          0.26755422353744507,
          1.4413504600524902,
          3.7203989028930664,
          -1.5539939403533936,
          1.538603663444519,
          0.04955592006444931,
          0.15249444544315338,
          1.5572490692138672,
          -1.5715938806533813,
          0.9000006318092346,
          5.007054328918457,
          2.12791109085083,
          0.17062096297740936,
          2.411222219467163,
          0.24045097827911377,
          -0.10276614129543304,
          5.134978771209717,
          0.691757321357727,
          0.5037180185317993,
          4.495880603790283,
          0.6797539591789246,
          0.4324471950531006,
          1.5697126388549805,
          4.0852251052856445,
          2.545572519302368,
          4.164829730987549,
          2.644599676132202,
          5.967466354370117,
          1.0691170692443848,
          6.920206546783447,
          7.629405975341797,
          -1.4768545627593994,
          6.175892353057861,
          3.5440444946289062,
          7.318756580352783,
          7.433592796325684,
          -0.6022396683692932,
          -1.1884386539459229,
          2.972871780395508,
          -1.1349196434020996,
          0.872032105922699,
          8.35375690460205,
          5.045071601867676,
          5.374187469482422,
          6.273944854736328,
          6.884019374847412,
          1.184545636177063,
          6.214654922485352,
          4.088726997375488,
          0.2951124906539917,
          3.862534999847412,
          6.452167510986328,
          0.40628549456596375,
          5.556839942932129,
          4.247024059295654,
          -0.3481892943382263,
          6.824052333831787,
          6.591607570648193,
          3.1343846321105957,
          1.2146894931793213,
          0.4698498845100403,
          3.703979730606079,
          4.780335426330566,
          -0.35031554102897644,
          0.18572869896888733,
          2.629979133605957,
          0.9108661413192749,
          6.257185459136963,
          1.9707953929901123,
          0.6757205724716187,
          4.746729373931885,
          6.470409870147705,
          -1.6460031270980835,
          4.2381792068481445,
          0.6440495848655701,
          1.6179771423339844,
          3.139073610305786,
          8.622952461242676,
          -1.92041015625,
          1.3765983581542969,
          8.541010856628418,
          4.740204334259033,
          -1.8971556425094604,
          5.559478282928467,
          1.8434600830078125,
          6.3270087242126465,
          2.7882673740386963,
          0.1479598581790924,
          1.3764855861663818,
          0.5459432005882263,
          0.9158569574356079,
          7.320713996887207,
          7.998238563537598,
          -0.4343384802341461,
          -0.803037703037262,
          0.02196056768298149
         ],
         "y": [
          -1.96019446849823,
          -7.616378307342529,
          16.22214126586914,
          1.4593088626861572,
          7.890964508056641,
          12.025433540344238,
          5.904160976409912,
          -5.678982257843018,
          -0.6705701351165771,
          14.188939094543457,
          5.201186656951904,
          -0.9233204126358032,
          -5.654184818267822,
          11.208806037902832,
          0.5447382926940918,
          0.4295400381088257,
          2.675811290740967,
          8.246423721313477,
          9.742189407348633,
          0.8232994675636292,
          11.017056465148926,
          2.377326250076294,
          10.937905311584473,
          10.568662643432617,
          10.973359107971191,
          8.777984619140625,
          -4.689492702484131,
          0.5299040079116821,
          13.71557331085205,
          9.26502799987793,
          -4.3909382820129395,
          4.122372627258301,
          9.872661590576172,
          -4.911648750305176,
          1.5862605571746826,
          -5.732065200805664,
          2.1839449405670166,
          9.366506576538086,
          11.254776954650879,
          6.24393892288208,
          11.727675437927246,
          1.7844696044921875,
          13.50403881072998,
          3.842264175415039,
          6.201069355010986,
          13.175548553466797,
          0.5930994749069214,
          3.241624355316162,
          -2.482847213745117,
          7.107128620147705,
          5.374099254608154,
          -2.3087637424468994,
          5.943769931793213,
          4.482025623321533,
          6.791903972625732,
          10.693477630615234,
          10.191896438598633,
          -0.4189116358757019,
          4.369857311248779,
          0.5972633361816406,
          12.870034217834473,
          14.163957595825195,
          1.5835882425308228,
          -7.916909694671631,
          -7.53883695602417,
          3.9406967163085938,
          0.07718925923109055,
          10.486842155456543,
          8.911430358886719,
          14.689038276672363,
          7.7038679122924805,
          -5.525608062744141,
          3.1366078853607178,
          3.4288973808288574,
          -2.64656925201416,
          0.3200274407863617,
          -4.0511908531188965,
          9.537444114685059,
          3.980936050415039,
          -0.06661466509103775,
          5.7092485427856445,
          14.19046401977539,
          2.8369805812835693,
          15.51468563079834,
          7.915696620941162,
          7.849582195281982,
          15.283186912536621,
          7.254374027252197,
          4.115757465362549,
          3.6541364192962646,
          16.41140365600586,
          4.202670097351074,
          10.823387145996094,
          -7.984137535095215,
          15.60200023651123,
          -5.1058268547058105,
          0.41167977452278137,
          10.143505096435547,
          8.419060707092285,
          3.9473047256469727,
          14.402146339416504,
          5.484593868255615,
          4.400209426879883,
          8.177400588989258,
          14.803119659423828,
          3.9748222827911377,
          -0.7403531074523926,
          3.43171763420105,
          0.46372151374816895,
          3.0993502140045166,
          9.9021577835083,
          -2.583042621612549,
          11.494528770446777,
          -3.186422824859619,
          4.560151100158691,
          1.1904453039169312,
          4.650084018707275,
          2.0850327014923096,
          16.042219161987305,
          13.492907524108887,
          8.909326553344727,
          11.598434448242188,
          7.802177906036377,
          -4.97598123550415,
          -4.865245819091797,
          0.5699175596237183,
          15.313905715942383,
          -0.21599207818508148,
          5.583768844604492,
          7.653585910797119,
          6.002140998840332,
          -3.0609705448150635,
          3.7026116847991943,
          -0.2527904212474823,
          -0.2526153028011322,
          -2.2884714603424072,
          8.794411659240723,
          -5.467559337615967,
          9.206897735595703,
          8.100179672241211,
          -0.803546130657196,
          4.605138778686523,
          -3.988293170928955,
          -0.2526938319206238,
          4.127248287200928,
          -3.4755449295043945,
          -5.959863185882568,
          -0.3435647189617157,
          -3.9913527965545654,
          3.43473744392395,
          -3.532146692276001,
          12.148852348327637,
          -5.7705078125,
          13.939749717712402,
          1.3755662441253662,
          11.325578689575195,
          -2.8246049880981445,
          8.048806190490723,
          0.8265752196311951,
          12.550150871276855,
          -4.029739856719971,
          11.617816925048828,
          -0.9010868668556213,
          7.211791038513184,
          13.218802452087402,
          2.030604124069214,
          12.579257011413574,
          9.516204833984375,
          -0.08797799795866013,
          9.291830062866211,
          2.796886444091797,
          0.09974545985460281,
          -2.4505667686462402,
          -4.204385757446289,
          -3.775865077972412,
          9.439571380615234,
          4.325953483581543,
          -3.329329490661621,
          13.718000411987305,
          10.66041374206543,
          0.49670615792274475,
          -3.10599684715271,
          -0.7061977982521057,
          8.287458419799805,
          -2.109750509262085,
          0.48753345012664795,
          0.08101537078619003,
          5.859345436096191,
          -5.844123363494873,
          0.4618893265724182,
          2.733919620513916,
          2.1771178245544434,
          9.173116683959961,
          9.93425178527832,
          -3.6368532180786133,
          13.461385726928711,
          9.030041694641113,
          14.320286750793457,
          3.9813272953033447,
          -3.0535221099853516,
          -3.6056017875671387,
          0.4288928210735321,
          1.1184500455856323,
          -4.2827253341674805,
          2.9893712997436523,
          -0.4423087239265442,
          1.2619301080703735,
          0.8398151397705078,
          5.514364719390869,
          6.30409049987793,
          -0.7328281998634338,
          -1.6354329586029053,
          -4.911442756652832,
          10.554947853088379,
          8.477466583251953,
          6.10434103012085,
          5.3631768226623535,
          6.66441535949707,
          3.4580233097076416,
          16.48325538635254,
          -4.758866786956787,
          15.213048934936523,
          13.076911926269531,
          0.4210478961467743,
          -2.742201328277588,
          -5.343177318572998,
          1.4881536960601807,
          -3.676494598388672,
          -4.916881084442139,
          -1.799314022064209,
          2.160011053085327,
          5.865251064300537,
          3.602006196975708,
          5.282232761383057,
          2.458178997039795,
          0.11404502391815186,
          4.347639560699463,
          5.694008827209473,
          10.001639366149902,
          -2.1747446060180664,
          -6.819817066192627,
          9.200429916381836,
          -2.4620492458343506,
          2.0972230434417725,
          5.1107892990112305,
          13.405344009399414,
          5.971052169799805,
          -4.4576735496521,
          3.76790714263916,
          3.0209290981292725,
          -5.623119354248047,
          11.542182922363281,
          -5.601889610290527,
          12.392617225646973,
          1.6262438297271729,
          6.921885013580322,
          -4.54215145111084,
          11.252030372619629,
          -3.966254472732544,
          9.585616111755371,
          1.5245171785354614,
          6.351718902587891,
          -1.220146894454956,
          11.252618789672852,
          12.092655181884766,
          6.102141380310059,
          6.025853633880615,
          -5.426953315734863,
          3.1026415824890137,
          8.365751266479492,
          5.406294822692871,
          4.059606075286865,
          11.023824691772461,
          10.865842819213867,
          -2.7071893215179443,
          0.672069251537323,
          9.43319034576416,
          5.356592178344727,
          4.264394760131836,
          -5.04884672164917,
          -4.524435043334961,
          -0.26365742087364197,
          -3.899062395095825,
          5.329824924468994,
          4.895284175872803,
          -6.264014720916748,
          2.604888916015625,
          -0.25821805000305176,
          -3.53914213180542,
          10.615129470825195,
          15.934825897216797,
          4.596234321594238,
          -3.1900436878204346,
          -3.89597487449646,
          4.210670471191406,
          7.349673748016357,
          14.69684886932373,
          -0.7765946388244629,
          -6.707014083862305,
          -4.909263610839844,
          15.581477165222168,
          -4.044437408447266,
          14.951302528381348,
          -3.1376214027404785,
          12.097229957580566,
          4.045198440551758,
          9.719147682189941,
          14.488885879516602,
          -1.9340693950653076,
          10.001899719238281,
          16.36482048034668,
          -1.1707637310028076,
          5.2666754722595215,
          -2.6941492557525635,
          12.701041221618652,
          8.541288375854492,
          0.7686220407485962,
          1.8880075216293335,
          5.962447643280029,
          6.127035140991211,
          -5.265336513519287,
          3.459933042526245,
          5.317277431488037,
          8.679389953613281,
          3.6040000915527344,
          1.171128511428833,
          -0.3923790454864502,
          3.3127951622009277,
          -3.1339738368988037,
          5.688088417053223,
          4.105041027069092,
          -4.641089916229248,
          3.8636739253997803,
          -2.1485180854797363,
          8.855950355529785,
          -4.7639055252075195,
          9.002362251281738,
          6.151649475097656,
          -2.0623245239257812,
          3.316941261291504,
          9.520140647888184,
          9.494592666625977,
          14.112833023071289,
          3.3233652114868164,
          -3.6976912021636963,
          -6.681807994842529,
          -5.693115711212158,
          -4.6330060958862305,
          5.268214702606201,
          -0.5312247276306152,
          4.458061695098877,
          -7.803078651428223,
          -7.151341438293457,
          -4.55231237411499,
          11.697794914245605,
          -0.0001223679428221658,
          3.5559699535369873,
          -2.7632875442504883,
          16.312713623046875,
          10.659667015075684,
          -2.3753914833068848,
          4.954183101654053,
          15.663320541381836,
          8.043131828308105,
          0.5969765782356262,
          -4.429983139038086,
          -4.140827178955078,
          -1.7422034740447998,
          -5.714382648468018,
          -1.535130262374878,
          5.736429214477539,
          -3.5283091068267822,
          -3.1804988384246826,
          5.832722187042236,
          -6.159743309020996,
          12.100579261779785,
          0.39470812678337097,
          5.371860027313232,
          -0.4054866433143616,
          -5.831399917602539,
          0.5784252285957336,
          -3.8216021060943604,
          -4.959728717803955,
          3.6441526412963867,
          9.225748062133789,
          15.378276824951172,
          3.0245532989501953,
          0.6016673445701599,
          -1.9221391677856445,
          -0.48475387692451477,
          9.570290565490723,
          -2.654278039932251,
          12.859212875366211,
          12.65272045135498,
          -2.211308479309082,
          1.8744310140609741,
          5.7488112449646,
          7.728312015533447,
          -0.7501963973045349,
          -0.6385267972946167,
          5.098165512084961,
          0.6839242577552795,
          5.056495189666748,
          1.1259160041809082,
          0.24498194456100464,
          3.2096705436706543,
          8.784875869750977,
          0.5540710091590881,
          13.569268226623535,
          -4.01974630355835,
          13.169687271118164,
          1.1231985092163086,
          2.3213906288146973,
          -4.481403827667236,
          -4.63993501663208,
          -5.150403022766113,
          -3.3408315181732178,
          6.287107944488525,
          12.768588066101074,
          3.5386219024658203,
          1.7081453800201416,
          -5.944676876068115,
          14.38329792022705,
          -5.094534873962402,
          2.4608335494995117,
          -4.513768196105957,
          12.562764167785645,
          10.630300521850586,
          14.646035194396973,
          0.7726403474807739,
          -5.965610504150391,
          9.532541275024414,
          15.00179672241211,
          2.2925198078155518,
          -4.336544513702393,
          -5.993134498596191,
          4.337863922119141,
          8.378931045532227,
          -0.029272861778736115,
          11.446776390075684,
          -2.880263090133667,
          -3.298664093017578,
          11.867413520812988,
          4.802837371826172,
          10.938274383544922,
          -2.590888023376465,
          -3.576685905456543,
          -4.670488357543945,
          -3.0989537239074707,
          -3.3996658325195312,
          1.3148391246795654,
          1.5710558891296387,
          -4.0439653396606445,
          10.77552604675293,
          -4.6731367111206055,
          9.967499732971191,
          3.9963200092315674,
          -7.507372856140137,
          -3.347738027572632,
          -2.184774398803711,
          -4.045262336730957,
          1.003752589225769,
          5.050806522369385,
          12.148833274841309,
          -4.874517440795898,
          -0.7563400268554688,
          10.05494499206543,
          2.58799147605896,
          -4.493720531463623,
          9.617988586425781,
          3.728586196899414,
          -5.360735893249512,
          3.065831422805786,
          9.744250297546387,
          11.558736801147461,
          7.905316352844238,
          4.240947723388672,
          -5.7797112464904785,
          1.0581135749816895,
          6.832422733306885,
          14.588866233825684,
          2.2151806354522705,
          -1.756818413734436,
          8.869863510131836,
          6.50186014175415,
          13.85307788848877,
          14.376139640808105,
          -0.3567480146884918,
          -2.5452494621276855,
          -0.564898669719696,
          0.4254698157310486,
          13.675936698913574,
          7.31992769241333,
          14.217218399047852,
          6.088989734649658,
          10.181479454040527,
          15.640901565551758,
          16.067811965942383,
          9.913193702697754,
          11.322056770324707,
          11.890497207641602,
          -2.4165172576904297,
          -4.267198085784912,
          -2.6213135719299316,
          9.654474258422852,
          -0.9504894614219666,
          8.65768051147461,
          -2.5113444328308105,
          -7.936334133148193,
          3.153374195098877,
          -2.1363091468811035,
          2.419764518737793,
          -5.357651710510254,
          5.595737457275391,
          -7.257022857666016,
          2.9342687129974365,
          -1.7047730684280396,
          2.080996513366699,
          -2.5100948810577393,
          8.116778373718262,
          -4.6489481925964355,
          10.348899841308594,
          9.827563285827637,
          -2.8869857788085938,
          5.024374961853027,
          8.848529815673828,
          0.7136111259460449,
          11.847487449645996,
          12.55782699584961,
          12.173102378845215,
          7.5736894607543945,
          -5.427373886108398,
          6.64291524887085,
          7.163604259490967,
          -5.166846752166748,
          5.561051368713379,
          7.208644866943359,
          0.45960378646850586,
          14.868393898010254,
          10.21800708770752,
          12.420836448669434,
          9.135420799255371,
          4.899229526519775,
          12.73621654510498,
          0.5775395035743713,
          -6.148301601409912,
          -4.991796493530273,
          7.305151462554932,
          6.3732709884643555,
          -0.3068040609359741,
          7.4189372062683105,
          -0.42355433106422424,
          -4.24595832824707,
          9.123202323913574,
          14.960819244384766,
          9.176525115966797,
          -3.184166669845581,
          -4.599358558654785,
          14.898404121398926,
          -3.864961624145508,
          10.737212181091309,
          -3.4148201942443848,
          9.536280632019043,
          14.064558982849121,
          5.209675312042236,
          9.07242202758789,
          13.687885284423828,
          14.259628295898438,
          10.829293251037598,
          16.0471134185791,
          1.9824708700180054,
          -2.82191801071167,
          4.266321182250977,
          2.3707001209259033,
          6.048830986022949
         ],
         "z": [
          -7.081759929656982,
          -0.9652643203735352,
          5.29608154296875,
          -2.900705337524414,
          -2.3593850135803223,
          -2.5834481716156006,
          -6.589046478271484,
          -6.156854152679443,
          -8.475177764892578,
          0.9521715641021729,
          -9.2364501953125,
          -6.594597339630127,
          -1.020538568496704,
          -2.0550899505615234,
          -5.573129177093506,
          -4.65978479385376,
          -4.041899681091309,
          0.09374959766864777,
          -4.4294114112854,
          -4.217972278594971,
          -2.276238203048706,
          -3.658273220062256,
          -4.249628067016602,
          -4.234818458557129,
          -1.1407525539398193,
          -0.3331370949745178,
          -1.4692422151565552,
          -9.585540771484375,
          -0.0853218212723732,
          -2.660238265991211,
          -7.209310531616211,
          -7.199746131896973,
          -4.587695121765137,
          -4.247312545776367,
          -10.151826858520508,
          -4.248877048492432,
          -5.235209941864014,
          -4.213732719421387,
          0.9608617424964905,
          -7.534023284912109,
          -3.1176435947418213,
          -2.4365501403808594,
          -0.48166775703430176,
          -9.932045936584473,
          -1.447327733039856,
          -0.8960784673690796,
          -2.6316580772399902,
          -3.214597702026367,
          -1.655697226524353,
          -1.1388423442840576,
          -5.235211372375488,
          -2.177082061767578,
          -4.007415294647217,
          -9.663019180297852,
          -8.070218086242676,
          0.6585883498191833,
          -5.0239033699035645,
          -8.325058937072754,
          -7.192271709442139,
          -4.665148735046387,
          -1.4223570823669434,
          0.890014111995697,
          -4.8521952629089355,
          -0.8693261742591858,
          -0.9625416994094849,
          -9.752628326416016,
          -5.831943035125732,
          -3.814556360244751,
          -6.146976470947266,
          4.10384464263916,
          -3.9760994911193848,
          -8.366303443908691,
          -2.748809337615967,
          -7.7073140144348145,
          -6.861210346221924,
          -8.551139831542969,
          -7.390926361083984,
          -1.95069420337677,
          -8.428349494934082,
          -9.530389785766602,
          -2.790130376815796,
          3.583889961242676,
          -4.6246442794799805,
          4.816514015197754,
          -6.972453594207764,
          -0.8034089803695679,
          4.576577663421631,
          -4.067356586456299,
          -9.871856689453125,
          -9.201821327209473,
          4.8826003074646,
          -1.4629487991333008,
          -3.8874735832214355,
          -0.7832297086715698,
          4.320478916168213,
          -4.526914596557617,
          -2.6112658977508545,
          -1.2764101028442383,
          -0.5084599852561951,
          -7.585621356964111,
          3.53790020942688,
          -8.6466064453125,
          -8.830060005187988,
          -6.31866455078125,
          4.211614608764648,
          -7.391433238983154,
          -6.495385646820068,
          -9.78399658203125,
          -5.051001071929932,
          -3.7554712295532227,
          -4.027899742126465,
          -8.933539390563965,
          1.032597303390503,
          -2.0636441707611084,
          -5.046651840209961,
          -2.5551114082336426,
          -7.1868577003479,
          -3.523300886154175,
          5.254474639892578,
          -0.39196643233299255,
          0.5246674418449402,
          -3.053840160369873,
          -4.348031044006348,
          -7.998871326446533,
          -8.409989356994629,
          -3.349209785461426,
          4.323799133300781,
          -2.5340144634246826,
          -5.1850762367248535,
          -2.7493367195129395,
          -4.036189079284668,
          -2.0637459754943848,
          -3.6067259311676025,
          -10.261241912841797,
          -10.261393547058105,
          -0.9841604232788086,
          -5.070423603057861,
          -6.778556823730469,
          -5.7710442543029785,
          -1.3292473554611206,
          -6.479191780090332,
          -8.03957462310791,
          -6.824856758117676,
          -10.248953819274902,
          -1.9465759992599487,
          -6.892642021179199,
          -4.449712753295898,
          -8.716114044189453,
          -8.003081321716309,
          -5.5411601066589355,
          -8.525458335876465,
          -1.5551453828811646,
          -4.326908111572266,
          2.9217092990875244,
          -2.4928908348083496,
          -3.5860471725463867,
          -0.9438350200653076,
          -6.5119428634643555,
          -3.655095338821411,
          1.8492753505706787,
          -7.994725704193115,
          -0.1617531180381775,
          -2.39593505859375,
          -1.0882781744003296,
          -0.8181272745132446,
          -10.00187873840332,
          -1.4319673776626587,
          0.0949813649058342,
          -8.108924865722656,
          -4.871359825134277,
          -10.022841453552246,
          -9.505061149597168,
          -9.515853881835938,
          -1.8363511562347412,
          -1.938375473022461,
          0.6774240136146545,
          -9.734114646911621,
          -9.637917518615723,
          -0.02117631398141384,
          -2.292605400085449,
          -4.488707065582275,
          -9.725375175476074,
          -7.73652458190918,
          -1.362181305885315,
          -9.610407829284668,
          -5.141828536987305,
          -6.179351806640625,
          -8.794425010681152,
          -3.1486761569976807,
          -9.712554931640625,
          -6.374580383300781,
          -9.61919116973877,
          -5.6910929679870605,
          0.24529847502708435,
          -1.7295560836791992,
          2.632093906402588,
          -0.18949726223945618,
          3.5343971252441406,
          -9.909796714782715,
          -8.156386375427246,
          -9.355215072631836,
          -6.521570205688477,
          -10.203537940979004,
          0.7973343133926392,
          -5.58755350112915,
          -9.5780029296875,
          -4.069091796875,
          -8.942581176757812,
          -1.717803716659546,
          -5.896693706512451,
          -6.73244571685791,
          -9.95091724395752,
          -3.9598240852355957,
          -4.2920050621032715,
          -4.161276817321777,
          -6.25578498840332,
          -2.2085421085357666,
          -3.767510175704956,
          -5.404880523681641,
          5.224158763885498,
          -7.2500128746032715,
          3.8918039798736572,
          -1.5413753986358643,
          -2.8178651332855225,
          -2.0921835899353027,
          -1.024641990661621,
          -6.782765865325928,
          -9.44991683959961,
          -5.199240207672119,
          -8.515429496765137,
          -10.135130882263184,
          -7.9360527992248535,
          -5.021327495574951,
          -5.666010856628418,
          -10.099944114685059,
          -4.542314529418945,
          -4.181126594543457,
          -2.8188424110412598,
          -1.1799814701080322,
          -9.70294189453125,
          -1.1955938339233398,
          -3.929699182510376,
          -6.9433112144470215,
          -4.711604595184326,
          -1.807983160018921,
          -0.6042318940162659,
          -2.0992579460144043,
          1.4649534225463867,
          -9.179937362670898,
          -4.336942195892334,
          -8.316957473754883,
          -0.11964904516935349,
          -8.325629234313965,
          -1.992083191871643,
          -2.809885263442993,
          -6.811418533325195,
          -8.925292015075684,
          -1.2391458749771118,
          -6.785490989685059,
          -5.393092155456543,
          -2.4829866886138916,
          -2.2417333126068115,
          -8.586182594299316,
          -0.21396809816360474,
          1.4625262022018433,
          -7.867306232452393,
          -10.041217803955078,
          -1.1249370574951172,
          -9.82334041595459,
          -4.551351547241211,
          -9.088446617126465,
          -4.92756462097168,
          -4.013857841491699,
          1.0318381786346436,
          -1.5027894973754883,
          -2.6481120586395264,
          -5.451021671295166,
          -1.7171692848205566,
          -7.266270637512207,
          -3.5979671478271484,
          -5.889586448669434,
          -6.514148712158203,
          -6.525351524353027,
          -2.5529136657714844,
          -8.738033294677734,
          -0.9283168911933899,
          -9.470787048339844,
          -9.775300025939941,
          -6.543461799621582,
          0.5948350429534912,
          4.769266605377197,
          -4.763975143432617,
          -1.3854764699935913,
          -0.9060066342353821,
          -8.965754508972168,
          -1.0081956386566162,
          3.8427071571350098,
          -7.380496025085449,
          -1.2337956428527832,
          -4.356403350830078,
          4.79371976852417,
          -8.809575080871582,
          3.597270965576172,
          -9.787555694580078,
          1.4579081535339355,
          -9.823136329650879,
          -5.249522686004639,
          3.095043182373047,
          -8.769000053405762,
          -2.1026172637939453,
          5.101242542266846,
          -6.95251989364624,
          -3.56581711769104,
          -2.092149496078491,
          1.981200933456421,
          -6.437106609344482,
          -6.543674945831299,
          -3.473666191101074,
          -4.234886646270752,
          -8.49001693725586,
          -5.57038688659668,
          -9.965397834777832,
          -1.745883584022522,
          -1.3955013751983643,
          -2.191256046295166,
          -5.608272552490234,
          -8.073620796203613,
          -5.457846641540527,
          -9.664891242980957,
          -8.543055534362793,
          -1.6111629009246826,
          -5.477499485015869,
          -8.195443153381348,
          -2.1356122493743896,
          0.4998537003993988,
          -6.248898029327393,
          -3.5108020305633545,
          -2.5567026138305664,
          -2.2113187313079834,
          -3.3134260177612305,
          0.42703041434288025,
          0.4335198402404785,
          0.7574815154075623,
          -2.184866189956665,
          -8.387136459350586,
          -1.1917673349380493,
          -8.28670597076416,
          -5.7802910804748535,
          -7.918487548828125,
          -10.080415725708008,
          -8.455489158630371,
          -0.8998093008995056,
          -1.084669828414917,
          1.0928566455841064,
          -3.2491695880889893,
          -7.769286632537842,
          -5.007741928100586,
          -2.0990610122680664,
          4.999383449554443,
          0.920606791973114,
          -9.429678916931152,
          -5.907485008239746,
          4.326597690582275,
          -6.512231349945068,
          -4.344329833984375,
          -1.2602826356887817,
          -7.0609893798828125,
          -6.981789588928223,
          -8.268105506896973,
          -9.027600288391113,
          -4.905941963195801,
          -9.028488159179688,
          -7.059207916259766,
          -5.48006010055542,
          -4.515643119812012,
          -2.4770560264587402,
          -8.326669692993164,
          -3.0795798301696777,
          -9.544121742248535,
          -3.174356698989868,
          -3.1854615211486816,
          -1.0118327140808105,
          -8.348989486694336,
          -8.025553703308105,
          -0.053244199603796005,
          4.2184553146362305,
          -5.352934837341309,
          -8.843523025512695,
          -1.9166913032531738,
          -9.556924819946289,
          0.7173201441764832,
          -9.67314338684082,
          2.0892281532287598,
          -1.2394051551818848,
          -8.28931999206543,
          -3.8294951915740967,
          -9.246986389160156,
          -5.704661846160889,
          -10.198495864868164,
          -7.276119709014893,
          -8.981714248657227,
          -5.2688069343566895,
          -8.297000885009766,
          -8.991479873657227,
          -6.211481094360352,
          -8.08138656616211,
          -4.184360027313232,
          -2.868654251098633,
          -0.2980339825153351,
          -1.892088532447815,
          -1.0432746410369873,
          -3.3657069206237793,
          -5.375792026519775,
          -8.619669914245605,
          -8.45118236541748,
          -1.5246975421905518,
          -2.021367073059082,
          -5.851718425750732,
          -1.86531400680542,
          -2.71630859375,
          -5.21596097946167,
          -5.483778476715088,
          3.3101398944854736,
          -1.6449388265609741,
          -2.318601131439209,
          -1.782917857170105,
          1.856016993522644,
          0.6320689916610718,
          3.7028746604919434,
          -8.723828315734863,
          -4.988401889801025,
          -2.0193941593170166,
          3.7340874671936035,
          -2.367551803588867,
          -6.032668113708496,
          -0.8961086273193359,
          -2.0489494800567627,
          -4.311578273773193,
          -2.5523459911346436,
          1.001412034034729,
          -2.0665719509124756,
          -9.495451927185059,
          -2.652421236038208,
          -8.659883499145508,
          -2.4781367778778076,
          -6.958282947540283,
          -9.434741973876953,
          -8.808253288269043,
          -9.012325286865234,
          -1.9850564002990723,
          -3.7212390899658203,
          -2.519777774810791,
          -6.674722194671631,
          -1.352946400642395,
          -7.010904312133789,
          -1.7233455181121826,
          -1.6012736558914185,
          -0.9916983842849731,
          -9.657751083374023,
          -9.389787673950195,
          -9.240431785583496,
          -8.576251029968262,
          -9.343979835510254,
          1.4951646327972412,
          -1.2612099647521973,
          -6.586638927459717,
          0.3479340672492981,
          -2.3109664916992188,
          -1.4595918655395508,
          -1.582434892654419,
          -8.671234130859375,
          -7.215066909790039,
          -3.508568525314331,
          -4.3292999267578125,
          -0.6806351542472839,
          -1.3987587690353394,
          -8.416327476501465,
          -0.9987925887107849,
          -4.407604694366455,
          -7.956818103790283,
          4.092436790466309,
          -2.849248170852661,
          -9.926264762878418,
          -5.253103733062744,
          -8.279300689697266,
          0.20252007246017456,
          3.098555088043213,
          -10.245173454284668,
          -8.624929428100586,
          -6.433041572570801,
          -8.672518730163574,
          -0.09779131412506104,
          -5.661056995391846,
          1.0082957744598389,
          -8.605374336242676,
          0.3619571328163147,
          4.803072452545166,
          4.911206245422363,
          -0.89749675989151,
          -3.3575174808502197,
          -2.879950761795044,
          -8.249186515808105,
          0.7913711667060852,
          -7.289821624755859,
          -1.7052006721496582,
          -7.7606120109558105,
          -0.37467506527900696,
          -8.758419036865234,
          -0.8102981448173523,
          -3.3271641731262207,
          -9.798965454101562,
          -5.6197099685668945,
          1.361075520515442,
          -1.6756285429000854,
          -1.044998049736023,
          -9.940350532531738,
          -9.841261863708496,
          -3.697120189666748,
          -9.56006908416748,
          -6.569368839263916,
          -1.7601532936096191,
          0.46351516246795654,
          0.19237400591373444,
          -1.5259263515472412,
          -2.87589955329895,
          -5.661858558654785,
          -5.736125946044922,
          1.2601109743118286,
          -2.0387156009674072,
          1.499600887298584,
          -0.8965538740158081,
          -6.167840957641602,
          -2.9731290340423584,
          -3.8197836875915527,
          -7.139101982116699,
          -2.4562082290649414,
          -1.079763650894165,
          -5.121609687805176,
          4.2152838706970215,
          -2.600545883178711,
          1.73745858669281,
          0.3827137053012848,
          -9.343881607055664,
          -1.9355906248092651,
          -8.299254417419434,
          -4.4708356857299805,
          -1.1050275564193726,
          -4.914430141448975,
          -7.983774662017822,
          -6.529565811157227,
          -1.0169576406478882,
          -10.259455680847168,
          0.7959886789321899,
          -6.002225399017334,
          3.513572931289673,
          -3.418383836746216,
          -2.0056447982788086,
          -8.620668411254883,
          3.3968758583068848,
          -1.9114923477172852,
          0.7755561470985413,
          -9.396422386169434,
          0.07214809954166412,
          2.9677367210388184,
          -3.4694430828094482,
          -3.8726487159729004,
          -0.11123912781476974,
          3.471963405609131,
          1.0088635683059692,
          4.554486274719238,
          -4.39410924911499,
          -1.9802696704864502,
          -9.607633590698242,
          -10.06483268737793,
          -9.535481452941895
         ]
        },
        {
         "hoverlabel": {
          "namelength": 0
         },
         "hovertemplate": "Dominant_Topic=Topic 3<br>0=%{x}<br>1=%{y}<br>2=%{z}",
         "legendgroup": "Dominant_Topic=Topic 3",
         "marker": {
          "color": "#00cc96",
          "opacity": 0.7,
          "symbol": "circle"
         },
         "mode": "markers",
         "name": "Dominant_Topic=Topic 3",
         "scene": "scene",
         "showlegend": true,
         "type": "scatter3d",
         "x": [
          0.08493892848491669,
          0.364311158657074,
          -2.807955026626587,
          0.0017225760966539383,
          -0.1725517064332962
         ],
         "y": [
          -6.119647026062012,
          -6.270748615264893,
          -5.828749656677246,
          -7.016977787017822,
          -7.1943769454956055
         ],
         "z": [
          -5.33358907699585,
          -4.786145210266113,
          -8.193509101867676,
          -3.668898344039917,
          -3.4710068702697754
         ]
        }
       ],
       "layout": {
        "height": 800,
        "legend": {
         "tracegroupgap": 0
        },
        "scene": {
         "domain": {
          "x": [
           0,
           1
          ],
          "y": [
           0,
           1
          ]
         },
         "xaxis": {
          "title": {
           "text": "0"
          }
         },
         "yaxis": {
          "title": {
           "text": "1"
          }
         },
         "zaxis": {
          "title": {
           "text": "2"
          }
         }
        },
        "template": {
         "data": {
          "bar": [
           {
            "error_x": {
             "color": "#2a3f5f"
            },
            "error_y": {
             "color": "#2a3f5f"
            },
            "marker": {
             "line": {
              "color": "#E5ECF6",
              "width": 0.5
             }
            },
            "type": "bar"
           }
          ],
          "barpolar": [
           {
            "marker": {
             "line": {
              "color": "#E5ECF6",
              "width": 0.5
             }
            },
            "type": "barpolar"
           }
          ],
          "carpet": [
           {
            "aaxis": {
             "endlinecolor": "#2a3f5f",
             "gridcolor": "white",
             "linecolor": "white",
             "minorgridcolor": "white",
             "startlinecolor": "#2a3f5f"
            },
            "baxis": {
             "endlinecolor": "#2a3f5f",
             "gridcolor": "white",
             "linecolor": "white",
             "minorgridcolor": "white",
             "startlinecolor": "#2a3f5f"
            },
            "type": "carpet"
           }
          ],
          "choropleth": [
           {
            "colorbar": {
             "outlinewidth": 0,
             "ticks": ""
            },
            "type": "choropleth"
           }
          ],
          "contour": [
           {
            "colorbar": {
             "outlinewidth": 0,
             "ticks": ""
            },
            "colorscale": [
             [
              0,
              "#0d0887"
             ],
             [
              0.1111111111111111,
              "#46039f"
             ],
             [
              0.2222222222222222,
              "#7201a8"
             ],
             [
              0.3333333333333333,
              "#9c179e"
             ],
             [
              0.4444444444444444,
              "#bd3786"
             ],
             [
              0.5555555555555556,
              "#d8576b"
             ],
             [
              0.6666666666666666,
              "#ed7953"
             ],
             [
              0.7777777777777778,
              "#fb9f3a"
             ],
             [
              0.8888888888888888,
              "#fdca26"
             ],
             [
              1,
              "#f0f921"
             ]
            ],
            "type": "contour"
           }
          ],
          "contourcarpet": [
           {
            "colorbar": {
             "outlinewidth": 0,
             "ticks": ""
            },
            "type": "contourcarpet"
           }
          ],
          "heatmap": [
           {
            "colorbar": {
             "outlinewidth": 0,
             "ticks": ""
            },
            "colorscale": [
             [
              0,
              "#0d0887"
             ],
             [
              0.1111111111111111,
              "#46039f"
             ],
             [
              0.2222222222222222,
              "#7201a8"
             ],
             [
              0.3333333333333333,
              "#9c179e"
             ],
             [
              0.4444444444444444,
              "#bd3786"
             ],
             [
              0.5555555555555556,
              "#d8576b"
             ],
             [
              0.6666666666666666,
              "#ed7953"
             ],
             [
              0.7777777777777778,
              "#fb9f3a"
             ],
             [
              0.8888888888888888,
              "#fdca26"
             ],
             [
              1,
              "#f0f921"
             ]
            ],
            "type": "heatmap"
           }
          ],
          "heatmapgl": [
           {
            "colorbar": {
             "outlinewidth": 0,
             "ticks": ""
            },
            "colorscale": [
             [
              0,
              "#0d0887"
             ],
             [
              0.1111111111111111,
              "#46039f"
             ],
             [
              0.2222222222222222,
              "#7201a8"
             ],
             [
              0.3333333333333333,
              "#9c179e"
             ],
             [
              0.4444444444444444,
              "#bd3786"
             ],
             [
              0.5555555555555556,
              "#d8576b"
             ],
             [
              0.6666666666666666,
              "#ed7953"
             ],
             [
              0.7777777777777778,
              "#fb9f3a"
             ],
             [
              0.8888888888888888,
              "#fdca26"
             ],
             [
              1,
              "#f0f921"
             ]
            ],
            "type": "heatmapgl"
           }
          ],
          "histogram": [
           {
            "marker": {
             "colorbar": {
              "outlinewidth": 0,
              "ticks": ""
             }
            },
            "type": "histogram"
           }
          ],
          "histogram2d": [
           {
            "colorbar": {
             "outlinewidth": 0,
             "ticks": ""
            },
            "colorscale": [
             [
              0,
              "#0d0887"
             ],
             [
              0.1111111111111111,
              "#46039f"
             ],
             [
              0.2222222222222222,
              "#7201a8"
             ],
             [
              0.3333333333333333,
              "#9c179e"
             ],
             [
              0.4444444444444444,
              "#bd3786"
             ],
             [
              0.5555555555555556,
              "#d8576b"
             ],
             [
              0.6666666666666666,
              "#ed7953"
             ],
             [
              0.7777777777777778,
              "#fb9f3a"
             ],
             [
              0.8888888888888888,
              "#fdca26"
             ],
             [
              1,
              "#f0f921"
             ]
            ],
            "type": "histogram2d"
           }
          ],
          "histogram2dcontour": [
           {
            "colorbar": {
             "outlinewidth": 0,
             "ticks": ""
            },
            "colorscale": [
             [
              0,
              "#0d0887"
             ],
             [
              0.1111111111111111,
              "#46039f"
             ],
             [
              0.2222222222222222,
              "#7201a8"
             ],
             [
              0.3333333333333333,
              "#9c179e"
             ],
             [
              0.4444444444444444,
              "#bd3786"
             ],
             [
              0.5555555555555556,
              "#d8576b"
             ],
             [
              0.6666666666666666,
              "#ed7953"
             ],
             [
              0.7777777777777778,
              "#fb9f3a"
             ],
             [
              0.8888888888888888,
              "#fdca26"
             ],
             [
              1,
              "#f0f921"
             ]
            ],
            "type": "histogram2dcontour"
           }
          ],
          "mesh3d": [
           {
            "colorbar": {
             "outlinewidth": 0,
             "ticks": ""
            },
            "type": "mesh3d"
           }
          ],
          "parcoords": [
           {
            "line": {
             "colorbar": {
              "outlinewidth": 0,
              "ticks": ""
             }
            },
            "type": "parcoords"
           }
          ],
          "pie": [
           {
            "automargin": true,
            "type": "pie"
           }
          ],
          "scatter": [
           {
            "marker": {
             "colorbar": {
              "outlinewidth": 0,
              "ticks": ""
             }
            },
            "type": "scatter"
           }
          ],
          "scatter3d": [
           {
            "line": {
             "colorbar": {
              "outlinewidth": 0,
              "ticks": ""
             }
            },
            "marker": {
             "colorbar": {
              "outlinewidth": 0,
              "ticks": ""
             }
            },
            "type": "scatter3d"
           }
          ],
          "scattercarpet": [
           {
            "marker": {
             "colorbar": {
              "outlinewidth": 0,
              "ticks": ""
             }
            },
            "type": "scattercarpet"
           }
          ],
          "scattergeo": [
           {
            "marker": {
             "colorbar": {
              "outlinewidth": 0,
              "ticks": ""
             }
            },
            "type": "scattergeo"
           }
          ],
          "scattergl": [
           {
            "marker": {
             "colorbar": {
              "outlinewidth": 0,
              "ticks": ""
             }
            },
            "type": "scattergl"
           }
          ],
          "scattermapbox": [
           {
            "marker": {
             "colorbar": {
              "outlinewidth": 0,
              "ticks": ""
             }
            },
            "type": "scattermapbox"
           }
          ],
          "scatterpolar": [
           {
            "marker": {
             "colorbar": {
              "outlinewidth": 0,
              "ticks": ""
             }
            },
            "type": "scatterpolar"
           }
          ],
          "scatterpolargl": [
           {
            "marker": {
             "colorbar": {
              "outlinewidth": 0,
              "ticks": ""
             }
            },
            "type": "scatterpolargl"
           }
          ],
          "scatterternary": [
           {
            "marker": {
             "colorbar": {
              "outlinewidth": 0,
              "ticks": ""
             }
            },
            "type": "scatterternary"
           }
          ],
          "surface": [
           {
            "colorbar": {
             "outlinewidth": 0,
             "ticks": ""
            },
            "colorscale": [
             [
              0,
              "#0d0887"
             ],
             [
              0.1111111111111111,
              "#46039f"
             ],
             [
              0.2222222222222222,
              "#7201a8"
             ],
             [
              0.3333333333333333,
              "#9c179e"
             ],
             [
              0.4444444444444444,
              "#bd3786"
             ],
             [
              0.5555555555555556,
              "#d8576b"
             ],
             [
              0.6666666666666666,
              "#ed7953"
             ],
             [
              0.7777777777777778,
              "#fb9f3a"
             ],
             [
              0.8888888888888888,
              "#fdca26"
             ],
             [
              1,
              "#f0f921"
             ]
            ],
            "type": "surface"
           }
          ],
          "table": [
           {
            "cells": {
             "fill": {
              "color": "#EBF0F8"
             },
             "line": {
              "color": "white"
             }
            },
            "header": {
             "fill": {
              "color": "#C8D4E3"
             },
             "line": {
              "color": "white"
             }
            },
            "type": "table"
           }
          ]
         },
         "layout": {
          "annotationdefaults": {
           "arrowcolor": "#2a3f5f",
           "arrowhead": 0,
           "arrowwidth": 1
          },
          "coloraxis": {
           "colorbar": {
            "outlinewidth": 0,
            "ticks": ""
           }
          },
          "colorscale": {
           "diverging": [
            [
             0,
             "#8e0152"
            ],
            [
             0.1,
             "#c51b7d"
            ],
            [
             0.2,
             "#de77ae"
            ],
            [
             0.3,
             "#f1b6da"
            ],
            [
             0.4,
             "#fde0ef"
            ],
            [
             0.5,
             "#f7f7f7"
            ],
            [
             0.6,
             "#e6f5d0"
            ],
            [
             0.7,
             "#b8e186"
            ],
            [
             0.8,
             "#7fbc41"
            ],
            [
             0.9,
             "#4d9221"
            ],
            [
             1,
             "#276419"
            ]
           ],
           "sequential": [
            [
             0,
             "#0d0887"
            ],
            [
             0.1111111111111111,
             "#46039f"
            ],
            [
             0.2222222222222222,
             "#7201a8"
            ],
            [
             0.3333333333333333,
             "#9c179e"
            ],
            [
             0.4444444444444444,
             "#bd3786"
            ],
            [
             0.5555555555555556,
             "#d8576b"
            ],
            [
             0.6666666666666666,
             "#ed7953"
            ],
            [
             0.7777777777777778,
             "#fb9f3a"
            ],
            [
             0.8888888888888888,
             "#fdca26"
            ],
            [
             1,
             "#f0f921"
            ]
           ],
           "sequentialminus": [
            [
             0,
             "#0d0887"
            ],
            [
             0.1111111111111111,
             "#46039f"
            ],
            [
             0.2222222222222222,
             "#7201a8"
            ],
            [
             0.3333333333333333,
             "#9c179e"
            ],
            [
             0.4444444444444444,
             "#bd3786"
            ],
            [
             0.5555555555555556,
             "#d8576b"
            ],
            [
             0.6666666666666666,
             "#ed7953"
            ],
            [
             0.7777777777777778,
             "#fb9f3a"
            ],
            [
             0.8888888888888888,
             "#fdca26"
            ],
            [
             1,
             "#f0f921"
            ]
           ]
          },
          "colorway": [
           "#636efa",
           "#EF553B",
           "#00cc96",
           "#ab63fa",
           "#FFA15A",
           "#19d3f3",
           "#FF6692",
           "#B6E880",
           "#FF97FF",
           "#FECB52"
          ],
          "font": {
           "color": "#2a3f5f"
          },
          "geo": {
           "bgcolor": "white",
           "lakecolor": "white",
           "landcolor": "#E5ECF6",
           "showlakes": true,
           "showland": true,
           "subunitcolor": "white"
          },
          "hoverlabel": {
           "align": "left"
          },
          "hovermode": "closest",
          "mapbox": {
           "style": "light"
          },
          "paper_bgcolor": "white",
          "plot_bgcolor": "#E5ECF6",
          "polar": {
           "angularaxis": {
            "gridcolor": "white",
            "linecolor": "white",
            "ticks": ""
           },
           "bgcolor": "#E5ECF6",
           "radialaxis": {
            "gridcolor": "white",
            "linecolor": "white",
            "ticks": ""
           }
          },
          "scene": {
           "xaxis": {
            "backgroundcolor": "#E5ECF6",
            "gridcolor": "white",
            "gridwidth": 2,
            "linecolor": "white",
            "showbackground": true,
            "ticks": "",
            "zerolinecolor": "white"
           },
           "yaxis": {
            "backgroundcolor": "#E5ECF6",
            "gridcolor": "white",
            "gridwidth": 2,
            "linecolor": "white",
            "showbackground": true,
            "ticks": "",
            "zerolinecolor": "white"
           },
           "zaxis": {
            "backgroundcolor": "#E5ECF6",
            "gridcolor": "white",
            "gridwidth": 2,
            "linecolor": "white",
            "showbackground": true,
            "ticks": "",
            "zerolinecolor": "white"
           }
          },
          "shapedefaults": {
           "line": {
            "color": "#2a3f5f"
           }
          },
          "ternary": {
           "aaxis": {
            "gridcolor": "white",
            "linecolor": "white",
            "ticks": ""
           },
           "baxis": {
            "gridcolor": "white",
            "linecolor": "white",
            "ticks": ""
           },
           "bgcolor": "#E5ECF6",
           "caxis": {
            "gridcolor": "white",
            "linecolor": "white",
            "ticks": ""
           }
          },
          "title": {
           "x": 0.05
          },
          "xaxis": {
           "automargin": true,
           "gridcolor": "white",
           "linecolor": "white",
           "ticks": "",
           "title": {
            "standoff": 15
           },
           "zerolinecolor": "white",
           "zerolinewidth": 2
          },
          "yaxis": {
           "automargin": true,
           "gridcolor": "white",
           "linecolor": "white",
           "ticks": "",
           "title": {
            "standoff": 15
           },
           "zerolinecolor": "white",
           "zerolinewidth": 2
          }
         }
        },
        "title": {
         "text": "3d TSNE Plot for Topic Model"
        },
        "width": 900
       }
      },
      "text/html": [
       "<div>\n",
       "        \n",
       "        \n",
       "            <div id=\"57faa180-79e2-410c-9642-1a9cbce416ea\" class=\"plotly-graph-div\" style=\"height:800px; width:900px;\"></div>\n",
       "            <script type=\"text/javascript\">\n",
       "                require([\"plotly\"], function(Plotly) {\n",
       "                    window.PLOTLYENV=window.PLOTLYENV || {};\n",
       "                    \n",
       "                if (document.getElementById(\"57faa180-79e2-410c-9642-1a9cbce416ea\")) {\n",
       "                    Plotly.newPlot(\n",
       "                        '57faa180-79e2-410c-9642-1a9cbce416ea',\n",
       "                        [{\"hoverlabel\": {\"namelength\": 0}, \"hovertemplate\": \"Dominant_Topic=Topic 0<br>0=%{x}<br>1=%{y}<br>2=%{z}\", \"legendgroup\": \"Dominant_Topic=Topic 0\", \"marker\": {\"color\": \"#636efa\", \"opacity\": 0.7, \"symbol\": \"circle\"}, \"mode\": \"markers\", \"name\": \"Dominant_Topic=Topic 0\", \"scene\": \"scene\", \"showlegend\": true, \"type\": \"scatter3d\", \"x\": [-6.653586387634277, -6.389996528625488, -8.113950729370117, 2.203718662261963, -0.9979873895645142, 1.1413878202438354, 2.4791066646575928, -10.543399810791016, -7.61577844619751, 0.7952315211296082, -1.2103471755981445, -2.530261516571045, 4.146433353424072, 2.267265558242798, -6.390849590301514, -5.839134693145752, -10.125308990478516, -10.451591491699219, 0.17481590807437897, 0.600054144859314, -9.871489524841309, -8.158648490905762, -0.176735982298851, -1.674742579460144, 3.0523109436035156, -10.4158935546875, -7.2892045974731445, -8.05671215057373, -6.07709264755249, 2.7480006217956543, 4.949361324310303, -8.109884262084961, -2.4357259273529053, -7.118577003479004, 1.8897548913955688, -7.047000885009766, 3.2735135555267334, -6.490754127502441, -7.260921955108643, -8.959735870361328, -6.541964530944824, -0.054358962923288345, -10.357958793640137, 1.8005839586257935, 2.398698329925537, -5.919161319732666, -5.922781467437744, 2.613156318664551, 0.6714404821395874, -5.717220306396484, -10.301504135131836, -1.451567530632019, -6.263130187988281, -10.366227149963379, -10.446996688842773, -7.567715644836426, 5.430831432342529, -9.265398979187012, -6.987372875213623, 0.8027712106704712, -7.311433792114258, -7.4080681800842285, -6.574814319610596, 5.419061660766602, -5.373106956481934, -8.943279266357422, -7.096403121948242, 5.307923793792725, -10.419012069702148, 2.0856409072875977, -8.415131568908691, -8.358894348144531, -2.3071844577789307, -10.45590591430664, -9.867558479309082, -10.175378799438477, 3.4859366416931152, -8.144370079040527, -8.12182903289795, -0.14922724664211273, -1.2125778198242188, -7.630821228027344, -1.3257795572280884, 2.2398884296417236, -8.311429977416992, -2.3723056316375732, 3.1931612491607666, -0.3321356475353241, -0.7637360692024231, 1.9509295225143433, -2.2828826904296875, -2.544959306716919, 2.801682710647583, -0.9013715982437134, -9.767857551574707, 0.16226857900619507, 1.9825091361999512, 3.60497784614563, -0.22308817505836487, -8.22436809539795, -6.391365051269531, 3.539212703704834, 3.3448076248168945, -8.079387664794922, -7.235097885131836, -10.357836723327637, -7.765432357788086, -1.6150990724563599, -10.438067436218262, -2.2683136463165283, 1.5298207998275757, 1.28567636013031, 1.373268961906433, -2.9518027305603027, 0.9251824617385864, -8.186394691467285, -9.50794506072998, -3.237386465072632, 1.7654868364334106, -2.007110595703125, -1.8725489377975464, -1.1332666873931885, -6.7972798347473145, -9.643861770629883, -6.685345649719238, -6.4960150718688965, -2.03769850730896, 3.3871164321899414, 1.6956539154052734, 7.042333602905273, -7.190426349639893, -6.640163421630859, -6.843952655792236, -5.814863681793213, 3.4319005012512207, -7.283495903015137, -10.106565475463867, -8.175817489624023, 6.45815896987915, 2.8996081352233887, 1.570157527923584, -7.226047992706299, 1.2196134328842163, 3.897087574005127, -1.5792210102081299, 0.4065950810909271, -9.419098854064941, -5.775838851928711, -2.814321517944336, -9.325462341308594, -3.3530049324035645, 6.174638748168945, -10.275935173034668, -8.306439399719238, -5.377505302429199, -3.3556177616119385, 5.190746784210205, -6.370104789733887, -3.0826828479766846, -4.851577281951904, 1.5697535276412964, 2.254300117492676, -5.31480598449707, -7.406723976135254, -10.416996955871582, -7.826415061950684, -10.456984519958496, -2.2109484672546387, 2.2726101875305176, 4.4557013511657715, -5.672037601470947, -6.50796365737915, 3.269233465194702, 1.4848964214324951, 5.18792200088501, -1.4943745136260986, -7.051912784576416, -8.110640525817871, -3.1842105388641357, -9.597844123840332, -8.074847221374512, 6.8648457527160645, -6.762851715087891, -0.3452325165271759, -7.27668571472168, 2.350111722946167, 2.446399450302124, -2.7846765518188477, -7.368043422698975, -0.3943338990211487, 1.6732332706451416, -9.462373733520508, 2.1871018409729004, -3.1499757766723633, 0.07677391916513443, -1.2913390398025513, -1.5254043340682983, -8.49996280670166, 0.1431005895137787, -7.818257808685303, -10.229718208312988, -3.611402988433838, -2.355346202850342, -2.4425928592681885, 0.7366694808006287, -3.115119457244873, -7.556576728820801, 4.424221515655518, -0.4474100172519684, -1.051498293876648, 2.479663133621216, 2.1248016357421875, 3.4476869106292725, -7.8564300537109375, -8.101007461547852, -9.598993301391602, 0.9500501751899719, 1.2399824857711792, 1.656130313873291, 0.4386441111564636, -7.1737165451049805, -10.199053764343262, 1.270060420036316, -5.23018741607666, -5.879592418670654, -6.460261344909668, -0.02247687242925167, -8.030168533325195, -10.371328353881836, -1.2848421335220337, -3.118837594985962, 0.44856953620910645, 1.2002553939819336, 2.3110010623931885, 0.21313832700252533, -5.084867000579834, 5.1782145500183105, -7.435400009155273, -8.139324188232422, 5.335678577423096, 0.8564308285713196, -8.364526748657227, 4.179751873016357, 5.428338527679443, -4.400698184967041, -8.249476432800293, -10.220503807067871, -1.586883306503296, -1.6299787759780884, 1.0581235885620117, 0.5616154670715332, -8.241328239440918, 7.044463157653809, -6.433940887451172, -3.274500846862793, -1.828843593597412, 0.7975789904594421, -1.5676641464233398, -10.439870834350586, -1.6059929132461548, -3.825108528137207, 1.0979264974594116, -0.9866079688072205, -10.686077117919922, -9.092267036437988, -7.2739386558532715, -9.746639251708984, -2.9477953910827637, -0.2719714939594269, -8.096477508544922, -8.521988868713379, 0.12419179081916809, -3.674415111541748, -8.860340118408203, -8.962846755981445, -9.833191871643066, 1.1616170406341553, -5.825119495391846, -2.149266242980957, -10.435678482055664, -10.4039888381958, -0.5508113503456116, -7.272665023803711, -8.928807258605957, -9.522406578063965, -10.312031745910645, -0.2151070237159729, -9.94550895690918, -9.931480407714844, -9.664008140563965, 6.586193561553955, 2.9697771072387695, -10.186126708984375, -8.344656944274902, 6.070147514343262, -5.610470294952393, -9.27088737487793, -10.233975410461426, -10.35672378540039, -8.099433898925781, -0.7529675960540771, -1.7127143144607544, 1.4442228078842163, -8.63642406463623, 4.0162248611450195, -9.74257755279541, -7.454976558685303, 5.008453369140625, -6.538567066192627, -8.156307220458984, 2.090646505355835, -7.203408241271973, -7.701910495758057, -7.740185260772705, -10.512229919433594, -8.096979141235352, 5.1735944747924805, -7.442444324493408, -9.473248481750488, -4.711241245269775, -10.420125961303711, -9.581692695617676, -5.239409923553467, -6.9487152099609375, -4.49761438369751, -5.965582370758057, -1.3596298694610596, 1.3130735158920288, -0.26889336109161377, 3.352020740509033, -0.42914703488349915, 5.0477118492126465, -8.677886009216309, -0.9112771153450012, -0.6572892665863037, -10.477397918701172, -8.340189933776855, -4.087480545043945, -7.560009956359863, -3.9311788082122803, -2.575810670852661, -8.525343894958496, -10.513469696044922, -10.414314270019531, 6.991959571838379, 6.064175128936768, -10.222259521484375, -9.553820610046387, 1.593238115310669, 4.828093528747559, -1.5043007135391235, -9.742568016052246, -8.095110893249512, -9.706525802612305, 0.47758981585502625, 0.8380481004714966, -8.09948444366455, -8.230077743530273, -4.960200786590576, -8.094776153564453, -2.2536299228668213, -8.132355690002441, -5.376551628112793, -10.174903869628906, -8.85042667388916, -5.769638538360596, -10.691924095153809, -1.8374196290969849, -10.436944961547852, -10.47463607788086, -10.426983833312988, -8.108969688415527, 1.934224247932434, -8.416860580444336, -10.508206367492676, -9.416651725769043, 0.6542535424232483, -9.432787895202637, -10.20333480834961, -9.766111373901367, -10.423151969909668, -8.6435546875, 0.1509966105222702, -1.6276676654815674, -9.68649959564209, -10.10511302947998, -9.489165306091309, 1.825364589691162, -10.370454788208008, -10.362456321716309, 3.1350209712982178, 2.444204092025757, -9.009408950805664, -10.28928279876709, -10.214643478393555, -10.49215030670166, -9.6547212600708, -8.060276985168457, -5.5656609535217285, -9.351872444152832, 6.465917110443115, -10.4348726272583, -2.347843647003174, -9.097668647766113, -10.449760437011719, -7.816948413848877, -8.176923751831055, -6.42795467376709, -2.7650935649871826, -10.409631729125977, -10.1184663772583, -10.583651542663574, -10.359208106994629, -9.553739547729492, -8.616564750671387, -1.2050343751907349, -10.476746559143066, 6.274341583251953, 2.738840341567993, -1.2995898723602295], \"y\": [2.5938289165496826, -9.338225364685059, -3.7388763427734375, -9.534287452697754, -9.545347213745117, -12.514205932617188, -5.484910488128662, 8.013835906982422, -7.235166072845459, -7.658496856689453, -5.909945011138916, -9.877290725708008, -10.733363151550293, -6.486201763153076, -9.34713077545166, -10.148216247558594, 4.395839214324951, 5.0897674560546875, -6.056304454803467, -7.518269062042236, 3.521232843399048, -4.215974807739258, -7.371379852294922, -5.363317489624023, -10.521791458129883, 6.704279899597168, -7.6747965812683105, -5.113031387329102, -9.646040916442871, -6.66500997543335, -9.273024559020996, -3.8247241973876953, -7.1602373123168945, -8.365394592285156, -11.952601432800293, 1.4515471458435059, -6.517512798309326, 3.020690441131592, -2.859402656555176, 0.7677793502807617, -4.42258358001709, -11.406757354736328, 6.122321128845215, -6.896729469299316, -12.036452293395996, -10.014803886413574, -6.158137321472168, -10.806013107299805, -6.122203350067139, -8.477812767028809, 8.297296524047852, -6.353823661804199, -3.851306438446045, 8.44791316986084, 4.448760509490967, -7.406355381011963, -8.59194564819336, 1.3484128713607788, -5.712323188781738, -6.059396266937256, -4.998170375823975, -5.223097324371338, 2.8878118991851807, -7.998267650604248, -7.067619323730469, 4.150876998901367, -5.468146324157715, -9.910935401916504, 6.597213268280029, -4.912225246429443, -0.5502358078956604, 5.572910785675049, -5.2849884033203125, 5.905288219451904, 1.854304313659668, 4.234989166259766, -5.885058879852295, -4.414259910583496, -3.9156453609466553, -8.296263694763184, -6.289730548858643, -7.189290523529053, -9.742091178894043, -5.3759660720825195, -0.7631657123565674, -10.433030128479004, -5.946439743041992, -7.648449420928955, -9.347026824951172, -12.258113861083984, -7.024729251861572, -5.134922981262207, -6.513784408569336, -5.3773322105407715, 2.7123844623565674, -8.113027572631836, -12.114823341369629, -10.864849090576172, -7.7529377937316895, -1.3972760438919067, -3.695958137512207, -4.769694805145264, -11.361488342285156, -2.954308271408081, -8.122931480407715, 8.038487434387207, -2.9717721939086914, -11.005329132080078, 6.329190731048584, -11.386409759521484, -12.260455131530762, -12.461639404296875, -6.827567100524902, -10.392251014709473, -10.800248146057129, -1.6135777235031128, 0.29167798161506653, -8.340412139892578, -5.72891902923584, -11.966708183288574, -6.975048542022705, -6.499510288238525, -6.089117527008057, 1.3414866924285889, 2.384162187576294, -8.890390396118164, -11.955428123474121, -5.408219337463379, -4.919646739959717, -8.18863582611084, -8.231888771057129, 2.9982502460479736, -4.368955135345459, -9.890830039978027, -10.2559232711792, -5.04448127746582, 4.579336643218994, -1.6935657262802124, -8.289621353149414, -11.727034568786621, -5.392220497131348, -5.489178657531738, -7.9943461418151855, -10.429887771606445, -9.888603210449219, -5.1486430168151855, 7.624770164489746, -6.188599109649658, -11.123995780944824, 1.4856213331222534, -11.548803329467773, -9.020796775817871, 3.4380578994750977, -1.6339380741119385, -9.471301078796387, -8.570002555847168, -9.996756553649902, -3.4568331241607666, -8.596458435058594, -10.846490859985352, -11.591151237487793, -12.104649543762207, -10.536727905273438, -6.065684795379639, 5.921008586883545, -6.272731304168701, 5.094566345214844, -10.933046340942383, -6.871425151824951, -7.913743019104004, -10.362142562866211, 3.100583553314209, -5.092243671417236, -6.1306471824646, -9.043155670166016, -5.417575836181641, -5.884097099304199, -4.465135097503662, -8.765097618103027, 1.2454755306243896, -4.852286338806152, -8.14962100982666, -8.695958137512207, -11.385289192199707, -8.107024192810059, -9.683578491210938, -5.227196216583252, -11.664674758911133, -4.798002243041992, -7.818166255950928, -12.072446823120117, 4.876773357391357, -5.376287460327148, -8.307703971862793, -6.972753047943115, -9.73801326751709, -5.826941967010498, 0.10607807338237762, -6.160680770874023, -6.231595039367676, 3.2640175819396973, -8.50009536743164, -7.728943347930908, -7.941694736480713, -12.143233299255371, -8.73250675201416, -4.804919242858887, -10.579431533813477, -5.888993740081787, -5.842516899108887, -9.949015617370605, -10.882755279541016, -6.137532711029053, -6.195139408111572, -4.639547348022461, 1.2171759605407715, -12.470001220703125, -9.593313217163086, -5.146030902862549, -8.143350601196289, 1.1776455640792847, 3.0408265590667725, -7.7268900871276855, -8.311601638793945, -7.816356658935547, 2.9807839393615723, -8.212504386901855, -5.204320907592773, 6.4817118644714355, -10.167963981628418, -11.657861709594727, -10.97382640838623, -12.47509765625, -11.539731979370117, -12.552412033081055, -10.686798095703125, -10.030004501342773, -7.805996894836426, -4.448324203491211, -8.816442489624023, -12.490076065063477, -2.4777777194976807, -9.703929901123047, -9.81605339050293, -11.046089172363281, -1.298329472541809, 3.1468260288238525, -10.774789810180664, -11.305960655212402, -4.66304349899292, -7.502028942108154, -1.3305423259735107, -8.16115665435791, -9.319961547851562, -8.74958610534668, -7.205014705657959, -11.090689659118652, -10.471454620361328, 5.668308734893799, -8.287954330444336, -10.505692481994629, -6.532907962799072, -10.851971626281738, 7.664719581604004, 1.0059401988983154, -5.1098480224609375, 2.638154983520508, -11.684248924255371, -7.708926677703857, -4.549173355102539, -0.4061572551727295, -12.517585754394531, -8.418190956115723, 0.42493578791618347, 0.7112521529197693, 1.3474310636520386, -7.478312969207764, -9.983708381652832, -5.2615766525268555, 4.551898956298828, 6.3964152336120605, -6.032147407531738, -5.146944999694824, 0.595419704914093, 0.7174351811408997, 4.767873764038086, -12.477221488952637, 1.9784375429153442, 3.2521142959594727, 2.3849897384643555, -8.547414779663086, -11.636453628540039, 4.604245662689209, -0.3779139220714569, -9.18867015838623, -10.422974586486816, 1.3724334239959717, 4.2594075202941895, 8.406593322753906, -3.0549938678741455, -12.284974098205566, -11.86198616027832, -7.290434837341309, -0.09359241276979446, -10.883980751037598, 2.6296639442443848, -7.7452521324157715, -10.124550819396973, -3.176846742630005, -4.215151786804199, -12.226591110229492, -5.326423645019531, -6.782503604888916, -6.723419666290283, 7.461946487426758, -4.604290962219238, -9.893838882446289, -7.768477916717529, 1.8504778146743774, -10.904637336730957, 4.455245494842529, 0.5448600053787231, -10.398658752441406, -8.546187400817871, -11.0052490234375, -8.235679626464844, -12.155858039855957, -6.147706508636475, -8.031402587890625, -11.404898643493652, -12.391390800476074, -8.192831993103027, 0.35377687215805054, -10.841712951660156, -12.32418155670166, 7.397806644439697, -0.8421642780303955, -11.197120666503906, -7.336549758911133, -8.373333930969238, -11.813589096069336, -0.3423084020614624, 4.962806701660156, 4.470574855804443, -8.262507438659668, -9.1691255569458, 3.184774875640869, 5.915406227111816, -4.725040435791016, -9.732791900634766, -9.970741271972656, 7.560450553894043, -3.2861874103546143, 7.848209857940674, -9.961081504821777, -6.553380012512207, -3.6553843021392822, -1.409731149673462, -10.722646713256836, -2.3972549438476562, -11.887167930603027, -4.126748085021973, -9.684045791625977, 4.880474090576172, 0.47617989778518677, -10.267646789550781, 7.889306545257568, -11.263545036315918, 7.314083099365234, 7.465419769287109, 5.328657150268555, -2.202986717224121, -6.131562232971191, 5.611321449279785, 7.904752731323242, 0.6860071420669556, -12.472200393676758, 0.0921286791563034, 3.0648550987243652, 7.85056209564209, 7.117075443267822, 0.18060098588466644, -12.485615730285645, -10.218384742736816, 0.8804016709327698, 4.8990020751953125, 1.8899239301681519, -9.665242195129395, 5.167506694793701, 7.985184669494629, -5.965137481689453, -10.838507652282715, 0.8571187853813171, 3.5189695358276367, 3.1333506107330322, 7.833040237426758, 2.352985143661499, -2.7342708110809326, -10.185517311096191, -0.13896070420742035, -8.775376319885254, 7.384915828704834, -7.4327545166015625, 5.678626537322998, 5.629419803619385, -6.408095359802246, -1.7015454769134521, -4.150557994842529, -11.787508010864258, 5.304835796356201, 3.772352695465088, 7.755074501037598, 8.142777442932129, 0.4742521047592163, -0.030196672305464745, -6.851759433746338, 8.548500061035156, -8.962946891784668, -9.629990577697754, -11.792945861816406], \"z\": [9.123580932617188, 5.004040718078613, 9.225591659545898, 2.1178395748138428, 3.5992684364318848, 1.3880159854888916, 1.1100181341171265, 7.220439910888672, 6.42924690246582, 3.6083855628967285, 4.893795490264893, 3.8418021202087402, 0.39087679982185364, 2.9399898052215576, 5.0047197341918945, 4.686626434326172, 10.420392036437988, 9.889890670776367, 4.397514820098877, -2.365374803543091, 10.529569625854492, 8.940199851989746, -3.135571002960205, 5.28326940536499, 1.1515600681304932, 8.003639221191406, 5.837344646453857, 8.309793472290039, 4.7646307945251465, 2.4967615604400635, -0.5251069068908691, 9.015790939331055, 3.911984920501709, 5.641629219055176, 0.9601911902427673, 9.550484657287598, 2.0399391651153564, 8.939116477966309, 8.660661697387695, 10.81107234954834, 6.64105749130249, 1.044524908065796, 7.652774810791016, 3.230893850326538, 0.9583397507667542, 4.699593544006348, 5.860503196716309, 1.2921277284622192, 4.171069622039795, 4.866497993469238, 6.841350078582764, 4.7304487228393555, 7.036461353302002, 6.4778594970703125, 10.402255058288574, 6.299096584320068, 0.1475113183259964, 10.927984237670898, 5.4960174560546875, 4.1206512451171875, 4.865894317626953, 7.461822032928467, 9.006335258483887, 0.27427953481674194, 4.760627746582031, 9.816814422607422, 5.468086242675781, 0.034807514399290085, 8.12710189819336, 3.380540132522583, 10.568297386169434, 8.083724975585938, 5.475828170776367, 8.98219108581543, 7.601195812225342, 10.427796363830566, 1.7767831087112427, 8.963960647583008, 9.129918098449707, -1.5674312114715576, 4.689153671264648, 6.469887733459473, 3.630451202392578, 3.1554198265075684, 10.217377662658691, 3.771348714828491, 2.088226556777954, -2.7146828174591064, 3.617525100708008, 1.1030168533325195, 4.4045491218566895, 5.616598129272461, 2.463080644607544, 5.025720596313477, 10.866118431091309, -1.8053135871887207, 1.037527084350586, 0.6602534055709839, -2.47825026512146, 10.19074821472168, 7.22967529296875, 1.7121111154556274, 0.6340354084968567, 9.504595756530762, 5.777483940124512, 7.202397346496582, 9.208453178405762, 3.2933456897735596, 8.453021049499512, 3.4463133811950684, 1.1641995906829834, 1.3243612051010132, 3.56170916557312, 3.905366897583008, 0.5736913681030273, 9.958784103393555, 6.864091396331787, 3.5124459266662598, 3.611769437789917, 3.0459084510803223, 4.519236087799072, 4.591865062713623, 6.381619453430176, 8.546184539794922, 9.192137718200684, 5.070450305938721, 3.0626354217529297, 1.8422930240631104, 3.744363307952881, -0.7266957759857178, 5.721892356872559, 8.9823637008667, 6.994489669799805, 4.542782783508301, 0.9803410172462463, 7.404845237731934, 9.730460166931152, 10.108447074890137, -0.8952103853225708, 0.7927678823471069, 3.7559893131256104, 5.2321391105651855, 3.284937620162964, 0.6251524686813354, 2.5237338542938232, 4.489289283752441, 6.592595100402832, 5.820953845977783, 3.7310450077056885, 10.964695930480957, 3.746020555496216, -0.35581040382385254, 6.8851542472839355, 9.324644088745117, 3.929452896118164, 2.0243518352508545, 0.07147042453289032, 7.380320072174072, 3.454925537109375, 4.297918319702148, 0.6767319440841675, 1.0099284648895264, 4.445152282714844, 6.90262508392334, 8.865058898925781, 7.2255659103393555, 10.030512809753418, 3.595160722732544, 3.992499351501465, 0.9227233529090881, 4.628390312194824, 8.916058540344238, 1.938784122467041, 4.17191743850708, -0.6802497506141663, 5.207337856292725, 5.727174282073975, 8.792586326599121, 2.762803554534912, 8.628874778747559, 8.501675605773926, -0.7153341174125671, 5.307365417480469, 1.1880319118499756, 5.821703910827637, 1.962279200553894, 2.9533562660217285, 3.4908864498138428, 4.794025897979736, -2.43194580078125, 1.0391178131103516, 9.45763111114502, 3.385194778442383, 1.189805030822754, -3.6896510124206543, 3.60789155960083, 4.999021530151367, 10.215507507324219, 4.374813556671143, 7.2318501472473145, 6.931949615478516, 1.991117238998413, 4.299756050109863, 4.214870929718018, 1.9085983037948608, 1.5702346563339233, 7.896773815155029, 0.319889634847641, 4.671477317810059, 4.882812023162842, -0.2389955371618271, 0.16630280017852783, 1.8480327129364014, 7.31974458694458, 8.655599594116211, 8.531550407409668, 1.4225969314575195, -0.642812192440033, 3.8507397174835205, 3.5780258178710938, 9.658936500549316, 6.974826335906982, 3.3551526069641113, 3.5261316299438477, 5.084915637969971, 8.940229415893555, -1.709307312965393, 8.195526123046875, 7.172047138214111, 2.918356418609619, 3.644735813140869, 0.5482118129730225, 1.3521347045898438, 1.168308138847351, 1.7739514112472534, 4.359401226043701, 0.08453266322612762, 6.031476974487305, 8.099197387695312, 0.1975623220205307, 1.462111234664917, 8.543278694152832, -0.17906129360198975, -0.004394947085529566, 4.145199775695801, 10.258670806884766, 6.955134391784668, 3.3213858604431152, 2.2100396156311035, 4.224595546722412, -2.4589383602142334, 10.250256538391113, -0.7246843576431274, 5.039980888366699, 2.0157384872436523, 4.2758612632751465, 0.5238457322120667, 1.5825423002243042, 9.210563659667969, 4.09309720993042, 4.0985493659973145, -3.603301763534546, 1.280156135559082, 7.005178451538086, 10.8596773147583, 4.708503246307373, 10.886165618896484, 3.5702099800109863, -2.5767781734466553, 8.694489479064941, 10.70816707611084, 1.8047562837600708, 1.8768099546432495, 10.975760459899902, 10.955358505249023, 6.450285911560059, 3.5006039142608643, 4.5692338943481445, 5.456007957458496, 9.985954284667969, 8.28905200958252, 4.647951126098633, 4.914973735809326, 10.96703815460205, 7.755422115325928, 7.797617435455322, 1.9850366115570068, 7.117145538330078, 10.767730712890625, 10.91411018371582, -0.5577276349067688, 0.758006751537323, 10.46127700805664, 10.14457893371582, -0.28642743825912476, 4.606140613555908, 10.980666160583496, 10.4775390625, 6.587498188018799, 9.570534706115723, 2.2637438774108887, 2.748654842376709, 3.3829329013824463, 10.820733070373535, 0.43977785110473633, 10.884636878967285, 6.0658135414123535, 0.12307748943567276, 7.725885391235352, 8.940481185913086, 1.0767831802368164, 4.748953342437744, 6.742735862731934, 6.841248989105225, 6.988934516906738, 8.663987159729004, 0.027589846402406693, 6.046324253082275, 10.904115676879883, 4.249378681182861, 10.477218627929688, 6.813712120056152, 4.339016437530518, 5.4778242111206055, 4.178255081176758, 4.559372901916504, 2.6663150787353516, 3.8775250911712646, -2.027824640274048, 0.6438663601875305, 2.082000494003296, 0.49724841117858887, 10.52609920501709, 1.2035282850265503, 2.212019443511963, 7.428184986114502, 10.428016662597656, 4.035573482513428, 6.3012590408325195, 2.1015074253082275, 3.373337507247925, 10.687224388122559, 10.172287940979004, 10.060579299926758, -0.6966774463653564, -0.29214146733283997, 7.0055251121521, 8.303309440612793, 3.8596367835998535, -0.18120494484901428, 0.9861723184585571, 6.822457790374756, 9.375849723815918, 6.5239105224609375, -0.20796115696430206, 3.956779718399048, 9.10641098022461, 10.27778434753418, 4.31904935836792, 9.794350624084473, 3.1879279613494873, 9.064142227172852, 4.644789218902588, 10.262492179870605, 10.914443969726562, 4.679775714874268, 6.942974090576172, 3.2964775562286377, 7.377911567687988, 7.387813568115234, 9.597820281982422, 9.87138843536377, 3.2980077266693115, 8.072755813598633, 6.570796966552734, 8.331550598144531, 1.527458906173706, 5.8442559242248535, 6.975836753845215, 6.558194637298584, 7.528683185577393, 10.769752502441406, 1.7734273672103882, 1.3968852758407593, 6.616635799407959, 10.006223678588867, 10.95854663848877, -0.5913892388343811, 9.562156677246094, 7.24114990234375, 2.0303990840911865, 0.15581928193569183, 10.838150024414062, 6.861652851104736, 6.992941379547119, 6.590323448181152, 10.92350959777832, 9.382628440856934, 4.410966396331787, 5.555338382720947, -0.4673316478729248, 7.310187816619873, 4.418833255767822, 8.313786506652832, 9.287433624267578, 7.141606330871582, 10.17808723449707, 6.752551555633545, 3.4749536514282227, 9.571054458618164, 10.653783798217773, 6.6944427490234375, 6.019387722015381, 6.9197564125061035, 10.784202575683594, 4.4519362449646, 6.449916839599609, -0.3861148953437805, 1.7191989421844482, 2.315988540649414]}, {\"hoverlabel\": {\"namelength\": 0}, \"hovertemplate\": \"Dominant_Topic=Topic 1<br>0=%{x}<br>1=%{y}<br>2=%{z}\", \"legendgroup\": \"Dominant_Topic=Topic 1\", \"marker\": {\"color\": \"#EF553B\", \"opacity\": 0.7, \"symbol\": \"circle\"}, \"mode\": \"markers\", \"name\": \"Dominant_Topic=Topic 1\", \"scene\": \"scene\", \"showlegend\": true, \"type\": \"scatter3d\", \"x\": [3.173837184906006, 7.3509650230407715, 0.878136396408081, 3.742351770401001, 5.041033744812012, 0.5017962455749512, 2.6789023876190186, -0.047571759670972824, 2.0763914585113525, 0.23756441473960876, -0.49308833479881287, 4.622164726257324, 6.344721794128418, 0.3308771550655365, 6.416173458099365, 7.337078094482422, 7.333870887756348, 4.779633045196533, 1.5134758949279785, 7.653817176818848, 2.217085599899292, 2.7854955196380615, 0.4484199583530426, 0.7877272367477417, 3.34554123878479, 5.887399673461914, 8.153105735778809, 0.5090761780738831, 0.12957940995693207, 3.732386827468872, 0.892069935798645, 3.4279425144195557, 1.2178332805633545, 3.3702120780944824, -0.9834286570549011, 1.800152063369751, 6.615664958953857, 2.130195379257202, 4.525850772857666, 1.3776358366012573, 0.45290055871009827, 8.548296928405762, 0.14237529039382935, -0.999109148979187, 6.804376125335693, 0.2721364200115204, 8.557159423828125, 3.9118292331695557, 6.446570873260498, 6.618036270141602, 4.388465881347656, 8.640292167663574, 5.1756110191345215, -0.7850856781005859, 0.0755622610449791, 4.866730690002441, 0.5273312330245972, 2.356583833694458, 3.2788755893707275, 7.273749351501465, 0.34999799728393555, 0.22607174515724182, 7.065622806549072, 7.181143760681152, 7.309720039367676, -0.5745184421539307, 6.0429911613464355, 1.205350399017334, 0.6826163530349731, 1.2314516305923462, 1.1652628183364868, -2.710319757461548, 7.937007427215576, 3.149207592010498, 2.9889113903045654, 2.26884388923645, 1.1004842519760132, 4.080687046051025, 2.032925844192505, 0.54877769947052, 6.480971336364746, 1.6887311935424805, 6.83168363571167, 0.908357560634613, 0.5721101760864258, 6.288865089416504, 1.1665817499160767, 3.867710828781128, -1.0210630893707275, 0.839313268661499, 0.7022794485092163, 5.584243297576904, 0.7980726957321167, 6.991661071777344, 0.7836191058158875, 2.6952431201934814, 8.574075698852539, 4.042498588562012, 6.054548740386963, 3.0965194702148438, 1.2388842105865479, 0.5810006856918335, 1.1812245845794678, 1.0865967273712158, 1.7338021993637085, 3.300065755844116, 4.87490701675415, -0.37117791175842285, 6.900455474853516, 7.36851692199707, 1.731826663017273, 0.25302252173423767, 4.318315029144287, 8.682929039001465, 5.274975776672363, 8.585726737976074, 3.0845930576324463, 7.884730815887451, 0.7112956643104553, 0.19981959462165833, 1.3676433563232422, 0.6301581859588623, 1.582149624824524, -1.393525242805481, -1.901200771331787, 8.2047700881958, 0.8403869867324829, 8.557188034057617, 4.285605430603027, 4.908027172088623, 5.0995097160339355, 8.661517143249512, 4.1750946044921875, -1.574962854385376, -1.574897050857544, 7.406172275543213, 1.774651050567627, -0.4303743541240692, 0.7824384570121765, 5.6580681800842285, 4.927363872528076, 2.1772778034210205, 1.851654052734375, -1.5393654108047485, 7.410427093505859, 2.2800824642181396, 1.2627898454666138, 1.8463947772979736, 0.31422159075737, 5.7675886154174805, 0.013239961117506027, 1.4201055765151978, 1.6849638223648071, 2.054752826690674, 8.594752311706543, 0.5334389805793762, 7.665644645690918, 0.9074641466140747, 8.026637077331543, 3.598902463912964, 0.27513137459754944, 3.4169745445251465, 8.546784400939941, 6.581360340118408, 0.26857027411460876, -0.582403838634491, 0.7435829043388367, 5.627108573913574, 2.7050085067749023, 1.5355981588363647, -0.7939900159835815, 0.6324331760406494, 0.6506175398826599, 8.454607963562012, 8.570303916931152, 1.345741629600525, -0.8275669813156128, -2.512601137161255, 0.16696903109550476, 2.6416208744049072, 3.4739389419555664, -2.492636203765869, 2.9434354305267334, 5.479225158691406, -0.8227186799049377, 3.0019431114196777, 5.462994575500488, -0.29988721013069153, 2.57832670211792, 0.21039161086082458, 5.000631809234619, 0.3284915089607239, 0.8844478130340576, 5.310575485229492, 7.192863464355469, 2.6868438720703125, 5.786374568939209, 1.940299391746521, -1.0286329984664917, 1.145761251449585, -2.0779855251312256, 4.77464485168457, -1.1653096675872803, 4.252033233642578, 5.991078853607178, 0.3342737555503845, 3.135096788406372, 1.7748397588729858, 7.334980487823486, 3.026951789855957, 4.3171563148498535, -1.5279686450958252, 3.6936228275299072, 0.7568923234939575, 3.0280096530914307, 2.8445332050323486, 6.643239974975586, 4.801209926605225, 5.8877410888671875, 0.7897863984107971, 0.3502499759197235, 1.4077272415161133, 0.05335894972085953, 4.324101448059082, 8.642248153686523, 7.674197673797607, 4.425220489501953, -2.4693291187286377, 2.2733747959136963, 1.5757744312286377, -0.9726777076721191, 1.2648522853851318, 6.080832481384277, 4.0726776123046875, -0.9256768226623535, 7.413273334503174, 6.324095726013184, 6.463191986083984, 4.230685710906982, -1.180540919303894, 7.631597995758057, 2.6018364429473877, 3.0322301387786865, 6.7880425453186035, 7.502706527709961, 0.1858208030462265, 6.783106803894043, 3.761981248855591, 0.8311989903450012, 6.030238151550293, -2.7512545585632324, 3.5358688831329346, -2.7383434772491455, 0.5379305481910706, 3.4453508853912354, 1.3718867301940918, -2.4929404258728027, 0.18011203408241272, 1.917198896408081, 0.7888953685760498, 8.575494766235352, 6.399566650390625, 1.7258381843566895, 3.7658751010894775, 3.9368131160736084, 1.119751214981079, 0.19049212336540222, 6.5393452644348145, -0.3434431552886963, 2.7192306518554688, -0.36916545033454895, 5.844696044921875, 0.5306224226951599, 0.5284596681594849, 6.037628650665283, 8.546027183532715, 0.8736616373062134, 7.44149923324585, 3.2704617977142334, 3.9074764251708984, 2.1403281688690186, 3.9010884761810303, 2.2414824962615967, 6.899625778198242, 0.989618718624115, 6.442760467529297, 0.5758843421936035, -0.09989501535892487, 2.5580320358276367, 4.886300086975098, 1.1592212915420532, 5.538036346435547, 6.368842601776123, 7.824002265930176, 1.0374963283538818, 6.5380353927612305, 1.8191429376602173, 3.3367204666137695, 7.6739935874938965, 3.2487540245056152, 1.0793087482452393, -1.4077244997024536, 1.1188241243362427, -2.3806135654449463, 3.927830219268799, -0.840911865234375, 0.7883746027946472, 1.6118190288543701, 1.1213483810424805, 3.5287907123565674, 0.5671315789222717, 3.775322914123535, 6.196427345275879, 8.6278657913208, 3.466764211654663, 0.6841763257980347, 4.549201011657715, 5.831340789794922, 4.929992198944092, 0.08959872275590897, 1.3276697397232056, -0.894457221031189, 7.438632011413574, 5.15057373046875, 7.966001033782959, 6.382596969604492, 2.6600117683410645, 5.92614221572876, -2.318154811859131, 0.847478449344635, 6.1767706871032715, 2.407668352127075, 2.4037187099456787, 8.403627395629883, 1.3484869003295898, 1.4424728155136108, 3.208787202835083, 6.317631244659424, 8.612138748168945, 4.067603588104248, 4.926281929016113, 4.895965099334717, 0.20130854845046997, 8.112727165222168, 0.05774359777569771, 7.516300678253174, -2.788213014602661, 2.1016452312469482, 1.815232515335083, -1.1343525648117065, 1.736480712890625, 7.205774784088135, 7.493219375610352, 4.0075836181640625, 0.4135657250881195, 3.1006386280059814, 6.1285319328308105, 8.651597023010254, 1.0118414163589478, 0.6409171223640442, -0.6086782813072205, 4.105306148529053, 0.786962628364563, 0.9897955060005188, 3.461911201477051, 6.363155364990234, 1.4064701795578003, 3.430398464202881, -2.784390687942505, 0.8908032774925232, 4.438395977020264, -1.1171613931655884, 2.361016035079956, 3.8105318546295166, 0.8439144492149353, 0.4973333179950714, 2.568979501724243, 6.518274307250977, 0.42002129554748535, 2.49259352684021, 4.011979103088379, 7.995439529418945, -1.4399148225784302, 2.70391583442688, 5.755468845367432, 0.8513049483299255, 6.181042671203613, 1.9029210805892944, 7.1963911056518555, 0.36232754588127136, 1.3720166683197021, -1.6846740245819092, 3.2841665744781494, 0.8990693092346191, 1.6478005647659302, 7.742833137512207, -0.09591539949178696, 2.066837787628174, -1.6523913145065308, 3.5121662616729736, 0.31814882159233093, 6.734777927398682, 1.5250639915466309, 1.7158197164535522, 3.8946518898010254, 2.7499632835388184, 2.7301506996154785, 4.23477840423584, 0.1736077070236206, 8.51900863647461, 0.19445715844631195, 8.176933288574219, 6.345653057098389, -1.7233600616455078, -0.563508152961731, 7.729387283325195, 8.644181251525879, 3.079813003540039, 0.18154631555080414, 7.760839462280273, 6.738194465637207, 0.235309436917305, 1.9476927518844604, 8.19792652130127, 8.408133506774902, 8.385414123535156, 3.582914352416992, 4.909952163696289, 1.0914524793624878, 2.116659164428711, 0.7163539528846741, 4.033111095428467, 1.6607134342193604, 8.441055297851562, 2.233609676361084, 7.744529724121094, 7.701278209686279, 2.9561612606048584, 8.570772171020508, 4.348954677581787, 8.642178535461426, -2.0102651119232178, 0.6346120238304138, 1.1991642713546753, 2.114504098892212, 2.9243063926696777, -2.2602009773254395, -2.4224488735198975, 0.14035919308662415, 8.605851173400879, 7.930295944213867, 8.547623634338379, 1.9882166385650635, 3.37677264213562, 0.716239333152771, 3.875229597091675, 5.979228496551514, 7.364776134490967, -2.4066357612609863, -0.32838860154151917, -2.502397298812866, 2.3308377265930176, -0.5352721810340881, 3.8923189640045166, 6.6230692863464355, 4.414423942565918, 5.289180278778076, 8.364624977111816, 6.982686519622803, 4.275350570678711, 1.7644299268722534, -0.8370630145072937, 7.556908130645752, 1.5976755619049072, 0.19485783576965332, 5.775008678436279, 1.9206887483596802, 6.354964256286621, 7.4980082511901855, 0.26755422353744507, 1.4413504600524902, 3.7203989028930664, -1.5539939403533936, 1.538603663444519, 0.04955592006444931, 0.15249444544315338, 1.5572490692138672, -1.5715938806533813, 0.9000006318092346, 5.007054328918457, 2.12791109085083, 0.17062096297740936, 2.411222219467163, 0.24045097827911377, -0.10276614129543304, 5.134978771209717, 0.691757321357727, 0.5037180185317993, 4.495880603790283, 0.6797539591789246, 0.4324471950531006, 1.5697126388549805, 4.0852251052856445, 2.545572519302368, 4.164829730987549, 2.644599676132202, 5.967466354370117, 1.0691170692443848, 6.920206546783447, 7.629405975341797, -1.4768545627593994, 6.175892353057861, 3.5440444946289062, 7.318756580352783, 7.433592796325684, -0.6022396683692932, -1.1884386539459229, 2.972871780395508, -1.1349196434020996, 0.872032105922699, 8.35375690460205, 5.045071601867676, 5.374187469482422, 6.273944854736328, 6.884019374847412, 1.184545636177063, 6.214654922485352, 4.088726997375488, 0.2951124906539917, 3.862534999847412, 6.452167510986328, 0.40628549456596375, 5.556839942932129, 4.247024059295654, -0.3481892943382263, 6.824052333831787, 6.591607570648193, 3.1343846321105957, 1.2146894931793213, 0.4698498845100403, 3.703979730606079, 4.780335426330566, -0.35031554102897644, 0.18572869896888733, 2.629979133605957, 0.9108661413192749, 6.257185459136963, 1.9707953929901123, 0.6757205724716187, 4.746729373931885, 6.470409870147705, -1.6460031270980835, 4.2381792068481445, 0.6440495848655701, 1.6179771423339844, 3.139073610305786, 8.622952461242676, -1.92041015625, 1.3765983581542969, 8.541010856628418, 4.740204334259033, -1.8971556425094604, 5.559478282928467, 1.8434600830078125, 6.3270087242126465, 2.7882673740386963, 0.1479598581790924, 1.3764855861663818, 0.5459432005882263, 0.9158569574356079, 7.320713996887207, 7.998238563537598, -0.4343384802341461, -0.803037703037262, 0.02196056768298149], \"y\": [-1.96019446849823, -7.616378307342529, 16.22214126586914, 1.4593088626861572, 7.890964508056641, 12.025433540344238, 5.904160976409912, -5.678982257843018, -0.6705701351165771, 14.188939094543457, 5.201186656951904, -0.9233204126358032, -5.654184818267822, 11.208806037902832, 0.5447382926940918, 0.4295400381088257, 2.675811290740967, 8.246423721313477, 9.742189407348633, 0.8232994675636292, 11.017056465148926, 2.377326250076294, 10.937905311584473, 10.568662643432617, 10.973359107971191, 8.777984619140625, -4.689492702484131, 0.5299040079116821, 13.71557331085205, 9.26502799987793, -4.3909382820129395, 4.122372627258301, 9.872661590576172, -4.911648750305176, 1.5862605571746826, -5.732065200805664, 2.1839449405670166, 9.366506576538086, 11.254776954650879, 6.24393892288208, 11.727675437927246, 1.7844696044921875, 13.50403881072998, 3.842264175415039, 6.201069355010986, 13.175548553466797, 0.5930994749069214, 3.241624355316162, -2.482847213745117, 7.107128620147705, 5.374099254608154, -2.3087637424468994, 5.943769931793213, 4.482025623321533, 6.791903972625732, 10.693477630615234, 10.191896438598633, -0.4189116358757019, 4.369857311248779, 0.5972633361816406, 12.870034217834473, 14.163957595825195, 1.5835882425308228, -7.916909694671631, -7.53883695602417, 3.9406967163085938, 0.07718925923109055, 10.486842155456543, 8.911430358886719, 14.689038276672363, 7.7038679122924805, -5.525608062744141, 3.1366078853607178, 3.4288973808288574, -2.64656925201416, 0.3200274407863617, -4.0511908531188965, 9.537444114685059, 3.980936050415039, -0.06661466509103775, 5.7092485427856445, 14.19046401977539, 2.8369805812835693, 15.51468563079834, 7.915696620941162, 7.849582195281982, 15.283186912536621, 7.254374027252197, 4.115757465362549, 3.6541364192962646, 16.41140365600586, 4.202670097351074, 10.823387145996094, -7.984137535095215, 15.60200023651123, -5.1058268547058105, 0.41167977452278137, 10.143505096435547, 8.419060707092285, 3.9473047256469727, 14.402146339416504, 5.484593868255615, 4.400209426879883, 8.177400588989258, 14.803119659423828, 3.9748222827911377, -0.7403531074523926, 3.43171763420105, 0.46372151374816895, 3.0993502140045166, 9.9021577835083, -2.583042621612549, 11.494528770446777, -3.186422824859619, 4.560151100158691, 1.1904453039169312, 4.650084018707275, 2.0850327014923096, 16.042219161987305, 13.492907524108887, 8.909326553344727, 11.598434448242188, 7.802177906036377, -4.97598123550415, -4.865245819091797, 0.5699175596237183, 15.313905715942383, -0.21599207818508148, 5.583768844604492, 7.653585910797119, 6.002140998840332, -3.0609705448150635, 3.7026116847991943, -0.2527904212474823, -0.2526153028011322, -2.2884714603424072, 8.794411659240723, -5.467559337615967, 9.206897735595703, 8.100179672241211, -0.803546130657196, 4.605138778686523, -3.988293170928955, -0.2526938319206238, 4.127248287200928, -3.4755449295043945, -5.959863185882568, -0.3435647189617157, -3.9913527965545654, 3.43473744392395, -3.532146692276001, 12.148852348327637, -5.7705078125, 13.939749717712402, 1.3755662441253662, 11.325578689575195, -2.8246049880981445, 8.048806190490723, 0.8265752196311951, 12.550150871276855, -4.029739856719971, 11.617816925048828, -0.9010868668556213, 7.211791038513184, 13.218802452087402, 2.030604124069214, 12.579257011413574, 9.516204833984375, -0.08797799795866013, 9.291830062866211, 2.796886444091797, 0.09974545985460281, -2.4505667686462402, -4.204385757446289, -3.775865077972412, 9.439571380615234, 4.325953483581543, -3.329329490661621, 13.718000411987305, 10.66041374206543, 0.49670615792274475, -3.10599684715271, -0.7061977982521057, 8.287458419799805, -2.109750509262085, 0.48753345012664795, 0.08101537078619003, 5.859345436096191, -5.844123363494873, 0.4618893265724182, 2.733919620513916, 2.1771178245544434, 9.173116683959961, 9.93425178527832, -3.6368532180786133, 13.461385726928711, 9.030041694641113, 14.320286750793457, 3.9813272953033447, -3.0535221099853516, -3.6056017875671387, 0.4288928210735321, 1.1184500455856323, -4.2827253341674805, 2.9893712997436523, -0.4423087239265442, 1.2619301080703735, 0.8398151397705078, 5.514364719390869, 6.30409049987793, -0.7328281998634338, -1.6354329586029053, -4.911442756652832, 10.554947853088379, 8.477466583251953, 6.10434103012085, 5.3631768226623535, 6.66441535949707, 3.4580233097076416, 16.48325538635254, -4.758866786956787, 15.213048934936523, 13.076911926269531, 0.4210478961467743, -2.742201328277588, -5.343177318572998, 1.4881536960601807, -3.676494598388672, -4.916881084442139, -1.799314022064209, 2.160011053085327, 5.865251064300537, 3.602006196975708, 5.282232761383057, 2.458178997039795, 0.11404502391815186, 4.347639560699463, 5.694008827209473, 10.001639366149902, -2.1747446060180664, -6.819817066192627, 9.200429916381836, -2.4620492458343506, 2.0972230434417725, 5.1107892990112305, 13.405344009399414, 5.971052169799805, -4.4576735496521, 3.76790714263916, 3.0209290981292725, -5.623119354248047, 11.542182922363281, -5.601889610290527, 12.392617225646973, 1.6262438297271729, 6.921885013580322, -4.54215145111084, 11.252030372619629, -3.966254472732544, 9.585616111755371, 1.5245171785354614, 6.351718902587891, -1.220146894454956, 11.252618789672852, 12.092655181884766, 6.102141380310059, 6.025853633880615, -5.426953315734863, 3.1026415824890137, 8.365751266479492, 5.406294822692871, 4.059606075286865, 11.023824691772461, 10.865842819213867, -2.7071893215179443, 0.672069251537323, 9.43319034576416, 5.356592178344727, 4.264394760131836, -5.04884672164917, -4.524435043334961, -0.26365742087364197, -3.899062395095825, 5.329824924468994, 4.895284175872803, -6.264014720916748, 2.604888916015625, -0.25821805000305176, -3.53914213180542, 10.615129470825195, 15.934825897216797, 4.596234321594238, -3.1900436878204346, -3.89597487449646, 4.210670471191406, 7.349673748016357, 14.69684886932373, -0.7765946388244629, -6.707014083862305, -4.909263610839844, 15.581477165222168, -4.044437408447266, 14.951302528381348, -3.1376214027404785, 12.097229957580566, 4.045198440551758, 9.719147682189941, 14.488885879516602, -1.9340693950653076, 10.001899719238281, 16.36482048034668, -1.1707637310028076, 5.2666754722595215, -2.6941492557525635, 12.701041221618652, 8.541288375854492, 0.7686220407485962, 1.8880075216293335, 5.962447643280029, 6.127035140991211, -5.265336513519287, 3.459933042526245, 5.317277431488037, 8.679389953613281, 3.6040000915527344, 1.171128511428833, -0.3923790454864502, 3.3127951622009277, -3.1339738368988037, 5.688088417053223, 4.105041027069092, -4.641089916229248, 3.8636739253997803, -2.1485180854797363, 8.855950355529785, -4.7639055252075195, 9.002362251281738, 6.151649475097656, -2.0623245239257812, 3.316941261291504, 9.520140647888184, 9.494592666625977, 14.112833023071289, 3.3233652114868164, -3.6976912021636963, -6.681807994842529, -5.693115711212158, -4.6330060958862305, 5.268214702606201, -0.5312247276306152, 4.458061695098877, -7.803078651428223, -7.151341438293457, -4.55231237411499, 11.697794914245605, -0.0001223679428221658, 3.5559699535369873, -2.7632875442504883, 16.312713623046875, 10.659667015075684, -2.3753914833068848, 4.954183101654053, 15.663320541381836, 8.043131828308105, 0.5969765782356262, -4.429983139038086, -4.140827178955078, -1.7422034740447998, -5.714382648468018, -1.535130262374878, 5.736429214477539, -3.5283091068267822, -3.1804988384246826, 5.832722187042236, -6.159743309020996, 12.100579261779785, 0.39470812678337097, 5.371860027313232, -0.4054866433143616, -5.831399917602539, 0.5784252285957336, -3.8216021060943604, -4.959728717803955, 3.6441526412963867, 9.225748062133789, 15.378276824951172, 3.0245532989501953, 0.6016673445701599, -1.9221391677856445, -0.48475387692451477, 9.570290565490723, -2.654278039932251, 12.859212875366211, 12.65272045135498, -2.211308479309082, 1.8744310140609741, 5.7488112449646, 7.728312015533447, -0.7501963973045349, -0.6385267972946167, 5.098165512084961, 0.6839242577552795, 5.056495189666748, 1.1259160041809082, 0.24498194456100464, 3.2096705436706543, 8.784875869750977, 0.5540710091590881, 13.569268226623535, -4.01974630355835, 13.169687271118164, 1.1231985092163086, 2.3213906288146973, -4.481403827667236, -4.63993501663208, -5.150403022766113, -3.3408315181732178, 6.287107944488525, 12.768588066101074, 3.5386219024658203, 1.7081453800201416, -5.944676876068115, 14.38329792022705, -5.094534873962402, 2.4608335494995117, -4.513768196105957, 12.562764167785645, 10.630300521850586, 14.646035194396973, 0.7726403474807739, -5.965610504150391, 9.532541275024414, 15.00179672241211, 2.2925198078155518, -4.336544513702393, -5.993134498596191, 4.337863922119141, 8.378931045532227, -0.029272861778736115, 11.446776390075684, -2.880263090133667, -3.298664093017578, 11.867413520812988, 4.802837371826172, 10.938274383544922, -2.590888023376465, -3.576685905456543, -4.670488357543945, -3.0989537239074707, -3.3996658325195312, 1.3148391246795654, 1.5710558891296387, -4.0439653396606445, 10.77552604675293, -4.6731367111206055, 9.967499732971191, 3.9963200092315674, -7.507372856140137, -3.347738027572632, -2.184774398803711, -4.045262336730957, 1.003752589225769, 5.050806522369385, 12.148833274841309, -4.874517440795898, -0.7563400268554688, 10.05494499206543, 2.58799147605896, -4.493720531463623, 9.617988586425781, 3.728586196899414, -5.360735893249512, 3.065831422805786, 9.744250297546387, 11.558736801147461, 7.905316352844238, 4.240947723388672, -5.7797112464904785, 1.0581135749816895, 6.832422733306885, 14.588866233825684, 2.2151806354522705, -1.756818413734436, 8.869863510131836, 6.50186014175415, 13.85307788848877, 14.376139640808105, -0.3567480146884918, -2.5452494621276855, -0.564898669719696, 0.4254698157310486, 13.675936698913574, 7.31992769241333, 14.217218399047852, 6.088989734649658, 10.181479454040527, 15.640901565551758, 16.067811965942383, 9.913193702697754, 11.322056770324707, 11.890497207641602, -2.4165172576904297, -4.267198085784912, -2.6213135719299316, 9.654474258422852, -0.9504894614219666, 8.65768051147461, -2.5113444328308105, -7.936334133148193, 3.153374195098877, -2.1363091468811035, 2.419764518737793, -5.357651710510254, 5.595737457275391, -7.257022857666016, 2.9342687129974365, -1.7047730684280396, 2.080996513366699, -2.5100948810577393, 8.116778373718262, -4.6489481925964355, 10.348899841308594, 9.827563285827637, -2.8869857788085938, 5.024374961853027, 8.848529815673828, 0.7136111259460449, 11.847487449645996, 12.55782699584961, 12.173102378845215, 7.5736894607543945, -5.427373886108398, 6.64291524887085, 7.163604259490967, -5.166846752166748, 5.561051368713379, 7.208644866943359, 0.45960378646850586, 14.868393898010254, 10.21800708770752, 12.420836448669434, 9.135420799255371, 4.899229526519775, 12.73621654510498, 0.5775395035743713, -6.148301601409912, -4.991796493530273, 7.305151462554932, 6.3732709884643555, -0.3068040609359741, 7.4189372062683105, -0.42355433106422424, -4.24595832824707, 9.123202323913574, 14.960819244384766, 9.176525115966797, -3.184166669845581, -4.599358558654785, 14.898404121398926, -3.864961624145508, 10.737212181091309, -3.4148201942443848, 9.536280632019043, 14.064558982849121, 5.209675312042236, 9.07242202758789, 13.687885284423828, 14.259628295898438, 10.829293251037598, 16.0471134185791, 1.9824708700180054, -2.82191801071167, 4.266321182250977, 2.3707001209259033, 6.048830986022949], \"z\": [-7.081759929656982, -0.9652643203735352, 5.29608154296875, -2.900705337524414, -2.3593850135803223, -2.5834481716156006, -6.589046478271484, -6.156854152679443, -8.475177764892578, 0.9521715641021729, -9.2364501953125, -6.594597339630127, -1.020538568496704, -2.0550899505615234, -5.573129177093506, -4.65978479385376, -4.041899681091309, 0.09374959766864777, -4.4294114112854, -4.217972278594971, -2.276238203048706, -3.658273220062256, -4.249628067016602, -4.234818458557129, -1.1407525539398193, -0.3331370949745178, -1.4692422151565552, -9.585540771484375, -0.0853218212723732, -2.660238265991211, -7.209310531616211, -7.199746131896973, -4.587695121765137, -4.247312545776367, -10.151826858520508, -4.248877048492432, -5.235209941864014, -4.213732719421387, 0.9608617424964905, -7.534023284912109, -3.1176435947418213, -2.4365501403808594, -0.48166775703430176, -9.932045936584473, -1.447327733039856, -0.8960784673690796, -2.6316580772399902, -3.214597702026367, -1.655697226524353, -1.1388423442840576, -5.235211372375488, -2.177082061767578, -4.007415294647217, -9.663019180297852, -8.070218086242676, 0.6585883498191833, -5.0239033699035645, -8.325058937072754, -7.192271709442139, -4.665148735046387, -1.4223570823669434, 0.890014111995697, -4.8521952629089355, -0.8693261742591858, -0.9625416994094849, -9.752628326416016, -5.831943035125732, -3.814556360244751, -6.146976470947266, 4.10384464263916, -3.9760994911193848, -8.366303443908691, -2.748809337615967, -7.7073140144348145, -6.861210346221924, -8.551139831542969, -7.390926361083984, -1.95069420337677, -8.428349494934082, -9.530389785766602, -2.790130376815796, 3.583889961242676, -4.6246442794799805, 4.816514015197754, -6.972453594207764, -0.8034089803695679, 4.576577663421631, -4.067356586456299, -9.871856689453125, -9.201821327209473, 4.8826003074646, -1.4629487991333008, -3.8874735832214355, -0.7832297086715698, 4.320478916168213, -4.526914596557617, -2.6112658977508545, -1.2764101028442383, -0.5084599852561951, -7.585621356964111, 3.53790020942688, -8.6466064453125, -8.830060005187988, -6.31866455078125, 4.211614608764648, -7.391433238983154, -6.495385646820068, -9.78399658203125, -5.051001071929932, -3.7554712295532227, -4.027899742126465, -8.933539390563965, 1.032597303390503, -2.0636441707611084, -5.046651840209961, -2.5551114082336426, -7.1868577003479, -3.523300886154175, 5.254474639892578, -0.39196643233299255, 0.5246674418449402, -3.053840160369873, -4.348031044006348, -7.998871326446533, -8.409989356994629, -3.349209785461426, 4.323799133300781, -2.5340144634246826, -5.1850762367248535, -2.7493367195129395, -4.036189079284668, -2.0637459754943848, -3.6067259311676025, -10.261241912841797, -10.261393547058105, -0.9841604232788086, -5.070423603057861, -6.778556823730469, -5.7710442543029785, -1.3292473554611206, -6.479191780090332, -8.03957462310791, -6.824856758117676, -10.248953819274902, -1.9465759992599487, -6.892642021179199, -4.449712753295898, -8.716114044189453, -8.003081321716309, -5.5411601066589355, -8.525458335876465, -1.5551453828811646, -4.326908111572266, 2.9217092990875244, -2.4928908348083496, -3.5860471725463867, -0.9438350200653076, -6.5119428634643555, -3.655095338821411, 1.8492753505706787, -7.994725704193115, -0.1617531180381775, -2.39593505859375, -1.0882781744003296, -0.8181272745132446, -10.00187873840332, -1.4319673776626587, 0.0949813649058342, -8.108924865722656, -4.871359825134277, -10.022841453552246, -9.505061149597168, -9.515853881835938, -1.8363511562347412, -1.938375473022461, 0.6774240136146545, -9.734114646911621, -9.637917518615723, -0.02117631398141384, -2.292605400085449, -4.488707065582275, -9.725375175476074, -7.73652458190918, -1.362181305885315, -9.610407829284668, -5.141828536987305, -6.179351806640625, -8.794425010681152, -3.1486761569976807, -9.712554931640625, -6.374580383300781, -9.61919116973877, -5.6910929679870605, 0.24529847502708435, -1.7295560836791992, 2.632093906402588, -0.18949726223945618, 3.5343971252441406, -9.909796714782715, -8.156386375427246, -9.355215072631836, -6.521570205688477, -10.203537940979004, 0.7973343133926392, -5.58755350112915, -9.5780029296875, -4.069091796875, -8.942581176757812, -1.717803716659546, -5.896693706512451, -6.73244571685791, -9.95091724395752, -3.9598240852355957, -4.2920050621032715, -4.161276817321777, -6.25578498840332, -2.2085421085357666, -3.767510175704956, -5.404880523681641, 5.224158763885498, -7.2500128746032715, 3.8918039798736572, -1.5413753986358643, -2.8178651332855225, -2.0921835899353027, -1.024641990661621, -6.782765865325928, -9.44991683959961, -5.199240207672119, -8.515429496765137, -10.135130882263184, -7.9360527992248535, -5.021327495574951, -5.666010856628418, -10.099944114685059, -4.542314529418945, -4.181126594543457, -2.8188424110412598, -1.1799814701080322, -9.70294189453125, -1.1955938339233398, -3.929699182510376, -6.9433112144470215, -4.711604595184326, -1.807983160018921, -0.6042318940162659, -2.0992579460144043, 1.4649534225463867, -9.179937362670898, -4.336942195892334, -8.316957473754883, -0.11964904516935349, -8.325629234313965, -1.992083191871643, -2.809885263442993, -6.811418533325195, -8.925292015075684, -1.2391458749771118, -6.785490989685059, -5.393092155456543, -2.4829866886138916, -2.2417333126068115, -8.586182594299316, -0.21396809816360474, 1.4625262022018433, -7.867306232452393, -10.041217803955078, -1.1249370574951172, -9.82334041595459, -4.551351547241211, -9.088446617126465, -4.92756462097168, -4.013857841491699, 1.0318381786346436, -1.5027894973754883, -2.6481120586395264, -5.451021671295166, -1.7171692848205566, -7.266270637512207, -3.5979671478271484, -5.889586448669434, -6.514148712158203, -6.525351524353027, -2.5529136657714844, -8.738033294677734, -0.9283168911933899, -9.470787048339844, -9.775300025939941, -6.543461799621582, 0.5948350429534912, 4.769266605377197, -4.763975143432617, -1.3854764699935913, -0.9060066342353821, -8.965754508972168, -1.0081956386566162, 3.8427071571350098, -7.380496025085449, -1.2337956428527832, -4.356403350830078, 4.79371976852417, -8.809575080871582, 3.597270965576172, -9.787555694580078, 1.4579081535339355, -9.823136329650879, -5.249522686004639, 3.095043182373047, -8.769000053405762, -2.1026172637939453, 5.101242542266846, -6.95251989364624, -3.56581711769104, -2.092149496078491, 1.981200933456421, -6.437106609344482, -6.543674945831299, -3.473666191101074, -4.234886646270752, -8.49001693725586, -5.57038688659668, -9.965397834777832, -1.745883584022522, -1.3955013751983643, -2.191256046295166, -5.608272552490234, -8.073620796203613, -5.457846641540527, -9.664891242980957, -8.543055534362793, -1.6111629009246826, -5.477499485015869, -8.195443153381348, -2.1356122493743896, 0.4998537003993988, -6.248898029327393, -3.5108020305633545, -2.5567026138305664, -2.2113187313079834, -3.3134260177612305, 0.42703041434288025, 0.4335198402404785, 0.7574815154075623, -2.184866189956665, -8.387136459350586, -1.1917673349380493, -8.28670597076416, -5.7802910804748535, -7.918487548828125, -10.080415725708008, -8.455489158630371, -0.8998093008995056, -1.084669828414917, 1.0928566455841064, -3.2491695880889893, -7.769286632537842, -5.007741928100586, -2.0990610122680664, 4.999383449554443, 0.920606791973114, -9.429678916931152, -5.907485008239746, 4.326597690582275, -6.512231349945068, -4.344329833984375, -1.2602826356887817, -7.0609893798828125, -6.981789588928223, -8.268105506896973, -9.027600288391113, -4.905941963195801, -9.028488159179688, -7.059207916259766, -5.48006010055542, -4.515643119812012, -2.4770560264587402, -8.326669692993164, -3.0795798301696777, -9.544121742248535, -3.174356698989868, -3.1854615211486816, -1.0118327140808105, -8.348989486694336, -8.025553703308105, -0.053244199603796005, 4.2184553146362305, -5.352934837341309, -8.843523025512695, -1.9166913032531738, -9.556924819946289, 0.7173201441764832, -9.67314338684082, 2.0892281532287598, -1.2394051551818848, -8.28931999206543, -3.8294951915740967, -9.246986389160156, -5.704661846160889, -10.198495864868164, -7.276119709014893, -8.981714248657227, -5.2688069343566895, -8.297000885009766, -8.991479873657227, -6.211481094360352, -8.08138656616211, -4.184360027313232, -2.868654251098633, -0.2980339825153351, -1.892088532447815, -1.0432746410369873, -3.3657069206237793, -5.375792026519775, -8.619669914245605, -8.45118236541748, -1.5246975421905518, -2.021367073059082, -5.851718425750732, -1.86531400680542, -2.71630859375, -5.21596097946167, -5.483778476715088, 3.3101398944854736, -1.6449388265609741, -2.318601131439209, -1.782917857170105, 1.856016993522644, 0.6320689916610718, 3.7028746604919434, -8.723828315734863, -4.988401889801025, -2.0193941593170166, 3.7340874671936035, -2.367551803588867, -6.032668113708496, -0.8961086273193359, -2.0489494800567627, -4.311578273773193, -2.5523459911346436, 1.001412034034729, -2.0665719509124756, -9.495451927185059, -2.652421236038208, -8.659883499145508, -2.4781367778778076, -6.958282947540283, -9.434741973876953, -8.808253288269043, -9.012325286865234, -1.9850564002990723, -3.7212390899658203, -2.519777774810791, -6.674722194671631, -1.352946400642395, -7.010904312133789, -1.7233455181121826, -1.6012736558914185, -0.9916983842849731, -9.657751083374023, -9.389787673950195, -9.240431785583496, -8.576251029968262, -9.343979835510254, 1.4951646327972412, -1.2612099647521973, -6.586638927459717, 0.3479340672492981, -2.3109664916992188, -1.4595918655395508, -1.582434892654419, -8.671234130859375, -7.215066909790039, -3.508568525314331, -4.3292999267578125, -0.6806351542472839, -1.3987587690353394, -8.416327476501465, -0.9987925887107849, -4.407604694366455, -7.956818103790283, 4.092436790466309, -2.849248170852661, -9.926264762878418, -5.253103733062744, -8.279300689697266, 0.20252007246017456, 3.098555088043213, -10.245173454284668, -8.624929428100586, -6.433041572570801, -8.672518730163574, -0.09779131412506104, -5.661056995391846, 1.0082957744598389, -8.605374336242676, 0.3619571328163147, 4.803072452545166, 4.911206245422363, -0.89749675989151, -3.3575174808502197, -2.879950761795044, -8.249186515808105, 0.7913711667060852, -7.289821624755859, -1.7052006721496582, -7.7606120109558105, -0.37467506527900696, -8.758419036865234, -0.8102981448173523, -3.3271641731262207, -9.798965454101562, -5.6197099685668945, 1.361075520515442, -1.6756285429000854, -1.044998049736023, -9.940350532531738, -9.841261863708496, -3.697120189666748, -9.56006908416748, -6.569368839263916, -1.7601532936096191, 0.46351516246795654, 0.19237400591373444, -1.5259263515472412, -2.87589955329895, -5.661858558654785, -5.736125946044922, 1.2601109743118286, -2.0387156009674072, 1.499600887298584, -0.8965538740158081, -6.167840957641602, -2.9731290340423584, -3.8197836875915527, -7.139101982116699, -2.4562082290649414, -1.079763650894165, -5.121609687805176, 4.2152838706970215, -2.600545883178711, 1.73745858669281, 0.3827137053012848, -9.343881607055664, -1.9355906248092651, -8.299254417419434, -4.4708356857299805, -1.1050275564193726, -4.914430141448975, -7.983774662017822, -6.529565811157227, -1.0169576406478882, -10.259455680847168, 0.7959886789321899, -6.002225399017334, 3.513572931289673, -3.418383836746216, -2.0056447982788086, -8.620668411254883, 3.3968758583068848, -1.9114923477172852, 0.7755561470985413, -9.396422386169434, 0.07214809954166412, 2.9677367210388184, -3.4694430828094482, -3.8726487159729004, -0.11123912781476974, 3.471963405609131, 1.0088635683059692, 4.554486274719238, -4.39410924911499, -1.9802696704864502, -9.607633590698242, -10.06483268737793, -9.535481452941895]}, {\"hoverlabel\": {\"namelength\": 0}, \"hovertemplate\": \"Dominant_Topic=Topic 3<br>0=%{x}<br>1=%{y}<br>2=%{z}\", \"legendgroup\": \"Dominant_Topic=Topic 3\", \"marker\": {\"color\": \"#00cc96\", \"opacity\": 0.7, \"symbol\": \"circle\"}, \"mode\": \"markers\", \"name\": \"Dominant_Topic=Topic 3\", \"scene\": \"scene\", \"showlegend\": true, \"type\": \"scatter3d\", \"x\": [0.08493892848491669, 0.364311158657074, -2.807955026626587, 0.0017225760966539383, -0.1725517064332962], \"y\": [-6.119647026062012, -6.270748615264893, -5.828749656677246, -7.016977787017822, -7.1943769454956055], \"z\": [-5.33358907699585, -4.786145210266113, -8.193509101867676, -3.668898344039917, -3.4710068702697754]}],\n",
       "                        {\"height\": 800, \"legend\": {\"tracegroupgap\": 0}, \"scene\": {\"domain\": {\"x\": [0.0, 1.0], \"y\": [0.0, 1.0]}, \"xaxis\": {\"title\": {\"text\": \"0\"}}, \"yaxis\": {\"title\": {\"text\": \"1\"}}, \"zaxis\": {\"title\": {\"text\": \"2\"}}}, \"template\": {\"data\": {\"bar\": [{\"error_x\": {\"color\": \"#2a3f5f\"}, \"error_y\": {\"color\": \"#2a3f5f\"}, \"marker\": {\"line\": {\"color\": \"#E5ECF6\", \"width\": 0.5}}, \"type\": \"bar\"}], \"barpolar\": [{\"marker\": {\"line\": {\"color\": \"#E5ECF6\", \"width\": 0.5}}, \"type\": \"barpolar\"}], \"carpet\": [{\"aaxis\": {\"endlinecolor\": \"#2a3f5f\", \"gridcolor\": \"white\", \"linecolor\": \"white\", \"minorgridcolor\": \"white\", \"startlinecolor\": \"#2a3f5f\"}, \"baxis\": {\"endlinecolor\": \"#2a3f5f\", \"gridcolor\": \"white\", \"linecolor\": \"white\", \"minorgridcolor\": \"white\", \"startlinecolor\": \"#2a3f5f\"}, \"type\": \"carpet\"}], \"choropleth\": [{\"colorbar\": {\"outlinewidth\": 0, \"ticks\": \"\"}, \"type\": \"choropleth\"}], \"contour\": [{\"colorbar\": {\"outlinewidth\": 0, \"ticks\": \"\"}, \"colorscale\": [[0.0, \"#0d0887\"], [0.1111111111111111, \"#46039f\"], [0.2222222222222222, \"#7201a8\"], [0.3333333333333333, \"#9c179e\"], [0.4444444444444444, \"#bd3786\"], [0.5555555555555556, \"#d8576b\"], [0.6666666666666666, \"#ed7953\"], [0.7777777777777778, \"#fb9f3a\"], [0.8888888888888888, \"#fdca26\"], [1.0, \"#f0f921\"]], \"type\": \"contour\"}], \"contourcarpet\": [{\"colorbar\": {\"outlinewidth\": 0, \"ticks\": \"\"}, \"type\": \"contourcarpet\"}], \"heatmap\": [{\"colorbar\": {\"outlinewidth\": 0, \"ticks\": \"\"}, \"colorscale\": [[0.0, \"#0d0887\"], [0.1111111111111111, \"#46039f\"], [0.2222222222222222, \"#7201a8\"], [0.3333333333333333, \"#9c179e\"], [0.4444444444444444, \"#bd3786\"], [0.5555555555555556, \"#d8576b\"], [0.6666666666666666, \"#ed7953\"], [0.7777777777777778, \"#fb9f3a\"], [0.8888888888888888, \"#fdca26\"], [1.0, \"#f0f921\"]], \"type\": \"heatmap\"}], \"heatmapgl\": [{\"colorbar\": {\"outlinewidth\": 0, \"ticks\": \"\"}, \"colorscale\": [[0.0, \"#0d0887\"], [0.1111111111111111, \"#46039f\"], [0.2222222222222222, \"#7201a8\"], [0.3333333333333333, \"#9c179e\"], [0.4444444444444444, \"#bd3786\"], [0.5555555555555556, \"#d8576b\"], [0.6666666666666666, \"#ed7953\"], [0.7777777777777778, \"#fb9f3a\"], [0.8888888888888888, \"#fdca26\"], [1.0, \"#f0f921\"]], \"type\": \"heatmapgl\"}], \"histogram\": [{\"marker\": {\"colorbar\": {\"outlinewidth\": 0, \"ticks\": \"\"}}, \"type\": \"histogram\"}], \"histogram2d\": [{\"colorbar\": {\"outlinewidth\": 0, \"ticks\": \"\"}, \"colorscale\": [[0.0, \"#0d0887\"], [0.1111111111111111, \"#46039f\"], [0.2222222222222222, \"#7201a8\"], [0.3333333333333333, \"#9c179e\"], [0.4444444444444444, \"#bd3786\"], [0.5555555555555556, \"#d8576b\"], [0.6666666666666666, \"#ed7953\"], [0.7777777777777778, \"#fb9f3a\"], [0.8888888888888888, \"#fdca26\"], [1.0, \"#f0f921\"]], \"type\": \"histogram2d\"}], \"histogram2dcontour\": [{\"colorbar\": {\"outlinewidth\": 0, \"ticks\": \"\"}, \"colorscale\": [[0.0, \"#0d0887\"], [0.1111111111111111, \"#46039f\"], [0.2222222222222222, \"#7201a8\"], [0.3333333333333333, \"#9c179e\"], [0.4444444444444444, \"#bd3786\"], [0.5555555555555556, \"#d8576b\"], [0.6666666666666666, \"#ed7953\"], [0.7777777777777778, \"#fb9f3a\"], [0.8888888888888888, \"#fdca26\"], [1.0, \"#f0f921\"]], \"type\": \"histogram2dcontour\"}], \"mesh3d\": [{\"colorbar\": {\"outlinewidth\": 0, \"ticks\": \"\"}, \"type\": \"mesh3d\"}], \"parcoords\": [{\"line\": {\"colorbar\": {\"outlinewidth\": 0, \"ticks\": \"\"}}, \"type\": \"parcoords\"}], \"pie\": [{\"automargin\": true, \"type\": \"pie\"}], \"scatter\": [{\"marker\": {\"colorbar\": {\"outlinewidth\": 0, \"ticks\": \"\"}}, \"type\": \"scatter\"}], \"scatter3d\": [{\"line\": {\"colorbar\": {\"outlinewidth\": 0, \"ticks\": \"\"}}, \"marker\": {\"colorbar\": {\"outlinewidth\": 0, \"ticks\": \"\"}}, \"type\": \"scatter3d\"}], \"scattercarpet\": [{\"marker\": {\"colorbar\": {\"outlinewidth\": 0, \"ticks\": \"\"}}, \"type\": \"scattercarpet\"}], \"scattergeo\": [{\"marker\": {\"colorbar\": {\"outlinewidth\": 0, \"ticks\": \"\"}}, \"type\": \"scattergeo\"}], \"scattergl\": [{\"marker\": {\"colorbar\": {\"outlinewidth\": 0, \"ticks\": \"\"}}, \"type\": \"scattergl\"}], \"scattermapbox\": [{\"marker\": {\"colorbar\": {\"outlinewidth\": 0, \"ticks\": \"\"}}, \"type\": \"scattermapbox\"}], \"scatterpolar\": [{\"marker\": {\"colorbar\": {\"outlinewidth\": 0, \"ticks\": \"\"}}, \"type\": \"scatterpolar\"}], \"scatterpolargl\": [{\"marker\": {\"colorbar\": {\"outlinewidth\": 0, \"ticks\": \"\"}}, \"type\": \"scatterpolargl\"}], \"scatterternary\": [{\"marker\": {\"colorbar\": {\"outlinewidth\": 0, \"ticks\": \"\"}}, \"type\": \"scatterternary\"}], \"surface\": [{\"colorbar\": {\"outlinewidth\": 0, \"ticks\": \"\"}, \"colorscale\": [[0.0, \"#0d0887\"], [0.1111111111111111, \"#46039f\"], [0.2222222222222222, \"#7201a8\"], [0.3333333333333333, \"#9c179e\"], [0.4444444444444444, \"#bd3786\"], [0.5555555555555556, \"#d8576b\"], [0.6666666666666666, \"#ed7953\"], [0.7777777777777778, \"#fb9f3a\"], [0.8888888888888888, \"#fdca26\"], [1.0, \"#f0f921\"]], \"type\": \"surface\"}], \"table\": [{\"cells\": {\"fill\": {\"color\": \"#EBF0F8\"}, \"line\": {\"color\": \"white\"}}, \"header\": {\"fill\": {\"color\": \"#C8D4E3\"}, \"line\": {\"color\": \"white\"}}, \"type\": \"table\"}]}, \"layout\": {\"annotationdefaults\": {\"arrowcolor\": \"#2a3f5f\", \"arrowhead\": 0, \"arrowwidth\": 1}, \"coloraxis\": {\"colorbar\": {\"outlinewidth\": 0, \"ticks\": \"\"}}, \"colorscale\": {\"diverging\": [[0, \"#8e0152\"], [0.1, \"#c51b7d\"], [0.2, \"#de77ae\"], [0.3, \"#f1b6da\"], [0.4, \"#fde0ef\"], [0.5, \"#f7f7f7\"], [0.6, \"#e6f5d0\"], [0.7, \"#b8e186\"], [0.8, \"#7fbc41\"], [0.9, \"#4d9221\"], [1, \"#276419\"]], \"sequential\": [[0.0, \"#0d0887\"], [0.1111111111111111, \"#46039f\"], [0.2222222222222222, \"#7201a8\"], [0.3333333333333333, \"#9c179e\"], [0.4444444444444444, \"#bd3786\"], [0.5555555555555556, \"#d8576b\"], [0.6666666666666666, \"#ed7953\"], [0.7777777777777778, \"#fb9f3a\"], [0.8888888888888888, \"#fdca26\"], [1.0, \"#f0f921\"]], \"sequentialminus\": [[0.0, \"#0d0887\"], [0.1111111111111111, \"#46039f\"], [0.2222222222222222, \"#7201a8\"], [0.3333333333333333, \"#9c179e\"], [0.4444444444444444, \"#bd3786\"], [0.5555555555555556, \"#d8576b\"], [0.6666666666666666, \"#ed7953\"], [0.7777777777777778, \"#fb9f3a\"], [0.8888888888888888, \"#fdca26\"], [1.0, \"#f0f921\"]]}, \"colorway\": [\"#636efa\", \"#EF553B\", \"#00cc96\", \"#ab63fa\", \"#FFA15A\", \"#19d3f3\", \"#FF6692\", \"#B6E880\", \"#FF97FF\", \"#FECB52\"], \"font\": {\"color\": \"#2a3f5f\"}, \"geo\": {\"bgcolor\": \"white\", \"lakecolor\": \"white\", \"landcolor\": \"#E5ECF6\", \"showlakes\": true, \"showland\": true, \"subunitcolor\": \"white\"}, \"hoverlabel\": {\"align\": \"left\"}, \"hovermode\": \"closest\", \"mapbox\": {\"style\": \"light\"}, \"paper_bgcolor\": \"white\", \"plot_bgcolor\": \"#E5ECF6\", \"polar\": {\"angularaxis\": {\"gridcolor\": \"white\", \"linecolor\": \"white\", \"ticks\": \"\"}, \"bgcolor\": \"#E5ECF6\", \"radialaxis\": {\"gridcolor\": \"white\", \"linecolor\": \"white\", \"ticks\": \"\"}}, \"scene\": {\"xaxis\": {\"backgroundcolor\": \"#E5ECF6\", \"gridcolor\": \"white\", \"gridwidth\": 2, \"linecolor\": \"white\", \"showbackground\": true, \"ticks\": \"\", \"zerolinecolor\": \"white\"}, \"yaxis\": {\"backgroundcolor\": \"#E5ECF6\", \"gridcolor\": \"white\", \"gridwidth\": 2, \"linecolor\": \"white\", \"showbackground\": true, \"ticks\": \"\", \"zerolinecolor\": \"white\"}, \"zaxis\": {\"backgroundcolor\": \"#E5ECF6\", \"gridcolor\": \"white\", \"gridwidth\": 2, \"linecolor\": \"white\", \"showbackground\": true, \"ticks\": \"\", \"zerolinecolor\": \"white\"}}, \"shapedefaults\": {\"line\": {\"color\": \"#2a3f5f\"}}, \"ternary\": {\"aaxis\": {\"gridcolor\": \"white\", \"linecolor\": \"white\", \"ticks\": \"\"}, \"baxis\": {\"gridcolor\": \"white\", \"linecolor\": \"white\", \"ticks\": \"\"}, \"bgcolor\": \"#E5ECF6\", \"caxis\": {\"gridcolor\": \"white\", \"linecolor\": \"white\", \"ticks\": \"\"}}, \"title\": {\"x\": 0.05}, \"xaxis\": {\"automargin\": true, \"gridcolor\": \"white\", \"linecolor\": \"white\", \"ticks\": \"\", \"title\": {\"standoff\": 15}, \"zerolinecolor\": \"white\", \"zerolinewidth\": 2}, \"yaxis\": {\"automargin\": true, \"gridcolor\": \"white\", \"linecolor\": \"white\", \"ticks\": \"\", \"title\": {\"standoff\": 15}, \"zerolinecolor\": \"white\", \"zerolinewidth\": 2}}}, \"title\": {\"text\": \"3d TSNE Plot for Topic Model\"}, \"width\": 900},\n",
       "                        {\"responsive\": true}\n",
       "                    ).then(function(){\n",
       "                            \n",
       "var gd = document.getElementById('57faa180-79e2-410c-9642-1a9cbce416ea');\n",
       "var x = new MutationObserver(function (mutations, observer) {{\n",
       "        var display = window.getComputedStyle(gd).display;\n",
       "        if (!display || display === 'none') {{\n",
       "            console.log([gd, 'removed!']);\n",
       "            Plotly.purge(gd);\n",
       "            observer.disconnect();\n",
       "        }}\n",
       "}});\n",
       "\n",
       "// Listen for the removal of the full notebook cells\n",
       "var notebookContainer = gd.closest('#notebook-container');\n",
       "if (notebookContainer) {{\n",
       "    x.observe(notebookContainer, {childList: true});\n",
       "}}\n",
       "\n",
       "// Listen for the clearing of the current output cell\n",
       "var outputEl = gd.closest('.output');\n",
       "if (outputEl) {{\n",
       "    x.observe(outputEl, {childList: true});\n",
       "}}\n",
       "\n",
       "                        })\n",
       "                };\n",
       "                });\n",
       "            </script>\n",
       "        </div>"
      ]
     },
     "metadata": {},
     "output_type": "display_data"
    }
   ],
   "source": [
    "plot_model(lda, plot = 'tsne')"
   ]
  },
  {
   "cell_type": "code",
   "execution_count": 17,
   "metadata": {},
   "outputs": [
    {
     "data": {
      "text/html": [
       "        <script type=\"text/javascript\">\n",
       "        window.PlotlyConfig = {MathJaxConfig: 'local'};\n",
       "        if (window.MathJax) {MathJax.Hub.Config({SVG: {font: \"STIX-Web\"}});}\n",
       "        if (typeof require !== 'undefined') {\n",
       "        require.undef(\"plotly\");\n",
       "        requirejs.config({\n",
       "            paths: {\n",
       "                'plotly': ['https://cdn.plot.ly/plotly-latest.min']\n",
       "            }\n",
       "        });\n",
       "        require(['plotly'], function(Plotly) {\n",
       "            window._Plotly = Plotly;\n",
       "        });\n",
       "        }\n",
       "        </script>\n",
       "        "
      ]
     },
     "metadata": {},
     "output_type": "display_data"
    },
    {
     "data": {
      "application/vnd.plotly.v1+json": {
       "config": {
        "plotlyServerURL": "https://plot.ly"
       },
       "data": [
        {
         "hoverlabel": {
          "namelength": 0
         },
         "hovertemplate": "Dominant_Topic=Topic 0<br>0=%{x}<br>1=%{y}<br>2=%{z}",
         "legendgroup": "Dominant_Topic=Topic 0",
         "marker": {
          "color": "#636efa",
          "opacity": 0.7,
          "symbol": "circle"
         },
         "mode": "markers",
         "name": "Dominant_Topic=Topic 0",
         "scene": "scene",
         "showlegend": true,
         "type": "scatter3d",
         "x": [
          -4.101458549499512,
          -6.907941818237305,
          -8.174588203430176,
          -10.065784454345703,
          -8.570123672485352,
          -5.695000648498535,
          -2.6342482566833496,
          -6.53275728225708,
          -9.223811149597168,
          -6.242878437042236,
          -2.239027738571167,
          -5.625516891479492,
          -4.271815299987793,
          -4.120094299316406,
          -7.992895603179932,
          -8.651106834411621,
          -3.827741861343384,
          -3.553974151611328,
          -3.5322370529174805,
          -6.610957145690918,
          -3.7698309421539307,
          -3.1833431720733643,
          -5.385383129119873,
          -3.961082696914673,
          -1.765893816947937,
          -1.5037260055541992,
          -7.48335599899292,
          -2.3281571865081787,
          -9.243142127990723,
          -5.517298698425293,
          -4.458320140838623,
          -3.1080305576324463,
          -5.464956283569336,
          -7.022919654846191,
          -6.430007457733154,
          -6.519673824310303,
          -4.3023247718811035,
          -8.533242225646973,
          -1.1281055212020874,
          -1.721364974975586,
          -9.858647346496582,
          -9.745862007141113,
          -7.807111740112305,
          -6.0199384689331055,
          -4.493367671966553,
          -3.7933170795440674,
          -9.258247375488281,
          -8.741242408752441,
          -8.53485107421875,
          -2.634934186935425,
          0.8971874117851257,
          -8.734222412109375,
          -4.465946674346924,
          -5.635313034057617,
          -5.928339004516602,
          1.258808970451355,
          -5.343917369842529,
          -7.488818168640137,
          0.27364736795425415,
          -6.499718189239502,
          -4.9528069496154785,
          1.6010013818740845,
          -5.988536357879639,
          -2.3155086040496826,
          -5.514772891998291,
          -5.882445335388184,
          -5.876803874969482,
          -9.545905113220215,
          -3.8616833686828613,
          -6.28510856628418,
          -5.449209690093994,
          -5.136035442352295,
          -8.045028686523438,
          -1.5181173086166382,
          -1.0128384828567505,
          -2.450667142868042,
          -5.700130462646484,
          -4.656152725219727,
          -3.9819440841674805,
          -5.487216472625732,
          -3.955793619155884,
          -5.018605709075928,
          -6.478545188903809,
          -5.934078693389893,
          -9.527533531188965,
          -0.5398560166358948,
          -6.864837646484375,
          -3.951484441757202,
          -8.550843238830566,
          -3.7064666748046875,
          -8.94530200958252,
          -5.404313087463379,
          -5.907758712768555,
          -2.5950844287872314,
          1.0566661357879639,
          -7.078985214233398,
          -5.248209476470947,
          -2.6223533153533936,
          -7.903475284576416,
          -8.660606384277344,
          -1.8807042837142944,
          -5.758577346801758,
          -1.9039546251296997,
          -9.8758544921875,
          -8.020437240600586,
          -1.9860928058624268,
          -7.3349456787109375,
          -4.377815246582031,
          -3.7156476974487305,
          -9.715680122375488,
          -4.341134548187256,
          -4.885986804962158,
          -3.9831061363220215,
          -8.355180740356445,
          -6.400142669677734,
          0.38022252917289734,
          -4.530037879943848,
          -9.868287086486816,
          -2.743662118911743,
          0.5629671812057495,
          -4.75962495803833,
          -7.867889881134033,
          -2.1784768104553223,
          -3.1538031101226807,
          -5.638996124267578,
          -5.249361038208008,
          -8.480259895324707,
          -4.733190536499023,
          0.05968613177537918,
          -4.004151821136475,
          -4.135608673095703,
          -9.723155975341797,
          2.1670923233032227,
          -9.345638275146484,
          -6.773584842681885,
          -5.611057281494141,
          -3.28779673576355,
          -4.147045612335205,
          -8.53380298614502,
          -7.8079681396484375,
          -7.519191265106201,
          -7.201353073120117,
          -6.644008159637451,
          -5.359037399291992,
          -2.9660885334014893,
          1.8542274236679077,
          -6.199532508850098,
          -2.3871259689331055,
          -4.661185264587402,
          -8.34174633026123,
          0.9697473049163818,
          -3.242662191390991,
          -3.564183235168457,
          -5.898858547210693,
          -4.264769554138184,
          -7.267699241638184,
          -7.552518367767334,
          -7.51715612411499,
          -2.2606563568115234,
          -5.671713829040527,
          -6.337203502655029,
          -8.665019035339355,
          -4.2929768562316895,
          -4.2935967445373535,
          -1.324591040611267,
          -5.509481906890869,
          -9.73920726776123,
          -3.384155035018921,
          -6.137792110443115,
          -2.2749645709991455,
          -3.8621113300323486,
          -6.577658176422119,
          1.0096973180770874,
          -8.658137321472168,
          -1.7437745332717896,
          -4.0985283851623535,
          -9.280076026916504,
          -4.182459831237793,
          -4.422047138214111,
          -7.454885959625244,
          -2.9028775691986084,
          -7.536155700683594,
          -4.772075653076172,
          -3.678745746612549,
          -7.04853630065918,
          -5.4387526512146,
          -6.902327060699463,
          -5.183114528656006,
          -8.224282264709473,
          -4.321638107299805,
          -5.470107078552246,
          -2.907590389251709,
          -2.981224536895752,
          -8.410332679748535,
          -8.235472679138184,
          -5.603185653686523,
          -2.7015435695648193,
          -2.239230155944824,
          -6.85916805267334,
          -9.300128936767578,
          -6.041682243347168,
          -3.689441442489624,
          -2.3570456504821777,
          0.050761379301548004,
          -6.41937780380249,
          -6.887134075164795,
          -7.01116943359375,
          -6.000480651855469,
          -7.5135178565979,
          -4.592382907867432,
          -5.5266804695129395,
          -4.7337446212768555,
          -8.489145278930664,
          -7.414567470550537,
          -0.01242230273783207,
          -6.1705756187438965,
          -1.987087368965149,
          -6.634431838989258,
          -6.900716304779053,
          -8.412076950073242,
          -4.82390832901001,
          -2.0380215644836426,
          -2.441420555114746,
          -8.22186279296875,
          -2.854703664779663,
          -6.010757923126221,
          -3.8354642391204834,
          -3.9845142364501953,
          -9.735661506652832,
          -3.5121798515319824,
          -8.607107162475586,
          -5.998587131500244,
          -7.603820323944092,
          2.369051456451416,
          -5.099774360656738,
          -6.962514400482178,
          -9.101386070251465,
          -6.733208179473877,
          -4.189246654510498,
          -4.251461982727051,
          -7.627951145172119,
          0.11962993443012238,
          -1.5173654556274414,
          0.10720251500606537,
          -3.991173267364502,
          -3.2095468044281006,
          -3.3719990253448486,
          -9.33746337890625,
          1.043068528175354,
          -8.648590087890625,
          -8.187554359436035,
          -2.4560675621032715,
          -5.729074954986572,
          -5.295135021209717,
          -1.8219558000564575,
          -7.4381279945373535,
          -3.725351095199585,
          -8.619159698486328,
          -3.134439468383789,
          -3.3522627353668213,
          -2.636531114578247,
          -2.8905792236328125,
          -8.277471542358398,
          -3.207801580429077,
          -5.680981636047363,
          -3.2235682010650635,
          -1.561420202255249,
          -3.2839303016662598,
          -3.780543327331543,
          -7.741003513336182,
          -3.433339834213257,
          -1.486951470375061,
          -5.800724029541016,
          -4.618546962738037,
          -6.80257511138916,
          -7.246505260467529,
          -1.653052806854248,
          -7.902816295623779,
          -3.8640992641448975,
          -6.359943866729736,
          -5.330933094024658,
          -6.230863571166992,
          -8.404458045959473,
          -9.730743408203125,
          -2.6404709815979004,
          -3.670177698135376,
          -9.336716651916504,
          -3.1967055797576904,
          -6.348876476287842,
          -2.8371224403381348,
          -4.516808032989502,
          -6.820565223693848,
          -4.069802284240723,
          -2.468552350997925,
          -6.3266987800598145,
          -5.322695732116699,
          -9.470532417297363,
          -0.6052036881446838,
          -5.813612461090088,
          -6.85526180267334,
          -6.965578079223633,
          -7.052177429199219,
          0.28831130266189575,
          -1.35886812210083,
          -3.8257815837860107,
          2.2206897735595703,
          -6.0934553146362305,
          0.840825080871582,
          -8.619881629943848,
          -7.413843631744385,
          -1.487088918685913,
          -9.15787124633789,
          -6.83206033706665,
          -5.461341857910156,
          -2.7119410037994385,
          -9.487434387207031,
          -9.16163158416748,
          -5.8106465339660645,
          -2.8555657863616943,
          -1.4566129446029663,
          -1.925718069076538,
          1.3119734525680542,
          -6.195959568023682,
          -2.179060935974121,
          -6.943053245544434,
          -4.719097137451172,
          -10.919143676757812,
          -0.030984612181782722,
          -7.203559398651123,
          -0.3618248701095581,
          -4.83956241607666,
          -8.660015106201172,
          -7.368553638458252,
          0.8424614071846008,
          -3.9093077182769775,
          -2.9142210483551025,
          -8.0591402053833,
          -6.577386856079102,
          -3.4587814807891846,
          -5.501029968261719,
          -6.852355003356934,
          -5.2332444190979,
          -8.168010711669922,
          -6.875941276550293,
          -7.5665202140808105,
          -4.157234191894531,
          -5.88010311126709,
          -4.2607197761535645,
          0.5801922678947449,
          -2.191922903060913,
          -9.523432731628418,
          -4.479691505432129,
          -3.6249587535858154,
          -2.225682497024536,
          -1.4459240436553955,
          -7.50228214263916,
          -8.471894264221191,
          -8.53989028930664,
          -0.5810906291007996,
          -3.416969060897827,
          -8.651336669921875,
          -6.7909159660339355,
          -7.587182998657227,
          -8.249457359313965,
          -2.7128286361694336,
          -8.645296096801758,
          -7.068512916564941,
          1.8327456712722778,
          0.025139836594462395,
          -7.656411647796631,
          -5.9257307052612305,
          -6.0223870277404785,
          -5.684086799621582,
          -5.044173240661621,
          -7.4897871017456055,
          -4.009243011474609,
          -9.60292911529541,
          -5.287441730499268,
          -3.747466564178467,
          1.60226309299469,
          -4.5642619132995605,
          -7.603368282318115,
          -6.295492649078369,
          -8.274361610412598,
          -4.059444427490234,
          -6.132253646850586,
          -4.492184162139893,
          -6.9629740715026855,
          -4.3595075607299805,
          -5.953887939453125,
          -6.095031261444092,
          1.307012677192688,
          -7.7615742683410645,
          -1.9367982149124146,
          -8.985288619995117,
          -1.786454677581787,
          -7.008263111114502,
          -2.0945746898651123,
          -3.452139139175415,
          -4.67183780670166,
          -7.530308723449707,
          -0.1924365907907486,
          -9.244170188903809,
          -0.08459492772817612,
          -5.312328815460205,
          -2.173285484313965,
          -6.861097812652588,
          -5.109543800354004,
          -2.8709230422973633,
          -6.694056510925293,
          -7.755728721618652,
          -2.1438119411468506,
          -9.709492683410645,
          0.70268315076828,
          -10.229928970336914,
          0.7129194736480713,
          -8.66264820098877,
          1.4374195337295532,
          -2.7459425926208496,
          -2.2302138805389404,
          -3.4066879749298096,
          -3.8649301528930664,
          3.6361405849456787,
          -1.1051814556121826,
          -7.3850860595703125,
          -6.87967586517334,
          -0.9576561450958252,
          -0.08309829980134964,
          -3.580562114715576,
          -8.62822151184082,
          -5.955066680908203,
          0.15757232904434204,
          0.37352293729782104,
          0.08217769861221313,
          -9.240805625915527,
          -4.081534385681152,
          -3.0087478160858154,
          -11.046295166015625,
          -7.042252063751221,
          -4.52776575088501,
          -3.3673393726348877,
          -2.9482669830322266,
          -8.615708351135254,
          -3.993464469909668,
          -7.088624477386475,
          -5.880221843719482,
          -4.27803373336792,
          -6.256719589233398,
          0.38058653473854065,
          -3.768537759780884,
          -3.0065245628356934,
          -7.703230381011963,
          -5.590399742126465,
          -5.153707027435303,
          -5.790767192840576,
          -7.189948558807373,
          -5.898489952087402,
          -2.7370810508728027,
          -6.056264400482178,
          -3.483107566833496,
          -7.856671333312988,
          -3.257171630859375,
          -5.693715572357178,
          -2.0484259128570557,
          -8.18374252319336,
          -3.7894201278686523,
          0.23329290747642517,
          -8.18374252319336,
          -3.0323002338409424,
          -3.6062066555023193,
          -2.0183916091918945,
          -11.016329765319824
         ],
         "y": [
          -3.9182262420654297,
          -4.885544776916504,
          2.1522164344787598,
          1.1876062154769897,
          5.864818096160889,
          -5.201948642730713,
          -0.2698526382446289,
          -3.8722143173217773,
          2.2573535442352295,
          0.724855363368988,
          -2.7502312660217285,
          -0.7154697775840759,
          -0.2255571335554123,
          -1.2184337377548218,
          0.7503160238265991,
          -3.0804524421691895,
          -3.5648322105407715,
          2.7181851863861084,
          -4.173465728759766,
          1.156359076499939,
          0.4328741431236267,
          -3.6975350379943848,
          -5.083759784698486,
          -2.1728806495666504,
          0.20117956399917603,
          -1.9726577997207642,
          -4.847036838531494,
          2.4492642879486084,
          3.4608986377716064,
          -0.8788045644760132,
          -7.4327850341796875,
          0.134249746799469,
          -2.0653414726257324,
          1.116150140762329,
          -2.873309373855591,
          -4.56097936630249,
          -1.820688009262085,
          -0.407196581363678,
          -6.789887428283691,
          -5.744153022766113,
          2.1209182739257812,
          3.282033681869507,
          -0.907177209854126,
          1.2585179805755615,
          2.8111817836761475,
          -3.6648690700531006,
          0.9543918371200562,
          5.518211364746094,
          -0.6356441378593445,
          1.8020259141921997,
          -0.7668426036834717,
          1.0949411392211914,
          2.926032304763794,
          -2.9388279914855957,
          -0.9391941428184509,
          -0.7275575399398804,
          -1.5789284706115723,
          0.7182770371437073,
          -1.3656984567642212,
          1.255908727645874,
          -6.630334854125977,
          -0.4134383797645569,
          -0.6045892238616943,
          1.3368780612945557,
          -1.7593036890029907,
          -1.2854268550872803,
          -3.5350146293640137,
          2.1890640258789062,
          -1.3933500051498413,
          -1.1643463373184204,
          -1.3831133842468262,
          1.9611228704452515,
          -2.383572816848755,
          2.1290388107299805,
          -1.524171233177185,
          1.8138359785079956,
          1.405958890914917,
          -1.247021198272705,
          -5.4377055168151855,
          -2.0522732734680176,
          -2.7235774993896484,
          -2.92989182472229,
          0.8803489804267883,
          1.3187530040740967,
          3.482914924621582,
          2.0259289741516113,
          -2.854203224182129,
          0.7301117181777954,
          -2.541530132293701,
          -1.722503662109375,
          5.139780521392822,
          -1.9321072101593018,
          -3.94529390335083,
          -6.339048385620117,
          1.2132071256637573,
          0.8915382623672485,
          -2.5655181407928467,
          1.4040879011154175,
          1.9936331510543823,
          -0.6336004137992859,
          -1.0222746133804321,
          -0.7348209619522095,
          -1.7136489152908325,
          1.8044846057891846,
          1.787139654159546,
          -1.5898081064224243,
          3.0915989875793457,
          2.920677900314331,
          -1.8977768421173096,
          3.161647319793701,
          -4.5266242027282715,
          -1.1250789165496826,
          -3.8872246742248535,
          -3.048814058303833,
          -1.7536715269088745,
          0.8305022120475769,
          -5.985398769378662,
          2.728024959564209,
          -6.3601861000061035,
          1.690069556236267,
          -2.495769739151001,
          2.016331672668457,
          2.6714460849761963,
          -0.5957474708557129,
          1.0834513902664185,
          0.11802855879068375,
          2.6534817218780518,
          -1.6656955480575562,
          0.8442671895027161,
          2.509002923965454,
          0.42704132199287415,
          1.4009220600128174,
          2.1661195755004883,
          1.2633049488067627,
          0.03476785123348236,
          -2.4197099208831787,
          2.259143352508545,
          2.5577049255371094,
          -0.41032296419143677,
          -3.795506715774536,
          2.017019271850586,
          -3.99468994140625,
          -1.3390039205551147,
          0.9674068093299866,
          0.3124587833881378,
          3.4305896759033203,
          -1.1681468486785889,
          1.1137800216674805,
          2.2325544357299805,
          -1.5604897737503052,
          1.1558647155761719,
          -6.081427097320557,
          -2.5913689136505127,
          -1.4514617919921875,
          -5.354739189147949,
          2.945805072784424,
          1.1401705741882324,
          1.053855538368225,
          3.015761375427246,
          1.8878812789916992,
          -1.6174719333648682,
          -1.756441593170166,
          2.665278673171997,
          -2.3723948001861572,
          -1.631443977355957,
          1.6635206937789917,
          4.075985431671143,
          -2.002784013748169,
          -1.6132433414459229,
          -6.322845458984375,
          -1.5481237173080444,
          -2.4945340156555176,
          2.274017810821533,
          -1.240962028503418,
          1.9266045093536377,
          2.376185894012451,
          3.285534620285034,
          -5.4556708335876465,
          -5.778209686279297,
          -5.032385349273682,
          -0.4523630142211914,
          -4.9581756591796875,
          -6.451117992401123,
          -2.2892608642578125,
          3.4619553089141846,
          0.9638760685920715,
          -2.8042526245117188,
          -2.69378924369812,
          -1.9756160974502563,
          2.6652472019195557,
          -4.898400783538818,
          0.07566773891448975,
          0.7199787497520447,
          -1.420829176902771,
          -3.2577505111694336,
          -0.9379101395606995,
          2.723313331604004,
          -0.9794241786003113,
          -5.010277271270752,
          0.9233455061912537,
          -0.9469166398048401,
          0.21603402495384216,
          1.1459256410598755,
          0.5913553833961487,
          -3.003580331802368,
          -2.443878412246704,
          -4.794931888580322,
          -5.373783111572266,
          2.7130281925201416,
          -0.216256782412529,
          -3.8272929191589355,
          -6.824654579162598,
          1.8992161750793457,
          -4.371993541717529,
          0.8537419438362122,
          0.16448800265789032,
          -1.664720058441162,
          -4.463345050811768,
          -1.5499783754348755,
          2.594269037246704,
          -1.7248278856277466,
          -6.110387325286865,
          -6.457320690155029,
          -1.1588506698608398,
          2.149517059326172,
          1.3180211782455444,
          -2.2722601890563965,
          -0.0909532830119133,
          1.5285732746124268,
          -2.1548051834106445,
          -1.7598968744277954,
          -3.9840874671936035,
          -4.324612617492676,
          2.9177277088165283,
          -5.102941989898682,
          0.9143390655517578,
          5.454094886779785,
          -4.252191543579102,
          -1.886242389678955,
          0.4336871802806854,
          -4.7184858322143555,
          0.01330456230789423,
          -1.917967677116394,
          1.762160301208496,
          0.4582022726535797,
          -3.8555850982666016,
          0.07580926269292831,
          1.4161748886108398,
          1.6978031396865845,
          -1.1171801090240479,
          -3.328312635421753,
          -0.2272246778011322,
          -5.7882585525512695,
          -3.0133917331695557,
          -4.8868513107299805,
          -4.948296070098877,
          -3.321533203125,
          -0.795488178730011,
          -0.2506612241268158,
          -3.8544788360595703,
          2.1026530265808105,
          0.8995831608772278,
          0.07096553593873978,
          2.566298723220825,
          2.749276876449585,
          -0.5338391065597534,
          0.5315446257591248,
          1.3135004043579102,
          -2.290557622909546,
          -0.9669987559318542,
          -3.8466053009033203,
          2.633877992630005,
          -5.850179672241211,
          0.16217216849327087,
          -3.2541112899780273,
          -4.400082111358643,
          1.7966527938842773,
          -3.68861985206604,
          -2.094716787338257,
          0.7370562553405762,
          -1.014991283416748,
          -3.437389850616455,
          -2.8572158813476562,
          3.2231991291046143,
          0.1330157220363617,
          -1.4367024898529053,
          -2.678534984588623,
          -1.6281601190567017,
          -0.18124379217624664,
          2.511392593383789,
          0.18949198722839355,
          1.367811679840088,
          2.7801342010498047,
          2.240933418273926,
          2.5182104110717773,
          -6.270734786987305,
          2.3685858249664307,
          -3.5617289543151855,
          -3.441250801086426,
          -5.007157802581787,
          2.8430702686309814,
          0.6265801787376404,
          1.73570716381073,
          3.7561988830566406,
          -4.145700931549072,
          1.760886549949646,
          1.4391202926635742,
          1.80508291721344,
          5.785038471221924,
          -5.127655982971191,
          -0.07165136188268661,
          3.461787223815918,
          -2.5055136680603027,
          0.9439908266067505,
          2.902986764907837,
          3.806520938873291,
          5.06911039352417,
          -0.5313395261764526,
          -6.218360900878906,
          4.284541606903076,
          2.2110893726348877,
          -0.189360573887825,
          1.0037339925765991,
          1.4020310640335083,
          -4.308143138885498,
          0.7881831526756287,
          1.056045651435852,
          1.343617558479309,
          0.9262266159057617,
          3.1898696422576904,
          -2.7095375061035156,
          -2.5736536979675293,
          -3.944125175476074,
          1.2704410552978516,
          -1.9657500982284546,
          0.9876086115837097,
          0.5282641053199768,
          -4.017425537109375,
          -2.20157527923584,
          -4.789795875549316,
          -5.015613555908203,
          -2.662449598312378,
          0.973281741142273,
          -4.803905963897705,
          0.4541010856628418,
          -3.906597375869751,
          -1.6393818855285645,
          -5.274785995483398,
          -0.04501565918326378,
          -6.240710735321045,
          3.579052448272705,
          -3.7773401737213135,
          -3.815030336380005,
          2.545886516571045,
          2.535879135131836,
          -4.1575212478637695,
          -2.7754547595977783,
          -1.1142001152038574,
          -3.557706832885742,
          -4.042071342468262,
          -2.788808822631836,
          -3.086752414703369,
          -4.0764312744140625,
          2.9037303924560547,
          1.0999342203140259,
          -2.098844289779663,
          1.2199442386627197,
          2.1347081661224365,
          1.4959691762924194,
          0.5054243803024292,
          0.40269914269447327,
          -1.585914134979248,
          -4.5232768058776855,
          -1.107041597366333,
          -4.864214897155762,
          -0.34076565504074097,
          3.980421304702759,
          -0.9208619594573975,
          0.5724755525588989,
          1.7539795637130737,
          -7.104124546051025,
          -1.0265430212020874,
          -0.4140303432941437,
          -4.556460380554199,
          -4.068492889404297,
          -4.904757022857666,
          -4.4080963134765625,
          1.6840883493423462,
          -4.6029839515686035,
          -0.396199107170105,
          -1.142181396484375,
          -0.6845272183418274,
          0.5762745141983032,
          3.099010944366455,
          3.1644980907440186,
          -4.613920211791992,
          1.0414294004440308,
          1.0069243907928467,
          -2.2135655879974365,
          -4.326257228851318,
          -3.309377431869507,
          3.051539421081543,
          4.962214946746826,
          1.668936848640442,
          -4.956362247467041,
          0.6061400771141052,
          2.3448519706726074,
          -5.343735694885254,
          2.630891799926758,
          1.0046916007995605,
          1.9130443334579468,
          -2.531881093978882,
          2.827505111694336,
          1.6982145309448242,
          1.4600250720977783,
          -1.3122700452804565,
          -1.8251522779464722,
          1.7388163805007935,
          -0.9811727404594421,
          -0.002143570687621832,
          -1.6941462755203247,
          -0.19613735377788544,
          1.9379743337631226,
          -3.672884941101074,
          -5.168215751647949,
          3.1191906929016113,
          2.6128463745117188,
          2.264702081680298,
          0.040029775351285934,
          5.739253044128418,
          1.0714709758758545,
          1.281262755393982,
          0.6624445915222168,
          1.1285481452941895,
          4.768535137176514,
          0.6648202538490295,
          2.6237621307373047,
          0.9221564531326294,
          -2.398561716079712,
          2.238523483276367,
          -3.5603268146514893,
          0.10260974615812302,
          -2.289680004119873,
          -1.3094191551208496,
          -4.511329650878906,
          -3.8710227012634277,
          -5.530021667480469,
          -1.4668233394622803,
          1.5974745750427246,
          1.0188583135604858,
          1.7391279935836792,
          3.2967379093170166,
          -0.7048191428184509,
          -6.447144508361816,
          1.6287697553634644,
          -3.6473469734191895,
          -2.227865695953369,
          -1.1297636032104492,
          -1.95905339717865,
          -3.284437894821167,
          -3.74106764793396,
          -6.146609783172607,
          -4.883460521697998,
          0.9995018243789673,
          0.18474642932415009,
          0.48878222703933716,
          0.4185633063316345,
          0.18474642932415009,
          -4.302148818969727,
          -2.0700199604034424,
          -0.06000813469290733,
          0.9594910144805908
         ],
         "z": [
          0.20649151504039764,
          12.19393253326416,
          -0.4634440839290619,
          5.756597518920898,
          2.7246909141540527,
          5.252996921539307,
          8.74543285369873,
          5.16885232925415,
          2.452906847000122,
          -1.3904914855957031,
          2.6164679527282715,
          1.074171781539917,
          -2.076258420944214,
          3.124527931213379,
          6.099782466888428,
          10.394062042236328,
          7.807830333709717,
          1.283345103263855,
          0.8556219935417175,
          5.14588737487793,
          7.234524250030518,
          -1.3328473567962646,
          4.162423133850098,
          -1.7198829650878906,
          0.6453244686126709,
          3.578935384750366,
          8.997552871704102,
          -1.498156189918518,
          2.0399086475372314,
          6.246450901031494,
          4.3978800773620605,
          6.745561122894287,
          10.70543384552002,
          4.106614589691162,
          3.2604641914367676,
          6.4595866203308105,
          10.558436393737793,
          7.438011169433594,
          -2.945185661315918,
          0.6181837320327759,
          3.9709689617156982,
          4.983471870422363,
          8.749808311462402,
          3.946725606918335,
          4.128310203552246,
          7.691685676574707,
          5.97326135635376,
          2.6634745597839355,
          7.491715908050537,
          2.4341444969177246,
          3.1501922607421875,
          5.590329170227051,
          3.7365665435791016,
          1.8610749244689941,
          9.185734748840332,
          2.9616525173187256,
          2.062535285949707,
          6.049566268920898,
          4.431122779846191,
          -1.1513184309005737,
          4.739558219909668,
          2.595118761062622,
          1.3210828304290771,
          3.376511812210083,
          7.412330150604248,
          6.659736633300781,
          2.6098685264587402,
          3.664487361907959,
          9.91726303100586,
          2.7954986095428467,
          6.102124214172363,
          2.1148812770843506,
          7.30928373336792,
          -2.9693539142608643,
          3.779266119003296,
          3.2019035816192627,
          4.693721771240234,
          1.235916018486023,
          1.3793623447418213,
          1.7587240934371948,
          8.05016040802002,
          11.48634147644043,
          -0.8625045418739319,
          4.788149833679199,
          1.0053374767303467,
          4.580870151519775,
          4.842768669128418,
          6.312160491943359,
          9.887446403503418,
          2.2231202125549316,
          2.9782140254974365,
          10.596222877502441,
          5.675678253173828,
          -0.12856094539165497,
          6.674816608428955,
          2.1055386066436768,
          7.664330959320068,
          1.7501516342163086,
          -0.5465943813323975,
          7.721958160400391,
          2.5401880741119385,
          1.859725832939148,
          2.129281759262085,
          4.601490497589111,
          3.184535503387451,
          2.245269775390625,
          0.7436743974685669,
          4.513920307159424,
          1.5783277750015259,
          5.395406723022461,
          1.006690263748169,
          9.63739013671875,
          0.4035300314426422,
          10.417542457580566,
          2.8337981700897217,
          0.644883930683136,
          3.304213523864746,
          2.8813931941986084,
          0.21982347965240479,
          4.7551045417785645,
          11.194334030151367,
          -0.45450419187545776,
          -1.671416163444519,
          8.80970287322998,
          5.939825057983398,
          -1.6637135744094849,
          2.5871078968048096,
          10.388416290283203,
          5.8353271484375,
          2.4296023845672607,
          7.2411885261535645,
          5.372786045074463,
          6.238037109375,
          5.5112996101379395,
          7.082706451416016,
          1.6844186782836914,
          0.08252410590648651,
          3.431391954421997,
          7.439387321472168,
          11.16631031036377,
          3.460522174835205,
          11.529561996459961,
          3.4338619709014893,
          3.283864974975586,
          7.466360092163086,
          2.29954195022583,
          10.159646987915039,
          -3.628838539123535,
          2.739912271499634,
          7.293054103851318,
          6.741086483001709,
          0.5759602189064026,
          -2.1634652614593506,
          9.720613479614258,
          1.834593653678894,
          2.30196475982666,
          5.089909076690674,
          3.3895390033721924,
          -1.6269220113754272,
          2.573540210723877,
          10.060133934020996,
          9.113083839416504,
          1.1741777658462524,
          11.1615571975708,
          3.419945240020752,
          2.489537239074707,
          2.4282145500183105,
          -2.5946192741394043,
          6.82218599319458,
          0.11668635904788971,
          10.150371551513672,
          3.3003573417663574,
          4.496304512023926,
          8.489675521850586,
          -1.9826676845550537,
          2.3271777629852295,
          0.9501783847808838,
          2.288421630859375,
          2.668874740600586,
          10.352184295654297,
          6.787592887878418,
          9.707807540893555,
          4.125692367553711,
          -2.1977040767669678,
          0.9688501954078674,
          6.1575751304626465,
          4.946920871734619,
          1.2982673645019531,
          7.356855392456055,
          3.2426347732543945,
          3.9958927631378174,
          0.6814239025115967,
          6.806430816650391,
          7.446349620819092,
          10.644347190856934,
          10.379515647888184,
          1.362884759902954,
          2.6091623306274414,
          12.338723182678223,
          6.1606364250183105,
          2.204620122909546,
          -3.1061854362487793,
          2.819094181060791,
          6.265793323516846,
          3.34484601020813,
          4.594512939453125,
          11.908151626586914,
          6.086040496826172,
          -0.02361772209405899,
          -1.9051976203918457,
          2.0361618995666504,
          4.402360439300537,
          3.697249412536621,
          11.382816314697266,
          5.914919853210449,
          6.89436674118042,
          2.229461908340454,
          2.3657383918762207,
          4.028508186340332,
          2.7204084396362305,
          10.453213691711426,
          0.2160196155309677,
          -0.0358039028942585,
          8.78776741027832,
          -0.9494180083274841,
          4.191350936889648,
          8.154280662536621,
          -2.9310243129730225,
          5.118081569671631,
          11.117022514343262,
          9.160561561584473,
          3.6250452995300293,
          8.532154083251953,
          5.795503616333008,
          4.17042350769043,
          5.9253411293029785,
          1.402434229850769,
          11.829377174377441,
          10.570274353027344,
          7.212334156036377,
          9.621028900146484,
          1.7232874631881714,
          3.785407066345215,
          -1.1209907531738281,
          -1.40328049659729,
          2.3695714473724365,
          7.829410076141357,
          5.195491313934326,
          5.328646183013916,
          8.334281921386719,
          10.71716594696045,
          6.261462211608887,
          5.959423542022705,
          11.469991683959961,
          1.1430857181549072,
          8.96392822265625,
          -0.9446783661842346,
          7.919154167175293,
          0.7251697182655334,
          3.6532247066497803,
          -1.3973087072372437,
          0.6908379793167114,
          6.939043045043945,
          1.937029242515564,
          3.7457568645477295,
          0.6685177087783813,
          0.4301201105117798,
          0.41176146268844604,
          8.55189323425293,
          8.847044944763184,
          -1.013708472251892,
          0.7509675025939941,
          6.088437080383301,
          -1.4477450847625732,
          6.0793375968933105,
          11.694558143615723,
          -1.925113320350647,
          11.070515632629395,
          -1.7319239377975464,
          2.436408758163452,
          9.423625946044922,
          3.535827159881592,
          9.547224998474121,
          5.219071865081787,
          7.863411903381348,
          10.03906536102295,
          10.100228309631348,
          1.566473126411438,
          2.596101999282837,
          3.6432878971099854,
          -1.4809373617172241,
          -1.0254610776901245,
          2.9087982177734375,
          3.1000499725341797,
          -1.212551474571228,
          5.339540958404541,
          3.27423357963562,
          -1.8113553524017334,
          2.3948943614959717,
          12.331717491149902,
          -0.46833038330078125,
          1.6309953927993774,
          5.045435428619385,
          -3.16257643699646,
          3.9521729946136475,
          5.796799182891846,
          3.463672161102295,
          5.025417804718018,
          2.744478225708008,
          10.368644714355469,
          -0.34550440311431885,
          0.24597497284412384,
          4.255890846252441,
          6.177494049072266,
          -0.8077245950698853,
          1.9162427186965942,
          1.3605375289916992,
          6.687913417816162,
          0.023018233478069305,
          -3.1802802085876465,
          -2.1238348484039307,
          1.7314763069152832,
          3.0162007808685303,
          -3.7930121421813965,
          7.051162242889404,
          6.544403553009033,
          5.984607219696045,
          -0.08941277861595154,
          5.815219402313232,
          -0.7253086566925049,
          1.039269208908081,
          9.931133270263672,
          8.431400299072266,
          6.220035076141357,
          10.751382827758789,
          2.4948348999023438,
          1.5348730087280273,
          5.2322587966918945,
          2.1446380615234375,
          3.801645517349243,
          12.341346740722656,
          7.194624423980713,
          0.6079195141792297,
          11.853628158569336,
          6.326761245727539,
          0.29829660058021545,
          1.6560204029083252,
          1.7356572151184082,
          -7.3069634437561035,
          0.38193604350090027,
          1.7915263175964355,
          0.7610955238342285,
          3.8808939456939697,
          -1.0137475728988647,
          0.5569380521774292,
          8.42648696899414,
          10.12817096710205,
          7.732891082763672,
          -1.791045904159546,
          -0.3755725920200348,
          10.138821601867676,
          4.979608535766602,
          8.419123649597168,
          0.2089967578649521,
          -3.6954970359802246,
          9.458952903747559,
          -1.4129780530929565,
          5.16030740737915,
          0.10164953023195267,
          4.086672306060791,
          -0.5942582488059998,
          2.1124589443206787,
          3.7732887268066406,
          1.3569164276123047,
          9.054525375366211,
          -2.5477428436279297,
          1.6584324836730957,
          9.271039962768555,
          6.955826282501221,
          5.34122371673584,
          4.3106489181518555,
          9.0132417678833,
          2.983610153198242,
          9.60788631439209,
          4.17307186126709,
          5.958120822906494,
          5.02967643737793,
          -0.9423241019248962,
          1.2229350805282593,
          2.229443073272705,
          2.154850721359253,
          3.1347882747650146,
          6.357080936431885,
          -1.8561370372772217,
          0.8433639407157898,
          1.2524378299713135,
          5.520448207855225,
          2.7635769844055176,
          -2.5936336517333984,
          4.9916181564331055,
          10.997087478637695,
          -0.4737326502799988,
          1.9219411611557007,
          -0.019454624503850937,
          4.216415882110596,
          2.8642938137054443,
          -0.5694758892059326,
          4.678572177886963,
          1.6925294399261475,
          2.7805593013763428,
          2.944701910018921,
          3.797790288925171,
          2.575364112854004,
          4.9671735763549805,
          5.406373023986816,
          4.293147087097168,
          9.185614585876465,
          5.374627590179443,
          2.6560657024383545,
          1.9968159198760986,
          8.892306327819824,
          -2.8852310180664062,
          7.466620922088623,
          -2.0333027839660645,
          10.439001083374023,
          1.9281587600708008,
          0.9671870470046997,
          -0.09340900182723999,
          -3.28098726272583,
          2.7832517623901367,
          5.875927448272705,
          -0.4879162609577179,
          0.785495400428772,
          0.3490172326564789,
          1.9323829412460327,
          2.479857921600342,
          0.4442853629589081,
          6.170032024383545,
          5.008582592010498,
          2.5027670860290527,
          -1.4832863807678223,
          7.672544002532959,
          9.64342212677002,
          9.821170806884766,
          11.830073356628418,
          3.237825393676758,
          2.100078582763672,
          10.118156433105469,
          5.398412227630615,
          2.731329917907715,
          2.7629849910736084,
          0.38413798809051514,
          6.114420413970947,
          5.072922706604004,
          5.341161251068115,
          9.261711120605469,
          2.001990795135498,
          1.2302707433700562,
          2.1879119873046875,
          -1.6111462116241455,
          11.117920875549316,
          0.6813580393791199,
          4.767199993133545,
          2.196289539337158,
          6.8188018798828125,
          -0.7130696773529053,
          -7.462284564971924,
          6.8188018798828125,
          1.1642308235168457,
          8.331908226013184,
          2.131530284881592,
          6.1218085289001465
         ]
        },
        {
         "hoverlabel": {
          "namelength": 0
         },
         "hovertemplate": "Dominant_Topic=Topic 1<br>0=%{x}<br>1=%{y}<br>2=%{z}",
         "legendgroup": "Dominant_Topic=Topic 1",
         "marker": {
          "color": "#EF553B",
          "opacity": 0.7,
          "symbol": "circle"
         },
         "mode": "markers",
         "name": "Dominant_Topic=Topic 1",
         "scene": "scene",
         "showlegend": true,
         "type": "scatter3d",
         "x": [
          -0.15381549298763275,
          4.412962913513184,
          3.71940279006958,
          4.268483638763428,
          1.080132246017456,
          3.104543924331665,
          -0.42543819546699524,
          3.835253953933716,
          -0.7810298204421997,
          1.7483627796173096,
          1.4101343154907227,
          2.0718188285827637,
          -0.5918224453926086,
          0.5337322950363159,
          4.397047519683838,
          -3.0469703674316406,
          1.0275216102600098,
          1.2045129537582397,
          -1.5474727153778076,
          -0.932647705078125,
          0.3701128661632538,
          -1.444405436515808,
          1.6713197231292725,
          1.3571550846099854,
          0.46624755859375,
          0.30440542101860046,
          4.5734992027282715,
          -0.4504089057445526,
          -2.557798385620117,
          4.778714656829834,
          1.6891191005706787,
          0.9918522238731384,
          -0.21882976591587067,
          2.6695501804351807,
          -0.07776547968387604,
          -2.9103293418884277,
          -1.107142686843872,
          -3.2825047969818115,
          -2.148200035095215,
          0.19230249524116516,
          2.8023581504821777,
          -2.938385009765625,
          2.1730473041534424,
          1.5502400398254395,
          -0.8197646737098694,
          0.24676164984703064,
          0.3449387550354004,
          3.490727663040161,
          0.34055155515670776,
          5.317856311798096,
          1.0684515237808228,
          1.9608075618743896,
          2.0297648906707764,
          -0.5039882659912109,
          3.695810317993164,
          0.5712267756462097,
          -1.6183186769485474,
          -1.2850850820541382,
          3.4840505123138428,
          5.065131187438965,
          2.365790843963623,
          -0.28303858637809753,
          3.9307422637939453,
          1.618208885192871,
          -0.19472508132457733,
          -3.052511692047119,
          2.327605962753296,
          -1.0749150514602661,
          -2.52431583404541,
          -0.0032568704336881638,
          3.2048463821411133,
          0.4718695282936096,
          2.744872570037842,
          -2.6393749713897705,
          -0.5459886789321899,
          2.4799692630767822,
          0.6906017065048218,
          3.8481507301330566,
          1.734714150428772,
          -0.2258554846048355,
          0.20410926640033722,
          3.0725014209747314,
          -0.34850579500198364,
          -1.5976661443710327,
          2.6934680938720703,
          -0.050155676901340485,
          3.576758861541748,
          1.5118863582611084,
          3.594071626663208,
          2.4457459449768066,
          0.1601446270942688,
          3.4807851314544678,
          -0.4082830846309662,
          -1.1045873165130615,
          0.8063970804214478,
          -1.693196415901184,
          0.0103202685713768,
          2.9465832710266113,
          2.876568078994751,
          3.0275933742523193,
          3.348788261413574,
          3.479067087173462,
          1.6286009550094604,
          -2.175891637802124,
          1.7778511047363281,
          4.440203666687012,
          3.1728475093841553,
          0.42965173721313477,
          1.6561012268066406,
          0.5663828253746033,
          0.8755999207496643,
          3.848450183868408,
          5.1684184074401855,
          -1.882017731666565,
          1.4089914560317993,
          2.4742050170898438,
          -0.4756946563720703,
          5.679638385772705,
          5.256106376647949,
          -1.526818037033081,
          3.1257569789886475,
          0.007314109709113836,
          2.3435475826263428,
          3.456608295440674,
          4.763582706451416,
          -0.19757166504859924,
          3.6208488941192627,
          0.8422955274581909,
          1.6799436807632446,
          2.4303510189056396,
          0.4872666597366333,
          3.095550298690796,
          1.0706546306610107,
          -0.12867146730422974,
          -0.047490380704402924,
          4.42388391494751,
          1.5601210594177246,
          1.8893308639526367,
          3.2931039333343506,
          0.4430236518383026,
          2.7829489707946777,
          -2.2722902297973633,
          2.0756208896636963,
          4.749380588531494,
          3.2832350730895996,
          2.8605661392211914,
          4.502346992492676,
          3.3323256969451904,
          4.672148704528809,
          2.691678047180176,
          1.3886934518814087,
          3.254805564880371,
          3.1406259536743164,
          -1.4401662349700928,
          2.82535982131958,
          -2.820798873901367,
          3.6856038570404053,
          1.4977760314941406,
          2.132406234741211,
          3.029250144958496,
          5.21248722076416,
          -0.5096677541732788,
          5.134923458099365,
          3.586305856704712,
          2.3415145874023438,
          1.9368760585784912,
          1.3417037725448608,
          3.3432748317718506,
          3.43318510055542,
          0.3954119384288788,
          -1.093752145767212,
          1.7296957969665527,
          3.8086178302764893,
          1.7908618450164795,
          4.734131813049316,
          1.6001633405685425,
          1.8986563682556152,
          2.800002336502075,
          3.2563040256500244,
          4.483423709869385,
          -0.5303069353103638,
          3.5555813312530518,
          3.597517251968384,
          2.0594494342803955,
          4.734745979309082,
          3.109271287918091,
          4.479983806610107,
          1.3304249048233032,
          4.014052867889404,
          3.3040969371795654,
          0.3083401322364807,
          3.146376848220825,
          3.609449625015259,
          2.217395782470703,
          3.898101568222046,
          0.6033346652984619,
          3.1904172897338867,
          2.817127227783203,
          4.008098602294922,
          2.7545080184936523,
          4.250426769256592
         ],
         "y": [
          0.49723556637763977,
          -7.397089958190918,
          -5.324113368988037,
          -8.984028816223145,
          -0.2652433216571808,
          -0.7676597833633423,
          -1.866917610168457,
          -0.7866367697715759,
          1.349623680114746,
          -6.577653408050537,
          -1.0248088836669922,
          0.7158764004707336,
          -1.4202468395233154,
          -1.7838808298110962,
          0.3594589829444885,
          -2.0207698345184326,
          -5.1539106369018555,
          -5.121284008026123,
          -1.2932895421981812,
          -5.149035930633545,
          -4.304842472076416,
          -3.646512269973755,
          -4.67814302444458,
          -5.538244724273682,
          -0.4654162526130676,
          -1.168747067451477,
          0.27356579899787903,
          -4.3620500564575195,
          -0.8771329522132874,
          -0.6714699268341064,
          -8.142021179199219,
          -4.199334144592285,
          -4.165596008300781,
          -8.929537773132324,
          -5.981700897216797,
          -1.1773536205291748,
          -6.714584827423096,
          -2.1063313484191895,
          -6.493783950805664,
          -1.721669316291809,
          0.7315115332603455,
          -2.4399497509002686,
          -8.968769073486328,
          -8.40237045288086,
          -1.9775514602661133,
          -1.7294695377349854,
          -3.3379299640655518,
          -0.45610734820365906,
          -5.755733013153076,
          0.5483004450798035,
          0.39426684379577637,
          -5.793242454528809,
          -8.198902130126953,
          -3.577946186065674,
          0.182096928358078,
          -5.584500789642334,
          -3.7374346256256104,
          1.6044526100158691,
          -11.040428161621094,
          0.12059445679187775,
          -1.9864976406097412,
          0.2911171615123749,
          0.411174476146698,
          0.23761002719402313,
          -0.36056748032569885,
          -2.573235511779785,
          -9.4567289352417,
          1.4906566143035889,
          -1.5955443382263184,
          -3.7697837352752686,
          -8.368837356567383,
          -2.3634588718414307,
          -7.233417510986328,
          -0.7429007887840271,
          -1.562398910522461,
          -10.00186538696289,
          -6.570368766784668,
          -7.82632303237915,
          -5.701640605926514,
          -2.2760133743286133,
          -5.995634078979492,
          0.3118038773536682,
          -3.4137260913848877,
          -1.4550700187683105,
          -10.006571769714355,
          -5.348726749420166,
          -9.743817329406738,
          -5.924242973327637,
          -9.814855575561523,
          -6.637373447418213,
          -2.4192910194396973,
          -0.48578080534935,
          -1.7468341588974,
          -6.7029500007629395,
          -6.151756286621094,
          -0.7591228485107422,
          -5.431755542755127,
          -7.504548072814941,
          -11.095773696899414,
          -10.25549030303955,
          -8.802022933959961,
          -8.581774711608887,
          -3.8160455226898193,
          -6.248878479003906,
          -6.576773166656494,
          -6.794704437255859,
          -10.678509712219238,
          -0.8323008418083191,
          -5.180556297302246,
          -2.048764705657959,
          -6.219560146331787,
          0.20011958479881287,
          -6.71159553527832,
          -3.5457637310028076,
          -7.130333423614502,
          -5.971900939941406,
          -5.1967692375183105,
          0.7237977385520935,
          -0.23022349178791046,
          -6.559305667877197,
          -0.4653949439525604,
          -4.585397720336914,
          -9.363162994384766,
          -11.39021110534668,
          -7.412452220916748,
          -0.7975049614906311,
          -7.0060625076293945,
          -6.72968053817749,
          -8.700599670410156,
          -10.635734558105469,
          -1.3198736906051636,
          -11.419393539428711,
          -6.514397144317627,
          -2.303826093673706,
          0.09650862962007523,
          -8.846117973327637,
          -2.9284939765930176,
          -6.993878364562988,
          -8.56944751739502,
          -0.30113524198532104,
          -10.835992813110352,
          -1.1709986925125122,
          -6.8674397468566895,
          -6.963660717010498,
          -7.711538314819336,
          -11.117268562316895,
          -7.292949676513672,
          -0.3305705785751343,
          -7.005373954772949,
          -10.503316879272461,
          -5.644685745239258,
          -11.446025848388672,
          -10.996084213256836,
          -3.5836803913116455,
          -10.443377494812012,
          -1.4135559797286987,
          -10.029352188110352,
          -2.7379653453826904,
          -4.86929178237915,
          -11.401633262634277,
          -0.05769198015332222,
          -4.408416748046875,
          -6.720261096954346,
          -8.58142375946045,
          -6.189855098724365,
          -6.362172603607178,
          -7.354892730712891,
          -8.439870834350586,
          -11.307971000671387,
          -2.6985924243927,
          -1.4769861698150635,
          -8.458304405212402,
          -7.094022750854492,
          -5.972444534301758,
          -6.9115891456604,
          -7.429328441619873,
          -8.65306568145752,
          -8.788161277770996,
          -8.395160675048828,
          -8.446281433105469,
          -6.1824822425842285,
          -9.82275390625,
          -9.199100494384766,
          -3.3477423191070557,
          -7.494344234466553,
          -11.53127670288086,
          -8.760481834411621,
          -2.7078371047973633,
          -8.884947776794434,
          -10.092826843261719,
          -5.824619293212891,
          -11.570174217224121,
          -9.185779571533203,
          -9.624504089355469,
          -6.479645729064941,
          -1.9289263486862183,
          -10.528902053833008,
          -6.9138875007629395,
          -6.885724067687988,
          -10.878000259399414,
          -7.291520595550537
         ],
         "z": [
          -4.34255313873291,
          -10.62306022644043,
          -5.688772201538086,
          -8.325016021728516,
          -6.7964277267456055,
          -6.16878080368042,
          -5.474306106567383,
          -6.6166157722473145,
          -4.142329692840576,
          -6.3324384689331055,
          -5.403669834136963,
          -6.050817012786865,
          -5.689065933227539,
          -6.864271640777588,
          -6.828562259674072,
          -3.0851340293884277,
          -5.616211414337158,
          -5.8382415771484375,
          -3.085127830505371,
          -3.6559536457061768,
          -4.203545093536377,
          -2.469430923461914,
          -6.048847675323486,
          -5.990954875946045,
          -7.3123250007629395,
          -4.008483409881592,
          -7.02412748336792,
          -5.323757648468018,
          -3.4413981437683105,
          -6.7001824378967285,
          -8.153351783752441,
          -4.880649566650391,
          -5.808741092681885,
          -9.076289176940918,
          -4.965742111206055,
          -3.3833329677581787,
          -2.9583349227905273,
          -2.809377670288086,
          -0.6337947845458984,
          -5.127922534942627,
          -6.175248622894287,
          -3.2293193340301514,
          -9.164556503295898,
          -8.213340759277344,
          -5.366272926330566,
          -4.866450309753418,
          -6.402374744415283,
          -7.352294445037842,
          -5.699148178100586,
          -7.488774299621582,
          -5.044511318206787,
          -7.719374656677246,
          -8.225744247436523,
          -2.128007650375366,
          -6.9767069816589355,
          -5.314219951629639,
          -2.7488741874694824,
          -3.292710065841675,
          -10.01462173461914,
          -6.558256149291992,
          -4.910919666290283,
          -3.5132482051849365,
          -8.037903785705566,
          -7.107828140258789,
          -4.1463446617126465,
          -2.9734253883361816,
          -9.883491516113281,
          -3.845768451690674,
          -3.4346115589141846,
          -5.493133544921875,
          -9.276951789855957,
          -3.809962749481201,
          -8.409860610961914,
          -3.6275343894958496,
          -4.932877540588379,
          -10.52078914642334,
          -6.728776454925537,
          -10.52963924407959,
          -5.784547805786133,
          -5.481611728668213,
          -4.6455230712890625,
          -7.662703514099121,
          -2.6523618698120117,
          -3.0309951305389404,
          -10.139762878417969,
          -6.088914394378662,
          -8.900322914123535,
          -7.354511737823486,
          -12.08216381072998,
          -8.183365821838379,
          -5.884284973144531,
          -6.196708679199219,
          -5.364508152008057,
          -2.976473569869995,
          -5.91104793548584,
          -3.585325241088867,
          -5.399962902069092,
          -9.33427619934082,
          -11.826239585876465,
          -11.567818641662598,
          -10.785024642944336,
          -10.108091354370117,
          -4.888095855712891,
          -1.1522915363311768,
          -7.620718955993652,
          -10.44710636138916,
          -12.039351463317871,
          -6.928617000579834,
          -5.260672569274902,
          -5.097009658813477,
          -6.224758625030518,
          -7.814688682556152,
          -8.678719520568848,
          -2.7838528156280518,
          -7.353346824645996,
          -5.902116298675537,
          -4.75753927230835,
          0.6066089868545532,
          -6.748968124389648,
          0.24621300399303436,
          -6.24298095703125,
          -5.586775302886963,
          -9.830525398254395,
          -10.463175773620605,
          -11.487260818481445,
          -2.117428779602051,
          -9.801512718200684,
          -6.797202110290527,
          -8.514083862304688,
          -11.17129135131836,
          -6.938231945037842,
          -11.432336807250977,
          -5.885373592376709,
          -5.927186489105225,
          -3.7639057636260986,
          -8.302305221557617,
          -4.576726913452148,
          -6.229825973510742,
          -10.425820350646973,
          -4.896925449371338,
          -11.426048278808594,
          -3.596747636795044,
          -7.826837539672852,
          -10.99014949798584,
          -9.8671236038208,
          -11.822440147399902,
          -10.917193412780762,
          -6.430354595184326,
          -10.81334400177002,
          -10.902083396911621,
          -7.113971710205078,
          -12.393396377563477,
          -12.112894058227539,
          -2.3278684616088867,
          -10.831271171569824,
          -3.3073809146881104,
          -12.391282081604004,
          -4.320667743682861,
          -4.480828285217285,
          -12.081443786621094,
          -6.733570098876953,
          -5.327742576599121,
          -8.872931480407715,
          -10.464950561523438,
          -7.4990973472595215,
          -6.324060440063477,
          -7.468847274780273,
          -10.47758674621582,
          -12.596647262573242,
          -5.330810070037842,
          -1.9909422397613525,
          -8.397899627685547,
          -10.0333251953125,
          -7.558833599090576,
          -10.916786193847656,
          -7.60407829284668,
          -8.734665870666504,
          -8.419099807739258,
          -9.800763130187988,
          -8.52914810180664,
          -3.9424266815185547,
          -12.023323059082031,
          -11.466658592224121,
          -6.306924819946289,
          -9.513957977294922,
          -12.213289260864258,
          -8.383251190185547,
          -4.443117618560791,
          -10.95046615600586,
          -11.848946571350098,
          -4.901116847991943,
          -12.278326988220215,
          -11.472053527832031,
          -9.909669876098633,
          -9.764147758483887,
          -4.411765098571777,
          -11.985536575317383,
          -8.701447486877441,
          -10.084790229797363,
          -11.586867332458496,
          -9.966715812683105
         ]
        },
        {
         "hoverlabel": {
          "namelength": 0
         },
         "hovertemplate": "Dominant_Topic=Topic 2<br>0=%{x}<br>1=%{y}<br>2=%{z}",
         "legendgroup": "Dominant_Topic=Topic 2",
         "marker": {
          "color": "#00cc96",
          "opacity": 0.7,
          "symbol": "circle"
         },
         "mode": "markers",
         "name": "Dominant_Topic=Topic 2",
         "scene": "scene",
         "showlegend": true,
         "type": "scatter3d",
         "x": [
          8.442084312438965,
          3.8745296001434326,
          2.859771251678467,
          10.017566680908203,
          0.5041598081588745,
          -0.760441780090332,
          9.435026168823242,
          -0.9408107995986938,
          11.588323593139648,
          9.668776512145996,
          0.944340169429779,
          9.042254447937012,
          8.668588638305664,
          10.943603515625,
          5.00277853012085,
          4.6311421394348145,
          12.21888256072998,
          0.5458255410194397,
          3.581544876098633,
          11.83700942993164,
          0.379416286945343,
          5.433863639831543,
          0.7841812372207642,
          6.988866806030273,
          0.8609561920166016,
          7.90664005279541,
          6.406752586364746,
          11.783968925476074,
          11.467451095581055,
          2.422452926635742,
          -0.8851021528244019,
          6.0875935554504395,
          2.832503318786621,
          1.842026710510254,
          9.699670791625977,
          10.026798248291016,
          6.0965375900268555,
          3.821214437484741,
          9.693770408630371,
          2.242269515991211,
          3.9284207820892334,
          6.876287460327148,
          9.672649383544922,
          6.928373336791992,
          3.9663333892822266,
          6.359333515167236,
          8.808311462402344,
          8.369565963745117,
          7.306513786315918,
          6.337197303771973,
          12.487771987915039,
          2.8268589973449707,
          3.2974936962127686,
          10.76137924194336,
          6.224406719207764,
          -0.6735184192657471,
          11.651597023010254,
          9.723281860351562,
          5.124867916107178,
          9.392008781433105,
          12.618546485900879,
          3.55963397026062,
          4.0190749168396,
          3.9345009326934814,
          9.989736557006836,
          11.553484916687012,
          5.302292346954346,
          6.242581844329834,
          9.227825164794922,
          7.637276649475098,
          6.202091217041016,
          4.839008331298828,
          3.0295231342315674,
          9.175924301147461,
          2.8948378562927246,
          0.7661503553390503,
          7.6672210693359375,
          5.019581317901611,
          1.5242133140563965,
          0.4101850688457489,
          4.696095943450928,
          6.420836925506592,
          6.353543281555176,
          8.311056137084961,
          8.72425365447998,
          6.140989303588867,
          4.359844207763672,
          7.86098575592041,
          4.771381855010986,
          12.610361099243164,
          4.474857330322266,
          8.115087509155273,
          12.325799942016602,
          2.6236472129821777,
          3.71329402923584,
          6.884890079498291,
          3.1332786083221436,
          2.954658269882202,
          8.610910415649414,
          11.938287734985352,
          4.09885835647583,
          3.134981870651245,
          3.862541913986206,
          4.480966091156006,
          5.8260931968688965,
          9.119161605834961,
          3.096632719039917,
          1.6940757036209106,
          7.111548900604248,
          3.740708589553833,
          9.913389205932617,
          5.893868446350098,
          3.0422847270965576,
          7.9495697021484375,
          10.714240074157715,
          11.943706512451172,
          4.768428802490234,
          6.6051459312438965,
          5.576845645904541,
          0.8684732913970947,
          -1.159041404724121,
          4.550097942352295,
          5.502747535705566,
          9.043895721435547,
          8.72425365447998,
          2.724229574203491,
          4.652912139892578,
          11.509413719177246,
          5.778375148773193,
          1.8966872692108154,
          1.683133840560913,
          3.7606239318847656,
          7.7725701332092285,
          8.011878967285156,
          5.1674628257751465,
          6.787833213806152,
          3.077043294906616,
          5.902239799499512,
          8.68265151977539,
          5.4311957359313965,
          6.085773468017578,
          4.53809928894043,
          2.7510874271392822,
          1.9590866565704346,
          9.68474006652832,
          2.630483865737915,
          1.1618958711624146,
          5.493948936462402,
          10.265153884887695,
          2.5938665866851807,
          5.171170711517334,
          8.53242301940918,
          2.3462116718292236,
          8.737470626831055,
          10.070413589477539,
          0.19226574897766113,
          4.444683074951172,
          1.049993634223938,
          4.206796169281006,
          2.039712905883789,
          3.889153003692627,
          1.9943666458129883,
          1.0163190364837646,
          4.7549357414245605,
          8.676621437072754,
          3.3055050373077393,
          5.2788238525390625,
          7.287588596343994,
          2.5679147243499756,
          6.147231578826904,
          0.9078927636146545,
          2.2943477630615234,
          10.316701889038086,
          4.477403163909912,
          3.4923646450042725,
          3.40792179107666,
          2.0303354263305664,
          0.6847351789474487,
          10.245590209960938,
          0.31644898653030396,
          10.396831512451172,
          8.489174842834473,
          5.064768314361572,
          -0.26516392827033997,
          5.535529613494873,
          0.2179996371269226,
          10.901145935058594,
          4.978446006774902,
          3.1255109310150146,
          3.470677137374878,
          1.001266598701477,
          6.8535003662109375,
          1.2464089393615723,
          8.713225364685059,
          1.2076596021652222,
          11.960290908813477,
          -0.11185254901647568,
          -0.09312620759010315,
          1.9245991706848145,
          3.2515618801116943,
          3.813101053237915,
          7.216975212097168,
          4.051734447479248,
          2.363729953765869,
          11.531582832336426
         ],
         "y": [
          7.8762359619140625,
          5.942135334014893,
          4.339120864868164,
          7.281236171722412,
          3.3462064266204834,
          2.97445011138916,
          7.305055141448975,
          3.50329852104187,
          8.569869995117188,
          7.721455097198486,
          2.335792303085327,
          5.822874546051025,
          8.522710800170898,
          8.008735656738281,
          6.600737571716309,
          6.200740814208984,
          9.066471099853516,
          2.12703275680542,
          2.8497447967529297,
          8.963027000427246,
          3.8335559368133545,
          6.687477111816406,
          3.2757673263549805,
          5.6864423751831055,
          3.214909315109253,
          5.376320838928223,
          4.042565822601318,
          8.616676330566406,
          8.798117637634277,
          3.5987331867218018,
          3.8524184226989746,
          3.7030138969421387,
          6.511490821838379,
          3.053596019744873,
          8.737164497375488,
          6.511892318725586,
          3.5394175052642822,
          0.8670112490653992,
          6.906580924987793,
          5.738152980804443,
          6.642999172210693,
          7.728488922119141,
          6.987546443939209,
          7.919068336486816,
          6.755451202392578,
          6.628481388092041,
          7.67756986618042,
          5.5280375480651855,
          7.483922481536865,
          7.459502220153809,
          9.124693870544434,
          2.917423725128174,
          5.473480701446533,
          6.779301643371582,
          7.060216903686523,
          3.0162739753723145,
          8.906496047973633,
          6.755867004394531,
          1.6603273153305054,
          7.848992824554443,
          9.135390281677246,
          6.613950729370117,
          6.045858383178711,
          0.9637233018875122,
          7.158694744110107,
          8.466364860534668,
          2.495300769805908,
          7.314084529876709,
          7.052553653717041,
          5.901066780090332,
          4.498236656188965,
          6.221817970275879,
          3.5316569805145264,
          7.255355358123779,
          4.763885021209717,
          2.182648181915283,
          8.123021125793457,
          6.062442779541016,
          -0.4087361693382263,
          2.0261058807373047,
          6.417354106903076,
          4.269505500793457,
          6.453516483306885,
          6.329455375671387,
          5.7397541999816895,
          7.460933685302734,
          5.702791690826416,
          8.275886535644531,
          2.1594035625457764,
          9.053668022155762,
          6.016672134399414,
          8.440363883972168,
          8.99652099609375,
          6.340836048126221,
          3.1738734245300293,
          7.469552993774414,
          4.201344966888428,
          6.253337383270264,
          8.508440017700195,
          9.02669620513916,
          3.0148844718933105,
          5.259730815887451,
          6.252692699432373,
          3.079237699508667,
          3.460245370864868,
          6.274816989898682,
          5.601527690887451,
          2.7518632411956787,
          6.199435234069824,
          6.53623104095459,
          8.62457275390625,
          1.6832621097564697,
          6.638201713562012,
          5.705010414123535,
          6.857784748077393,
          8.73963451385498,
          5.974715232849121,
          7.630406379699707,
          1.171479344367981,
          5.333364009857178,
          1.5987699031829834,
          1.4888198375701904,
          4.13223123550415,
          8.07194995880127,
          5.739753723144531,
          4.377715587615967,
          1.3317124843597412,
          8.83889389038086,
          1.4083747863769531,
          4.628499984741211,
          -0.6331859827041626,
          6.356026649475098,
          8.163207054138184,
          5.324734210968018,
          7.020974636077881,
          1.4256120920181274,
          3.192899703979492,
          4.362683296203613,
          8.556293487548828,
          2.5449178218841553,
          4.112151145935059,
          1.4114185571670532,
          6.194389343261719,
          0.5667832493782043,
          6.875888824462891,
          2.8997321128845215,
          2.2809929847717285,
          7.258210182189941,
          7.1602911949157715,
          4.713759422302246,
          2.771472930908203,
          7.597332954406738,
          4.6681718826293945,
          8.589370727539062,
          6.764122009277344,
          3.3081893920898438,
          1.306204915046692,
          2.119572401046753,
          0.8041934370994568,
          6.438421726226807,
          1.3142865896224976,
          6.669477939605713,
          0.863009512424469,
          2.604525089263916,
          7.653386116027832,
          3.6690995693206787,
          1.935899257659912,
          6.362035751342773,
          4.716360092163086,
          4.488651275634766,
          0.676399827003479,
          3.9872047901153564,
          7.212295055389404,
          1.4018019437789917,
          0.6892626881599426,
          4.689115524291992,
          6.464033126831055,
          5.34916353225708,
          8.522822380065918,
          4.628042697906494,
          6.8719482421875,
          7.7320122718811035,
          2.8606042861938477,
          3.1601901054382324,
          2.2131505012512207,
          4.5453901290893555,
          8.249711036682129,
          2.241583824157715,
          4.443979263305664,
          2.993438243865967,
          0.8418079018592834,
          7.824235439300537,
          3.3987014293670654,
          7.196392059326172,
          5.540379524230957,
          8.992566108703613,
          2.9955031871795654,
          3.1164894104003906,
          6.308922290802002,
          4.405576229095459,
          6.095241069793701,
          7.549238681793213,
          6.367814064025879,
          3.619749069213867,
          8.714193344116211
         ],
         "z": [
          -5.81020975112915,
          -6.87321662902832,
          -5.6221489906311035,
          -3.3366963863372803,
          -5.676484107971191,
          -3.223607063293457,
          -5.338634490966797,
          -3.581838607788086,
          -4.233658313751221,
          -4.865790843963623,
          -5.2447004318237305,
          -1.9911789894104004,
          -5.042120456695557,
          -3.6578238010406494,
          -6.87671422958374,
          -5.0792975425720215,
          -3.5553138256073,
          -5.050207614898682,
          -6.311874866485596,
          -3.812530517578125,
          -5.018336772918701,
          -5.639594078063965,
          -6.136414051055908,
          -3.883261203765869,
          -5.8681769371032715,
          -2.335876226425171,
          -3.778810977935791,
          -3.3571877479553223,
          -4.045337677001953,
          -5.274653434753418,
          -3.5799012184143066,
          -1.2454452514648438,
          -5.714977741241455,
          -4.575179576873779,
          -4.5821533203125,
          -6.251381874084473,
          -1.0065724849700928,
          -7.904275417327881,
          -3.051750898361206,
          -4.750735759735107,
          -4.576142311096191,
          -5.542574405670166,
          -6.08573579788208,
          -6.087389945983887,
          -4.719008445739746,
          -4.179155349731445,
          -5.294958114624023,
          -2.1302146911621094,
          -5.745495319366455,
          -5.448519706726074,
          -3.3598639965057373,
          -1.3883070945739746,
          -6.012693405151367,
          -6.367766380310059,
          -4.59921407699585,
          -3.686466693878174,
          -3.925468921661377,
          -4.678431987762451,
          -1.1446893215179443,
          -4.128420829772949,
          -3.299225330352783,
          -4.737650394439697,
          -7.1428985595703125,
          -6.371148586273193,
          -3.2568447589874268,
          -4.152436256408691,
          -4.183413028717041,
          -6.533435821533203,
          -3.5974786281585693,
          -3.3266637325286865,
          -4.401652812957764,
          -5.708323001861572,
          -6.939269065856934,
          -4.564774036407471,
          -5.635685443878174,
          -5.116025447845459,
          -5.396406650543213,
          -5.409906387329102,
          -5.981164455413818,
          -4.9265456199646,
          -5.371119022369385,
          -4.100948810577393,
          -4.0277862548828125,
          -3.33843994140625,
          -2.148373603820801,
          -5.085134983062744,
          -3.0976264476776123,
          -5.218531608581543,
          -7.062535762786865,
          -3.1151559352874756,
          -5.260966777801514,
          -5.083956718444824,
          -3.633901596069336,
          -5.17501163482666,
          -1.2462818622589111,
          -5.102722644805908,
          -5.230677127838135,
          -4.538761615753174,
          -5.057765007019043,
          -3.7576916217803955,
          -1.2550432682037354,
          -7.203158378601074,
          -3.7384114265441895,
          -4.412123203277588,
          -4.242974281311035,
          -2.648284435272217,
          -6.487249851226807,
          -4.978837013244629,
          -3.7700154781341553,
          -4.286863327026367,
          -4.711429595947266,
          -4.52808141708374,
          -5.992766857147217,
          -2.7458536624908447,
          -6.277390480041504,
          -3.4180240631103516,
          -5.302967548370361,
          -5.3820037841796875,
          -7.768643856048584,
          -4.7032904624938965,
          -3.8219313621520996,
          -6.21327543258667,
          -5.475842475891113,
          -5.225180149078369,
          -2.1483733654022217,
          -5.255066871643066,
          -7.460639476776123,
          -4.009176254272461,
          -7.7829084396362305,
          -4.978631019592285,
          -5.835978984832764,
          -4.458888530731201,
          -5.427655220031738,
          -2.130277395248413,
          -4.69671630859375,
          -5.161381721496582,
          -5.309230327606201,
          -4.724084854125977,
          -4.965814113616943,
          -3.0818440914154053,
          -2.3627421855926514,
          -6.7555108070373535,
          -6.8958845138549805,
          -7.31422233581543,
          -3.2481179237365723,
          -1.907843828201294,
          -5.344185829162598,
          -4.877173900604248,
          -4.037111282348633,
          -0.0808054506778717,
          -3.9357035160064697,
          -5.726117134094238,
          -4.883297443389893,
          -4.9136199951171875,
          -6.243303298950195,
          -2.776228904724121,
          -6.318831443786621,
          -5.574717998504639,
          -7.911527156829834,
          -7.287585735321045,
          -6.462944507598877,
          -7.481718063354492,
          -4.744412899017334,
          -3.4519476890563965,
          -5.751497268676758,
          -7.079623222351074,
          -6.984097480773926,
          -3.857952356338501,
          -5.372574806213379,
          -4.263628005981445,
          -4.360855579376221,
          0.08074737340211868,
          -5.880620002746582,
          -7.4142327308654785,
          -6.246408462524414,
          -7.311141014099121,
          -7.341073513031006,
          -4.6220011711120605,
          -5.173566818237305,
          -4.284618854522705,
          -6.200423717498779,
          -4.486473560333252,
          -4.0078535079956055,
          -3.423048734664917,
          -4.255868434906006,
          -4.440630912780762,
          -4.124178886413574,
          -4.666713714599609,
          -5.494531154632568,
          -0.9569098949432373,
          -4.392977237701416,
          -5.749002933502197,
          -5.849574089050293,
          -6.01615571975708,
          -4.748797416687012,
          -3.7411105632781982,
          -4.166296005249023,
          -3.3937666416168213,
          -7.325809001922607,
          -7.428232669830322,
          -5.527522563934326,
          -5.576419830322266,
          -5.205232620239258,
          -5.192322731018066,
          -3.78979229927063
         ]
        },
        {
         "hoverlabel": {
          "namelength": 0
         },
         "hovertemplate": "Dominant_Topic=Topic 3<br>0=%{x}<br>1=%{y}<br>2=%{z}",
         "legendgroup": "Dominant_Topic=Topic 3",
         "marker": {
          "color": "#ab63fa",
          "opacity": 0.7,
          "symbol": "circle"
         },
         "mode": "markers",
         "name": "Dominant_Topic=Topic 3",
         "scene": "scene",
         "showlegend": true,
         "type": "scatter3d",
         "x": [
          6.842850208282471,
          4.008168697357178,
          2.574963092803955,
          3.4303882122039795,
          8.187314987182617,
          5.737738132476807,
          5.782869815826416,
          5.884195804595947,
          5.001489162445068,
          7.306199550628662,
          5.547532081604004,
          3.861056327819824,
          4.537671089172363,
          6.740123748779297,
          11.411242485046387,
          5.954668045043945,
          5.413406848907471,
          11.338861465454102,
          8.089529991149902,
          6.191157817840576,
          2.620774030685425,
          3.864938259124756,
          3.444016695022583,
          10.070108413696289,
          11.596015930175781,
          3.441901445388794,
          3.073566436767578,
          8.446761131286621,
          10.428803443908691,
          3.150113821029663,
          6.09120512008667,
          3.3217878341674805,
          6.224837303161621,
          5.106228828430176,
          8.115818977355957,
          8.28809928894043,
          7.462299823760986,
          5.231593132019043,
          2.893847942352295,
          4.43297004699707,
          6.042152404785156,
          8.098740577697754,
          8.221839904785156,
          5.522454261779785,
          2.660808801651001,
          4.243050575256348,
          8.955731391906738,
          2.895477056503296,
          7.206986904144287,
          6.590489864349365,
          3.4175796508789062,
          2.3480682373046875,
          7.889746189117432,
          7.523569107055664,
          6.092853546142578,
          8.818892478942871,
          9.28560733795166,
          6.7045063972473145,
          6.275109767913818,
          0.38238435983657837,
          2.954406499862671,
          6.278611660003662,
          4.027013778686523,
          6.920741558074951,
          3.3432846069335938,
          8.262510299682617,
          10.306156158447266,
          4.925656795501709,
          9.362972259521484,
          2.1779959201812744,
          4.020066261291504,
          7.762175559997559,
          4.35218620300293,
          9.586098670959473,
          5.448299884796143,
          8.198404312133789,
          7.754213809967041,
          5.605729103088379,
          6.407815456390381,
          7.253567695617676,
          2.87749981880188,
          9.706552505493164,
          3.5422523021698,
          10.79819107055664,
          2.7167105674743652,
          10.801960945129395,
          2.806854486465454,
          7.0713911056518555,
          9.997130393981934,
          4.788985729217529,
          9.4501314163208,
          4.886706829071045,
          4.973077774047852,
          6.376706600189209,
          2.715106725692749,
          6.120173931121826,
          7.052432060241699,
          6.206265449523926,
          10.439386367797852,
          3.4493801593780518,
          4.699253559112549,
          6.037659168243408,
          7.759989261627197,
          4.7785515785217285,
          8.975661277770996,
          1.9656859636306763,
          6.810953140258789,
          6.097315788269043,
          9.54304313659668,
          9.641801834106445,
          5.217408180236816,
          2.4054291248321533,
          3.3387372493743896,
          3.8446240425109863,
          5.830526351928711,
          9.388837814331055,
          4.5911946296691895,
          2.317739725112915,
          3.3532862663269043,
          10.756182670593262,
          5.6750359535217285,
          3.803086280822754
         ],
         "y": [
          2.038508415222168,
          1.2011059522628784,
          1.8228036165237427,
          1.7883291244506836,
          2.656575918197632,
          2.1073100566864014,
          3.1572816371917725,
          2.066619396209717,
          2.431929111480713,
          2.926370859146118,
          2.536142349243164,
          1.0044368505477905,
          1.2095361948013306,
          3.014897584915161,
          4.076591968536377,
          2.783681631088257,
          2.7887215614318848,
          4.053513050079346,
          3.265162706375122,
          3.3000831604003906,
          2.665433168411255,
          0.641693115234375,
          0.8055095672607422,
          3.8016586303710938,
          4.125686168670654,
          2.4662117958068848,
          1.8233630657196045,
          3.9686479568481445,
          3.8039684295654297,
          1.8306009769439697,
          2.0651865005493164,
          1.052459478378296,
          2.1706960201263428,
          2.650958776473999,
          1.2274519205093384,
          3.4210667610168457,
          3.1062018871307373,
          1.6114012002944946,
          1.134584903717041,
          3.023761034011841,
          2.204817533493042,
          3.4890663623809814,
          3.457566976547241,
          1.3634716272354126,
          3.4870591163635254,
          1.9387825727462769,
          3.333019495010376,
          1.9268794059753418,
          3.1855111122131348,
          1.9558831453323364,
          1.5646363496780396,
          3.638397216796875,
          3.1034748554229736,
          3.480278253555298,
          2.816575288772583,
          3.4399759769439697,
          3.520693302154541,
          1.605578899383545,
          3.4307398796081543,
          0.6768445372581482,
          3.3684279918670654,
          1.0459307432174683,
          1.5748043060302734,
          2.95005202293396,
          1.5541119575500488,
          3.416623115539551,
          3.8854458332061768,
          1.1317194700241089,
          3.764718770980835,
          1.8515703678131104,
          2.90556263923645,
          3.831730365753174,
          2.205446720123291,
          3.4153547286987305,
          1.2148057222366333,
          3.375962495803833,
          3.4250638484954834,
          0.8966414332389832,
          2.8733317852020264,
          3.5126631259918213,
          3.3666601181030273,
          3.5633468627929688,
          2.8951516151428223,
          3.889169216156006,
          1.8250001668930054,
          3.953873872756958,
          1.8416022062301636,
          2.147552013397217,
          3.813150405883789,
          2.3627190589904785,
          2.8609957695007324,
          2.3526439666748047,
          0.9873346090316772,
          3.095226287841797,
          1.8218449354171753,
          3.1986770629882812,
          3.129660129547119,
          0.8433271050453186,
          3.914327383041382,
          2.8944926261901855,
          3.1219050884246826,
          2.328674077987671,
          2.459909677505493,
          1.5808826684951782,
          3.211210250854492,
          2.0010623931884766,
          3.235600471496582,
          1.9010546207427979,
          3.519094705581665,
          3.0644948482513428,
          2.4526288509368896,
          1.7731643915176392,
          1.3727917671203613,
          1.7365355491638184,
          2.6679868698120117,
          3.676407814025879,
          1.1013126373291016,
          3.784419298171997,
          1.6075589656829834,
          3.811122417449951,
          1.1926233768463135,
          0.5745063424110413
         ],
         "z": [
          4.28883695602417,
          3.8506903648376465,
          4.851293563842773,
          4.8569512367248535,
          4.0143818855285645,
          5.376734256744385,
          -0.8191717863082886,
          3.3712351322174072,
          6.7194976806640625,
          4.8432087898254395,
          5.733497142791748,
          2.0998454093933105,
          3.2052786350250244,
          5.107595443725586,
          4.3788652420043945,
          4.486859321594238,
          0.32023847103118896,
          4.406254768371582,
          5.71113920211792,
          -0.821147084236145,
          5.4662251472473145,
          2.9110419750213623,
          2.8787431716918945,
          5.481818199157715,
          4.308049201965332,
          -0.25465521216392517,
          4.52199125289917,
          1.6071604490280151,
          4.726954936981201,
          4.290201187133789,
          0.3125081956386566,
          4.077916622161865,
          5.086643695831299,
          5.771254062652588,
          4.916059494018555,
          5.623149394989014,
          5.6780781745910645,
          -1.0643222332000732,
          2.5857818126678467,
          0.42551013827323914,
          0.32086601853370667,
          4.435964107513428,
          5.209287166595459,
          0.48513922095298767,
          0.5756746530532837,
          4.225444316864014,
          4.67440128326416,
          3.927503824234009,
          6.152691841125488,
          4.629669189453125,
          4.649328231811523,
          1.1405490636825562,
          5.273840427398682,
          4.9785475730896,
          6.411452770233154,
          4.579384803771973,
          4.708288192749023,
          4.809198379516602,
          -0.601721465587616,
          -1.4361580610275269,
          5.605966567993164,
          5.169825077056885,
          1.183333396911621,
          4.689050674438477,
          3.871912956237793,
          5.717999458312988,
          5.119614124298096,
          1.4314675331115723,
          5.633001804351807,
          3.370129346847534,
          -0.5641767978668213,
          0.9346461296081543,
          7.106536388397217,
          4.8993706703186035,
          0.935964822769165,
          4.578172206878662,
          5.302661418914795,
          0.6722762584686279,
          5.655059814453125,
          0.9718862175941467,
          -0.05177287384867668,
          4.701891899108887,
          0.2889578640460968,
          4.540594100952148,
          5.841222286224365,
          4.6731743812561035,
          4.721563816070557,
          3.467327833175659,
          4.932878494262695,
          6.7979302406311035,
          5.472050189971924,
          5.548291206359863,
          1.8696178197860718,
          0.4773777723312378,
          5.644506931304932,
          0.013026556000113487,
          5.022507667541504,
          5.116887092590332,
          4.739922523498535,
          0.019504396244883537,
          6.235393524169922,
          0.539763867855072,
          4.843714237213135,
          2.9328970909118652,
          4.486098289489746,
          4.857052803039551,
          0.6795395016670227,
          0.6057498455047607,
          5.320806503295898,
          4.297226428985596,
          5.508398532867432,
          5.000332832336426,
          2.094076156616211,
          0.8908188939094543,
          5.283862113952637,
          5.240571022033691,
          2.7864739894866943,
          1.5485401153564453,
          1.8715827465057373,
          4.509365081787109,
          0.5655983686447144,
          2.8903415203094482
         ]
        }
       ],
       "layout": {
        "height": 800,
        "legend": {
         "tracegroupgap": 0
        },
        "scene": {
         "domain": {
          "x": [
           0,
           1
          ],
          "y": [
           0,
           1
          ]
         },
         "xaxis": {
          "title": {
           "text": "0"
          }
         },
         "yaxis": {
          "title": {
           "text": "1"
          }
         },
         "zaxis": {
          "title": {
           "text": "2"
          }
         }
        },
        "template": {
         "data": {
          "bar": [
           {
            "error_x": {
             "color": "#2a3f5f"
            },
            "error_y": {
             "color": "#2a3f5f"
            },
            "marker": {
             "line": {
              "color": "#E5ECF6",
              "width": 0.5
             }
            },
            "type": "bar"
           }
          ],
          "barpolar": [
           {
            "marker": {
             "line": {
              "color": "#E5ECF6",
              "width": 0.5
             }
            },
            "type": "barpolar"
           }
          ],
          "carpet": [
           {
            "aaxis": {
             "endlinecolor": "#2a3f5f",
             "gridcolor": "white",
             "linecolor": "white",
             "minorgridcolor": "white",
             "startlinecolor": "#2a3f5f"
            },
            "baxis": {
             "endlinecolor": "#2a3f5f",
             "gridcolor": "white",
             "linecolor": "white",
             "minorgridcolor": "white",
             "startlinecolor": "#2a3f5f"
            },
            "type": "carpet"
           }
          ],
          "choropleth": [
           {
            "colorbar": {
             "outlinewidth": 0,
             "ticks": ""
            },
            "type": "choropleth"
           }
          ],
          "contour": [
           {
            "colorbar": {
             "outlinewidth": 0,
             "ticks": ""
            },
            "colorscale": [
             [
              0,
              "#0d0887"
             ],
             [
              0.1111111111111111,
              "#46039f"
             ],
             [
              0.2222222222222222,
              "#7201a8"
             ],
             [
              0.3333333333333333,
              "#9c179e"
             ],
             [
              0.4444444444444444,
              "#bd3786"
             ],
             [
              0.5555555555555556,
              "#d8576b"
             ],
             [
              0.6666666666666666,
              "#ed7953"
             ],
             [
              0.7777777777777778,
              "#fb9f3a"
             ],
             [
              0.8888888888888888,
              "#fdca26"
             ],
             [
              1,
              "#f0f921"
             ]
            ],
            "type": "contour"
           }
          ],
          "contourcarpet": [
           {
            "colorbar": {
             "outlinewidth": 0,
             "ticks": ""
            },
            "type": "contourcarpet"
           }
          ],
          "heatmap": [
           {
            "colorbar": {
             "outlinewidth": 0,
             "ticks": ""
            },
            "colorscale": [
             [
              0,
              "#0d0887"
             ],
             [
              0.1111111111111111,
              "#46039f"
             ],
             [
              0.2222222222222222,
              "#7201a8"
             ],
             [
              0.3333333333333333,
              "#9c179e"
             ],
             [
              0.4444444444444444,
              "#bd3786"
             ],
             [
              0.5555555555555556,
              "#d8576b"
             ],
             [
              0.6666666666666666,
              "#ed7953"
             ],
             [
              0.7777777777777778,
              "#fb9f3a"
             ],
             [
              0.8888888888888888,
              "#fdca26"
             ],
             [
              1,
              "#f0f921"
             ]
            ],
            "type": "heatmap"
           }
          ],
          "heatmapgl": [
           {
            "colorbar": {
             "outlinewidth": 0,
             "ticks": ""
            },
            "colorscale": [
             [
              0,
              "#0d0887"
             ],
             [
              0.1111111111111111,
              "#46039f"
             ],
             [
              0.2222222222222222,
              "#7201a8"
             ],
             [
              0.3333333333333333,
              "#9c179e"
             ],
             [
              0.4444444444444444,
              "#bd3786"
             ],
             [
              0.5555555555555556,
              "#d8576b"
             ],
             [
              0.6666666666666666,
              "#ed7953"
             ],
             [
              0.7777777777777778,
              "#fb9f3a"
             ],
             [
              0.8888888888888888,
              "#fdca26"
             ],
             [
              1,
              "#f0f921"
             ]
            ],
            "type": "heatmapgl"
           }
          ],
          "histogram": [
           {
            "marker": {
             "colorbar": {
              "outlinewidth": 0,
              "ticks": ""
             }
            },
            "type": "histogram"
           }
          ],
          "histogram2d": [
           {
            "colorbar": {
             "outlinewidth": 0,
             "ticks": ""
            },
            "colorscale": [
             [
              0,
              "#0d0887"
             ],
             [
              0.1111111111111111,
              "#46039f"
             ],
             [
              0.2222222222222222,
              "#7201a8"
             ],
             [
              0.3333333333333333,
              "#9c179e"
             ],
             [
              0.4444444444444444,
              "#bd3786"
             ],
             [
              0.5555555555555556,
              "#d8576b"
             ],
             [
              0.6666666666666666,
              "#ed7953"
             ],
             [
              0.7777777777777778,
              "#fb9f3a"
             ],
             [
              0.8888888888888888,
              "#fdca26"
             ],
             [
              1,
              "#f0f921"
             ]
            ],
            "type": "histogram2d"
           }
          ],
          "histogram2dcontour": [
           {
            "colorbar": {
             "outlinewidth": 0,
             "ticks": ""
            },
            "colorscale": [
             [
              0,
              "#0d0887"
             ],
             [
              0.1111111111111111,
              "#46039f"
             ],
             [
              0.2222222222222222,
              "#7201a8"
             ],
             [
              0.3333333333333333,
              "#9c179e"
             ],
             [
              0.4444444444444444,
              "#bd3786"
             ],
             [
              0.5555555555555556,
              "#d8576b"
             ],
             [
              0.6666666666666666,
              "#ed7953"
             ],
             [
              0.7777777777777778,
              "#fb9f3a"
             ],
             [
              0.8888888888888888,
              "#fdca26"
             ],
             [
              1,
              "#f0f921"
             ]
            ],
            "type": "histogram2dcontour"
           }
          ],
          "mesh3d": [
           {
            "colorbar": {
             "outlinewidth": 0,
             "ticks": ""
            },
            "type": "mesh3d"
           }
          ],
          "parcoords": [
           {
            "line": {
             "colorbar": {
              "outlinewidth": 0,
              "ticks": ""
             }
            },
            "type": "parcoords"
           }
          ],
          "pie": [
           {
            "automargin": true,
            "type": "pie"
           }
          ],
          "scatter": [
           {
            "marker": {
             "colorbar": {
              "outlinewidth": 0,
              "ticks": ""
             }
            },
            "type": "scatter"
           }
          ],
          "scatter3d": [
           {
            "line": {
             "colorbar": {
              "outlinewidth": 0,
              "ticks": ""
             }
            },
            "marker": {
             "colorbar": {
              "outlinewidth": 0,
              "ticks": ""
             }
            },
            "type": "scatter3d"
           }
          ],
          "scattercarpet": [
           {
            "marker": {
             "colorbar": {
              "outlinewidth": 0,
              "ticks": ""
             }
            },
            "type": "scattercarpet"
           }
          ],
          "scattergeo": [
           {
            "marker": {
             "colorbar": {
              "outlinewidth": 0,
              "ticks": ""
             }
            },
            "type": "scattergeo"
           }
          ],
          "scattergl": [
           {
            "marker": {
             "colorbar": {
              "outlinewidth": 0,
              "ticks": ""
             }
            },
            "type": "scattergl"
           }
          ],
          "scattermapbox": [
           {
            "marker": {
             "colorbar": {
              "outlinewidth": 0,
              "ticks": ""
             }
            },
            "type": "scattermapbox"
           }
          ],
          "scatterpolar": [
           {
            "marker": {
             "colorbar": {
              "outlinewidth": 0,
              "ticks": ""
             }
            },
            "type": "scatterpolar"
           }
          ],
          "scatterpolargl": [
           {
            "marker": {
             "colorbar": {
              "outlinewidth": 0,
              "ticks": ""
             }
            },
            "type": "scatterpolargl"
           }
          ],
          "scatterternary": [
           {
            "marker": {
             "colorbar": {
              "outlinewidth": 0,
              "ticks": ""
             }
            },
            "type": "scatterternary"
           }
          ],
          "surface": [
           {
            "colorbar": {
             "outlinewidth": 0,
             "ticks": ""
            },
            "colorscale": [
             [
              0,
              "#0d0887"
             ],
             [
              0.1111111111111111,
              "#46039f"
             ],
             [
              0.2222222222222222,
              "#7201a8"
             ],
             [
              0.3333333333333333,
              "#9c179e"
             ],
             [
              0.4444444444444444,
              "#bd3786"
             ],
             [
              0.5555555555555556,
              "#d8576b"
             ],
             [
              0.6666666666666666,
              "#ed7953"
             ],
             [
              0.7777777777777778,
              "#fb9f3a"
             ],
             [
              0.8888888888888888,
              "#fdca26"
             ],
             [
              1,
              "#f0f921"
             ]
            ],
            "type": "surface"
           }
          ],
          "table": [
           {
            "cells": {
             "fill": {
              "color": "#EBF0F8"
             },
             "line": {
              "color": "white"
             }
            },
            "header": {
             "fill": {
              "color": "#C8D4E3"
             },
             "line": {
              "color": "white"
             }
            },
            "type": "table"
           }
          ]
         },
         "layout": {
          "annotationdefaults": {
           "arrowcolor": "#2a3f5f",
           "arrowhead": 0,
           "arrowwidth": 1
          },
          "coloraxis": {
           "colorbar": {
            "outlinewidth": 0,
            "ticks": ""
           }
          },
          "colorscale": {
           "diverging": [
            [
             0,
             "#8e0152"
            ],
            [
             0.1,
             "#c51b7d"
            ],
            [
             0.2,
             "#de77ae"
            ],
            [
             0.3,
             "#f1b6da"
            ],
            [
             0.4,
             "#fde0ef"
            ],
            [
             0.5,
             "#f7f7f7"
            ],
            [
             0.6,
             "#e6f5d0"
            ],
            [
             0.7,
             "#b8e186"
            ],
            [
             0.8,
             "#7fbc41"
            ],
            [
             0.9,
             "#4d9221"
            ],
            [
             1,
             "#276419"
            ]
           ],
           "sequential": [
            [
             0,
             "#0d0887"
            ],
            [
             0.1111111111111111,
             "#46039f"
            ],
            [
             0.2222222222222222,
             "#7201a8"
            ],
            [
             0.3333333333333333,
             "#9c179e"
            ],
            [
             0.4444444444444444,
             "#bd3786"
            ],
            [
             0.5555555555555556,
             "#d8576b"
            ],
            [
             0.6666666666666666,
             "#ed7953"
            ],
            [
             0.7777777777777778,
             "#fb9f3a"
            ],
            [
             0.8888888888888888,
             "#fdca26"
            ],
            [
             1,
             "#f0f921"
            ]
           ],
           "sequentialminus": [
            [
             0,
             "#0d0887"
            ],
            [
             0.1111111111111111,
             "#46039f"
            ],
            [
             0.2222222222222222,
             "#7201a8"
            ],
            [
             0.3333333333333333,
             "#9c179e"
            ],
            [
             0.4444444444444444,
             "#bd3786"
            ],
            [
             0.5555555555555556,
             "#d8576b"
            ],
            [
             0.6666666666666666,
             "#ed7953"
            ],
            [
             0.7777777777777778,
             "#fb9f3a"
            ],
            [
             0.8888888888888888,
             "#fdca26"
            ],
            [
             1,
             "#f0f921"
            ]
           ]
          },
          "colorway": [
           "#636efa",
           "#EF553B",
           "#00cc96",
           "#ab63fa",
           "#FFA15A",
           "#19d3f3",
           "#FF6692",
           "#B6E880",
           "#FF97FF",
           "#FECB52"
          ],
          "font": {
           "color": "#2a3f5f"
          },
          "geo": {
           "bgcolor": "white",
           "lakecolor": "white",
           "landcolor": "#E5ECF6",
           "showlakes": true,
           "showland": true,
           "subunitcolor": "white"
          },
          "hoverlabel": {
           "align": "left"
          },
          "hovermode": "closest",
          "mapbox": {
           "style": "light"
          },
          "paper_bgcolor": "white",
          "plot_bgcolor": "#E5ECF6",
          "polar": {
           "angularaxis": {
            "gridcolor": "white",
            "linecolor": "white",
            "ticks": ""
           },
           "bgcolor": "#E5ECF6",
           "radialaxis": {
            "gridcolor": "white",
            "linecolor": "white",
            "ticks": ""
           }
          },
          "scene": {
           "xaxis": {
            "backgroundcolor": "#E5ECF6",
            "gridcolor": "white",
            "gridwidth": 2,
            "linecolor": "white",
            "showbackground": true,
            "ticks": "",
            "zerolinecolor": "white"
           },
           "yaxis": {
            "backgroundcolor": "#E5ECF6",
            "gridcolor": "white",
            "gridwidth": 2,
            "linecolor": "white",
            "showbackground": true,
            "ticks": "",
            "zerolinecolor": "white"
           },
           "zaxis": {
            "backgroundcolor": "#E5ECF6",
            "gridcolor": "white",
            "gridwidth": 2,
            "linecolor": "white",
            "showbackground": true,
            "ticks": "",
            "zerolinecolor": "white"
           }
          },
          "shapedefaults": {
           "line": {
            "color": "#2a3f5f"
           }
          },
          "ternary": {
           "aaxis": {
            "gridcolor": "white",
            "linecolor": "white",
            "ticks": ""
           },
           "baxis": {
            "gridcolor": "white",
            "linecolor": "white",
            "ticks": ""
           },
           "bgcolor": "#E5ECF6",
           "caxis": {
            "gridcolor": "white",
            "linecolor": "white",
            "ticks": ""
           }
          },
          "title": {
           "x": 0.05
          },
          "xaxis": {
           "automargin": true,
           "gridcolor": "white",
           "linecolor": "white",
           "ticks": "",
           "title": {
            "standoff": 15
           },
           "zerolinecolor": "white",
           "zerolinewidth": 2
          },
          "yaxis": {
           "automargin": true,
           "gridcolor": "white",
           "linecolor": "white",
           "ticks": "",
           "title": {
            "standoff": 15
           },
           "zerolinecolor": "white",
           "zerolinewidth": 2
          }
         }
        },
        "title": {
         "text": "3d TSNE Plot for Topic Model"
        },
        "width": 900
       }
      },
      "text/html": [
       "<div>\n",
       "        \n",
       "        \n",
       "            <div id=\"55015ab3-9b67-4b9e-929e-962adf8742a2\" class=\"plotly-graph-div\" style=\"height:800px; width:900px;\"></div>\n",
       "            <script type=\"text/javascript\">\n",
       "                require([\"plotly\"], function(Plotly) {\n",
       "                    window.PLOTLYENV=window.PLOTLYENV || {};\n",
       "                    \n",
       "                if (document.getElementById(\"55015ab3-9b67-4b9e-929e-962adf8742a2\")) {\n",
       "                    Plotly.newPlot(\n",
       "                        '55015ab3-9b67-4b9e-929e-962adf8742a2',\n",
       "                        [{\"hoverlabel\": {\"namelength\": 0}, \"hovertemplate\": \"Dominant_Topic=Topic 0<br>0=%{x}<br>1=%{y}<br>2=%{z}\", \"legendgroup\": \"Dominant_Topic=Topic 0\", \"marker\": {\"color\": \"#636efa\", \"opacity\": 0.7, \"symbol\": \"circle\"}, \"mode\": \"markers\", \"name\": \"Dominant_Topic=Topic 0\", \"scene\": \"scene\", \"showlegend\": true, \"type\": \"scatter3d\", \"x\": [-4.101458549499512, -6.907941818237305, -8.174588203430176, -10.065784454345703, -8.570123672485352, -5.695000648498535, -2.6342482566833496, -6.53275728225708, -9.223811149597168, -6.242878437042236, -2.239027738571167, -5.625516891479492, -4.271815299987793, -4.120094299316406, -7.992895603179932, -8.651106834411621, -3.827741861343384, -3.553974151611328, -3.5322370529174805, -6.610957145690918, -3.7698309421539307, -3.1833431720733643, -5.385383129119873, -3.961082696914673, -1.765893816947937, -1.5037260055541992, -7.48335599899292, -2.3281571865081787, -9.243142127990723, -5.517298698425293, -4.458320140838623, -3.1080305576324463, -5.464956283569336, -7.022919654846191, -6.430007457733154, -6.519673824310303, -4.3023247718811035, -8.533242225646973, -1.1281055212020874, -1.721364974975586, -9.858647346496582, -9.745862007141113, -7.807111740112305, -6.0199384689331055, -4.493367671966553, -3.7933170795440674, -9.258247375488281, -8.741242408752441, -8.53485107421875, -2.634934186935425, 0.8971874117851257, -8.734222412109375, -4.465946674346924, -5.635313034057617, -5.928339004516602, 1.258808970451355, -5.343917369842529, -7.488818168640137, 0.27364736795425415, -6.499718189239502, -4.9528069496154785, 1.6010013818740845, -5.988536357879639, -2.3155086040496826, -5.514772891998291, -5.882445335388184, -5.876803874969482, -9.545905113220215, -3.8616833686828613, -6.28510856628418, -5.449209690093994, -5.136035442352295, -8.045028686523438, -1.5181173086166382, -1.0128384828567505, -2.450667142868042, -5.700130462646484, -4.656152725219727, -3.9819440841674805, -5.487216472625732, -3.955793619155884, -5.018605709075928, -6.478545188903809, -5.934078693389893, -9.527533531188965, -0.5398560166358948, -6.864837646484375, -3.951484441757202, -8.550843238830566, -3.7064666748046875, -8.94530200958252, -5.404313087463379, -5.907758712768555, -2.5950844287872314, 1.0566661357879639, -7.078985214233398, -5.248209476470947, -2.6223533153533936, -7.903475284576416, -8.660606384277344, -1.8807042837142944, -5.758577346801758, -1.9039546251296997, -9.8758544921875, -8.020437240600586, -1.9860928058624268, -7.3349456787109375, -4.377815246582031, -3.7156476974487305, -9.715680122375488, -4.341134548187256, -4.885986804962158, -3.9831061363220215, -8.355180740356445, -6.400142669677734, 0.38022252917289734, -4.530037879943848, -9.868287086486816, -2.743662118911743, 0.5629671812057495, -4.75962495803833, -7.867889881134033, -2.1784768104553223, -3.1538031101226807, -5.638996124267578, -5.249361038208008, -8.480259895324707, -4.733190536499023, 0.05968613177537918, -4.004151821136475, -4.135608673095703, -9.723155975341797, 2.1670923233032227, -9.345638275146484, -6.773584842681885, -5.611057281494141, -3.28779673576355, -4.147045612335205, -8.53380298614502, -7.8079681396484375, -7.519191265106201, -7.201353073120117, -6.644008159637451, -5.359037399291992, -2.9660885334014893, 1.8542274236679077, -6.199532508850098, -2.3871259689331055, -4.661185264587402, -8.34174633026123, 0.9697473049163818, -3.242662191390991, -3.564183235168457, -5.898858547210693, -4.264769554138184, -7.267699241638184, -7.552518367767334, -7.51715612411499, -2.2606563568115234, -5.671713829040527, -6.337203502655029, -8.665019035339355, -4.2929768562316895, -4.2935967445373535, -1.324591040611267, -5.509481906890869, -9.73920726776123, -3.384155035018921, -6.137792110443115, -2.2749645709991455, -3.8621113300323486, -6.577658176422119, 1.0096973180770874, -8.658137321472168, -1.7437745332717896, -4.0985283851623535, -9.280076026916504, -4.182459831237793, -4.422047138214111, -7.454885959625244, -2.9028775691986084, -7.536155700683594, -4.772075653076172, -3.678745746612549, -7.04853630065918, -5.4387526512146, -6.902327060699463, -5.183114528656006, -8.224282264709473, -4.321638107299805, -5.470107078552246, -2.907590389251709, -2.981224536895752, -8.410332679748535, -8.235472679138184, -5.603185653686523, -2.7015435695648193, -2.239230155944824, -6.85916805267334, -9.300128936767578, -6.041682243347168, -3.689441442489624, -2.3570456504821777, 0.050761379301548004, -6.41937780380249, -6.887134075164795, -7.01116943359375, -6.000480651855469, -7.5135178565979, -4.592382907867432, -5.5266804695129395, -4.7337446212768555, -8.489145278930664, -7.414567470550537, -0.01242230273783207, -6.1705756187438965, -1.987087368965149, -6.634431838989258, -6.900716304779053, -8.412076950073242, -4.82390832901001, -2.0380215644836426, -2.441420555114746, -8.22186279296875, -2.854703664779663, -6.010757923126221, -3.8354642391204834, -3.9845142364501953, -9.735661506652832, -3.5121798515319824, -8.607107162475586, -5.998587131500244, -7.603820323944092, 2.369051456451416, -5.099774360656738, -6.962514400482178, -9.101386070251465, -6.733208179473877, -4.189246654510498, -4.251461982727051, -7.627951145172119, 0.11962993443012238, -1.5173654556274414, 0.10720251500606537, -3.991173267364502, -3.2095468044281006, -3.3719990253448486, -9.33746337890625, 1.043068528175354, -8.648590087890625, -8.187554359436035, -2.4560675621032715, -5.729074954986572, -5.295135021209717, -1.8219558000564575, -7.4381279945373535, -3.725351095199585, -8.619159698486328, -3.134439468383789, -3.3522627353668213, -2.636531114578247, -2.8905792236328125, -8.277471542358398, -3.207801580429077, -5.680981636047363, -3.2235682010650635, -1.561420202255249, -3.2839303016662598, -3.780543327331543, -7.741003513336182, -3.433339834213257, -1.486951470375061, -5.800724029541016, -4.618546962738037, -6.80257511138916, -7.246505260467529, -1.653052806854248, -7.902816295623779, -3.8640992641448975, -6.359943866729736, -5.330933094024658, -6.230863571166992, -8.404458045959473, -9.730743408203125, -2.6404709815979004, -3.670177698135376, -9.336716651916504, -3.1967055797576904, -6.348876476287842, -2.8371224403381348, -4.516808032989502, -6.820565223693848, -4.069802284240723, -2.468552350997925, -6.3266987800598145, -5.322695732116699, -9.470532417297363, -0.6052036881446838, -5.813612461090088, -6.85526180267334, -6.965578079223633, -7.052177429199219, 0.28831130266189575, -1.35886812210083, -3.8257815837860107, 2.2206897735595703, -6.0934553146362305, 0.840825080871582, -8.619881629943848, -7.413843631744385, -1.487088918685913, -9.15787124633789, -6.83206033706665, -5.461341857910156, -2.7119410037994385, -9.487434387207031, -9.16163158416748, -5.8106465339660645, -2.8555657863616943, -1.4566129446029663, -1.925718069076538, 1.3119734525680542, -6.195959568023682, -2.179060935974121, -6.943053245544434, -4.719097137451172, -10.919143676757812, -0.030984612181782722, -7.203559398651123, -0.3618248701095581, -4.83956241607666, -8.660015106201172, -7.368553638458252, 0.8424614071846008, -3.9093077182769775, -2.9142210483551025, -8.0591402053833, -6.577386856079102, -3.4587814807891846, -5.501029968261719, -6.852355003356934, -5.2332444190979, -8.168010711669922, -6.875941276550293, -7.5665202140808105, -4.157234191894531, -5.88010311126709, -4.2607197761535645, 0.5801922678947449, -2.191922903060913, -9.523432731628418, -4.479691505432129, -3.6249587535858154, -2.225682497024536, -1.4459240436553955, -7.50228214263916, -8.471894264221191, -8.53989028930664, -0.5810906291007996, -3.416969060897827, -8.651336669921875, -6.7909159660339355, -7.587182998657227, -8.249457359313965, -2.7128286361694336, -8.645296096801758, -7.068512916564941, 1.8327456712722778, 0.025139836594462395, -7.656411647796631, -5.9257307052612305, -6.0223870277404785, -5.684086799621582, -5.044173240661621, -7.4897871017456055, -4.009243011474609, -9.60292911529541, -5.287441730499268, -3.747466564178467, 1.60226309299469, -4.5642619132995605, -7.603368282318115, -6.295492649078369, -8.274361610412598, -4.059444427490234, -6.132253646850586, -4.492184162139893, -6.9629740715026855, -4.3595075607299805, -5.953887939453125, -6.095031261444092, 1.307012677192688, -7.7615742683410645, -1.9367982149124146, -8.985288619995117, -1.786454677581787, -7.008263111114502, -2.0945746898651123, -3.452139139175415, -4.67183780670166, -7.530308723449707, -0.1924365907907486, -9.244170188903809, -0.08459492772817612, -5.312328815460205, -2.173285484313965, -6.861097812652588, -5.109543800354004, -2.8709230422973633, -6.694056510925293, -7.755728721618652, -2.1438119411468506, -9.709492683410645, 0.70268315076828, -10.229928970336914, 0.7129194736480713, -8.66264820098877, 1.4374195337295532, -2.7459425926208496, -2.2302138805389404, -3.4066879749298096, -3.8649301528930664, 3.6361405849456787, -1.1051814556121826, -7.3850860595703125, -6.87967586517334, -0.9576561450958252, -0.08309829980134964, -3.580562114715576, -8.62822151184082, -5.955066680908203, 0.15757232904434204, 0.37352293729782104, 0.08217769861221313, -9.240805625915527, -4.081534385681152, -3.0087478160858154, -11.046295166015625, -7.042252063751221, -4.52776575088501, -3.3673393726348877, -2.9482669830322266, -8.615708351135254, -3.993464469909668, -7.088624477386475, -5.880221843719482, -4.27803373336792, -6.256719589233398, 0.38058653473854065, -3.768537759780884, -3.0065245628356934, -7.703230381011963, -5.590399742126465, -5.153707027435303, -5.790767192840576, -7.189948558807373, -5.898489952087402, -2.7370810508728027, -6.056264400482178, -3.483107566833496, -7.856671333312988, -3.257171630859375, -5.693715572357178, -2.0484259128570557, -8.18374252319336, -3.7894201278686523, 0.23329290747642517, -8.18374252319336, -3.0323002338409424, -3.6062066555023193, -2.0183916091918945, -11.016329765319824], \"y\": [-3.9182262420654297, -4.885544776916504, 2.1522164344787598, 1.1876062154769897, 5.864818096160889, -5.201948642730713, -0.2698526382446289, -3.8722143173217773, 2.2573535442352295, 0.724855363368988, -2.7502312660217285, -0.7154697775840759, -0.2255571335554123, -1.2184337377548218, 0.7503160238265991, -3.0804524421691895, -3.5648322105407715, 2.7181851863861084, -4.173465728759766, 1.156359076499939, 0.4328741431236267, -3.6975350379943848, -5.083759784698486, -2.1728806495666504, 0.20117956399917603, -1.9726577997207642, -4.847036838531494, 2.4492642879486084, 3.4608986377716064, -0.8788045644760132, -7.4327850341796875, 0.134249746799469, -2.0653414726257324, 1.116150140762329, -2.873309373855591, -4.56097936630249, -1.820688009262085, -0.407196581363678, -6.789887428283691, -5.744153022766113, 2.1209182739257812, 3.282033681869507, -0.907177209854126, 1.2585179805755615, 2.8111817836761475, -3.6648690700531006, 0.9543918371200562, 5.518211364746094, -0.6356441378593445, 1.8020259141921997, -0.7668426036834717, 1.0949411392211914, 2.926032304763794, -2.9388279914855957, -0.9391941428184509, -0.7275575399398804, -1.5789284706115723, 0.7182770371437073, -1.3656984567642212, 1.255908727645874, -6.630334854125977, -0.4134383797645569, -0.6045892238616943, 1.3368780612945557, -1.7593036890029907, -1.2854268550872803, -3.5350146293640137, 2.1890640258789062, -1.3933500051498413, -1.1643463373184204, -1.3831133842468262, 1.9611228704452515, -2.383572816848755, 2.1290388107299805, -1.524171233177185, 1.8138359785079956, 1.405958890914917, -1.247021198272705, -5.4377055168151855, -2.0522732734680176, -2.7235774993896484, -2.92989182472229, 0.8803489804267883, 1.3187530040740967, 3.482914924621582, 2.0259289741516113, -2.854203224182129, 0.7301117181777954, -2.541530132293701, -1.722503662109375, 5.139780521392822, -1.9321072101593018, -3.94529390335083, -6.339048385620117, 1.2132071256637573, 0.8915382623672485, -2.5655181407928467, 1.4040879011154175, 1.9936331510543823, -0.6336004137992859, -1.0222746133804321, -0.7348209619522095, -1.7136489152908325, 1.8044846057891846, 1.787139654159546, -1.5898081064224243, 3.0915989875793457, 2.920677900314331, -1.8977768421173096, 3.161647319793701, -4.5266242027282715, -1.1250789165496826, -3.8872246742248535, -3.048814058303833, -1.7536715269088745, 0.8305022120475769, -5.985398769378662, 2.728024959564209, -6.3601861000061035, 1.690069556236267, -2.495769739151001, 2.016331672668457, 2.6714460849761963, -0.5957474708557129, 1.0834513902664185, 0.11802855879068375, 2.6534817218780518, -1.6656955480575562, 0.8442671895027161, 2.509002923965454, 0.42704132199287415, 1.4009220600128174, 2.1661195755004883, 1.2633049488067627, 0.03476785123348236, -2.4197099208831787, 2.259143352508545, 2.5577049255371094, -0.41032296419143677, -3.795506715774536, 2.017019271850586, -3.99468994140625, -1.3390039205551147, 0.9674068093299866, 0.3124587833881378, 3.4305896759033203, -1.1681468486785889, 1.1137800216674805, 2.2325544357299805, -1.5604897737503052, 1.1558647155761719, -6.081427097320557, -2.5913689136505127, -1.4514617919921875, -5.354739189147949, 2.945805072784424, 1.1401705741882324, 1.053855538368225, 3.015761375427246, 1.8878812789916992, -1.6174719333648682, -1.756441593170166, 2.665278673171997, -2.3723948001861572, -1.631443977355957, 1.6635206937789917, 4.075985431671143, -2.002784013748169, -1.6132433414459229, -6.322845458984375, -1.5481237173080444, -2.4945340156555176, 2.274017810821533, -1.240962028503418, 1.9266045093536377, 2.376185894012451, 3.285534620285034, -5.4556708335876465, -5.778209686279297, -5.032385349273682, -0.4523630142211914, -4.9581756591796875, -6.451117992401123, -2.2892608642578125, 3.4619553089141846, 0.9638760685920715, -2.8042526245117188, -2.69378924369812, -1.9756160974502563, 2.6652472019195557, -4.898400783538818, 0.07566773891448975, 0.7199787497520447, -1.420829176902771, -3.2577505111694336, -0.9379101395606995, 2.723313331604004, -0.9794241786003113, -5.010277271270752, 0.9233455061912537, -0.9469166398048401, 0.21603402495384216, 1.1459256410598755, 0.5913553833961487, -3.003580331802368, -2.443878412246704, -4.794931888580322, -5.373783111572266, 2.7130281925201416, -0.216256782412529, -3.8272929191589355, -6.824654579162598, 1.8992161750793457, -4.371993541717529, 0.8537419438362122, 0.16448800265789032, -1.664720058441162, -4.463345050811768, -1.5499783754348755, 2.594269037246704, -1.7248278856277466, -6.110387325286865, -6.457320690155029, -1.1588506698608398, 2.149517059326172, 1.3180211782455444, -2.2722601890563965, -0.0909532830119133, 1.5285732746124268, -2.1548051834106445, -1.7598968744277954, -3.9840874671936035, -4.324612617492676, 2.9177277088165283, -5.102941989898682, 0.9143390655517578, 5.454094886779785, -4.252191543579102, -1.886242389678955, 0.4336871802806854, -4.7184858322143555, 0.01330456230789423, -1.917967677116394, 1.762160301208496, 0.4582022726535797, -3.8555850982666016, 0.07580926269292831, 1.4161748886108398, 1.6978031396865845, -1.1171801090240479, -3.328312635421753, -0.2272246778011322, -5.7882585525512695, -3.0133917331695557, -4.8868513107299805, -4.948296070098877, -3.321533203125, -0.795488178730011, -0.2506612241268158, -3.8544788360595703, 2.1026530265808105, 0.8995831608772278, 0.07096553593873978, 2.566298723220825, 2.749276876449585, -0.5338391065597534, 0.5315446257591248, 1.3135004043579102, -2.290557622909546, -0.9669987559318542, -3.8466053009033203, 2.633877992630005, -5.850179672241211, 0.16217216849327087, -3.2541112899780273, -4.400082111358643, 1.7966527938842773, -3.68861985206604, -2.094716787338257, 0.7370562553405762, -1.014991283416748, -3.437389850616455, -2.8572158813476562, 3.2231991291046143, 0.1330157220363617, -1.4367024898529053, -2.678534984588623, -1.6281601190567017, -0.18124379217624664, 2.511392593383789, 0.18949198722839355, 1.367811679840088, 2.7801342010498047, 2.240933418273926, 2.5182104110717773, -6.270734786987305, 2.3685858249664307, -3.5617289543151855, -3.441250801086426, -5.007157802581787, 2.8430702686309814, 0.6265801787376404, 1.73570716381073, 3.7561988830566406, -4.145700931549072, 1.760886549949646, 1.4391202926635742, 1.80508291721344, 5.785038471221924, -5.127655982971191, -0.07165136188268661, 3.461787223815918, -2.5055136680603027, 0.9439908266067505, 2.902986764907837, 3.806520938873291, 5.06911039352417, -0.5313395261764526, -6.218360900878906, 4.284541606903076, 2.2110893726348877, -0.189360573887825, 1.0037339925765991, 1.4020310640335083, -4.308143138885498, 0.7881831526756287, 1.056045651435852, 1.343617558479309, 0.9262266159057617, 3.1898696422576904, -2.7095375061035156, -2.5736536979675293, -3.944125175476074, 1.2704410552978516, -1.9657500982284546, 0.9876086115837097, 0.5282641053199768, -4.017425537109375, -2.20157527923584, -4.789795875549316, -5.015613555908203, -2.662449598312378, 0.973281741142273, -4.803905963897705, 0.4541010856628418, -3.906597375869751, -1.6393818855285645, -5.274785995483398, -0.04501565918326378, -6.240710735321045, 3.579052448272705, -3.7773401737213135, -3.815030336380005, 2.545886516571045, 2.535879135131836, -4.1575212478637695, -2.7754547595977783, -1.1142001152038574, -3.557706832885742, -4.042071342468262, -2.788808822631836, -3.086752414703369, -4.0764312744140625, 2.9037303924560547, 1.0999342203140259, -2.098844289779663, 1.2199442386627197, 2.1347081661224365, 1.4959691762924194, 0.5054243803024292, 0.40269914269447327, -1.585914134979248, -4.5232768058776855, -1.107041597366333, -4.864214897155762, -0.34076565504074097, 3.980421304702759, -0.9208619594573975, 0.5724755525588989, 1.7539795637130737, -7.104124546051025, -1.0265430212020874, -0.4140303432941437, -4.556460380554199, -4.068492889404297, -4.904757022857666, -4.4080963134765625, 1.6840883493423462, -4.6029839515686035, -0.396199107170105, -1.142181396484375, -0.6845272183418274, 0.5762745141983032, 3.099010944366455, 3.1644980907440186, -4.613920211791992, 1.0414294004440308, 1.0069243907928467, -2.2135655879974365, -4.326257228851318, -3.309377431869507, 3.051539421081543, 4.962214946746826, 1.668936848640442, -4.956362247467041, 0.6061400771141052, 2.3448519706726074, -5.343735694885254, 2.630891799926758, 1.0046916007995605, 1.9130443334579468, -2.531881093978882, 2.827505111694336, 1.6982145309448242, 1.4600250720977783, -1.3122700452804565, -1.8251522779464722, 1.7388163805007935, -0.9811727404594421, -0.002143570687621832, -1.6941462755203247, -0.19613735377788544, 1.9379743337631226, -3.672884941101074, -5.168215751647949, 3.1191906929016113, 2.6128463745117188, 2.264702081680298, 0.040029775351285934, 5.739253044128418, 1.0714709758758545, 1.281262755393982, 0.6624445915222168, 1.1285481452941895, 4.768535137176514, 0.6648202538490295, 2.6237621307373047, 0.9221564531326294, -2.398561716079712, 2.238523483276367, -3.5603268146514893, 0.10260974615812302, -2.289680004119873, -1.3094191551208496, -4.511329650878906, -3.8710227012634277, -5.530021667480469, -1.4668233394622803, 1.5974745750427246, 1.0188583135604858, 1.7391279935836792, 3.2967379093170166, -0.7048191428184509, -6.447144508361816, 1.6287697553634644, -3.6473469734191895, -2.227865695953369, -1.1297636032104492, -1.95905339717865, -3.284437894821167, -3.74106764793396, -6.146609783172607, -4.883460521697998, 0.9995018243789673, 0.18474642932415009, 0.48878222703933716, 0.4185633063316345, 0.18474642932415009, -4.302148818969727, -2.0700199604034424, -0.06000813469290733, 0.9594910144805908], \"z\": [0.20649151504039764, 12.19393253326416, -0.4634440839290619, 5.756597518920898, 2.7246909141540527, 5.252996921539307, 8.74543285369873, 5.16885232925415, 2.452906847000122, -1.3904914855957031, 2.6164679527282715, 1.074171781539917, -2.076258420944214, 3.124527931213379, 6.099782466888428, 10.394062042236328, 7.807830333709717, 1.283345103263855, 0.8556219935417175, 5.14588737487793, 7.234524250030518, -1.3328473567962646, 4.162423133850098, -1.7198829650878906, 0.6453244686126709, 3.578935384750366, 8.997552871704102, -1.498156189918518, 2.0399086475372314, 6.246450901031494, 4.3978800773620605, 6.745561122894287, 10.70543384552002, 4.106614589691162, 3.2604641914367676, 6.4595866203308105, 10.558436393737793, 7.438011169433594, -2.945185661315918, 0.6181837320327759, 3.9709689617156982, 4.983471870422363, 8.749808311462402, 3.946725606918335, 4.128310203552246, 7.691685676574707, 5.97326135635376, 2.6634745597839355, 7.491715908050537, 2.4341444969177246, 3.1501922607421875, 5.590329170227051, 3.7365665435791016, 1.8610749244689941, 9.185734748840332, 2.9616525173187256, 2.062535285949707, 6.049566268920898, 4.431122779846191, -1.1513184309005737, 4.739558219909668, 2.595118761062622, 1.3210828304290771, 3.376511812210083, 7.412330150604248, 6.659736633300781, 2.6098685264587402, 3.664487361907959, 9.91726303100586, 2.7954986095428467, 6.102124214172363, 2.1148812770843506, 7.30928373336792, -2.9693539142608643, 3.779266119003296, 3.2019035816192627, 4.693721771240234, 1.235916018486023, 1.3793623447418213, 1.7587240934371948, 8.05016040802002, 11.48634147644043, -0.8625045418739319, 4.788149833679199, 1.0053374767303467, 4.580870151519775, 4.842768669128418, 6.312160491943359, 9.887446403503418, 2.2231202125549316, 2.9782140254974365, 10.596222877502441, 5.675678253173828, -0.12856094539165497, 6.674816608428955, 2.1055386066436768, 7.664330959320068, 1.7501516342163086, -0.5465943813323975, 7.721958160400391, 2.5401880741119385, 1.859725832939148, 2.129281759262085, 4.601490497589111, 3.184535503387451, 2.245269775390625, 0.7436743974685669, 4.513920307159424, 1.5783277750015259, 5.395406723022461, 1.006690263748169, 9.63739013671875, 0.4035300314426422, 10.417542457580566, 2.8337981700897217, 0.644883930683136, 3.304213523864746, 2.8813931941986084, 0.21982347965240479, 4.7551045417785645, 11.194334030151367, -0.45450419187545776, -1.671416163444519, 8.80970287322998, 5.939825057983398, -1.6637135744094849, 2.5871078968048096, 10.388416290283203, 5.8353271484375, 2.4296023845672607, 7.2411885261535645, 5.372786045074463, 6.238037109375, 5.5112996101379395, 7.082706451416016, 1.6844186782836914, 0.08252410590648651, 3.431391954421997, 7.439387321472168, 11.16631031036377, 3.460522174835205, 11.529561996459961, 3.4338619709014893, 3.283864974975586, 7.466360092163086, 2.29954195022583, 10.159646987915039, -3.628838539123535, 2.739912271499634, 7.293054103851318, 6.741086483001709, 0.5759602189064026, -2.1634652614593506, 9.720613479614258, 1.834593653678894, 2.30196475982666, 5.089909076690674, 3.3895390033721924, -1.6269220113754272, 2.573540210723877, 10.060133934020996, 9.113083839416504, 1.1741777658462524, 11.1615571975708, 3.419945240020752, 2.489537239074707, 2.4282145500183105, -2.5946192741394043, 6.82218599319458, 0.11668635904788971, 10.150371551513672, 3.3003573417663574, 4.496304512023926, 8.489675521850586, -1.9826676845550537, 2.3271777629852295, 0.9501783847808838, 2.288421630859375, 2.668874740600586, 10.352184295654297, 6.787592887878418, 9.707807540893555, 4.125692367553711, -2.1977040767669678, 0.9688501954078674, 6.1575751304626465, 4.946920871734619, 1.2982673645019531, 7.356855392456055, 3.2426347732543945, 3.9958927631378174, 0.6814239025115967, 6.806430816650391, 7.446349620819092, 10.644347190856934, 10.379515647888184, 1.362884759902954, 2.6091623306274414, 12.338723182678223, 6.1606364250183105, 2.204620122909546, -3.1061854362487793, 2.819094181060791, 6.265793323516846, 3.34484601020813, 4.594512939453125, 11.908151626586914, 6.086040496826172, -0.02361772209405899, -1.9051976203918457, 2.0361618995666504, 4.402360439300537, 3.697249412536621, 11.382816314697266, 5.914919853210449, 6.89436674118042, 2.229461908340454, 2.3657383918762207, 4.028508186340332, 2.7204084396362305, 10.453213691711426, 0.2160196155309677, -0.0358039028942585, 8.78776741027832, -0.9494180083274841, 4.191350936889648, 8.154280662536621, -2.9310243129730225, 5.118081569671631, 11.117022514343262, 9.160561561584473, 3.6250452995300293, 8.532154083251953, 5.795503616333008, 4.17042350769043, 5.9253411293029785, 1.402434229850769, 11.829377174377441, 10.570274353027344, 7.212334156036377, 9.621028900146484, 1.7232874631881714, 3.785407066345215, -1.1209907531738281, -1.40328049659729, 2.3695714473724365, 7.829410076141357, 5.195491313934326, 5.328646183013916, 8.334281921386719, 10.71716594696045, 6.261462211608887, 5.959423542022705, 11.469991683959961, 1.1430857181549072, 8.96392822265625, -0.9446783661842346, 7.919154167175293, 0.7251697182655334, 3.6532247066497803, -1.3973087072372437, 0.6908379793167114, 6.939043045043945, 1.937029242515564, 3.7457568645477295, 0.6685177087783813, 0.4301201105117798, 0.41176146268844604, 8.55189323425293, 8.847044944763184, -1.013708472251892, 0.7509675025939941, 6.088437080383301, -1.4477450847625732, 6.0793375968933105, 11.694558143615723, -1.925113320350647, 11.070515632629395, -1.7319239377975464, 2.436408758163452, 9.423625946044922, 3.535827159881592, 9.547224998474121, 5.219071865081787, 7.863411903381348, 10.03906536102295, 10.100228309631348, 1.566473126411438, 2.596101999282837, 3.6432878971099854, -1.4809373617172241, -1.0254610776901245, 2.9087982177734375, 3.1000499725341797, -1.212551474571228, 5.339540958404541, 3.27423357963562, -1.8113553524017334, 2.3948943614959717, 12.331717491149902, -0.46833038330078125, 1.6309953927993774, 5.045435428619385, -3.16257643699646, 3.9521729946136475, 5.796799182891846, 3.463672161102295, 5.025417804718018, 2.744478225708008, 10.368644714355469, -0.34550440311431885, 0.24597497284412384, 4.255890846252441, 6.177494049072266, -0.8077245950698853, 1.9162427186965942, 1.3605375289916992, 6.687913417816162, 0.023018233478069305, -3.1802802085876465, -2.1238348484039307, 1.7314763069152832, 3.0162007808685303, -3.7930121421813965, 7.051162242889404, 6.544403553009033, 5.984607219696045, -0.08941277861595154, 5.815219402313232, -0.7253086566925049, 1.039269208908081, 9.931133270263672, 8.431400299072266, 6.220035076141357, 10.751382827758789, 2.4948348999023438, 1.5348730087280273, 5.2322587966918945, 2.1446380615234375, 3.801645517349243, 12.341346740722656, 7.194624423980713, 0.6079195141792297, 11.853628158569336, 6.326761245727539, 0.29829660058021545, 1.6560204029083252, 1.7356572151184082, -7.3069634437561035, 0.38193604350090027, 1.7915263175964355, 0.7610955238342285, 3.8808939456939697, -1.0137475728988647, 0.5569380521774292, 8.42648696899414, 10.12817096710205, 7.732891082763672, -1.791045904159546, -0.3755725920200348, 10.138821601867676, 4.979608535766602, 8.419123649597168, 0.2089967578649521, -3.6954970359802246, 9.458952903747559, -1.4129780530929565, 5.16030740737915, 0.10164953023195267, 4.086672306060791, -0.5942582488059998, 2.1124589443206787, 3.7732887268066406, 1.3569164276123047, 9.054525375366211, -2.5477428436279297, 1.6584324836730957, 9.271039962768555, 6.955826282501221, 5.34122371673584, 4.3106489181518555, 9.0132417678833, 2.983610153198242, 9.60788631439209, 4.17307186126709, 5.958120822906494, 5.02967643737793, -0.9423241019248962, 1.2229350805282593, 2.229443073272705, 2.154850721359253, 3.1347882747650146, 6.357080936431885, -1.8561370372772217, 0.8433639407157898, 1.2524378299713135, 5.520448207855225, 2.7635769844055176, -2.5936336517333984, 4.9916181564331055, 10.997087478637695, -0.4737326502799988, 1.9219411611557007, -0.019454624503850937, 4.216415882110596, 2.8642938137054443, -0.5694758892059326, 4.678572177886963, 1.6925294399261475, 2.7805593013763428, 2.944701910018921, 3.797790288925171, 2.575364112854004, 4.9671735763549805, 5.406373023986816, 4.293147087097168, 9.185614585876465, 5.374627590179443, 2.6560657024383545, 1.9968159198760986, 8.892306327819824, -2.8852310180664062, 7.466620922088623, -2.0333027839660645, 10.439001083374023, 1.9281587600708008, 0.9671870470046997, -0.09340900182723999, -3.28098726272583, 2.7832517623901367, 5.875927448272705, -0.4879162609577179, 0.785495400428772, 0.3490172326564789, 1.9323829412460327, 2.479857921600342, 0.4442853629589081, 6.170032024383545, 5.008582592010498, 2.5027670860290527, -1.4832863807678223, 7.672544002532959, 9.64342212677002, 9.821170806884766, 11.830073356628418, 3.237825393676758, 2.100078582763672, 10.118156433105469, 5.398412227630615, 2.731329917907715, 2.7629849910736084, 0.38413798809051514, 6.114420413970947, 5.072922706604004, 5.341161251068115, 9.261711120605469, 2.001990795135498, 1.2302707433700562, 2.1879119873046875, -1.6111462116241455, 11.117920875549316, 0.6813580393791199, 4.767199993133545, 2.196289539337158, 6.8188018798828125, -0.7130696773529053, -7.462284564971924, 6.8188018798828125, 1.1642308235168457, 8.331908226013184, 2.131530284881592, 6.1218085289001465]}, {\"hoverlabel\": {\"namelength\": 0}, \"hovertemplate\": \"Dominant_Topic=Topic 1<br>0=%{x}<br>1=%{y}<br>2=%{z}\", \"legendgroup\": \"Dominant_Topic=Topic 1\", \"marker\": {\"color\": \"#EF553B\", \"opacity\": 0.7, \"symbol\": \"circle\"}, \"mode\": \"markers\", \"name\": \"Dominant_Topic=Topic 1\", \"scene\": \"scene\", \"showlegend\": true, \"type\": \"scatter3d\", \"x\": [-0.15381549298763275, 4.412962913513184, 3.71940279006958, 4.268483638763428, 1.080132246017456, 3.104543924331665, -0.42543819546699524, 3.835253953933716, -0.7810298204421997, 1.7483627796173096, 1.4101343154907227, 2.0718188285827637, -0.5918224453926086, 0.5337322950363159, 4.397047519683838, -3.0469703674316406, 1.0275216102600098, 1.2045129537582397, -1.5474727153778076, -0.932647705078125, 0.3701128661632538, -1.444405436515808, 1.6713197231292725, 1.3571550846099854, 0.46624755859375, 0.30440542101860046, 4.5734992027282715, -0.4504089057445526, -2.557798385620117, 4.778714656829834, 1.6891191005706787, 0.9918522238731384, -0.21882976591587067, 2.6695501804351807, -0.07776547968387604, -2.9103293418884277, -1.107142686843872, -3.2825047969818115, -2.148200035095215, 0.19230249524116516, 2.8023581504821777, -2.938385009765625, 2.1730473041534424, 1.5502400398254395, -0.8197646737098694, 0.24676164984703064, 0.3449387550354004, 3.490727663040161, 0.34055155515670776, 5.317856311798096, 1.0684515237808228, 1.9608075618743896, 2.0297648906707764, -0.5039882659912109, 3.695810317993164, 0.5712267756462097, -1.6183186769485474, -1.2850850820541382, 3.4840505123138428, 5.065131187438965, 2.365790843963623, -0.28303858637809753, 3.9307422637939453, 1.618208885192871, -0.19472508132457733, -3.052511692047119, 2.327605962753296, -1.0749150514602661, -2.52431583404541, -0.0032568704336881638, 3.2048463821411133, 0.4718695282936096, 2.744872570037842, -2.6393749713897705, -0.5459886789321899, 2.4799692630767822, 0.6906017065048218, 3.8481507301330566, 1.734714150428772, -0.2258554846048355, 0.20410926640033722, 3.0725014209747314, -0.34850579500198364, -1.5976661443710327, 2.6934680938720703, -0.050155676901340485, 3.576758861541748, 1.5118863582611084, 3.594071626663208, 2.4457459449768066, 0.1601446270942688, 3.4807851314544678, -0.4082830846309662, -1.1045873165130615, 0.8063970804214478, -1.693196415901184, 0.0103202685713768, 2.9465832710266113, 2.876568078994751, 3.0275933742523193, 3.348788261413574, 3.479067087173462, 1.6286009550094604, -2.175891637802124, 1.7778511047363281, 4.440203666687012, 3.1728475093841553, 0.42965173721313477, 1.6561012268066406, 0.5663828253746033, 0.8755999207496643, 3.848450183868408, 5.1684184074401855, -1.882017731666565, 1.4089914560317993, 2.4742050170898438, -0.4756946563720703, 5.679638385772705, 5.256106376647949, -1.526818037033081, 3.1257569789886475, 0.007314109709113836, 2.3435475826263428, 3.456608295440674, 4.763582706451416, -0.19757166504859924, 3.6208488941192627, 0.8422955274581909, 1.6799436807632446, 2.4303510189056396, 0.4872666597366333, 3.095550298690796, 1.0706546306610107, -0.12867146730422974, -0.047490380704402924, 4.42388391494751, 1.5601210594177246, 1.8893308639526367, 3.2931039333343506, 0.4430236518383026, 2.7829489707946777, -2.2722902297973633, 2.0756208896636963, 4.749380588531494, 3.2832350730895996, 2.8605661392211914, 4.502346992492676, 3.3323256969451904, 4.672148704528809, 2.691678047180176, 1.3886934518814087, 3.254805564880371, 3.1406259536743164, -1.4401662349700928, 2.82535982131958, -2.820798873901367, 3.6856038570404053, 1.4977760314941406, 2.132406234741211, 3.029250144958496, 5.21248722076416, -0.5096677541732788, 5.134923458099365, 3.586305856704712, 2.3415145874023438, 1.9368760585784912, 1.3417037725448608, 3.3432748317718506, 3.43318510055542, 0.3954119384288788, -1.093752145767212, 1.7296957969665527, 3.8086178302764893, 1.7908618450164795, 4.734131813049316, 1.6001633405685425, 1.8986563682556152, 2.800002336502075, 3.2563040256500244, 4.483423709869385, -0.5303069353103638, 3.5555813312530518, 3.597517251968384, 2.0594494342803955, 4.734745979309082, 3.109271287918091, 4.479983806610107, 1.3304249048233032, 4.014052867889404, 3.3040969371795654, 0.3083401322364807, 3.146376848220825, 3.609449625015259, 2.217395782470703, 3.898101568222046, 0.6033346652984619, 3.1904172897338867, 2.817127227783203, 4.008098602294922, 2.7545080184936523, 4.250426769256592], \"y\": [0.49723556637763977, -7.397089958190918, -5.324113368988037, -8.984028816223145, -0.2652433216571808, -0.7676597833633423, -1.866917610168457, -0.7866367697715759, 1.349623680114746, -6.577653408050537, -1.0248088836669922, 0.7158764004707336, -1.4202468395233154, -1.7838808298110962, 0.3594589829444885, -2.0207698345184326, -5.1539106369018555, -5.121284008026123, -1.2932895421981812, -5.149035930633545, -4.304842472076416, -3.646512269973755, -4.67814302444458, -5.538244724273682, -0.4654162526130676, -1.168747067451477, 0.27356579899787903, -4.3620500564575195, -0.8771329522132874, -0.6714699268341064, -8.142021179199219, -4.199334144592285, -4.165596008300781, -8.929537773132324, -5.981700897216797, -1.1773536205291748, -6.714584827423096, -2.1063313484191895, -6.493783950805664, -1.721669316291809, 0.7315115332603455, -2.4399497509002686, -8.968769073486328, -8.40237045288086, -1.9775514602661133, -1.7294695377349854, -3.3379299640655518, -0.45610734820365906, -5.755733013153076, 0.5483004450798035, 0.39426684379577637, -5.793242454528809, -8.198902130126953, -3.577946186065674, 0.182096928358078, -5.584500789642334, -3.7374346256256104, 1.6044526100158691, -11.040428161621094, 0.12059445679187775, -1.9864976406097412, 0.2911171615123749, 0.411174476146698, 0.23761002719402313, -0.36056748032569885, -2.573235511779785, -9.4567289352417, 1.4906566143035889, -1.5955443382263184, -3.7697837352752686, -8.368837356567383, -2.3634588718414307, -7.233417510986328, -0.7429007887840271, -1.562398910522461, -10.00186538696289, -6.570368766784668, -7.82632303237915, -5.701640605926514, -2.2760133743286133, -5.995634078979492, 0.3118038773536682, -3.4137260913848877, -1.4550700187683105, -10.006571769714355, -5.348726749420166, -9.743817329406738, -5.924242973327637, -9.814855575561523, -6.637373447418213, -2.4192910194396973, -0.48578080534935, -1.7468341588974, -6.7029500007629395, -6.151756286621094, -0.7591228485107422, -5.431755542755127, -7.504548072814941, -11.095773696899414, -10.25549030303955, -8.802022933959961, -8.581774711608887, -3.8160455226898193, -6.248878479003906, -6.576773166656494, -6.794704437255859, -10.678509712219238, -0.8323008418083191, -5.180556297302246, -2.048764705657959, -6.219560146331787, 0.20011958479881287, -6.71159553527832, -3.5457637310028076, -7.130333423614502, -5.971900939941406, -5.1967692375183105, 0.7237977385520935, -0.23022349178791046, -6.559305667877197, -0.4653949439525604, -4.585397720336914, -9.363162994384766, -11.39021110534668, -7.412452220916748, -0.7975049614906311, -7.0060625076293945, -6.72968053817749, -8.700599670410156, -10.635734558105469, -1.3198736906051636, -11.419393539428711, -6.514397144317627, -2.303826093673706, 0.09650862962007523, -8.846117973327637, -2.9284939765930176, -6.993878364562988, -8.56944751739502, -0.30113524198532104, -10.835992813110352, -1.1709986925125122, -6.8674397468566895, -6.963660717010498, -7.711538314819336, -11.117268562316895, -7.292949676513672, -0.3305705785751343, -7.005373954772949, -10.503316879272461, -5.644685745239258, -11.446025848388672, -10.996084213256836, -3.5836803913116455, -10.443377494812012, -1.4135559797286987, -10.029352188110352, -2.7379653453826904, -4.86929178237915, -11.401633262634277, -0.05769198015332222, -4.408416748046875, -6.720261096954346, -8.58142375946045, -6.189855098724365, -6.362172603607178, -7.354892730712891, -8.439870834350586, -11.307971000671387, -2.6985924243927, -1.4769861698150635, -8.458304405212402, -7.094022750854492, -5.972444534301758, -6.9115891456604, -7.429328441619873, -8.65306568145752, -8.788161277770996, -8.395160675048828, -8.446281433105469, -6.1824822425842285, -9.82275390625, -9.199100494384766, -3.3477423191070557, -7.494344234466553, -11.53127670288086, -8.760481834411621, -2.7078371047973633, -8.884947776794434, -10.092826843261719, -5.824619293212891, -11.570174217224121, -9.185779571533203, -9.624504089355469, -6.479645729064941, -1.9289263486862183, -10.528902053833008, -6.9138875007629395, -6.885724067687988, -10.878000259399414, -7.291520595550537], \"z\": [-4.34255313873291, -10.62306022644043, -5.688772201538086, -8.325016021728516, -6.7964277267456055, -6.16878080368042, -5.474306106567383, -6.6166157722473145, -4.142329692840576, -6.3324384689331055, -5.403669834136963, -6.050817012786865, -5.689065933227539, -6.864271640777588, -6.828562259674072, -3.0851340293884277, -5.616211414337158, -5.8382415771484375, -3.085127830505371, -3.6559536457061768, -4.203545093536377, -2.469430923461914, -6.048847675323486, -5.990954875946045, -7.3123250007629395, -4.008483409881592, -7.02412748336792, -5.323757648468018, -3.4413981437683105, -6.7001824378967285, -8.153351783752441, -4.880649566650391, -5.808741092681885, -9.076289176940918, -4.965742111206055, -3.3833329677581787, -2.9583349227905273, -2.809377670288086, -0.6337947845458984, -5.127922534942627, -6.175248622894287, -3.2293193340301514, -9.164556503295898, -8.213340759277344, -5.366272926330566, -4.866450309753418, -6.402374744415283, -7.352294445037842, -5.699148178100586, -7.488774299621582, -5.044511318206787, -7.719374656677246, -8.225744247436523, -2.128007650375366, -6.9767069816589355, -5.314219951629639, -2.7488741874694824, -3.292710065841675, -10.01462173461914, -6.558256149291992, -4.910919666290283, -3.5132482051849365, -8.037903785705566, -7.107828140258789, -4.1463446617126465, -2.9734253883361816, -9.883491516113281, -3.845768451690674, -3.4346115589141846, -5.493133544921875, -9.276951789855957, -3.809962749481201, -8.409860610961914, -3.6275343894958496, -4.932877540588379, -10.52078914642334, -6.728776454925537, -10.52963924407959, -5.784547805786133, -5.481611728668213, -4.6455230712890625, -7.662703514099121, -2.6523618698120117, -3.0309951305389404, -10.139762878417969, -6.088914394378662, -8.900322914123535, -7.354511737823486, -12.08216381072998, -8.183365821838379, -5.884284973144531, -6.196708679199219, -5.364508152008057, -2.976473569869995, -5.91104793548584, -3.585325241088867, -5.399962902069092, -9.33427619934082, -11.826239585876465, -11.567818641662598, -10.785024642944336, -10.108091354370117, -4.888095855712891, -1.1522915363311768, -7.620718955993652, -10.44710636138916, -12.039351463317871, -6.928617000579834, -5.260672569274902, -5.097009658813477, -6.224758625030518, -7.814688682556152, -8.678719520568848, -2.7838528156280518, -7.353346824645996, -5.902116298675537, -4.75753927230835, 0.6066089868545532, -6.748968124389648, 0.24621300399303436, -6.24298095703125, -5.586775302886963, -9.830525398254395, -10.463175773620605, -11.487260818481445, -2.117428779602051, -9.801512718200684, -6.797202110290527, -8.514083862304688, -11.17129135131836, -6.938231945037842, -11.432336807250977, -5.885373592376709, -5.927186489105225, -3.7639057636260986, -8.302305221557617, -4.576726913452148, -6.229825973510742, -10.425820350646973, -4.896925449371338, -11.426048278808594, -3.596747636795044, -7.826837539672852, -10.99014949798584, -9.8671236038208, -11.822440147399902, -10.917193412780762, -6.430354595184326, -10.81334400177002, -10.902083396911621, -7.113971710205078, -12.393396377563477, -12.112894058227539, -2.3278684616088867, -10.831271171569824, -3.3073809146881104, -12.391282081604004, -4.320667743682861, -4.480828285217285, -12.081443786621094, -6.733570098876953, -5.327742576599121, -8.872931480407715, -10.464950561523438, -7.4990973472595215, -6.324060440063477, -7.468847274780273, -10.47758674621582, -12.596647262573242, -5.330810070037842, -1.9909422397613525, -8.397899627685547, -10.0333251953125, -7.558833599090576, -10.916786193847656, -7.60407829284668, -8.734665870666504, -8.419099807739258, -9.800763130187988, -8.52914810180664, -3.9424266815185547, -12.023323059082031, -11.466658592224121, -6.306924819946289, -9.513957977294922, -12.213289260864258, -8.383251190185547, -4.443117618560791, -10.95046615600586, -11.848946571350098, -4.901116847991943, -12.278326988220215, -11.472053527832031, -9.909669876098633, -9.764147758483887, -4.411765098571777, -11.985536575317383, -8.701447486877441, -10.084790229797363, -11.586867332458496, -9.966715812683105]}, {\"hoverlabel\": {\"namelength\": 0}, \"hovertemplate\": \"Dominant_Topic=Topic 2<br>0=%{x}<br>1=%{y}<br>2=%{z}\", \"legendgroup\": \"Dominant_Topic=Topic 2\", \"marker\": {\"color\": \"#00cc96\", \"opacity\": 0.7, \"symbol\": \"circle\"}, \"mode\": \"markers\", \"name\": \"Dominant_Topic=Topic 2\", \"scene\": \"scene\", \"showlegend\": true, \"type\": \"scatter3d\", \"x\": [8.442084312438965, 3.8745296001434326, 2.859771251678467, 10.017566680908203, 0.5041598081588745, -0.760441780090332, 9.435026168823242, -0.9408107995986938, 11.588323593139648, 9.668776512145996, 0.944340169429779, 9.042254447937012, 8.668588638305664, 10.943603515625, 5.00277853012085, 4.6311421394348145, 12.21888256072998, 0.5458255410194397, 3.581544876098633, 11.83700942993164, 0.379416286945343, 5.433863639831543, 0.7841812372207642, 6.988866806030273, 0.8609561920166016, 7.90664005279541, 6.406752586364746, 11.783968925476074, 11.467451095581055, 2.422452926635742, -0.8851021528244019, 6.0875935554504395, 2.832503318786621, 1.842026710510254, 9.699670791625977, 10.026798248291016, 6.0965375900268555, 3.821214437484741, 9.693770408630371, 2.242269515991211, 3.9284207820892334, 6.876287460327148, 9.672649383544922, 6.928373336791992, 3.9663333892822266, 6.359333515167236, 8.808311462402344, 8.369565963745117, 7.306513786315918, 6.337197303771973, 12.487771987915039, 2.8268589973449707, 3.2974936962127686, 10.76137924194336, 6.224406719207764, -0.6735184192657471, 11.651597023010254, 9.723281860351562, 5.124867916107178, 9.392008781433105, 12.618546485900879, 3.55963397026062, 4.0190749168396, 3.9345009326934814, 9.989736557006836, 11.553484916687012, 5.302292346954346, 6.242581844329834, 9.227825164794922, 7.637276649475098, 6.202091217041016, 4.839008331298828, 3.0295231342315674, 9.175924301147461, 2.8948378562927246, 0.7661503553390503, 7.6672210693359375, 5.019581317901611, 1.5242133140563965, 0.4101850688457489, 4.696095943450928, 6.420836925506592, 6.353543281555176, 8.311056137084961, 8.72425365447998, 6.140989303588867, 4.359844207763672, 7.86098575592041, 4.771381855010986, 12.610361099243164, 4.474857330322266, 8.115087509155273, 12.325799942016602, 2.6236472129821777, 3.71329402923584, 6.884890079498291, 3.1332786083221436, 2.954658269882202, 8.610910415649414, 11.938287734985352, 4.09885835647583, 3.134981870651245, 3.862541913986206, 4.480966091156006, 5.8260931968688965, 9.119161605834961, 3.096632719039917, 1.6940757036209106, 7.111548900604248, 3.740708589553833, 9.913389205932617, 5.893868446350098, 3.0422847270965576, 7.9495697021484375, 10.714240074157715, 11.943706512451172, 4.768428802490234, 6.6051459312438965, 5.576845645904541, 0.8684732913970947, -1.159041404724121, 4.550097942352295, 5.502747535705566, 9.043895721435547, 8.72425365447998, 2.724229574203491, 4.652912139892578, 11.509413719177246, 5.778375148773193, 1.8966872692108154, 1.683133840560913, 3.7606239318847656, 7.7725701332092285, 8.011878967285156, 5.1674628257751465, 6.787833213806152, 3.077043294906616, 5.902239799499512, 8.68265151977539, 5.4311957359313965, 6.085773468017578, 4.53809928894043, 2.7510874271392822, 1.9590866565704346, 9.68474006652832, 2.630483865737915, 1.1618958711624146, 5.493948936462402, 10.265153884887695, 2.5938665866851807, 5.171170711517334, 8.53242301940918, 2.3462116718292236, 8.737470626831055, 10.070413589477539, 0.19226574897766113, 4.444683074951172, 1.049993634223938, 4.206796169281006, 2.039712905883789, 3.889153003692627, 1.9943666458129883, 1.0163190364837646, 4.7549357414245605, 8.676621437072754, 3.3055050373077393, 5.2788238525390625, 7.287588596343994, 2.5679147243499756, 6.147231578826904, 0.9078927636146545, 2.2943477630615234, 10.316701889038086, 4.477403163909912, 3.4923646450042725, 3.40792179107666, 2.0303354263305664, 0.6847351789474487, 10.245590209960938, 0.31644898653030396, 10.396831512451172, 8.489174842834473, 5.064768314361572, -0.26516392827033997, 5.535529613494873, 0.2179996371269226, 10.901145935058594, 4.978446006774902, 3.1255109310150146, 3.470677137374878, 1.001266598701477, 6.8535003662109375, 1.2464089393615723, 8.713225364685059, 1.2076596021652222, 11.960290908813477, -0.11185254901647568, -0.09312620759010315, 1.9245991706848145, 3.2515618801116943, 3.813101053237915, 7.216975212097168, 4.051734447479248, 2.363729953765869, 11.531582832336426], \"y\": [7.8762359619140625, 5.942135334014893, 4.339120864868164, 7.281236171722412, 3.3462064266204834, 2.97445011138916, 7.305055141448975, 3.50329852104187, 8.569869995117188, 7.721455097198486, 2.335792303085327, 5.822874546051025, 8.522710800170898, 8.008735656738281, 6.600737571716309, 6.200740814208984, 9.066471099853516, 2.12703275680542, 2.8497447967529297, 8.963027000427246, 3.8335559368133545, 6.687477111816406, 3.2757673263549805, 5.6864423751831055, 3.214909315109253, 5.376320838928223, 4.042565822601318, 8.616676330566406, 8.798117637634277, 3.5987331867218018, 3.8524184226989746, 3.7030138969421387, 6.511490821838379, 3.053596019744873, 8.737164497375488, 6.511892318725586, 3.5394175052642822, 0.8670112490653992, 6.906580924987793, 5.738152980804443, 6.642999172210693, 7.728488922119141, 6.987546443939209, 7.919068336486816, 6.755451202392578, 6.628481388092041, 7.67756986618042, 5.5280375480651855, 7.483922481536865, 7.459502220153809, 9.124693870544434, 2.917423725128174, 5.473480701446533, 6.779301643371582, 7.060216903686523, 3.0162739753723145, 8.906496047973633, 6.755867004394531, 1.6603273153305054, 7.848992824554443, 9.135390281677246, 6.613950729370117, 6.045858383178711, 0.9637233018875122, 7.158694744110107, 8.466364860534668, 2.495300769805908, 7.314084529876709, 7.052553653717041, 5.901066780090332, 4.498236656188965, 6.221817970275879, 3.5316569805145264, 7.255355358123779, 4.763885021209717, 2.182648181915283, 8.123021125793457, 6.062442779541016, -0.4087361693382263, 2.0261058807373047, 6.417354106903076, 4.269505500793457, 6.453516483306885, 6.329455375671387, 5.7397541999816895, 7.460933685302734, 5.702791690826416, 8.275886535644531, 2.1594035625457764, 9.053668022155762, 6.016672134399414, 8.440363883972168, 8.99652099609375, 6.340836048126221, 3.1738734245300293, 7.469552993774414, 4.201344966888428, 6.253337383270264, 8.508440017700195, 9.02669620513916, 3.0148844718933105, 5.259730815887451, 6.252692699432373, 3.079237699508667, 3.460245370864868, 6.274816989898682, 5.601527690887451, 2.7518632411956787, 6.199435234069824, 6.53623104095459, 8.62457275390625, 1.6832621097564697, 6.638201713562012, 5.705010414123535, 6.857784748077393, 8.73963451385498, 5.974715232849121, 7.630406379699707, 1.171479344367981, 5.333364009857178, 1.5987699031829834, 1.4888198375701904, 4.13223123550415, 8.07194995880127, 5.739753723144531, 4.377715587615967, 1.3317124843597412, 8.83889389038086, 1.4083747863769531, 4.628499984741211, -0.6331859827041626, 6.356026649475098, 8.163207054138184, 5.324734210968018, 7.020974636077881, 1.4256120920181274, 3.192899703979492, 4.362683296203613, 8.556293487548828, 2.5449178218841553, 4.112151145935059, 1.4114185571670532, 6.194389343261719, 0.5667832493782043, 6.875888824462891, 2.8997321128845215, 2.2809929847717285, 7.258210182189941, 7.1602911949157715, 4.713759422302246, 2.771472930908203, 7.597332954406738, 4.6681718826293945, 8.589370727539062, 6.764122009277344, 3.3081893920898438, 1.306204915046692, 2.119572401046753, 0.8041934370994568, 6.438421726226807, 1.3142865896224976, 6.669477939605713, 0.863009512424469, 2.604525089263916, 7.653386116027832, 3.6690995693206787, 1.935899257659912, 6.362035751342773, 4.716360092163086, 4.488651275634766, 0.676399827003479, 3.9872047901153564, 7.212295055389404, 1.4018019437789917, 0.6892626881599426, 4.689115524291992, 6.464033126831055, 5.34916353225708, 8.522822380065918, 4.628042697906494, 6.8719482421875, 7.7320122718811035, 2.8606042861938477, 3.1601901054382324, 2.2131505012512207, 4.5453901290893555, 8.249711036682129, 2.241583824157715, 4.443979263305664, 2.993438243865967, 0.8418079018592834, 7.824235439300537, 3.3987014293670654, 7.196392059326172, 5.540379524230957, 8.992566108703613, 2.9955031871795654, 3.1164894104003906, 6.308922290802002, 4.405576229095459, 6.095241069793701, 7.549238681793213, 6.367814064025879, 3.619749069213867, 8.714193344116211], \"z\": [-5.81020975112915, -6.87321662902832, -5.6221489906311035, -3.3366963863372803, -5.676484107971191, -3.223607063293457, -5.338634490966797, -3.581838607788086, -4.233658313751221, -4.865790843963623, -5.2447004318237305, -1.9911789894104004, -5.042120456695557, -3.6578238010406494, -6.87671422958374, -5.0792975425720215, -3.5553138256073, -5.050207614898682, -6.311874866485596, -3.812530517578125, -5.018336772918701, -5.639594078063965, -6.136414051055908, -3.883261203765869, -5.8681769371032715, -2.335876226425171, -3.778810977935791, -3.3571877479553223, -4.045337677001953, -5.274653434753418, -3.5799012184143066, -1.2454452514648438, -5.714977741241455, -4.575179576873779, -4.5821533203125, -6.251381874084473, -1.0065724849700928, -7.904275417327881, -3.051750898361206, -4.750735759735107, -4.576142311096191, -5.542574405670166, -6.08573579788208, -6.087389945983887, -4.719008445739746, -4.179155349731445, -5.294958114624023, -2.1302146911621094, -5.745495319366455, -5.448519706726074, -3.3598639965057373, -1.3883070945739746, -6.012693405151367, -6.367766380310059, -4.59921407699585, -3.686466693878174, -3.925468921661377, -4.678431987762451, -1.1446893215179443, -4.128420829772949, -3.299225330352783, -4.737650394439697, -7.1428985595703125, -6.371148586273193, -3.2568447589874268, -4.152436256408691, -4.183413028717041, -6.533435821533203, -3.5974786281585693, -3.3266637325286865, -4.401652812957764, -5.708323001861572, -6.939269065856934, -4.564774036407471, -5.635685443878174, -5.116025447845459, -5.396406650543213, -5.409906387329102, -5.981164455413818, -4.9265456199646, -5.371119022369385, -4.100948810577393, -4.0277862548828125, -3.33843994140625, -2.148373603820801, -5.085134983062744, -3.0976264476776123, -5.218531608581543, -7.062535762786865, -3.1151559352874756, -5.260966777801514, -5.083956718444824, -3.633901596069336, -5.17501163482666, -1.2462818622589111, -5.102722644805908, -5.230677127838135, -4.538761615753174, -5.057765007019043, -3.7576916217803955, -1.2550432682037354, -7.203158378601074, -3.7384114265441895, -4.412123203277588, -4.242974281311035, -2.648284435272217, -6.487249851226807, -4.978837013244629, -3.7700154781341553, -4.286863327026367, -4.711429595947266, -4.52808141708374, -5.992766857147217, -2.7458536624908447, -6.277390480041504, -3.4180240631103516, -5.302967548370361, -5.3820037841796875, -7.768643856048584, -4.7032904624938965, -3.8219313621520996, -6.21327543258667, -5.475842475891113, -5.225180149078369, -2.1483733654022217, -5.255066871643066, -7.460639476776123, -4.009176254272461, -7.7829084396362305, -4.978631019592285, -5.835978984832764, -4.458888530731201, -5.427655220031738, -2.130277395248413, -4.69671630859375, -5.161381721496582, -5.309230327606201, -4.724084854125977, -4.965814113616943, -3.0818440914154053, -2.3627421855926514, -6.7555108070373535, -6.8958845138549805, -7.31422233581543, -3.2481179237365723, -1.907843828201294, -5.344185829162598, -4.877173900604248, -4.037111282348633, -0.0808054506778717, -3.9357035160064697, -5.726117134094238, -4.883297443389893, -4.9136199951171875, -6.243303298950195, -2.776228904724121, -6.318831443786621, -5.574717998504639, -7.911527156829834, -7.287585735321045, -6.462944507598877, -7.481718063354492, -4.744412899017334, -3.4519476890563965, -5.751497268676758, -7.079623222351074, -6.984097480773926, -3.857952356338501, -5.372574806213379, -4.263628005981445, -4.360855579376221, 0.08074737340211868, -5.880620002746582, -7.4142327308654785, -6.246408462524414, -7.311141014099121, -7.341073513031006, -4.6220011711120605, -5.173566818237305, -4.284618854522705, -6.200423717498779, -4.486473560333252, -4.0078535079956055, -3.423048734664917, -4.255868434906006, -4.440630912780762, -4.124178886413574, -4.666713714599609, -5.494531154632568, -0.9569098949432373, -4.392977237701416, -5.749002933502197, -5.849574089050293, -6.01615571975708, -4.748797416687012, -3.7411105632781982, -4.166296005249023, -3.3937666416168213, -7.325809001922607, -7.428232669830322, -5.527522563934326, -5.576419830322266, -5.205232620239258, -5.192322731018066, -3.78979229927063]}, {\"hoverlabel\": {\"namelength\": 0}, \"hovertemplate\": \"Dominant_Topic=Topic 3<br>0=%{x}<br>1=%{y}<br>2=%{z}\", \"legendgroup\": \"Dominant_Topic=Topic 3\", \"marker\": {\"color\": \"#ab63fa\", \"opacity\": 0.7, \"symbol\": \"circle\"}, \"mode\": \"markers\", \"name\": \"Dominant_Topic=Topic 3\", \"scene\": \"scene\", \"showlegend\": true, \"type\": \"scatter3d\", \"x\": [6.842850208282471, 4.008168697357178, 2.574963092803955, 3.4303882122039795, 8.187314987182617, 5.737738132476807, 5.782869815826416, 5.884195804595947, 5.001489162445068, 7.306199550628662, 5.547532081604004, 3.861056327819824, 4.537671089172363, 6.740123748779297, 11.411242485046387, 5.954668045043945, 5.413406848907471, 11.338861465454102, 8.089529991149902, 6.191157817840576, 2.620774030685425, 3.864938259124756, 3.444016695022583, 10.070108413696289, 11.596015930175781, 3.441901445388794, 3.073566436767578, 8.446761131286621, 10.428803443908691, 3.150113821029663, 6.09120512008667, 3.3217878341674805, 6.224837303161621, 5.106228828430176, 8.115818977355957, 8.28809928894043, 7.462299823760986, 5.231593132019043, 2.893847942352295, 4.43297004699707, 6.042152404785156, 8.098740577697754, 8.221839904785156, 5.522454261779785, 2.660808801651001, 4.243050575256348, 8.955731391906738, 2.895477056503296, 7.206986904144287, 6.590489864349365, 3.4175796508789062, 2.3480682373046875, 7.889746189117432, 7.523569107055664, 6.092853546142578, 8.818892478942871, 9.28560733795166, 6.7045063972473145, 6.275109767913818, 0.38238435983657837, 2.954406499862671, 6.278611660003662, 4.027013778686523, 6.920741558074951, 3.3432846069335938, 8.262510299682617, 10.306156158447266, 4.925656795501709, 9.362972259521484, 2.1779959201812744, 4.020066261291504, 7.762175559997559, 4.35218620300293, 9.586098670959473, 5.448299884796143, 8.198404312133789, 7.754213809967041, 5.605729103088379, 6.407815456390381, 7.253567695617676, 2.87749981880188, 9.706552505493164, 3.5422523021698, 10.79819107055664, 2.7167105674743652, 10.801960945129395, 2.806854486465454, 7.0713911056518555, 9.997130393981934, 4.788985729217529, 9.4501314163208, 4.886706829071045, 4.973077774047852, 6.376706600189209, 2.715106725692749, 6.120173931121826, 7.052432060241699, 6.206265449523926, 10.439386367797852, 3.4493801593780518, 4.699253559112549, 6.037659168243408, 7.759989261627197, 4.7785515785217285, 8.975661277770996, 1.9656859636306763, 6.810953140258789, 6.097315788269043, 9.54304313659668, 9.641801834106445, 5.217408180236816, 2.4054291248321533, 3.3387372493743896, 3.8446240425109863, 5.830526351928711, 9.388837814331055, 4.5911946296691895, 2.317739725112915, 3.3532862663269043, 10.756182670593262, 5.6750359535217285, 3.803086280822754], \"y\": [2.038508415222168, 1.2011059522628784, 1.8228036165237427, 1.7883291244506836, 2.656575918197632, 2.1073100566864014, 3.1572816371917725, 2.066619396209717, 2.431929111480713, 2.926370859146118, 2.536142349243164, 1.0044368505477905, 1.2095361948013306, 3.014897584915161, 4.076591968536377, 2.783681631088257, 2.7887215614318848, 4.053513050079346, 3.265162706375122, 3.3000831604003906, 2.665433168411255, 0.641693115234375, 0.8055095672607422, 3.8016586303710938, 4.125686168670654, 2.4662117958068848, 1.8233630657196045, 3.9686479568481445, 3.8039684295654297, 1.8306009769439697, 2.0651865005493164, 1.052459478378296, 2.1706960201263428, 2.650958776473999, 1.2274519205093384, 3.4210667610168457, 3.1062018871307373, 1.6114012002944946, 1.134584903717041, 3.023761034011841, 2.204817533493042, 3.4890663623809814, 3.457566976547241, 1.3634716272354126, 3.4870591163635254, 1.9387825727462769, 3.333019495010376, 1.9268794059753418, 3.1855111122131348, 1.9558831453323364, 1.5646363496780396, 3.638397216796875, 3.1034748554229736, 3.480278253555298, 2.816575288772583, 3.4399759769439697, 3.520693302154541, 1.605578899383545, 3.4307398796081543, 0.6768445372581482, 3.3684279918670654, 1.0459307432174683, 1.5748043060302734, 2.95005202293396, 1.5541119575500488, 3.416623115539551, 3.8854458332061768, 1.1317194700241089, 3.764718770980835, 1.8515703678131104, 2.90556263923645, 3.831730365753174, 2.205446720123291, 3.4153547286987305, 1.2148057222366333, 3.375962495803833, 3.4250638484954834, 0.8966414332389832, 2.8733317852020264, 3.5126631259918213, 3.3666601181030273, 3.5633468627929688, 2.8951516151428223, 3.889169216156006, 1.8250001668930054, 3.953873872756958, 1.8416022062301636, 2.147552013397217, 3.813150405883789, 2.3627190589904785, 2.8609957695007324, 2.3526439666748047, 0.9873346090316772, 3.095226287841797, 1.8218449354171753, 3.1986770629882812, 3.129660129547119, 0.8433271050453186, 3.914327383041382, 2.8944926261901855, 3.1219050884246826, 2.328674077987671, 2.459909677505493, 1.5808826684951782, 3.211210250854492, 2.0010623931884766, 3.235600471496582, 1.9010546207427979, 3.519094705581665, 3.0644948482513428, 2.4526288509368896, 1.7731643915176392, 1.3727917671203613, 1.7365355491638184, 2.6679868698120117, 3.676407814025879, 1.1013126373291016, 3.784419298171997, 1.6075589656829834, 3.811122417449951, 1.1926233768463135, 0.5745063424110413], \"z\": [4.28883695602417, 3.8506903648376465, 4.851293563842773, 4.8569512367248535, 4.0143818855285645, 5.376734256744385, -0.8191717863082886, 3.3712351322174072, 6.7194976806640625, 4.8432087898254395, 5.733497142791748, 2.0998454093933105, 3.2052786350250244, 5.107595443725586, 4.3788652420043945, 4.486859321594238, 0.32023847103118896, 4.406254768371582, 5.71113920211792, -0.821147084236145, 5.4662251472473145, 2.9110419750213623, 2.8787431716918945, 5.481818199157715, 4.308049201965332, -0.25465521216392517, 4.52199125289917, 1.6071604490280151, 4.726954936981201, 4.290201187133789, 0.3125081956386566, 4.077916622161865, 5.086643695831299, 5.771254062652588, 4.916059494018555, 5.623149394989014, 5.6780781745910645, -1.0643222332000732, 2.5857818126678467, 0.42551013827323914, 0.32086601853370667, 4.435964107513428, 5.209287166595459, 0.48513922095298767, 0.5756746530532837, 4.225444316864014, 4.67440128326416, 3.927503824234009, 6.152691841125488, 4.629669189453125, 4.649328231811523, 1.1405490636825562, 5.273840427398682, 4.9785475730896, 6.411452770233154, 4.579384803771973, 4.708288192749023, 4.809198379516602, -0.601721465587616, -1.4361580610275269, 5.605966567993164, 5.169825077056885, 1.183333396911621, 4.689050674438477, 3.871912956237793, 5.717999458312988, 5.119614124298096, 1.4314675331115723, 5.633001804351807, 3.370129346847534, -0.5641767978668213, 0.9346461296081543, 7.106536388397217, 4.8993706703186035, 0.935964822769165, 4.578172206878662, 5.302661418914795, 0.6722762584686279, 5.655059814453125, 0.9718862175941467, -0.05177287384867668, 4.701891899108887, 0.2889578640460968, 4.540594100952148, 5.841222286224365, 4.6731743812561035, 4.721563816070557, 3.467327833175659, 4.932878494262695, 6.7979302406311035, 5.472050189971924, 5.548291206359863, 1.8696178197860718, 0.4773777723312378, 5.644506931304932, 0.013026556000113487, 5.022507667541504, 5.116887092590332, 4.739922523498535, 0.019504396244883537, 6.235393524169922, 0.539763867855072, 4.843714237213135, 2.9328970909118652, 4.486098289489746, 4.857052803039551, 0.6795395016670227, 0.6057498455047607, 5.320806503295898, 4.297226428985596, 5.508398532867432, 5.000332832336426, 2.094076156616211, 0.8908188939094543, 5.283862113952637, 5.240571022033691, 2.7864739894866943, 1.5485401153564453, 1.8715827465057373, 4.509365081787109, 0.5655983686447144, 2.8903415203094482]}],\n",
       "                        {\"height\": 800, \"legend\": {\"tracegroupgap\": 0}, \"scene\": {\"domain\": {\"x\": [0.0, 1.0], \"y\": [0.0, 1.0]}, \"xaxis\": {\"title\": {\"text\": \"0\"}}, \"yaxis\": {\"title\": {\"text\": \"1\"}}, \"zaxis\": {\"title\": {\"text\": \"2\"}}}, \"template\": {\"data\": {\"bar\": [{\"error_x\": {\"color\": \"#2a3f5f\"}, \"error_y\": {\"color\": \"#2a3f5f\"}, \"marker\": {\"line\": {\"color\": \"#E5ECF6\", \"width\": 0.5}}, \"type\": \"bar\"}], \"barpolar\": [{\"marker\": {\"line\": {\"color\": \"#E5ECF6\", \"width\": 0.5}}, \"type\": \"barpolar\"}], \"carpet\": [{\"aaxis\": {\"endlinecolor\": \"#2a3f5f\", \"gridcolor\": \"white\", \"linecolor\": \"white\", \"minorgridcolor\": \"white\", \"startlinecolor\": \"#2a3f5f\"}, \"baxis\": {\"endlinecolor\": \"#2a3f5f\", \"gridcolor\": \"white\", \"linecolor\": \"white\", \"minorgridcolor\": \"white\", \"startlinecolor\": \"#2a3f5f\"}, \"type\": \"carpet\"}], \"choropleth\": [{\"colorbar\": {\"outlinewidth\": 0, \"ticks\": \"\"}, \"type\": \"choropleth\"}], \"contour\": [{\"colorbar\": {\"outlinewidth\": 0, \"ticks\": \"\"}, \"colorscale\": [[0.0, \"#0d0887\"], [0.1111111111111111, \"#46039f\"], [0.2222222222222222, \"#7201a8\"], [0.3333333333333333, \"#9c179e\"], [0.4444444444444444, \"#bd3786\"], [0.5555555555555556, \"#d8576b\"], [0.6666666666666666, \"#ed7953\"], [0.7777777777777778, \"#fb9f3a\"], [0.8888888888888888, \"#fdca26\"], [1.0, \"#f0f921\"]], \"type\": \"contour\"}], \"contourcarpet\": [{\"colorbar\": {\"outlinewidth\": 0, \"ticks\": \"\"}, \"type\": \"contourcarpet\"}], \"heatmap\": [{\"colorbar\": {\"outlinewidth\": 0, \"ticks\": \"\"}, \"colorscale\": [[0.0, \"#0d0887\"], [0.1111111111111111, \"#46039f\"], [0.2222222222222222, \"#7201a8\"], [0.3333333333333333, \"#9c179e\"], [0.4444444444444444, \"#bd3786\"], [0.5555555555555556, \"#d8576b\"], [0.6666666666666666, \"#ed7953\"], [0.7777777777777778, \"#fb9f3a\"], [0.8888888888888888, \"#fdca26\"], [1.0, \"#f0f921\"]], \"type\": \"heatmap\"}], \"heatmapgl\": [{\"colorbar\": {\"outlinewidth\": 0, \"ticks\": \"\"}, \"colorscale\": [[0.0, \"#0d0887\"], [0.1111111111111111, \"#46039f\"], [0.2222222222222222, \"#7201a8\"], [0.3333333333333333, \"#9c179e\"], [0.4444444444444444, \"#bd3786\"], [0.5555555555555556, \"#d8576b\"], [0.6666666666666666, \"#ed7953\"], [0.7777777777777778, \"#fb9f3a\"], [0.8888888888888888, \"#fdca26\"], [1.0, \"#f0f921\"]], \"type\": \"heatmapgl\"}], \"histogram\": [{\"marker\": {\"colorbar\": {\"outlinewidth\": 0, \"ticks\": \"\"}}, \"type\": \"histogram\"}], \"histogram2d\": [{\"colorbar\": {\"outlinewidth\": 0, \"ticks\": \"\"}, \"colorscale\": [[0.0, \"#0d0887\"], [0.1111111111111111, \"#46039f\"], [0.2222222222222222, \"#7201a8\"], [0.3333333333333333, \"#9c179e\"], [0.4444444444444444, \"#bd3786\"], [0.5555555555555556, \"#d8576b\"], [0.6666666666666666, \"#ed7953\"], [0.7777777777777778, \"#fb9f3a\"], [0.8888888888888888, \"#fdca26\"], [1.0, \"#f0f921\"]], \"type\": \"histogram2d\"}], \"histogram2dcontour\": [{\"colorbar\": {\"outlinewidth\": 0, \"ticks\": \"\"}, \"colorscale\": [[0.0, \"#0d0887\"], [0.1111111111111111, \"#46039f\"], [0.2222222222222222, \"#7201a8\"], [0.3333333333333333, \"#9c179e\"], [0.4444444444444444, \"#bd3786\"], [0.5555555555555556, \"#d8576b\"], [0.6666666666666666, \"#ed7953\"], [0.7777777777777778, \"#fb9f3a\"], [0.8888888888888888, \"#fdca26\"], [1.0, \"#f0f921\"]], \"type\": \"histogram2dcontour\"}], \"mesh3d\": [{\"colorbar\": {\"outlinewidth\": 0, \"ticks\": \"\"}, \"type\": \"mesh3d\"}], \"parcoords\": [{\"line\": {\"colorbar\": {\"outlinewidth\": 0, \"ticks\": \"\"}}, \"type\": \"parcoords\"}], \"pie\": [{\"automargin\": true, \"type\": \"pie\"}], \"scatter\": [{\"marker\": {\"colorbar\": {\"outlinewidth\": 0, \"ticks\": \"\"}}, \"type\": \"scatter\"}], \"scatter3d\": [{\"line\": {\"colorbar\": {\"outlinewidth\": 0, \"ticks\": \"\"}}, \"marker\": {\"colorbar\": {\"outlinewidth\": 0, \"ticks\": \"\"}}, \"type\": \"scatter3d\"}], \"scattercarpet\": [{\"marker\": {\"colorbar\": {\"outlinewidth\": 0, \"ticks\": \"\"}}, \"type\": \"scattercarpet\"}], \"scattergeo\": [{\"marker\": {\"colorbar\": {\"outlinewidth\": 0, \"ticks\": \"\"}}, \"type\": \"scattergeo\"}], \"scattergl\": [{\"marker\": {\"colorbar\": {\"outlinewidth\": 0, \"ticks\": \"\"}}, \"type\": \"scattergl\"}], \"scattermapbox\": [{\"marker\": {\"colorbar\": {\"outlinewidth\": 0, \"ticks\": \"\"}}, \"type\": \"scattermapbox\"}], \"scatterpolar\": [{\"marker\": {\"colorbar\": {\"outlinewidth\": 0, \"ticks\": \"\"}}, \"type\": \"scatterpolar\"}], \"scatterpolargl\": [{\"marker\": {\"colorbar\": {\"outlinewidth\": 0, \"ticks\": \"\"}}, \"type\": \"scatterpolargl\"}], \"scatterternary\": [{\"marker\": {\"colorbar\": {\"outlinewidth\": 0, \"ticks\": \"\"}}, \"type\": \"scatterternary\"}], \"surface\": [{\"colorbar\": {\"outlinewidth\": 0, \"ticks\": \"\"}, \"colorscale\": [[0.0, \"#0d0887\"], [0.1111111111111111, \"#46039f\"], [0.2222222222222222, \"#7201a8\"], [0.3333333333333333, \"#9c179e\"], [0.4444444444444444, \"#bd3786\"], [0.5555555555555556, \"#d8576b\"], [0.6666666666666666, \"#ed7953\"], [0.7777777777777778, \"#fb9f3a\"], [0.8888888888888888, \"#fdca26\"], [1.0, \"#f0f921\"]], \"type\": \"surface\"}], \"table\": [{\"cells\": {\"fill\": {\"color\": \"#EBF0F8\"}, \"line\": {\"color\": \"white\"}}, \"header\": {\"fill\": {\"color\": \"#C8D4E3\"}, \"line\": {\"color\": \"white\"}}, \"type\": \"table\"}]}, \"layout\": {\"annotationdefaults\": {\"arrowcolor\": \"#2a3f5f\", \"arrowhead\": 0, \"arrowwidth\": 1}, \"coloraxis\": {\"colorbar\": {\"outlinewidth\": 0, \"ticks\": \"\"}}, \"colorscale\": {\"diverging\": [[0, \"#8e0152\"], [0.1, \"#c51b7d\"], [0.2, \"#de77ae\"], [0.3, \"#f1b6da\"], [0.4, \"#fde0ef\"], [0.5, \"#f7f7f7\"], [0.6, \"#e6f5d0\"], [0.7, \"#b8e186\"], [0.8, \"#7fbc41\"], [0.9, \"#4d9221\"], [1, \"#276419\"]], \"sequential\": [[0.0, \"#0d0887\"], [0.1111111111111111, \"#46039f\"], [0.2222222222222222, \"#7201a8\"], [0.3333333333333333, \"#9c179e\"], [0.4444444444444444, \"#bd3786\"], [0.5555555555555556, \"#d8576b\"], [0.6666666666666666, \"#ed7953\"], [0.7777777777777778, \"#fb9f3a\"], [0.8888888888888888, \"#fdca26\"], [1.0, \"#f0f921\"]], \"sequentialminus\": [[0.0, \"#0d0887\"], [0.1111111111111111, \"#46039f\"], [0.2222222222222222, \"#7201a8\"], [0.3333333333333333, \"#9c179e\"], [0.4444444444444444, \"#bd3786\"], [0.5555555555555556, \"#d8576b\"], [0.6666666666666666, \"#ed7953\"], [0.7777777777777778, \"#fb9f3a\"], [0.8888888888888888, \"#fdca26\"], [1.0, \"#f0f921\"]]}, \"colorway\": [\"#636efa\", \"#EF553B\", \"#00cc96\", \"#ab63fa\", \"#FFA15A\", \"#19d3f3\", \"#FF6692\", \"#B6E880\", \"#FF97FF\", \"#FECB52\"], \"font\": {\"color\": \"#2a3f5f\"}, \"geo\": {\"bgcolor\": \"white\", \"lakecolor\": \"white\", \"landcolor\": \"#E5ECF6\", \"showlakes\": true, \"showland\": true, \"subunitcolor\": \"white\"}, \"hoverlabel\": {\"align\": \"left\"}, \"hovermode\": \"closest\", \"mapbox\": {\"style\": \"light\"}, \"paper_bgcolor\": \"white\", \"plot_bgcolor\": \"#E5ECF6\", \"polar\": {\"angularaxis\": {\"gridcolor\": \"white\", \"linecolor\": \"white\", \"ticks\": \"\"}, \"bgcolor\": \"#E5ECF6\", \"radialaxis\": {\"gridcolor\": \"white\", \"linecolor\": \"white\", \"ticks\": \"\"}}, \"scene\": {\"xaxis\": {\"backgroundcolor\": \"#E5ECF6\", \"gridcolor\": \"white\", \"gridwidth\": 2, \"linecolor\": \"white\", \"showbackground\": true, \"ticks\": \"\", \"zerolinecolor\": \"white\"}, \"yaxis\": {\"backgroundcolor\": \"#E5ECF6\", \"gridcolor\": \"white\", \"gridwidth\": 2, \"linecolor\": \"white\", \"showbackground\": true, \"ticks\": \"\", \"zerolinecolor\": \"white\"}, \"zaxis\": {\"backgroundcolor\": \"#E5ECF6\", \"gridcolor\": \"white\", \"gridwidth\": 2, \"linecolor\": \"white\", \"showbackground\": true, \"ticks\": \"\", \"zerolinecolor\": \"white\"}}, \"shapedefaults\": {\"line\": {\"color\": \"#2a3f5f\"}}, \"ternary\": {\"aaxis\": {\"gridcolor\": \"white\", \"linecolor\": \"white\", \"ticks\": \"\"}, \"baxis\": {\"gridcolor\": \"white\", \"linecolor\": \"white\", \"ticks\": \"\"}, \"bgcolor\": \"#E5ECF6\", \"caxis\": {\"gridcolor\": \"white\", \"linecolor\": \"white\", \"ticks\": \"\"}}, \"title\": {\"x\": 0.05}, \"xaxis\": {\"automargin\": true, \"gridcolor\": \"white\", \"linecolor\": \"white\", \"ticks\": \"\", \"title\": {\"standoff\": 15}, \"zerolinecolor\": \"white\", \"zerolinewidth\": 2}, \"yaxis\": {\"automargin\": true, \"gridcolor\": \"white\", \"linecolor\": \"white\", \"ticks\": \"\", \"title\": {\"standoff\": 15}, \"zerolinecolor\": \"white\", \"zerolinewidth\": 2}}}, \"title\": {\"text\": \"3d TSNE Plot for Topic Model\"}, \"width\": 900},\n",
       "                        {\"responsive\": true}\n",
       "                    ).then(function(){\n",
       "                            \n",
       "var gd = document.getElementById('55015ab3-9b67-4b9e-929e-962adf8742a2');\n",
       "var x = new MutationObserver(function (mutations, observer) {{\n",
       "        var display = window.getComputedStyle(gd).display;\n",
       "        if (!display || display === 'none') {{\n",
       "            console.log([gd, 'removed!']);\n",
       "            Plotly.purge(gd);\n",
       "            observer.disconnect();\n",
       "        }}\n",
       "}});\n",
       "\n",
       "// Listen for the removal of the full notebook cells\n",
       "var notebookContainer = gd.closest('#notebook-container');\n",
       "if (notebookContainer) {{\n",
       "    x.observe(notebookContainer, {childList: true});\n",
       "}}\n",
       "\n",
       "// Listen for the clearing of the current output cell\n",
       "var outputEl = gd.closest('.output');\n",
       "if (outputEl) {{\n",
       "    x.observe(outputEl, {childList: true});\n",
       "}}\n",
       "\n",
       "                        })\n",
       "                };\n",
       "                });\n",
       "            </script>\n",
       "        </div>"
      ]
     },
     "metadata": {},
     "output_type": "display_data"
    }
   ],
   "source": [
    "plot_model(nmf, plot = 'tsne')"
   ]
  },
  {
   "cell_type": "code",
   "execution_count": 20,
   "metadata": {},
   "outputs": [
    {
     "data": {
      "application/vnd.jupyter.widget-view+json": {
       "model_id": "12518d4a34bc4915a04ba968caa99b56",
       "version_major": 2,
       "version_minor": 0
      },
      "text/plain": [
       "interactive(children=(ToggleButtons(description='Plot Type:', icons=('',), options=(('Frequency Plot', 'freque…"
      ]
     },
     "metadata": {},
     "output_type": "display_data"
    }
   ],
   "source": [
    "evaluate_model(lda)"
   ]
  },
  {
   "cell_type": "markdown",
   "metadata": {},
   "source": [
    "# 5. Assign Labels / Predict on new data"
   ]
  },
  {
   "cell_type": "code",
   "execution_count": 16,
   "metadata": {},
   "outputs": [
    {
     "data": {
      "text/html": [
       "<div>\n",
       "<style scoped>\n",
       "    .dataframe tbody tr th:only-of-type {\n",
       "        vertical-align: middle;\n",
       "    }\n",
       "\n",
       "    .dataframe tbody tr th {\n",
       "        vertical-align: top;\n",
       "    }\n",
       "\n",
       "    .dataframe thead th {\n",
       "        text-align: right;\n",
       "    }\n",
       "</style>\n",
       "<table border=\"1\" class=\"dataframe\">\n",
       "  <thead>\n",
       "    <tr style=\"text-align: right;\">\n",
       "      <th></th>\n",
       "      <th>country</th>\n",
       "      <th>en</th>\n",
       "      <th>gender</th>\n",
       "      <th>loan_amount</th>\n",
       "      <th>nonpayment</th>\n",
       "      <th>sector</th>\n",
       "      <th>status</th>\n",
       "      <th>Topic_0</th>\n",
       "      <th>Topic_1</th>\n",
       "      <th>Topic_2</th>\n",
       "      <th>Topic_3</th>\n",
       "      <th>Dominant_Topic</th>\n",
       "      <th>Perc_Dominant_Topic</th>\n",
       "    </tr>\n",
       "  </thead>\n",
       "  <tbody>\n",
       "    <tr>\n",
       "      <th>0</th>\n",
       "      <td>Dominican Republic</td>\n",
       "      <td>woman look receive small loan take small loan ...</td>\n",
       "      <td>F</td>\n",
       "      <td>1225</td>\n",
       "      <td>partner</td>\n",
       "      <td>Retail</td>\n",
       "      <td>0</td>\n",
       "      <td>0.843724</td>\n",
       "      <td>0.073455</td>\n",
       "      <td>0.079065</td>\n",
       "      <td>0.003756</td>\n",
       "      <td>Topic 0</td>\n",
       "      <td>0.84</td>\n",
       "    </tr>\n",
       "    <tr>\n",
       "      <th>1</th>\n",
       "      <td>Dominican Republic</td>\n",
       "      <td>walk forward group entrepreneur seek second lo...</td>\n",
       "      <td>F</td>\n",
       "      <td>1975</td>\n",
       "      <td>lender</td>\n",
       "      <td>Clothing</td>\n",
       "      <td>0</td>\n",
       "      <td>0.675055</td>\n",
       "      <td>0.305783</td>\n",
       "      <td>0.016016</td>\n",
       "      <td>0.003147</td>\n",
       "      <td>Topic 0</td>\n",
       "      <td>0.68</td>\n",
       "    </tr>\n",
       "    <tr>\n",
       "      <th>2</th>\n",
       "      <td>Dominican Republic</td>\n",
       "      <td>group people hope start business group look re...</td>\n",
       "      <td>F</td>\n",
       "      <td>2175</td>\n",
       "      <td>partner</td>\n",
       "      <td>Clothing</td>\n",
       "      <td>0</td>\n",
       "      <td>0.948105</td>\n",
       "      <td>0.045713</td>\n",
       "      <td>0.001655</td>\n",
       "      <td>0.004527</td>\n",
       "      <td>Topic 0</td>\n",
       "      <td>0.95</td>\n",
       "    </tr>\n",
       "    <tr>\n",
       "      <th>3</th>\n",
       "      <td>Dominican Republic</td>\n",
       "      <td>live group woman look receive first loan young...</td>\n",
       "      <td>F</td>\n",
       "      <td>1425</td>\n",
       "      <td>partner</td>\n",
       "      <td>Clothing</td>\n",
       "      <td>0</td>\n",
       "      <td>0.949889</td>\n",
       "      <td>0.045305</td>\n",
       "      <td>0.001286</td>\n",
       "      <td>0.003519</td>\n",
       "      <td>Topic 0</td>\n",
       "      <td>0.95</td>\n",
       "    </tr>\n",
       "    <tr>\n",
       "      <th>4</th>\n",
       "      <td>Dominican Republic</td>\n",
       "      <td>vive large group people hope take loan many se...</td>\n",
       "      <td>F</td>\n",
       "      <td>4025</td>\n",
       "      <td>partner</td>\n",
       "      <td>Food</td>\n",
       "      <td>0</td>\n",
       "      <td>0.920751</td>\n",
       "      <td>0.074402</td>\n",
       "      <td>0.001286</td>\n",
       "      <td>0.003560</td>\n",
       "      <td>Topic 0</td>\n",
       "      <td>0.92</td>\n",
       "    </tr>\n",
       "  </tbody>\n",
       "</table>\n",
       "</div>"
      ],
      "text/plain": [
       "              country                                                 en  \\\n",
       "0  Dominican Republic  woman look receive small loan take small loan ...   \n",
       "1  Dominican Republic  walk forward group entrepreneur seek second lo...   \n",
       "2  Dominican Republic  group people hope start business group look re...   \n",
       "3  Dominican Republic  live group woman look receive first loan young...   \n",
       "4  Dominican Republic  vive large group people hope take loan many se...   \n",
       "\n",
       "  gender  loan_amount nonpayment    sector  status   Topic_0   Topic_1  \\\n",
       "0      F         1225    partner    Retail       0  0.843724  0.073455   \n",
       "1      F         1975     lender  Clothing       0  0.675055  0.305783   \n",
       "2      F         2175    partner  Clothing       0  0.948105  0.045713   \n",
       "3      F         1425    partner  Clothing       0  0.949889  0.045305   \n",
       "4      F         4025    partner      Food       0  0.920751  0.074402   \n",
       "\n",
       "    Topic_2   Topic_3 Dominant_Topic  Perc_Dominant_Topic  \n",
       "0  0.079065  0.003756        Topic 0                 0.84  \n",
       "1  0.016016  0.003147        Topic 0                 0.68  \n",
       "2  0.001655  0.004527        Topic 0                 0.95  \n",
       "3  0.001286  0.003519        Topic 0                 0.95  \n",
       "4  0.001286  0.003560        Topic 0                 0.92  "
      ]
     },
     "execution_count": 16,
     "metadata": {},
     "output_type": "execute_result"
    }
   ],
   "source": [
    "results = assign_model(lda)\n",
    "results.head()"
   ]
  },
  {
   "cell_type": "markdown",
   "metadata": {},
   "source": [
    "# Learning Resources:\n",
    "- PyCaret NLP Module : https://www.pycaret.org/nlp\n",
    "- NLP Tutorial (Level Beginner) : https://www.pycaret.org/nlp101\n",
    "- NLP Tutorial (Level Intermediate) : https://www.pycaret.org/nlp102\n",
    "- Topic Modeling in PyCaret (Video Tutorial) : https://www.youtube.com/watch?v=G6ShuoM3T1M"
   ]
  }
 ],
 "metadata": {
  "kernelspec": {
   "display_name": "Python 3",
   "language": "python",
   "name": "python3"
  },
  "language_info": {
   "codemirror_mode": {
    "name": "ipython",
    "version": 3
   },
   "file_extension": ".py",
   "mimetype": "text/x-python",
   "name": "python",
   "nbconvert_exporter": "python",
   "pygments_lexer": "ipython3",
   "version": "3.7.4"
  }
 },
 "nbformat": 4,
 "nbformat_minor": 2
}
