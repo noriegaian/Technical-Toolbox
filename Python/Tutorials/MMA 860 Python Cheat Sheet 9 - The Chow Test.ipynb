{
 "cells": [
  {
   "cell_type": "markdown",
   "metadata": {},
   "source": [
    "Chow tests are not a different form of test so much as a method of implementing a test that allows one to understand if:\n",
    " - Structural change has taken place over time.\n",
    " - Differences exist between subgroups within a population.\n",
    " \n",
    "For example, one could test whether the effectiveness of advertising budgets have changed over time or if US and Canadian markets behave the differently.\n",
    "\n",
    "If it turns out that two data sets behave the same, it is normally better to combine the observations to estimate one set of parameters.  If they do not, then you typically need to allow for two or more sets of relationships.  Finally, once you understand the basics of running a chow test manually, you could do a modified version where only a subset of relationships are suspected to have changed.\n",
    "\n",
    "Chow tests involve testing multiple variables simultaneously and often require the generation of new dummy and compound variables (i.e. dummy times continuous like the ever popular Male_Ad_Budget example) to implement manually.  \n"
   ]
  },
  {
   "cell_type": "markdown",
   "metadata": {},
   "source": [
    "# Task"
   ]
  },
  {
   "cell_type": "markdown",
   "metadata": {},
   "source": [
    "In this case we will use data in the workbook *Cheat_Sheet_Chow_Test_V1_0*.  We will interpret the observation as capturing the week when the observation was recorded and we will determine whether the relationship between $y$ and $x_1$, $x_2$, and $x_3$ has changed at week 50 in the model:\n",
    "\n",
    "$$y = B_0 + B_1 x_1 + B_2 x_2+ B_3 x_3$$"
   ]
  },
  {
   "cell_type": "markdown",
   "metadata": {},
   "source": [
    "## Import the data into Pandas\n",
    "\n",
    "The data can be found in the *Structural_Change_Data* or *Modified_Structural_Change_Data* tab in the *Cheat_Sheet_Chow_Test_V1_0*.  If you use the *Modified_ Structural_Change_Data* you will not need to use queries to do recoding as is shown in step 3 below.  You should learn to do the queries yourself, as the exam may not be as kind. "
   ]
  },
  {
   "cell_type": "code",
   "execution_count": null,
   "metadata": {},
   "outputs": [],
   "source": [
    "import pandas as pd\n",
    "import os.path as osp\n",
    "\n",
    "data_path = osp.join(\n",
    "    osp.curdir,'Data','Cheat_Sheet_Chow_Test_V1_0.xlsx')\n",
    "\n",
    "data = pd.read_excel(\n",
    "    data_path,sheet_name='Structural_Change_Data')\n",
    "data.head()"
   ]
  },
  {
   "cell_type": "markdown",
   "metadata": {},
   "source": [
    "## Run the Regression\n",
    "Perform a quick assessment of the results.  Does anything stand out as unusual?"
   ]
  },
  {
   "cell_type": "code",
   "execution_count": null,
   "metadata": {},
   "outputs": [],
   "source": [
    "from statsmodels.formula.api import ols\n",
    "model = ols('Y ~ X1 + X2 + X3',data).fit()\n",
    "model.summary()"
   ]
  },
  {
   "cell_type": "code",
   "execution_count": null,
   "metadata": {},
   "outputs": [],
   "source": [
    "initial_hypothesis = ('X1=0,X2=0,X3=0')\n",
    "model.wald_test(initial_hypothesis)"
   ]
  },
  {
   "cell_type": "markdown",
   "metadata": {},
   "source": [
    "## Write a query\n",
    "Create variants of X1..X3 called C1..C3 that are 0 for obs less than or equal to 50 and their respective values for obs 51 and beyond.  You will have to create a C0 variable that is 0 for observations 1 through 50 and 1 for the rest using similar logic. To do this you can use the Numpy *where* function. You will do this for each of C1 through C3.  \n"
   ]
  },
  {
   "cell_type": "code",
   "execution_count": null,
   "metadata": {},
   "outputs": [],
   "source": [
    "import numpy as np\n",
    "\n",
    "'''\n",
    "We use the where function to set values in C0 as 0 where 'Obs' is less than\n",
    "or equal to 50 and 1 otherwise.\n",
    "'''\n",
    "data['C0'] = np.where(data['Obs'] <= 50, 0, 1)\n",
    "\n",
    "'''\n",
    "Here we accomplish the same thing for C1...C3. The for loop allows us to\n",
    "bypass writing the same function 3 times. This doesn't save much work here\n",
    "but would in cases where you have a large amount of parameters.\n",
    "'''\n",
    "for i in range (1,4):\n",
    "    data['C' + str(i)] = np.where(data['Obs'] <= 50, 0, data['X' + str(i)])\n",
    "data.head()"
   ]
  },
  {
   "cell_type": "code",
   "execution_count": null,
   "metadata": {},
   "outputs": [],
   "source": [
    "#Note the transition here where Obs is 51\n",
    "data[47:53]"
   ]
  },
  {
   "cell_type": "code",
   "execution_count": null,
   "metadata": {},
   "outputs": [],
   "source": [
    "data.tail()"
   ]
  },
  {
   "cell_type": "markdown",
   "metadata": {},
   "source": [
    "## Running the Regression on the Query"
   ]
  },
  {
   "cell_type": "code",
   "execution_count": null,
   "metadata": {},
   "outputs": [],
   "source": [
    "#Running a regression using all parameters\n",
    "new_model = ols('Y ~ X1 + X2 + X3 + C0 + C1 + C2 + C3',data).fit()\n",
    "new_model.summary()"
   ]
  },
  {
   "cell_type": "markdown",
   "metadata": {},
   "source": [
    "# Performing a Hypothesis Test"
   ]
  },
  {
   "cell_type": "code",
   "execution_count": null,
   "metadata": {},
   "outputs": [],
   "source": [
    "#Now run the chow test which is just a specific joint hypothesis test!\n",
    "hypothesis = '(C0=0,C1=0,C2=0,C3=0)'\n",
    "new_model.wald_test(hypothesis)"
   ]
  },
  {
   "cell_type": "markdown",
   "metadata": {},
   "source": [
    "Your output should contain the null hypothesis, the unrestricted model, and the statistics we care about.  The P-value should be very low.  \n",
    " - What does this mean?  \n",
    " - How does this compare with the individual t-test results?\n"
   ]
  }
 ],
 "metadata": {
  "kernelspec": {
   "display_name": "Python 3",
   "language": "python",
   "name": "python3"
  },
  "language_info": {
   "codemirror_mode": {
    "name": "ipython",
    "version": 3
   },
   "file_extension": ".py",
   "mimetype": "text/x-python",
   "name": "python",
   "nbconvert_exporter": "python",
   "pygments_lexer": "ipython3",
   "version": "3.7.4"
  }
 },
 "nbformat": 4,
 "nbformat_minor": 2
}
