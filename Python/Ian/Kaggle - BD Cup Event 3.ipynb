{
 "cells": [
  {
   "cell_type": "code",
   "execution_count": 429,
   "metadata": {},
   "outputs": [],
   "source": [
    "#import necessary libraries\n",
    "import numpy as np\n",
    "import pandas as pd\n",
    "import matplotlib.pyplot as plt\n",
    "import seaborn as sns\n",
    "%matplotlib inline"
   ]
  },
  {
   "cell_type": "code",
   "execution_count": 430,
   "metadata": {},
   "outputs": [
    {
     "name": "stdout",
     "output_type": "stream",
     "text": [
      "The scikit-learn version is 0.23.1.\n"
     ]
    }
   ],
   "source": [
    "import sklearn\n",
    "print('The scikit-learn version is {}.'.format(sklearn.__version__))"
   ]
  },
  {
   "cell_type": "code",
   "execution_count": 431,
   "metadata": {},
   "outputs": [
    {
     "data": {
      "text/plain": [
       "\"C:\\\\Users\\\\ianno\\\\Documents\\\\Queen's MMA\\\\MMA 865\\\\Lecture 6\""
      ]
     },
     "execution_count": 431,
     "metadata": {},
     "output_type": "execute_result"
    }
   ],
   "source": [
    "import os\n",
    "os.getcwd()"
   ]
  },
  {
   "cell_type": "markdown",
   "metadata": {},
   "source": [
    "## Data Import"
   ]
  },
  {
   "cell_type": "code",
   "execution_count": 432,
   "metadata": {},
   "outputs": [],
   "source": [
    "df = pd.read_csv(\"spamraw_train.csv\")"
   ]
  },
  {
   "cell_type": "code",
   "execution_count": 433,
   "metadata": {},
   "outputs": [
    {
     "name": "stdout",
     "output_type": "stream",
     "text": [
      "<class 'pandas.core.frame.DataFrame'>\n",
      "RangeIndex: 5000 entries, 0 to 4999\n",
      "Data columns (total 3 columns):\n",
      "id          5000 non-null int64\n",
      "sms_text    5000 non-null object\n",
      "spam        5000 non-null int64\n",
      "dtypes: int64(2), object(1)\n",
      "memory usage: 117.3+ KB\n"
     ]
    },
    {
     "data": {
      "text/html": [
       "<div>\n",
       "<style scoped>\n",
       "    .dataframe tbody tr th:only-of-type {\n",
       "        vertical-align: middle;\n",
       "    }\n",
       "\n",
       "    .dataframe tbody tr th {\n",
       "        vertical-align: top;\n",
       "    }\n",
       "\n",
       "    .dataframe thead th {\n",
       "        text-align: right;\n",
       "    }\n",
       "</style>\n",
       "<table border=\"1\" class=\"dataframe\">\n",
       "  <thead>\n",
       "    <tr style=\"text-align: right;\">\n",
       "      <th></th>\n",
       "      <th>id</th>\n",
       "      <th>sms_text</th>\n",
       "      <th>spam</th>\n",
       "    </tr>\n",
       "  </thead>\n",
       "  <tbody>\n",
       "    <tr>\n",
       "      <td>0</td>\n",
       "      <td>1</td>\n",
       "      <td>Hope you are having a good week. Just checking in</td>\n",
       "      <td>0</td>\n",
       "    </tr>\n",
       "    <tr>\n",
       "      <td>1</td>\n",
       "      <td>2</td>\n",
       "      <td>K..give back my thanks.</td>\n",
       "      <td>0</td>\n",
       "    </tr>\n",
       "    <tr>\n",
       "      <td>2</td>\n",
       "      <td>3</td>\n",
       "      <td>Am also doing in cbe only. But have to pay.</td>\n",
       "      <td>0</td>\n",
       "    </tr>\n",
       "    <tr>\n",
       "      <td>3</td>\n",
       "      <td>4</td>\n",
       "      <td>complimentary 4 STAR Ibiza Holiday or £10,000 ...</td>\n",
       "      <td>1</td>\n",
       "    </tr>\n",
       "    <tr>\n",
       "      <td>4</td>\n",
       "      <td>5</td>\n",
       "      <td>okmail: Dear Dave this is your final notice to...</td>\n",
       "      <td>1</td>\n",
       "    </tr>\n",
       "  </tbody>\n",
       "</table>\n",
       "</div>"
      ],
      "text/plain": [
       "   id                                           sms_text  spam\n",
       "0   1  Hope you are having a good week. Just checking in     0\n",
       "1   2                            K..give back my thanks.     0\n",
       "2   3        Am also doing in cbe only. But have to pay.     0\n",
       "3   4  complimentary 4 STAR Ibiza Holiday or £10,000 ...     1\n",
       "4   5  okmail: Dear Dave this is your final notice to...     1"
      ]
     },
     "execution_count": 433,
     "metadata": {},
     "output_type": "execute_result"
    }
   ],
   "source": [
    "#preview the training data\n",
    "df.info()\n",
    "df.head()\n",
    "#observations: 5000 rows, only 3 columns (big one is sms_text)"
   ]
  },
  {
   "cell_type": "markdown",
   "metadata": {},
   "source": [
    "## EDA"
   ]
  },
  {
   "cell_type": "code",
   "execution_count": 434,
   "metadata": {},
   "outputs": [
    {
     "data": {
      "text/plain": [
       "array([4327,  673], dtype=int64)"
      ]
     },
     "execution_count": 434,
     "metadata": {},
     "output_type": "execute_result"
    }
   ],
   "source": [
    "#check out labels\n",
    "np.bincount(df['spam'])\n",
    "#we may want to do some oversampling of our spam class (=1)"
   ]
  },
  {
   "cell_type": "code",
   "execution_count": 435,
   "metadata": {},
   "outputs": [
    {
     "data": {
      "text/plain": [
       "0    0.8654\n",
       "1    0.1346\n",
       "Name: spam, dtype: float64"
      ]
     },
     "execution_count": 435,
     "metadata": {},
     "output_type": "execute_result"
    },
    {
     "data": {
      "image/png": "[encoded data removed]",
      "text/plain": [
       "<Figure size 432x288 with 1 Axes>"
      ]
     },
     "metadata": {
      "needs_background": "light"
     },
     "output_type": "display_data"
    }
   ],
   "source": [
    "sns.countplot(x='spam', data = df)\n",
    "\n",
    "df['spam'].value_counts(normalize=True)\n",
    "\n",
    "#observations: 86% of the labels are ham (certainly have a case of target imbalance here)"
   ]
  },
  {
   "cell_type": "markdown",
   "metadata": {},
   "source": [
    "## Build Pipeline"
   ]
  },
  {
   "cell_type": "code",
   "execution_count": 436,
   "metadata": {},
   "outputs": [],
   "source": [
    "from sklearn.model_selection import train_test_split\n",
    "\n",
    "X = df['sms_text']\n",
    "y = df['spam']\n",
    "\n",
    "X_train, X_test, y_train, y_test = train_test_split(X, y, test_size=0.2, random_state=1024)"
   ]
  },
  {
   "cell_type": "code",
   "execution_count": 437,
   "metadata": {},
   "outputs": [],
   "source": [
    "#key preprocessing: tokenization, removing punctuation, numbers, stop words, etc.\n",
    "\n",
    "#import key text mining packages\n",
    "from nltk.corpus import stopwords\n",
    "from nltk.stem import WordNetLemmatizer\n",
    "from nltk.stem.porter import PorterStemmer\n",
    "from nltk.stem.snowball import SnowballStemmer\n",
    "from nltk.stem.lancaster import LancasterStemmer\n",
    "import re\n",
    "import unidecode"
   ]
  },
  {
   "cell_type": "code",
   "execution_count": 438,
   "metadata": {},
   "outputs": [],
   "source": [
    "#define stopwords (pull from nltk library)\n",
    "stop_words = set(stopwords.words('english'))\n",
    "\n",
    "#define lemmatizer\n",
    "lemmer = WordNetLemmatizer()\n",
    "#stemmer = LancasterStemmer()"
   ]
  },
  {
   "cell_type": "code",
   "execution_count": 439,
   "metadata": {},
   "outputs": [],
   "source": [
    "#define preprocessing function\n",
    "def preprocess(doc):\n",
    "\n",
    "    doc = doc.lower() #lower case everything\n",
    "    \n",
    "    doc = re.sub(r'http\\S+', '', doc) #remove urls\n",
    "    \n",
    "    doc = re.sub(r'$)\n",
    "    \n",
    "    doc = unidecode.unidecode(doc)\n",
    "    \n",
    "    doc = re.sub(r'[^\\w\\s]', '', doc) #remove punctuation\n",
    "    \n",
    "    doc = re.sub(r'\\d+', '', doc) #remove any numbers\n",
    "    \n",
    "    doc = [lemmer.lemmatize(w) for w in doc.split() if w not in stop_words]\n",
    "    #doc = [stemmer.stem(w) for w in doc.split() if w not in stop_words]\n",
    "\n",
    "    return ' '.join(doc)"
   ]
  },
  {
   "cell_type": "code",
   "execution_count": 450,
   "metadata": {},
   "outputs": [],
   "source": [
    "from sklearn.pipeline import Pipeline, FeatureUnion\n",
    "from sklearn.feature_extraction.text import TfidfVectorizer, CountVectorizer, TfidfTransformer\n",
    "from sklearn.preprocessing import FunctionTransformer\n",
    "from textstat import flesch_reading_ease, syllable_count\n",
    "from textblob import TextBlob\n",
    "from sklearn.tree import DecisionTreeClassifier\n",
    "from sklearn.naive_bayes import MultinomialNB\n",
    "from sklearn.ensemble import RandomForestClassifier\n",
    "from sklearn.linear_model import LogisticRegression\n",
    "from sklearn.svm import LinearSVC\n",
    "\n",
    "#define vectorizer\n",
    "vectorizer = CountVectorizer(max_features = 1000, preprocessor=preprocess, ngram_range = [1,3])\n",
    "\n",
    "#feature engineering\n",
    "    #sms length\n",
    "def get_text_length(x):\n",
    "    return np.array([len(x) for t in x]).reshape(-1, 1)\n",
    "\n",
    "#define ml algorithm\n",
    "#dt = DecisionTreeClassifier(random_state = 1024, min_samples_split = 10, min_samples_leaf = 10, max_depth = 6)\n",
    "nb = MultinomialNB()\n",
    "#rf = RandomForestClassifier(random_state = 1024, min_samples_split = 10, min_samples_leaf = 10, max_depth = 20)\n",
    "#lr = LogisticRegression()\n",
    "#svc = LinearSVC()\n",
    "\n",
    "#pipe = Pipeline([('cv', vectorizer), ('clf', nb)])\n",
    "\n",
    "pipe = Pipeline([('features', FeatureUnion([\n",
    "    ('text', Pipeline([\n",
    "        ('vectorizer', vectorizer),\n",
    "    ])),\n",
    "    ('length', Pipeline([\n",
    "        ('count', FunctionTransformer(get_text_length, validate=False)),\n",
    "    ]))\n",
    "])),\n",
    "('clf', nb)])"
   ]
  },
  {
   "cell_type": "code",
   "execution_count": 451,
   "metadata": {},
   "outputs": [
    {
     "data": {
      "text/plain": [
       "Pipeline(steps=[('features',\n",
       "                 FeatureUnion(transformer_list=[('text',\n",
       "                                                 Pipeline(steps=[('vectorizer',\n",
       "                                                                  CountVectorizer(max_features=1000,\n",
       "                                                                                  ngram_range=[1,\n",
       "                                                                                               3],\n",
       "                                                                                  preprocessor=<function preprocess at 0x000001E0C8BFC708>))])),\n",
       "                                                ('length',\n",
       "                                                 Pipeline(steps=[('count',\n",
       "                                                                  FunctionTransformer(func=<function get_text_length at 0x000001E0C89B1A68>))]))])),\n",
       "                ('clf', MultinomialNB())])"
      ]
     },
     "execution_count": 451,
     "metadata": {},
     "output_type": "execute_result"
    }
   ],
   "source": [
    "pipe.fit(X_train, y_train)"
   ]
  },
  {
   "cell_type": "markdown",
   "metadata": {},
   "source": [
    "## Model Evaluation"
   ]
  },
  {
   "cell_type": "code",
   "execution_count": 452,
   "metadata": {},
   "outputs": [],
   "source": [
    "#make predictions on test set\n",
    "pred_val = pipe.predict(X_test)"
   ]
  },
  {
   "cell_type": "code",
   "execution_count": 453,
   "metadata": {},
   "outputs": [
    {
     "name": "stdout",
     "output_type": "stream",
     "text": [
      "[[820  17]\n",
      " [ 10 153]]\n",
      "              precision    recall  f1-score   support\n",
      "\n",
      "           0       0.99      0.98      0.98       837\n",
      "           1       0.90      0.94      0.92       163\n",
      "\n",
      "    accuracy                           0.97      1000\n",
      "   macro avg       0.94      0.96      0.95      1000\n",
      "weighted avg       0.97      0.97      0.97      1000\n",
      "\n",
      "F1 score = 0.95\n"
     ]
    }
   ],
   "source": [
    "from sklearn.metrics import confusion_matrix, classification_report, f1_score\n",
    "\n",
    "print(confusion_matrix(y_test, pred_val))\n",
    "print(classification_report(y_test, pred_val))\n",
    "print(\"F1 score = {:.2f}\".format(f1_score(y_test, pred_val, average='macro')))"
   ]
  },
  {
   "cell_type": "markdown",
   "metadata": {},
   "source": [
    "## Build Submission"
   ]
  },
  {
   "cell_type": "code",
   "execution_count": 305,
   "metadata": {},
   "outputs": [],
   "source": [
    "test_df = pd.read_csv(\"spamraw_test.csv\")"
   ]
  },
  {
   "cell_type": "code",
   "execution_count": 306,
   "metadata": {},
   "outputs": [],
   "source": [
    "pred_test = pipe.predict(test_df['sms_text'])"
   ]
  },
  {
   "cell_type": "code",
   "execution_count": 307,
   "metadata": {},
   "outputs": [
    {
     "data": {
      "text/html": [
       "<div>\n",
       "<style scoped>\n",
       "    .dataframe tbody tr th:only-of-type {\n",
       "        vertical-align: middle;\n",
       "    }\n",
       "\n",
       "    .dataframe tbody tr th {\n",
       "        vertical-align: top;\n",
       "    }\n",
       "\n",
       "    .dataframe thead th {\n",
       "        text-align: right;\n",
       "    }\n",
       "</style>\n",
       "<table border=\"1\" class=\"dataframe\">\n",
       "  <thead>\n",
       "    <tr style=\"text-align: right;\">\n",
       "      <th></th>\n",
       "      <th>id</th>\n",
       "      <th>predicted</th>\n",
       "    </tr>\n",
       "  </thead>\n",
       "  <tbody>\n",
       "    <tr>\n",
       "      <td>0</td>\n",
       "      <td>12000</td>\n",
       "      <td>1</td>\n",
       "    </tr>\n",
       "    <tr>\n",
       "      <td>1</td>\n",
       "      <td>12001</td>\n",
       "      <td>0</td>\n",
       "    </tr>\n",
       "    <tr>\n",
       "      <td>2</td>\n",
       "      <td>12002</td>\n",
       "      <td>0</td>\n",
       "    </tr>\n",
       "    <tr>\n",
       "      <td>3</td>\n",
       "      <td>12003</td>\n",
       "      <td>0</td>\n",
       "    </tr>\n",
       "    <tr>\n",
       "      <td>4</td>\n",
       "      <td>12004</td>\n",
       "      <td>0</td>\n",
       "    </tr>\n",
       "  </tbody>\n",
       "</table>\n",
       "</div>"
      ],
      "text/plain": [
       "      id  predicted\n",
       "0  12000          1\n",
       "1  12001          0\n",
       "2  12002          0\n",
       "3  12003          0\n",
       "4  12004          0"
      ]
     },
     "execution_count": 307,
     "metadata": {},
     "output_type": "execute_result"
    }
   ],
   "source": [
    "my_submission = pd.DataFrame({'id': test_df.id, 'predicted': pred_test})\n",
    "my_submission.head()"
   ]
  },
  {
   "cell_type": "code",
   "execution_count": 308,
   "metadata": {},
   "outputs": [],
   "source": [
    "#export to csv\n",
    "my_submission.to_csv('predictions16.csv', index=False)"
   ]
  }
 ],
 "metadata": {
  "kernelspec": {
   "display_name": "Python 3",
   "language": "python",
   "name": "python3"
  },
  "language_info": {
   "codemirror_mode": {
    "name": "ipython",
    "version": 3
   },
   "file_extension": ".py",
   "mimetype": "text/x-python",
   "name": "python",
   "nbconvert_exporter": "python",
   "pygments_lexer": "ipython3",
   "version": "3.7.4"
  }
 },
 "nbformat": 4,
 "nbformat_minor": 2
}
