{
 "cells": [
  {
   "cell_type": "code",
   "execution_count": 7,
   "metadata": {},
   "outputs": [],
   "source": [
    "import numpy as np\n",
    "import pandas as pd\n",
    "import seaborn as sns\n",
    "import matplotlib.pyplot as plt\n",
    "import scipy.stats as stats\n",
    "import statsmodels.stats.api as sms\n",
    "from math import ceil"
   ]
  },
  {
   "cell_type": "markdown",
   "metadata": {},
   "source": [
    "**Reference**: https://towardsdatascience.com/ab-testing-with-python-e5964dd66143\n",
    "\n",
    "**Data**: Data contains results of an A/B test on what seems to be 2 different designs of a website page (old_page vs new_page).\n",
    "https://www.kaggle.com/zhangluyuan/ab-testing?select=ab_data.csv\n",
    "\n",
    "**General Steps to tackle A/B Testing** (see OneNote Studying Cheat Sheet):\n",
    "- Define a success metric\n",
    "- State the hypothesis (i.e., `Ho` = no difference b/w control and treatment vs `Ha` = difference)\n",
    "- Define the statistic parameters (e.g., alpha, power, MDE)\n",
    "- Randomization unit (i.e., splitting groups)\n",
    "- Determine the sample size\n",
    "- Estimate the experimentation time\n",
    "- Perform test for statistical significance (i.e., pairwise t-test to compare two sample means)\n",
    "- Make final business decision to launch the new feature or not\n",
    "\n",
    "**Scenario Background**: You work on the product team at a medium-sized online ECOMM business. The UX designer worked really hard on a new version of the product page, with the hope that it will lead to a higher conversion rate. The PM told you that the current conversion rate is about 13% on average throughout the year, and that the team would be happy with an increase of 2%. In other words, the new design will be considered a success if it raises the conversion rate to 15%."
   ]
  },
  {
   "cell_type": "markdown",
   "metadata": {},
   "source": [
    "### 1. Define a Success Metric"
   ]
  },
  {
   "cell_type": "markdown",
   "metadata": {},
   "source": [
    "Based on the scenario, our success metric has been established for us in talks with the UX designer and Project Manager. The success rate will be **conversion rate** - specifically if it increases to 15%.\n",
    "\n",
    "It will be calculated based on every user session with a binary variable, where `0` = user did not buy the product during this user session and `1` = user bought the product during this user session."
   ]
  },
  {
   "cell_type": "markdown",
   "metadata": {},
   "source": [
    "### 2. Formulate a Hypothesis"
   ]
  },
  {
   "cell_type": "markdown",
   "metadata": {},
   "source": [
    "The null hypothesis is that there is no difference in performance between the old website (control = c) and new website (treatment = t). The alternative hypothesis is that there is a difference in performance between the two.\n",
    "\n",
    "`Ho: mu_c = mu_t`\n",
    "\n",
    "`Ha: mu_c != mu_t`"
   ]
  },
  {
   "cell_type": "markdown",
   "metadata": {},
   "source": [
    "### 3. Define Statistical Parameters"
   ]
  },
  {
   "cell_type": "markdown",
   "metadata": {},
   "source": [
    "Let's set a confidence level of 95%. This means that our critical value `α = 0.05` (industry standard). We will also set `power = 0.80` (also industry standard). Recall that power is `1-β` (Type II Error)."
   ]
  },
  {
   "cell_type": "markdown",
   "metadata": {},
   "source": [
    "### 4. Sample Randomization"
   ]
  },
  {
   "cell_type": "markdown",
   "metadata": {},
   "source": [
    "We know we need two samples. Having a control group allows us to directly compare their results to the treatment group, because the only systematic difference between the two groups is the actual design of the product page (i.e., what we're evaluating the impact of). Therefore, we can attribute any differences in results to the designs.\n",
    "\n",
    "1. A control group: They'll be shown the old design\n",
    "2. A treatment group: They'll be shown the new design\n",
    "\n",
    "*How do we form the groups?*"
   ]
  },
  {
   "cell_type": "markdown",
   "metadata": {},
   "source": [
    "### 5. Determine Sample Size"
   ]
  },
  {
   "cell_type": "markdown",
   "metadata": {},
   "source": [
    "It's important to remember that since we can't test our *whole* user base, the conversion rates that we'll get will just be *estimates* of the true rates.\n",
    "\n",
    "The larger the sample size (i.e., number of user sessions we capture in each group), the more precise our estimates and the higher the chance to detect a difference in the two groups, if present. However, the larger the sample, the more expensive the study becomes.\n",
    "\n",
    "We can perform **Power analysis** to determine our necessary sample size. We require the following metrics (see statistical parameters above):\n",
    "\n",
    "- Power `(1 — β)`: This represents the probability of finding a statistical difference between the groups in our test when a difference is actually present. This is usually set at 0.8 by convention.\n",
    "- Alpha value `(α)`: The critical value we set earlier - 0.05 is typically industry standard.\n",
    "- Effect Size: How big of a difference we expect there to be between the success metric (i.e., conversion rate in our case)."
   ]
  },
  {
   "cell_type": "code",
   "execution_count": 2,
   "metadata": {},
   "outputs": [],
   "source": [
    "#first calculate effect size (statsmodels library)\n",
    "\n",
    "effect_size = sms.proportion_effectsize(0.13, 0.15)\n",
    "\n",
    "    # we can use 13% as prop1 since this is the original conversion rate\n",
    "    # 15% as prop2 since this is the rate we're hoping for"
   ]
  },
  {
   "cell_type": "code",
   "execution_count": 16,
   "metadata": {},
   "outputs": [
    {
     "name": "stdout",
     "output_type": "stream",
     "text": [
      "4720\n"
     ]
    }
   ],
   "source": [
    "#now we can use formula for our required sample size\n",
    "#NormalIndPower() is used for power calculations for 2 independent samples\n",
    "\n",
    "required_n = sms.NormalIndPower().solve_power(effect_size = effect_size,\n",
    "                                             power = 0.8,\n",
    "                                             alpha = 0.05,\n",
    "                                             ratio = 1 #for even samples\n",
    "                                             )\n",
    "\n",
    "#round up\n",
    "required_n = ceil(required_n)\n",
    "\n",
    "print(required_n)"
   ]
  },
  {
   "cell_type": "markdown",
   "metadata": {},
   "source": [
    "The results of our power test indicate that we'll want at least 4720 observations for each group."
   ]
  },
  {
   "cell_type": "markdown",
   "metadata": {},
   "source": [
    "### 6. Experimentation Time + Collecting & Preparing the Data"
   ]
  },
  {
   "cell_type": "markdown",
   "metadata": {},
   "source": [
    "Typically after establishing the required sample size, you would work with your team to set up the experiment and start collecting the data over a pre-determined amount of time (e.g., run the experiment over the course of 2 weeks).\n",
    "\n",
    "We'll simulate this and assume that the Kaggle data represents the data resulting from our experiment."
   ]
  },
  {
   "cell_type": "code",
   "execution_count": null,
   "metadata": {},
   "outputs": [],
   "source": [
    "#import data\n"
   ]
  },
  {
   "cell_type": "code",
   "execution_count": null,
   "metadata": {},
   "outputs": [],
   "source": []
  },
  {
   "cell_type": "code",
   "execution_count": null,
   "metadata": {},
   "outputs": [],
   "source": []
  },
  {
   "cell_type": "code",
   "execution_count": null,
   "metadata": {},
   "outputs": [],
   "source": []
  },
  {
   "cell_type": "code",
   "execution_count": null,
   "metadata": {},
   "outputs": [],
   "source": []
  },
  {
   "cell_type": "code",
   "execution_count": null,
   "metadata": {},
   "outputs": [],
   "source": []
  },
  {
   "cell_type": "code",
   "execution_count": null,
   "metadata": {},
   "outputs": [],
   "source": []
  }
 ],
 "metadata": {
  "kernelspec": {
   "display_name": "Python 3",
   "language": "python",
   "name": "python3"
  },
  "language_info": {
   "codemirror_mode": {
    "name": "ipython",
    "version": 3
   },
   "file_extension": ".py",
   "mimetype": "text/x-python",
   "name": "python",
   "nbconvert_exporter": "python",
   "pygments_lexer": "ipython3",
   "version": "3.7.4"
  }
 },
 "nbformat": 4,
 "nbformat_minor": 2
}
