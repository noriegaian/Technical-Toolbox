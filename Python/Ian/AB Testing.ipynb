{
 "cells": [
  {
   "cell_type": "code",
   "execution_count": 92,
   "metadata": {},
   "outputs": [],
   "source": [
    "import numpy as np\n",
    "import pandas as pd\n",
    "import seaborn as sns\n",
    "import matplotlib.pyplot as plt\n",
    "import scipy.stats as stats\n",
    "import statsmodels.stats.api as sms\n",
    "from math import ceil"
   ]
  },
  {
   "cell_type": "markdown",
   "metadata": {},
   "source": [
    "**Reference**: https://towardsdatascience.com/ab-testing-with-python-e5964dd66143\n",
    "\n",
    "**Data**: Data contains results of an A/B test on what seems to be 2 different designs of a website page (old_page vs new_page).\n",
    "https://www.kaggle.com/zhangluyuan/ab-testing?select=ab_data.csv\n",
    "\n",
    "**General Steps to tackle A/B Testing** (see OneNote Studying Cheat Sheet):\n",
    "- Define a success metric\n",
    "- State the hypothesis (i.e., `Ho` = no difference b/w control and treatment vs `Ha` = difference)\n",
    "- Define the statistic parameters (e.g., alpha, power, MDE)\n",
    "- Randomization unit (i.e., splitting groups)\n",
    "- Determine the sample size\n",
    "- Estimate the experimentation time\n",
    "- Perform test for statistical significance (i.e., pairwise t-test to compare two sample means)\n",
    "- Make final business decision to launch the new feature or not\n",
    "\n",
    "**Scenario Background**: You work on the product team at a medium-sized online ECOMM business. The UX designer worked really hard on a new version of the product page, with the hope that it will lead to a higher conversion rate. The PM told you that the current conversion rate is about 13% on average throughout the year, and that the team would be happy with an increase of 2%. In other words, the new design will be considered a success if it raises the conversion rate to 15%."
   ]
  },
  {
   "cell_type": "markdown",
   "metadata": {},
   "source": [
    "### 1. Define a Success Metric"
   ]
  },
  {
   "cell_type": "markdown",
   "metadata": {},
   "source": [
    "Based on the scenario, our success metric has been established for us in talks with the UX designer and Project Manager. The success rate will be **conversion rate** - specifically if it increases to 15%.\n",
    "\n",
    "It will be calculated based on every user session with a binary variable, where `0` = user did not buy the product during this user session and `1` = user bought the product during this user session."
   ]
  },
  {
   "cell_type": "markdown",
   "metadata": {},
   "source": [
    "### 2. Formulate a Hypothesis"
   ]
  },
  {
   "cell_type": "markdown",
   "metadata": {},
   "source": [
    "The null hypothesis is that there is no difference in performance between the old website (control = c) and new website (treatment = t). The alternative hypothesis is that there is a difference in performance between the two.\n",
    "\n",
    "`Ho: mu_c = mu_t`\n",
    "\n",
    "`Ha: mu_c != mu_t`"
   ]
  },
  {
   "cell_type": "markdown",
   "metadata": {},
   "source": [
    "### 3. Define Statistical Parameters"
   ]
  },
  {
   "cell_type": "markdown",
   "metadata": {},
   "source": [
    "Let's set a confidence level of 95%. This means that our critical value `α = 0.05` (industry standard). We will also set `power = 0.80` (also industry standard). Recall that power is `1-β` (Type II Error)."
   ]
  },
  {
   "cell_type": "markdown",
   "metadata": {},
   "source": [
    "### 4. Sample Randomization"
   ]
  },
  {
   "cell_type": "markdown",
   "metadata": {},
   "source": [
    "We know we need two samples. Having a control group allows us to directly compare their results to the treatment group, because the only systematic difference between the two groups is the actual design of the product page (i.e., what we're evaluating the impact of). Therefore, we can attribute any differences in results to the designs.\n",
    "\n",
    "1. A control group: They'll be shown the old design\n",
    "2. A treatment group: They'll be shown the new design\n",
    "\n",
    "*How do we form the groups?*"
   ]
  },
  {
   "cell_type": "markdown",
   "metadata": {},
   "source": [
    "### 5. Determine Sample Size"
   ]
  },
  {
   "cell_type": "markdown",
   "metadata": {},
   "source": [
    "It's important to remember that since we can't test our *whole* user base, the conversion rates that we'll get will just be *estimates* of the true rates.\n",
    "\n",
    "The larger the sample size (i.e., number of user sessions we capture in each group), the more precise our estimates and the higher the chance to detect a difference in the two groups, if present. However, the larger the sample, the more expensive the study becomes.\n",
    "\n",
    "We can perform **Power analysis** to determine our necessary sample size. We require the following metrics (see statistical parameters above):\n",
    "\n",
    "- Power `(1 — β)`: This represents the probability of finding a statistical difference between the groups in our test when a difference is actually present. This is usually set at 0.8 by convention.\n",
    "- Alpha value `(α)`: The critical value we set earlier - 0.05 is typically industry standard.\n",
    "- Effect Size: How big of a difference we expect there to be between the success metric (i.e., conversion rate in our case)."
   ]
  },
  {
   "cell_type": "code",
   "execution_count": 93,
   "metadata": {},
   "outputs": [],
   "source": [
    "#first calculate effect size (statsmodels library)\n",
    "\n",
    "effect_size = sms.proportion_effectsize(0.13, 0.15)\n",
    "\n",
    "    # we can use 13% as prop1 since this is the original conversion rate\n",
    "    # 15% as prop2 since this is the rate we're hoping for"
   ]
  },
  {
   "cell_type": "code",
   "execution_count": 94,
   "metadata": {},
   "outputs": [
    {
     "name": "stdout",
     "output_type": "stream",
     "text": [
      "4720\n"
     ]
    }
   ],
   "source": [
    "#now we can use formula for our required sample size\n",
    "#NormalIndPower() is used for power calculations for 2 independent samples\n",
    "\n",
    "required_n = sms.NormalIndPower().solve_power(effect_size = effect_size,\n",
    "                                             power = 0.8,\n",
    "                                             alpha = 0.05,\n",
    "                                             ratio = 1 #for even samples\n",
    "                                             )\n",
    "\n",
    "#round up\n",
    "required_n = ceil(required_n)\n",
    "\n",
    "print(required_n)"
   ]
  },
  {
   "cell_type": "markdown",
   "metadata": {},
   "source": [
    "The results of our power test indicate that we'll want at least 4720 observations for each group."
   ]
  },
  {
   "cell_type": "markdown",
   "metadata": {},
   "source": [
    "### 6. Experimentation Time + Collecting & Preprocessing Data"
   ]
  },
  {
   "cell_type": "markdown",
   "metadata": {},
   "source": [
    "Typically after establishing the required sample size, you would work with your team to set up the experiment and start collecting the data over a pre-determined amount of time (e.g., run the experiment over the course of 2 weeks).\n",
    "\n",
    "We'll simulate this and assume that the Kaggle data represents the data resulting from our experiment."
   ]
  },
  {
   "cell_type": "code",
   "execution_count": 95,
   "metadata": {},
   "outputs": [],
   "source": [
    "#import data\n",
    "df = pd.read_csv('ab_data.csv')"
   ]
  },
  {
   "cell_type": "code",
   "execution_count": 96,
   "metadata": {},
   "outputs": [
    {
     "data": {
      "text/html": [
       "<div>\n",
       "<style scoped>\n",
       "    .dataframe tbody tr th:only-of-type {\n",
       "        vertical-align: middle;\n",
       "    }\n",
       "\n",
       "    .dataframe tbody tr th {\n",
       "        vertical-align: top;\n",
       "    }\n",
       "\n",
       "    .dataframe thead th {\n",
       "        text-align: right;\n",
       "    }\n",
       "</style>\n",
       "<table border=\"1\" class=\"dataframe\">\n",
       "  <thead>\n",
       "    <tr style=\"text-align: right;\">\n",
       "      <th></th>\n",
       "      <th>user_id</th>\n",
       "      <th>timestamp</th>\n",
       "      <th>group</th>\n",
       "      <th>landing_page</th>\n",
       "      <th>converted</th>\n",
       "    </tr>\n",
       "  </thead>\n",
       "  <tbody>\n",
       "    <tr>\n",
       "      <td>0</td>\n",
       "      <td>851104</td>\n",
       "      <td>2017-01-21 22:11:48.556739</td>\n",
       "      <td>control</td>\n",
       "      <td>old_page</td>\n",
       "      <td>0</td>\n",
       "    </tr>\n",
       "    <tr>\n",
       "      <td>1</td>\n",
       "      <td>804228</td>\n",
       "      <td>2017-01-12 08:01:45.159739</td>\n",
       "      <td>control</td>\n",
       "      <td>old_page</td>\n",
       "      <td>0</td>\n",
       "    </tr>\n",
       "    <tr>\n",
       "      <td>2</td>\n",
       "      <td>661590</td>\n",
       "      <td>2017-01-11 16:55:06.154213</td>\n",
       "      <td>treatment</td>\n",
       "      <td>new_page</td>\n",
       "      <td>0</td>\n",
       "    </tr>\n",
       "    <tr>\n",
       "      <td>3</td>\n",
       "      <td>853541</td>\n",
       "      <td>2017-01-08 18:28:03.143765</td>\n",
       "      <td>treatment</td>\n",
       "      <td>new_page</td>\n",
       "      <td>0</td>\n",
       "    </tr>\n",
       "    <tr>\n",
       "      <td>4</td>\n",
       "      <td>864975</td>\n",
       "      <td>2017-01-21 01:52:26.210827</td>\n",
       "      <td>control</td>\n",
       "      <td>old_page</td>\n",
       "      <td>1</td>\n",
       "    </tr>\n",
       "  </tbody>\n",
       "</table>\n",
       "</div>"
      ],
      "text/plain": [
       "   user_id                   timestamp      group landing_page  converted\n",
       "0   851104  2017-01-21 22:11:48.556739    control     old_page          0\n",
       "1   804228  2017-01-12 08:01:45.159739    control     old_page          0\n",
       "2   661590  2017-01-11 16:55:06.154213  treatment     new_page          0\n",
       "3   853541  2017-01-08 18:28:03.143765  treatment     new_page          0\n",
       "4   864975  2017-01-21 01:52:26.210827    control     old_page          1"
      ]
     },
     "execution_count": 96,
     "metadata": {},
     "output_type": "execute_result"
    }
   ],
   "source": [
    "#preview df\n",
    "df.head() #note our dependent var - converted"
   ]
  },
  {
   "cell_type": "code",
   "execution_count": 97,
   "metadata": {},
   "outputs": [
    {
     "name": "stdout",
     "output_type": "stream",
     "text": [
      "<class 'pandas.core.frame.DataFrame'>\n",
      "RangeIndex: 294478 entries, 0 to 294477\n",
      "Data columns (total 5 columns):\n",
      "user_id         294478 non-null int64\n",
      "timestamp       294478 non-null object\n",
      "group           294478 non-null object\n",
      "landing_page    294478 non-null object\n",
      "converted       294478 non-null int64\n",
      "dtypes: int64(2), object(3)\n",
      "memory usage: 11.2+ MB\n"
     ]
    }
   ],
   "source": [
    "df.info()"
   ]
  },
  {
   "cell_type": "code",
   "execution_count": 98,
   "metadata": {},
   "outputs": [
    {
     "data": {
      "text/html": [
       "<div>\n",
       "<style scoped>\n",
       "    .dataframe tbody tr th:only-of-type {\n",
       "        vertical-align: middle;\n",
       "    }\n",
       "\n",
       "    .dataframe tbody tr th {\n",
       "        vertical-align: top;\n",
       "    }\n",
       "\n",
       "    .dataframe thead th {\n",
       "        text-align: right;\n",
       "    }\n",
       "</style>\n",
       "<table border=\"1\" class=\"dataframe\">\n",
       "  <thead>\n",
       "    <tr style=\"text-align: right;\">\n",
       "      <th>landing_page</th>\n",
       "      <th>new_page</th>\n",
       "      <th>old_page</th>\n",
       "    </tr>\n",
       "    <tr>\n",
       "      <th>group</th>\n",
       "      <th></th>\n",
       "      <th></th>\n",
       "    </tr>\n",
       "  </thead>\n",
       "  <tbody>\n",
       "    <tr>\n",
       "      <td>control</td>\n",
       "      <td>1928</td>\n",
       "      <td>145274</td>\n",
       "    </tr>\n",
       "    <tr>\n",
       "      <td>treatment</td>\n",
       "      <td>145311</td>\n",
       "      <td>1965</td>\n",
       "    </tr>\n",
       "  </tbody>\n",
       "</table>\n",
       "</div>"
      ],
      "text/plain": [
       "landing_page  new_page  old_page\n",
       "group                           \n",
       "control           1928    145274\n",
       "treatment       145311      1965"
      ]
     },
     "execution_count": 98,
     "metadata": {},
     "output_type": "execute_result"
    }
   ],
   "source": [
    "#check if all control group are seeing old_page; same for treatment group\n",
    "pd.crosstab(df['group'], df['landing_page'])\n",
    "    #observe that most of control sees old_page and most of treatment sees new page, but not 100%"
   ]
  },
  {
   "cell_type": "code",
   "execution_count": 99,
   "metadata": {},
   "outputs": [
    {
     "data": {
      "text/plain": [
       "637561    2\n",
       "821876    2\n",
       "643869    2\n",
       "938802    2\n",
       "916765    2\n",
       "         ..\n",
       "710897    1\n",
       "708848    1\n",
       "665839    1\n",
       "663790    1\n",
       "630836    1\n",
       "Name: user_id, Length: 290584, dtype: int64"
      ]
     },
     "execution_count": 99,
     "metadata": {},
     "output_type": "execute_result"
    }
   ],
   "source": [
    "#check for duplicate users\n",
    "session_counts = df['user_id'].value_counts(ascending = False)\n",
    "\n",
    "session_counts #can clearly see there are users with duplicate sessions"
   ]
  },
  {
   "cell_type": "code",
   "execution_count": 100,
   "metadata": {},
   "outputs": [
    {
     "data": {
      "text/plain": [
       "3894"
      ]
     },
     "execution_count": 100,
     "metadata": {},
     "output_type": "execute_result"
    }
   ],
   "source": [
    "#how many duplicate users exactly?\n",
    "multi_users = session_counts[session_counts > 1].count()\n",
    "\n",
    "multi_users #there are 3894 users that appear twice in the dataset"
   ]
  },
  {
   "cell_type": "code",
   "execution_count": 101,
   "metadata": {},
   "outputs": [],
   "source": [
    "#we'll drop the duplicates from the df to avoid sampling them twice\n",
    "users_to_drop = session_counts[session_counts > 1].index\n",
    "\n",
    "df = df[~df['user_id'].isin(users_to_drop)] #this is how you do NOT IN in pandas"
   ]
  },
  {
   "cell_type": "code",
   "execution_count": 102,
   "metadata": {},
   "outputs": [
    {
     "data": {
      "text/html": [
       "<div>\n",
       "<style scoped>\n",
       "    .dataframe tbody tr th:only-of-type {\n",
       "        vertical-align: middle;\n",
       "    }\n",
       "\n",
       "    .dataframe tbody tr th {\n",
       "        vertical-align: top;\n",
       "    }\n",
       "\n",
       "    .dataframe thead th {\n",
       "        text-align: right;\n",
       "    }\n",
       "</style>\n",
       "<table border=\"1\" class=\"dataframe\">\n",
       "  <thead>\n",
       "    <tr style=\"text-align: right;\">\n",
       "      <th>landing_page</th>\n",
       "      <th>new_page</th>\n",
       "      <th>old_page</th>\n",
       "    </tr>\n",
       "    <tr>\n",
       "      <th>group</th>\n",
       "      <th></th>\n",
       "      <th></th>\n",
       "    </tr>\n",
       "  </thead>\n",
       "  <tbody>\n",
       "    <tr>\n",
       "      <td>control</td>\n",
       "      <td>0</td>\n",
       "      <td>143293</td>\n",
       "    </tr>\n",
       "    <tr>\n",
       "      <td>treatment</td>\n",
       "      <td>143397</td>\n",
       "      <td>0</td>\n",
       "    </tr>\n",
       "  </tbody>\n",
       "</table>\n",
       "</div>"
      ],
      "text/plain": [
       "landing_page  new_page  old_page\n",
       "group                           \n",
       "control              0    143293\n",
       "treatment       143397         0"
      ]
     },
     "execution_count": 102,
     "metadata": {},
     "output_type": "execute_result"
    }
   ],
   "source": [
    "#recheck the split of our samples\n",
    "pd.crosstab(df['group'], df['landing_page'])\n",
    "    #suddenly they just so happen to appear \"pure\""
   ]
  },
  {
   "cell_type": "markdown",
   "metadata": {},
   "source": [
    "Now we'll take a subset of these two larger samples based on the power test we ran above. **Note** that you wouldn't typically have to do this (would just run on all the responses collected), but will illustrate since we calculated our required sample earlier through the power analysis."
   ]
  },
  {
   "cell_type": "code",
   "execution_count": 103,
   "metadata": {},
   "outputs": [],
   "source": [
    "#recall that we want n = 4720 for each of the groups - control and treatment\n",
    "\n",
    "control_sample = df[df.group == 'control'].sample(n = required_n,\n",
    "                                                  random_state = 1024)\n",
    "treatment_sample = df[df.group == 'treatment'].sample(n = required_n,\n",
    "                                                     random_state = 1024)"
   ]
  },
  {
   "cell_type": "code",
   "execution_count": 104,
   "metadata": {},
   "outputs": [
    {
     "data": {
      "text/html": [
       "<div>\n",
       "<style scoped>\n",
       "    .dataframe tbody tr th:only-of-type {\n",
       "        vertical-align: middle;\n",
       "    }\n",
       "\n",
       "    .dataframe tbody tr th {\n",
       "        vertical-align: top;\n",
       "    }\n",
       "\n",
       "    .dataframe thead th {\n",
       "        text-align: right;\n",
       "    }\n",
       "</style>\n",
       "<table border=\"1\" class=\"dataframe\">\n",
       "  <thead>\n",
       "    <tr style=\"text-align: right;\">\n",
       "      <th></th>\n",
       "      <th>user_id</th>\n",
       "      <th>timestamp</th>\n",
       "      <th>group</th>\n",
       "      <th>landing_page</th>\n",
       "      <th>converted</th>\n",
       "    </tr>\n",
       "  </thead>\n",
       "  <tbody>\n",
       "    <tr>\n",
       "      <td>0</td>\n",
       "      <td>635545</td>\n",
       "      <td>2017-01-04 06:20:23.366946</td>\n",
       "      <td>control</td>\n",
       "      <td>old_page</td>\n",
       "      <td>1</td>\n",
       "    </tr>\n",
       "    <tr>\n",
       "      <td>1</td>\n",
       "      <td>730678</td>\n",
       "      <td>2017-01-12 13:42:17.940032</td>\n",
       "      <td>control</td>\n",
       "      <td>old_page</td>\n",
       "      <td>0</td>\n",
       "    </tr>\n",
       "    <tr>\n",
       "      <td>2</td>\n",
       "      <td>787893</td>\n",
       "      <td>2017-01-06 21:59:10.486556</td>\n",
       "      <td>control</td>\n",
       "      <td>old_page</td>\n",
       "      <td>0</td>\n",
       "    </tr>\n",
       "    <tr>\n",
       "      <td>3</td>\n",
       "      <td>943389</td>\n",
       "      <td>2017-01-07 05:12:42.192200</td>\n",
       "      <td>control</td>\n",
       "      <td>old_page</td>\n",
       "      <td>1</td>\n",
       "    </tr>\n",
       "    <tr>\n",
       "      <td>4</td>\n",
       "      <td>759494</td>\n",
       "      <td>2017-01-03 07:05:49.738914</td>\n",
       "      <td>control</td>\n",
       "      <td>old_page</td>\n",
       "      <td>0</td>\n",
       "    </tr>\n",
       "    <tr>\n",
       "      <td>...</td>\n",
       "      <td>...</td>\n",
       "      <td>...</td>\n",
       "      <td>...</td>\n",
       "      <td>...</td>\n",
       "      <td>...</td>\n",
       "    </tr>\n",
       "    <tr>\n",
       "      <td>9435</td>\n",
       "      <td>872884</td>\n",
       "      <td>2017-01-09 04:05:06.543469</td>\n",
       "      <td>treatment</td>\n",
       "      <td>new_page</td>\n",
       "      <td>0</td>\n",
       "    </tr>\n",
       "    <tr>\n",
       "      <td>9436</td>\n",
       "      <td>745323</td>\n",
       "      <td>2017-01-03 14:40:37.600372</td>\n",
       "      <td>treatment</td>\n",
       "      <td>new_page</td>\n",
       "      <td>0</td>\n",
       "    </tr>\n",
       "    <tr>\n",
       "      <td>9437</td>\n",
       "      <td>845068</td>\n",
       "      <td>2017-01-03 03:45:36.776806</td>\n",
       "      <td>treatment</td>\n",
       "      <td>new_page</td>\n",
       "      <td>0</td>\n",
       "    </tr>\n",
       "    <tr>\n",
       "      <td>9438</td>\n",
       "      <td>779868</td>\n",
       "      <td>2017-01-07 01:17:12.157249</td>\n",
       "      <td>treatment</td>\n",
       "      <td>new_page</td>\n",
       "      <td>0</td>\n",
       "    </tr>\n",
       "    <tr>\n",
       "      <td>9439</td>\n",
       "      <td>789917</td>\n",
       "      <td>2017-01-07 11:55:59.950642</td>\n",
       "      <td>treatment</td>\n",
       "      <td>new_page</td>\n",
       "      <td>1</td>\n",
       "    </tr>\n",
       "  </tbody>\n",
       "</table>\n",
       "<p>9440 rows × 5 columns</p>\n",
       "</div>"
      ],
      "text/plain": [
       "      user_id                   timestamp      group landing_page  converted\n",
       "0      635545  2017-01-04 06:20:23.366946    control     old_page          1\n",
       "1      730678  2017-01-12 13:42:17.940032    control     old_page          0\n",
       "2      787893  2017-01-06 21:59:10.486556    control     old_page          0\n",
       "3      943389  2017-01-07 05:12:42.192200    control     old_page          1\n",
       "4      759494  2017-01-03 07:05:49.738914    control     old_page          0\n",
       "...       ...                         ...        ...          ...        ...\n",
       "9435   872884  2017-01-09 04:05:06.543469  treatment     new_page          0\n",
       "9436   745323  2017-01-03 14:40:37.600372  treatment     new_page          0\n",
       "9437   845068  2017-01-03 03:45:36.776806  treatment     new_page          0\n",
       "9438   779868  2017-01-07 01:17:12.157249  treatment     new_page          0\n",
       "9439   789917  2017-01-07 11:55:59.950642  treatment     new_page          1\n",
       "\n",
       "[9440 rows x 5 columns]"
      ]
     },
     "execution_count": 104,
     "metadata": {},
     "output_type": "execute_result"
    }
   ],
   "source": [
    "#union samples\n",
    "ab_test = pd.concat([control_sample, treatment_sample]).reset_index(drop = True)\n",
    "\n",
    "ab_test #now we see 9440 total records (4720 per)"
   ]
  },
  {
   "cell_type": "code",
   "execution_count": 105,
   "metadata": {},
   "outputs": [
    {
     "data": {
      "text/plain": [
       "control      4720\n",
       "treatment    4720\n",
       "Name: group, dtype: int64"
      ]
     },
     "execution_count": 105,
     "metadata": {},
     "output_type": "execute_result"
    }
   ],
   "source": [
    "#quickly just confirm value counts\n",
    "ab_test['group'].value_counts()"
   ]
  },
  {
   "cell_type": "code",
   "execution_count": 107,
   "metadata": {},
   "outputs": [],
   "source": [
    "#export if needed\n",
    "#ab_test.to_csv(\"ab_test_proportions.csv\", index=False)"
   ]
  },
  {
   "cell_type": "markdown",
   "metadata": {},
   "source": [
    "### 7) Perform Test for Statistical Significance"
   ]
  },
  {
   "cell_type": "markdown",
   "metadata": {},
   "source": [
    "#### EDA\n",
    "\n",
    "First we can calculate some basic summary statistics to compare our two samples at a high-level."
   ]
  },
  {
   "cell_type": "code",
   "execution_count": 79,
   "metadata": {},
   "outputs": [
    {
     "data": {
      "text/html": [
       "<div>\n",
       "<style scoped>\n",
       "    .dataframe tbody tr th:only-of-type {\n",
       "        vertical-align: middle;\n",
       "    }\n",
       "\n",
       "    .dataframe tbody tr th {\n",
       "        vertical-align: top;\n",
       "    }\n",
       "\n",
       "    .dataframe thead th {\n",
       "        text-align: right;\n",
       "    }\n",
       "</style>\n",
       "<table border=\"1\" class=\"dataframe\">\n",
       "  <thead>\n",
       "    <tr style=\"text-align: right;\">\n",
       "      <th></th>\n",
       "      <th>conversion_rate</th>\n",
       "      <th>std_deviation</th>\n",
       "      <th>std_error</th>\n",
       "    </tr>\n",
       "    <tr>\n",
       "      <th>group</th>\n",
       "      <th></th>\n",
       "      <th></th>\n",
       "      <th></th>\n",
       "    </tr>\n",
       "  </thead>\n",
       "  <tbody>\n",
       "    <tr>\n",
       "      <td>control</td>\n",
       "      <td>0.122246</td>\n",
       "      <td>0.327569</td>\n",
       "      <td>0.004768</td>\n",
       "    </tr>\n",
       "    <tr>\n",
       "      <td>treatment</td>\n",
       "      <td>0.116949</td>\n",
       "      <td>0.321360</td>\n",
       "      <td>0.004678</td>\n",
       "    </tr>\n",
       "  </tbody>\n",
       "</table>\n",
       "</div>"
      ],
      "text/plain": [
       "           conversion_rate  std_deviation  std_error\n",
       "group                                               \n",
       "control           0.122246       0.327569   0.004768\n",
       "treatment         0.116949       0.321360   0.004678"
      ]
     },
     "execution_count": 79,
     "metadata": {},
     "output_type": "execute_result"
    }
   ],
   "source": [
    "#standard deviation of the proportion\n",
    "std_p = lambda x: np.std(x, ddof=0)\n",
    "\n",
    "#std error of the proportion (std / sqrt(n))\n",
    "se_p = lambda x: stats.sem(x, ddof=0)\n",
    "\n",
    "conversion_rates = ab_test.groupby('group')['converted'].agg([np.mean, std_p, se_p])\n",
    "    #note that agg is handy for adding multiple values after a groupby\n",
    "    \n",
    "#edit column names\n",
    "conversion_rates.columns = ['conversion_rate','std_deviation','std_error']\n",
    "\n",
    "conversion_rates"
   ]
  },
  {
   "cell_type": "markdown",
   "metadata": {},
   "source": [
    "Judging by the stats above, it looks like the two designs performed **very similarly**. Based on our sample (recall we took a subset of Kaggle's), it looks like the new webpage is actually performing **slightly worse** than the original design, with an **11.7%** conversion rate vs **12.2%**."
   ]
  },
  {
   "cell_type": "code",
   "execution_count": 82,
   "metadata": {},
   "outputs": [
    {
     "data": {
      "text/plain": [
       "Text(0, 0.5, 'Conversion Rate')"
      ]
     },
     "execution_count": 82,
     "metadata": {},
     "output_type": "execute_result"
    },
    {
     "data": {
      "image/png": "[encoded data removed]",
      "text/plain": [
       "<Figure size 432x288 with 1 Axes>"
      ]
     },
     "metadata": {
      "needs_background": "light"
     },
     "output_type": "display_data"
    }
   ],
   "source": [
    "#can plot this if we wanted to\n",
    "sns.barplot(x=ab_test['group'], y=ab_test['converted'], ci=False)\n",
    "\n",
    "plt.title('Conversion Rate by Sampling Group')\n",
    "plt.xlabel('Group')\n",
    "plt.ylabel('Conversion Rate')"
   ]
  },
  {
   "cell_type": "markdown",
   "metadata": {},
   "source": [
    "Based on the EDA of our results, we'd be inclined to say that the new webpage design had no beneficial impact on consumers. But, we'll go through the scientific procedure of performing statistical testing to ensure that this is the case."
   ]
  },
  {
   "cell_type": "markdown",
   "metadata": {},
   "source": [
    "#### Statistical Testing"
   ]
  },
  {
   "attachments": {
    "image.png": {
     "image/png": "[encoded data removed]"
    }
   },
   "cell_type": "markdown",
   "metadata": {},
   "source": [
    "Having a large enough sample (recall power analysis), allows us to assume normal distribution when calculating our p-value. Note that we're using a z-test below.\n",
    "\n",
    "Generally in A/B Testing, we'll turn to a two-sample t-test (e.g., Welch's) or a pairwise t-test to compare our two sample means.\n",
    "\n",
    "- Two-sample t-test: When the data in the two samples are statistically independent\n",
    "- Pairwise t-test: When the data is in the form of matched pairs\n",
    "\n",
    "We can reference the flow chart below:\n",
    "![image.png](attachment:image.png)\n",
    "\n",
    "- We are dealing with a Bernoulli distribution since we're evaluating the proportions of people who clicked through and purchased with the new web design vs the old design.\n",
    "- We also know that `n = 4720` and `Pr(conversion) = 0.13` (we'll assume the current conversion rate pre-testing). This easily passes the tests required to assume normality by the CLT. Recall `np > 10` and `n(1-p) > 10`\n",
    "\n",
    "`np = (4720)(0.13) = 614` and `n(1-p) = (4720)(0.87) = 4106`\n",
    "\n",
    "- As a result we can go ahead with a Z-test"
   ]
  },
  {
   "cell_type": "code",
   "execution_count": 91,
   "metadata": {},
   "outputs": [
    {
     "name": "stdout",
     "output_type": "stream",
     "text": [
      "z-score: 0.793\n",
      "p-value: 0.428\n",
      "ci 95% for control group: [0.113, 0.132]\n",
      "ci 95% for treatment group: [0.108, 0.126]\n"
     ]
    }
   ],
   "source": [
    "from statsmodels.stats.proportion import proportions_ztest, proportion_confint\n",
    "\n",
    "control_results = ab_test[ab_test.group == 'control']['converted']\n",
    "treatment_results = ab_test[ab_test.group == 'treatment']['converted']\n",
    "\n",
    "n_con = control_results.count() #count of control\n",
    "n_treat = treatment_results.count() #count of treatment\n",
    "successes = [control_results.sum(), treatment_results.sum()]\n",
    "n_obs = [n_con, n_treat]\n",
    "\n",
    "z_stat, pval = proportions_ztest(count = successes,\n",
    "                                nobs = n_obs)\n",
    "(lower_con, lower_treat), (upper_con, upper_treat) = proportion_confint(count = successes,\n",
    "                  nobs = n_obs,\n",
    "                  alpha = 0.05)\n",
    "\n",
    "print(f'z-score: {z_stat:.3f}')\n",
    "print(f'p-value: {pval:.3f}')\n",
    "print(f'ci 95% for control group: [{lower_con:.3f}, {upper_con:.3f}]')\n",
    "print(f'ci 95% for treatment group: [{lower_treat:.3f}, {upper_treat:.3f}]')"
   ]
  },
  {
   "cell_type": "markdown",
   "metadata": {},
   "source": [
    "We see that the p-value is well above our critical value of `alpha = 0.05`, and therefore we **fail to reject the null hypothesis**.\n",
    "\n",
    "In this specific case (based on the sample we drew from Kaggle), rejecting the null would actually be accepting that the original web design performed significantly better than the new design since the conversion rate observed was higher for the control group than the treatment group (see confidence intervals and positive z-score)."
   ]
  },
  {
   "cell_type": "markdown",
   "metadata": {},
   "source": [
    "### 8) Make Final Business Decision\n",
    "\n",
    "Tying things back to the business (always critical to do), the results of our A/B testing indicate that our new web design **did not** perform significantly different (let alone better) than our old one. As a result, we should probably pivot away from the proposed changes and consider altering different product/web features that may have better success with our customers."
   ]
  }
 ],
 "metadata": {
  "kernelspec": {
   "display_name": "Python 3",
   "language": "python",
   "name": "python3"
  },
  "language_info": {
   "codemirror_mode": {
    "name": "ipython",
    "version": 3
   },
   "file_extension": ".py",
   "mimetype": "text/x-python",
   "name": "python",
   "nbconvert_exporter": "python",
   "pygments_lexer": "ipython3",
   "version": "3.7.4"
  }
 },
 "nbformat": 4,
 "nbformat_minor": 2
}
