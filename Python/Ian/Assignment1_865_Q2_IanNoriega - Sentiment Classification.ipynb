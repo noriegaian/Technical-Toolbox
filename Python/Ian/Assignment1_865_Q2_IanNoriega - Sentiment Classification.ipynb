{
 "cells": [
  {
   "cell_type": "code",
   "execution_count": 28,
   "metadata": {},
   "outputs": [
    {
     "data": {
      "text/plain": [
       "'\\n[Ian, Noriega]\\n[10145657]\\n[MMA]\\n[2021W]\\n[MMA865]\\n[October 18th, 2020]\\n\\n\\nSubmission to Question 2, Part 1\\n'"
      ]
     },
     "execution_count": 28,
     "metadata": {},
     "output_type": "execute_result"
    }
   ],
   "source": [
    "# -*- coding: utf-8 -*-\n",
    "\"\"\"\n",
    "[Ian, Noriega]\n",
    "[10145657]\n",
    "[MMA]\n",
    "[2021W]\n",
    "[MMA865]\n",
    "[October 18th, 2020]\n",
    "\n",
    "\n",
    "Submission to Question 2, Part 1\n",
    "\"\"\""
   ]
  },
  {
   "cell_type": "code",
   "execution_count": 29,
   "metadata": {},
   "outputs": [],
   "source": [
    "#import libraries\n",
    "import numpy as np\n",
    "import pandas as pd\n",
    "import matplotlib.pyplot as plt\n",
    "import seaborn as sns"
   ]
  },
  {
   "cell_type": "markdown",
   "metadata": {},
   "source": [
    "## Data Import"
   ]
  },
  {
   "cell_type": "code",
   "execution_count": 627,
   "metadata": {},
   "outputs": [],
   "source": [
    "#import training data\n",
    "df = pd.read_csv(\"sentiment_train.csv\")"
   ]
  },
  {
   "cell_type": "code",
   "execution_count": 628,
   "metadata": {},
   "outputs": [
    {
     "name": "stdout",
     "output_type": "stream",
     "text": [
      "<class 'pandas.core.frame.DataFrame'>\n",
      "RangeIndex: 2202 entries, 0 to 2201\n",
      "Data columns (total 2 columns):\n",
      "Sentence    2202 non-null object\n",
      "Polarity    2202 non-null int64\n",
      "dtypes: int64(1), object(1)\n",
      "memory usage: 34.5+ KB\n"
     ]
    },
    {
     "data": {
      "text/html": [
       "<div>\n",
       "<style scoped>\n",
       "    .dataframe tbody tr th:only-of-type {\n",
       "        vertical-align: middle;\n",
       "    }\n",
       "\n",
       "    .dataframe tbody tr th {\n",
       "        vertical-align: top;\n",
       "    }\n",
       "\n",
       "    .dataframe thead th {\n",
       "        text-align: right;\n",
       "    }\n",
       "</style>\n",
       "<table border=\"1\" class=\"dataframe\">\n",
       "  <thead>\n",
       "    <tr style=\"text-align: right;\">\n",
       "      <th></th>\n",
       "      <th>Sentence</th>\n",
       "      <th>Polarity</th>\n",
       "    </tr>\n",
       "  </thead>\n",
       "  <tbody>\n",
       "    <tr>\n",
       "      <td>0</td>\n",
       "      <td>Wow... Loved this place.</td>\n",
       "      <td>1</td>\n",
       "    </tr>\n",
       "    <tr>\n",
       "      <td>1</td>\n",
       "      <td>Crust is not good.</td>\n",
       "      <td>0</td>\n",
       "    </tr>\n",
       "    <tr>\n",
       "      <td>2</td>\n",
       "      <td>Not tasty and the texture was just nasty.</td>\n",
       "      <td>0</td>\n",
       "    </tr>\n",
       "    <tr>\n",
       "      <td>3</td>\n",
       "      <td>Stopped by during the late May bank holiday of...</td>\n",
       "      <td>1</td>\n",
       "    </tr>\n",
       "    <tr>\n",
       "      <td>4</td>\n",
       "      <td>The selection on the menu was great and so wer...</td>\n",
       "      <td>1</td>\n",
       "    </tr>\n",
       "  </tbody>\n",
       "</table>\n",
       "</div>"
      ],
      "text/plain": [
       "                                            Sentence  Polarity\n",
       "0                           Wow... Loved this place.         1\n",
       "1                                 Crust is not good.         0\n",
       "2          Not tasty and the texture was just nasty.         0\n",
       "3  Stopped by during the late May bank holiday of...         1\n",
       "4  The selection on the menu was great and so wer...         1"
      ]
     },
     "execution_count": 628,
     "metadata": {},
     "output_type": "execute_result"
    }
   ],
   "source": [
    "#check out the data\n",
    "df.info()\n",
    "df.head()\n",
    "#observations: 2202 sentences, no missing data"
   ]
  },
  {
   "cell_type": "markdown",
   "metadata": {},
   "source": [
    "## EDA"
   ]
  },
  {
   "cell_type": "code",
   "execution_count": 629,
   "metadata": {},
   "outputs": [
    {
     "data": {
      "text/plain": [
       "array([1113, 1089], dtype=int64)"
      ]
     },
     "execution_count": 629,
     "metadata": {},
     "output_type": "execute_result"
    }
   ],
   "source": [
    "#let's check out our target (polarity)\n",
    "np.bincount(df['Polarity'])"
   ]
  },
  {
   "cell_type": "code",
   "execution_count": 630,
   "metadata": {},
   "outputs": [
    {
     "data": {
      "text/plain": [
       "0    0.50545\n",
       "1    0.49455\n",
       "Name: Polarity, dtype: float64"
      ]
     },
     "execution_count": 630,
     "metadata": {},
     "output_type": "execute_result"
    },
    {
     "data": {
      "image/png": "[encoded data removed]",
      "text/plain": [
       "<Figure size 432x288 with 1 Axes>"
      ]
     },
     "metadata": {
      "needs_background": "light"
     },
     "output_type": "display_data"
    }
   ],
   "source": [
    "#visualize\n",
    "sns.countplot(x = 'Polarity', data = df)\n",
    "\n",
    "df['Polarity'].value_counts(normalize=True)\n",
    "\n",
    "#observations: looks like no target imbalance here, nearly a perfect 50/50 split between positive and negative sentences"
   ]
  },
  {
   "cell_type": "markdown",
   "metadata": {},
   "source": [
    "## Train/Test Split"
   ]
  },
  {
   "cell_type": "code",
   "execution_count": 66,
   "metadata": {},
   "outputs": [],
   "source": [
    "from sklearn.model_selection import train_test_split\n",
    "\n",
    "X = df['Sentence']\n",
    "y = df['Polarity']\n",
    "\n",
    "X_train, X_val, y_train, y_val = train_test_split(X, y, random_state=1024)"
   ]
  },
  {
   "cell_type": "code",
   "execution_count": 67,
   "metadata": {},
   "outputs": [
    {
     "data": {
      "text/plain": [
       "986     Shrimp- When I unwrapped it (I live only 1/2 a...\n",
       "575     The pizza tasted old, super chewy in not a goo...\n",
       "694     Hawaiian Breeze, Mango Magic, and Pineapple De...\n",
       "1199                          useless phone, simply deaf.\n",
       "2122    Maybe there would be a reasonable explanation ...\n",
       "Name: Sentence, dtype: object"
      ]
     },
     "execution_count": 67,
     "metadata": {},
     "output_type": "execute_result"
    }
   ],
   "source": [
    "#preview X_train\n",
    "X_train.head()"
   ]
  },
  {
   "cell_type": "markdown",
   "metadata": {},
   "source": [
    "## Text Preprocessing"
   ]
  },
  {
   "cell_type": "code",
   "execution_count": 441,
   "metadata": {},
   "outputs": [],
   "source": [
    "#import libraries\n",
    "from nltk.corpus import stopwords\n",
    "from nltk.stem import WordNetLemmatizer\n",
    "from nltk.stem.porter import PorterStemmer\n",
    "from nltk.stem.snowball import SnowballStemmer\n",
    "from nltk.stem.lancaster import LancasterStemmer\n",
    "import re\n",
    "import unidecode\n",
    "import string"
   ]
  },
  {
   "cell_type": "code",
   "execution_count": 442,
   "metadata": {},
   "outputs": [],
   "source": [
    "#define preprocessing function\n",
    "\n",
    "lemmer = WordNetLemmatizer()\n",
    "\n",
    "def preprocess(doc):\n",
    "\n",
    "    doc = doc.lower() #lower case everything\n",
    "        \n",
    "    doc = unidecode.unidecode(doc)\n",
    "    \n",
    "    doc = re.sub(r'\\b\\d+\\b', 'NUM', doc) #replace numbers with the string \"NUM\"\n",
    "    \n",
    "    doc = ' '.join([lemmer.lemmatize(w) for w in doc.split()]) #lemmatize each word\n",
    "    #doc = [stemmer.stem(w) for w in doc.split() if w not in stop_words]\n",
    "\n",
    "    return doc"
   ]
  },
  {
   "cell_type": "markdown",
   "metadata": {},
   "source": [
    "## Feature Engineering"
   ]
  },
  {
   "cell_type": "code",
   "execution_count": 443,
   "metadata": {},
   "outputs": [],
   "source": [
    "from textblob import TextBlob\n",
    "from textstat import flesch_reading_ease, syllable_count\n",
    "\n",
    "#character count\n",
    "def character_count(corpus):\n",
    "    return np.array([len(doc) for doc in corpus]).reshape(-1,1)\n",
    "\n",
    "#punctuation count\n",
    "def _get_punc(doc):\n",
    "    return len([a for a in doc if a in string.punctuation])\n",
    "\n",
    "def punc_count(corpus):\n",
    "    return np.array([_get_punc(doc) for doc in corpus]).reshape(-1,1)\n",
    "\n",
    "#caps count\n",
    "def _get_caps(doc):\n",
    "    return sum([1 for a in doc if a.isupper()])\n",
    "\n",
    "def caps_count(corpus):\n",
    "    return np.array([_get_caps(doc) for doc in corpus]).reshape(-1,1)\n",
    "\n",
    "#count of \"?\"\n",
    "def question_count(corpus):\n",
    "    return np.array([doc.count('?') for doc in corpus]).reshape(-1,1)\n",
    "\n",
    "#count of \"!\"\n",
    "def exclamation_count(corpus):\n",
    "    return np.array([doc.count('!') for doc in corpus]).reshape(-1,1)\n",
    "\n",
    "#count of \"$\" (mentioning money or prices)\n",
    "def money_count(corpus):\n",
    "    return np.array([doc.count('$') for doc in corpus]).reshape(-1,1)\n",
    "\n",
    "#sentiment\n",
    "def sentiment(corpus):\n",
    "    return np.array([TextBlob(doc).sentiment.polarity for doc in corpus]).reshape(-1,1)"
   ]
  },
  {
   "cell_type": "markdown",
   "metadata": {},
   "source": [
    "## Build Pipeline"
   ]
  },
  {
   "cell_type": "code",
   "execution_count": 546,
   "metadata": {},
   "outputs": [],
   "source": [
    "#import pipeline features and ml algorithms to try\n",
    "from sklearn.pipeline import Pipeline, FeatureUnion\n",
    "from sklearn.feature_extraction.text import TfidfVectorizer, CountVectorizer, TfidfTransformer\n",
    "from sklearn.preprocessing import FunctionTransformer\n",
    "from sklearn.tree import DecisionTreeClassifier\n",
    "from sklearn.naive_bayes import MultinomialNB\n",
    "from sklearn.ensemble import RandomForestClassifier, GradientBoostingClassifier\n",
    "from sklearn.linear_model import LogisticRegression\n",
    "from sklearn.svm import LinearSVC\n",
    "from sklearn.neural_network import MLPClassifier\n",
    "from sklearn.model_selection import GridSearchCV"
   ]
  },
  {
   "cell_type": "code",
   "execution_count": 593,
   "metadata": {},
   "outputs": [],
   "source": [
    "#build pipeline\n",
    "\n",
    "#define vectorizer\n",
    "vectorizer = TfidfVectorizer(preprocessor = preprocess,\n",
    "                            max_features = 1000,\n",
    "                            ngram_range = [1,3],\n",
    "                            lowercase = False,\n",
    "                            max_df = 0.25,\n",
    "                            min_df = 0.001)\n",
    "\n",
    "#potential ML algorithms to apply\n",
    "lr = LogisticRegression(solver='lbfgs', random_state = 1024)\n",
    "rf = RandomForestClassifier(criterion='entropy', random_state = 1024, min_samples_split = 10, max_depth = 25)\n",
    "nb = MultinomialNB()\n",
    "dt = DecisionTreeClassifier(random_state = 1024, min_samples_split = 10, max_depth = 6)\n",
    "svc = LinearSVC(random_state = 1024, C=100)\n",
    "mlp = MLPClassifier(random_state = 1024, verbose = 2, max_iter = 150, activation = 'logistic')\n",
    "gbt = GradientBoostingClassifier(random_state = 1024, min_samples_split = 5, max_depth = 10)\n",
    "\n",
    "#add in our features (via functions defined above)\n",
    "feature_processing = FeatureUnion([\n",
    "    ('vectorizer', Pipeline([('cv', vectorizer), ])),\n",
    "    ('character_count', FunctionTransformer(character_count, validate=False)),\n",
    "    ('punc_count', FunctionTransformer(punc_count, validate=False)),\n",
    "    ('caps_count', FunctionTransformer(caps_count, validate=False)),\n",
    "    ('question_count', FunctionTransformer(question_count, validate=False)),\n",
    "    ('exclamation_count', FunctionTransformer(exclamation_count, validate=False)),\n",
    "    ('money_count', FunctionTransformer(money_count, validate=False)),\n",
    "    ('sentiment', FunctionTransformer(sentiment, validate=False)),\n",
    "])\n",
    "\n",
    "steps = [('features', feature_processing)]\n",
    "\n",
    "pipe = Pipeline([('features', feature_processing), ('clf', gbt)]) #apply ML algorithm here\n",
    "\n",
    "##hyperparameter tuning\n",
    "#for ensembles (rf and gbt)\n",
    "param_grid = {\n",
    "    'clf__n_estimators': [100, 500, 1000],\n",
    "    'clf__min_samples_split': [5, 10, 15],\n",
    "    'clf__max_depth': [5, 10, 25],\n",
    "    'clf__min_samples_leaf': [1, 2, 5],\n",
    "}\n",
    "\n",
    "search = GridSearchCV(pipe, param_grid, cv = 3, n_jobs = 3, scoring = 'f1_micro', return_train_score = True, verbose=2)"
   ]
  },
  {
   "cell_type": "markdown",
   "metadata": {},
   "source": [
    "## Modelling"
   ]
  },
  {
   "cell_type": "code",
   "execution_count": 594,
   "metadata": {},
   "outputs": [
    {
     "name": "stdout",
     "output_type": "stream",
     "text": [
      "Fitting 3 folds for each of 81 candidates, totalling 243 fits\n"
     ]
    },
    {
     "name": "stderr",
     "output_type": "stream",
     "text": [
      "[Parallel(n_jobs=3)]: Using backend LokyBackend with 3 concurrent workers.\n",
      "[Parallel(n_jobs=3)]: Done  35 tasks      | elapsed:   43.1s\n",
      "[Parallel(n_jobs=3)]: Done 156 tasks      | elapsed:  4.1min\n",
      "[Parallel(n_jobs=3)]: Done 243 out of 243 | elapsed: 11.2min finished\n"
     ]
    },
    {
     "data": {
      "text/plain": [
       "GridSearchCV(cv=3,\n",
       "             estimator=Pipeline(steps=[('features',\n",
       "                                        FeatureUnion(transformer_list=[('vectorizer',\n",
       "                                                                        Pipeline(steps=[('cv',\n",
       "                                                                                         TfidfVectorizer(lowercase=False,\n",
       "                                                                                                         max_df=0.25,\n",
       "                                                                                                         max_features=1000,\n",
       "                                                                                                         min_df=0.001,\n",
       "                                                                                                         ngram_range=[1,\n",
       "                                                                                                                      3],\n",
       "                                                                                                         preprocessor=<function preprocess at 0x0000024BBD121798>))])),\n",
       "                                                                       ('character_count',\n",
       "                                                                        FunctionTransformer(func=<function character_count at 0x000...\n",
       "                                                                        FunctionTransformer(func=<function sentiment at 0x0000024BBCC5DCA8>))])),\n",
       "                                       ('clf',\n",
       "                                        GradientBoostingClassifier(max_depth=10,\n",
       "                                                                   min_samples_split=5,\n",
       "                                                                   random_state=1024))]),\n",
       "             n_jobs=3,\n",
       "             param_grid={'clf__max_depth': [5, 10, 25],\n",
       "                         'clf__min_samples_leaf': [1, 2, 5],\n",
       "                         'clf__min_samples_split': [5, 10, 15],\n",
       "                         'clf__n_estimators': [100, 500, 1000]},\n",
       "             return_train_score=True, scoring='f1_micro', verbose=2)"
      ]
     },
     "execution_count": 594,
     "metadata": {},
     "output_type": "execute_result"
    }
   ],
   "source": [
    "#fit the model on training data\n",
    "#pipe.fit(X_train, y_train)\n",
    "search.fit(X_train, y_train)"
   ]
  },
  {
   "cell_type": "code",
   "execution_count": 595,
   "metadata": {},
   "outputs": [],
   "source": [
    "#make predictions on test set\n",
    "\n",
    "#pred_val = pipe.predict(X_val)\n",
    "pred_val = search.predict(X_val)"
   ]
  },
  {
   "cell_type": "code",
   "execution_count": 596,
   "metadata": {},
   "outputs": [
    {
     "data": {
      "text/plain": [
       "array([0, 0, 1, 0, 1, 0, 0, 0, 0, 0, 0, 0, 0, 1, 0, 0, 0, 0, 1, 0, 0, 1,\n",
       "       1, 0, 1, 0, 1, 0, 0, 0, 0, 1, 0, 0, 0, 0, 0, 0, 1, 0, 1, 0, 1, 1,\n",
       "       1, 0, 0, 0, 0, 1, 1, 1, 1, 1, 0, 0, 0, 1, 0, 0, 0, 0, 1, 1, 1, 1,\n",
       "       0, 1, 1, 1, 1, 1, 1, 1, 1, 1, 1, 0, 1, 0, 0, 1, 0, 0, 0, 1, 0, 1,\n",
       "       0, 1, 0, 0, 1, 0, 1, 1, 1, 0, 0, 0, 1, 1, 0, 1, 1, 0, 0, 0, 0, 0,\n",
       "       0, 1, 0, 0, 0, 0, 1, 0, 0, 1, 1, 0, 0, 0, 1, 1, 1, 1, 0, 0, 1, 0,\n",
       "       0, 0, 1, 1, 1, 0, 1, 1, 1, 1, 0, 0, 1, 0, 1, 0, 0, 1, 0, 0, 0, 0,\n",
       "       0, 0, 1, 0, 1, 1, 1, 1, 0, 1, 1, 1, 0, 1, 0, 1, 1, 0, 1, 0, 1, 1,\n",
       "       0, 0, 1, 0, 0, 1, 0, 1, 0, 1, 0, 1, 0, 0, 1, 1, 1, 0, 0, 0, 0, 0,\n",
       "       1, 0, 0, 0, 1, 1, 0, 1, 1, 0, 0, 1, 0, 0, 0, 1, 1, 1, 0, 1, 1, 0,\n",
       "       1, 0, 0, 1, 1, 1, 0, 0, 0, 0, 0, 1, 1, 1, 1, 1, 1, 0, 0, 0, 1, 0,\n",
       "       0, 0, 0, 0, 1, 0, 1, 0, 1, 0, 0, 0, 1, 0, 0, 1, 1, 0, 1, 0, 0, 1,\n",
       "       1, 1, 0, 0, 1, 0, 0, 1, 1, 0, 1, 0, 0, 0, 1, 1, 0, 1, 0, 0, 0, 0,\n",
       "       0, 0, 1, 0, 1, 1, 0, 1, 1, 0, 0, 1, 0, 0, 0, 0, 1, 1, 1, 1, 1, 1,\n",
       "       1, 0, 0, 1, 0, 0, 1, 0, 1, 0, 1, 0, 0, 1, 1, 0, 1, 0, 1, 0, 0, 1,\n",
       "       1, 0, 0, 0, 0, 1, 1, 1, 1, 1, 1, 1, 0, 0, 0, 0, 0, 1, 1, 0, 1, 0,\n",
       "       0, 0, 0, 0, 0, 0, 1, 0, 0, 1, 1, 1, 1, 0, 1, 0, 0, 1, 0, 0, 0, 0,\n",
       "       1, 1, 1, 1, 0, 1, 0, 0, 1, 1, 1, 0, 1, 1, 1, 1, 0, 0, 0, 1, 0, 0,\n",
       "       0, 1, 1, 0, 1, 1, 1, 1, 0, 0, 0, 0, 0, 1, 0, 1, 0, 0, 1, 1, 0, 0,\n",
       "       1, 0, 0, 0, 1, 1, 1, 1, 1, 0, 1, 0, 1, 0, 0, 1, 1, 0, 1, 1, 0, 1,\n",
       "       0, 0, 0, 1, 1, 0, 0, 1, 0, 0, 0, 1, 0, 0, 1, 0, 1, 0, 1, 1, 1, 1,\n",
       "       0, 1, 0, 1, 0, 0, 0, 0, 0, 0, 1, 1, 0, 1, 0, 1, 0, 1, 0, 1, 0, 0,\n",
       "       0, 1, 0, 0, 1, 1, 0, 0, 0, 1, 0, 0, 1, 1, 0, 0, 1, 1, 1, 0, 1, 0,\n",
       "       1, 0, 1, 1, 0, 0, 0, 1, 1, 0, 0, 0, 1, 1, 1, 1, 1, 1, 1, 1, 0, 0,\n",
       "       1, 1, 1, 0, 1, 0, 0, 0, 1, 0, 0, 0, 1, 1, 0, 1, 1, 1, 0, 1, 0, 1,\n",
       "       0], dtype=int64)"
      ]
     },
     "execution_count": 596,
     "metadata": {},
     "output_type": "execute_result"
    }
   ],
   "source": [
    "#preview the predictions\n",
    "pred_val"
   ]
  },
  {
   "cell_type": "code",
   "execution_count": 597,
   "metadata": {},
   "outputs": [
    {
     "name": "stdout",
     "output_type": "stream",
     "text": [
      "[[232  47]\n",
      " [ 63 209]]\n",
      "              precision    recall  f1-score   support\n",
      "\n",
      "           0       0.79      0.83      0.81       279\n",
      "           1       0.82      0.77      0.79       272\n",
      "\n",
      "    accuracy                           0.80       551\n",
      "   macro avg       0.80      0.80      0.80       551\n",
      "weighted avg       0.80      0.80      0.80       551\n",
      "\n",
      "F1 score = 0.80\n"
     ]
    }
   ],
   "source": [
    "#evaluate the model\n",
    "\n",
    "from sklearn.metrics import confusion_matrix, classification_report, f1_score\n",
    "\n",
    "print(confusion_matrix(y_val, pred_val))\n",
    "print(classification_report(y_val, pred_val))\n",
    "print(\"F1 score = {:.2f}\".format(f1_score(y_val, pred_val, average='macro')))\n",
    "\n",
    "#MODEL PERFORMANCE ON VALIDATION SET:\n",
    "    #Logistic Regression: 82% accuracy and 82% F1-score\n",
    "    #Random Forest: 81% accuracy and 81% F1-score\n",
    "    #Multinomial Naive Bayes: 76% accuracy and 75% F1-score\n",
    "    #SVC: 78% accuracy and 78% F1-score\n",
    "    #MLP: 81% accuracy and 81% F1-score\n",
    "    #GBT: 81% accuracy and 81% F1-score"
   ]
  },
  {
   "cell_type": "markdown",
   "metadata": {},
   "source": [
    "## Model Evaluation on Test Set"
   ]
  },
  {
   "cell_type": "code",
   "execution_count": 598,
   "metadata": {},
   "outputs": [],
   "source": [
    "#import the test set\n",
    "test_df = pd.read_csv(\"sentiment_test.csv\")"
   ]
  },
  {
   "cell_type": "code",
   "execution_count": 599,
   "metadata": {},
   "outputs": [
    {
     "data": {
      "text/html": [
       "<div>\n",
       "<style scoped>\n",
       "    .dataframe tbody tr th:only-of-type {\n",
       "        vertical-align: middle;\n",
       "    }\n",
       "\n",
       "    .dataframe tbody tr th {\n",
       "        vertical-align: top;\n",
       "    }\n",
       "\n",
       "    .dataframe thead th {\n",
       "        text-align: right;\n",
       "    }\n",
       "</style>\n",
       "<table border=\"1\" class=\"dataframe\">\n",
       "  <thead>\n",
       "    <tr style=\"text-align: right;\">\n",
       "      <th></th>\n",
       "      <th>Sentence</th>\n",
       "      <th>Polarity</th>\n",
       "    </tr>\n",
       "  </thead>\n",
       "  <tbody>\n",
       "    <tr>\n",
       "      <td>0</td>\n",
       "      <td>A good commentary of today's love and undoubte...</td>\n",
       "      <td>1</td>\n",
       "    </tr>\n",
       "    <tr>\n",
       "      <td>1</td>\n",
       "      <td>For people who are first timers in film making...</td>\n",
       "      <td>1</td>\n",
       "    </tr>\n",
       "    <tr>\n",
       "      <td>2</td>\n",
       "      <td>It was very popular when I was in the cinema, ...</td>\n",
       "      <td>1</td>\n",
       "    </tr>\n",
       "    <tr>\n",
       "      <td>3</td>\n",
       "      <td>It's a feel-good film and that's how I felt wh...</td>\n",
       "      <td>1</td>\n",
       "    </tr>\n",
       "    <tr>\n",
       "      <td>4</td>\n",
       "      <td>It has northern humour and positive about the ...</td>\n",
       "      <td>1</td>\n",
       "    </tr>\n",
       "    <tr>\n",
       "      <td>5</td>\n",
       "      <td>I rather enjoyed it.</td>\n",
       "      <td>1</td>\n",
       "    </tr>\n",
       "    <tr>\n",
       "      <td>6</td>\n",
       "      <td>I liked it.</td>\n",
       "      <td>1</td>\n",
       "    </tr>\n",
       "    <tr>\n",
       "      <td>7</td>\n",
       "      <td>I couldn't take them seriously.</td>\n",
       "      <td>0</td>\n",
       "    </tr>\n",
       "    <tr>\n",
       "      <td>8</td>\n",
       "      <td>It really created a unique feeling though.</td>\n",
       "      <td>1</td>\n",
       "    </tr>\n",
       "    <tr>\n",
       "      <td>9</td>\n",
       "      <td>Vivian Schilling did an excellent job with the...</td>\n",
       "      <td>1</td>\n",
       "    </tr>\n",
       "  </tbody>\n",
       "</table>\n",
       "</div>"
      ],
      "text/plain": [
       "                                            Sentence  Polarity\n",
       "0  A good commentary of today's love and undoubte...         1\n",
       "1  For people who are first timers in film making...         1\n",
       "2  It was very popular when I was in the cinema, ...         1\n",
       "3  It's a feel-good film and that's how I felt wh...         1\n",
       "4  It has northern humour and positive about the ...         1\n",
       "5                             I rather enjoyed it.           1\n",
       "6                                      I liked it.           1\n",
       "7                  I couldn't take them seriously.           0\n",
       "8       It really created a unique feeling though.           1\n",
       "9  Vivian Schilling did an excellent job with the...         1"
      ]
     },
     "execution_count": 599,
     "metadata": {},
     "output_type": "execute_result"
    }
   ],
   "source": [
    "#preview\n",
    "test_df.head(10) #note that we have the target here so we can check our model's actual performance"
   ]
  },
  {
   "cell_type": "code",
   "execution_count": 600,
   "metadata": {},
   "outputs": [],
   "source": [
    "#use our pipeline to create predictions on test set\n",
    "\n",
    "#pred_test = pipe.predict(test_df['Sentence'])\n",
    "pred_test = search.predict(test_df['Sentence'])"
   ]
  },
  {
   "cell_type": "code",
   "execution_count": 601,
   "metadata": {},
   "outputs": [
    {
     "data": {
      "text/plain": [
       "array([1, 1, 1, 0, 1, 1, 1, 0, 1, 1, 1, 1, 0, 1, 1, 0, 0, 0, 0, 0, 0, 1,\n",
       "       1, 0, 0, 0, 0, 0, 0, 0, 0, 0, 0, 1, 0, 1, 0, 0, 0, 0, 1, 0, 0, 0,\n",
       "       0, 0, 1, 1, 1, 1, 0, 0, 0, 1, 0, 0, 0, 0, 0, 0, 0, 0, 1, 0, 0, 1,\n",
       "       0, 1, 1, 0, 0, 0, 0, 0, 0, 0, 0, 0, 0, 0, 1, 0, 1, 1, 1, 1, 0, 0,\n",
       "       1, 0, 0, 1, 1, 0, 0, 1, 1, 1, 0, 0, 0, 1, 1, 0, 1, 0, 0, 0, 1, 0,\n",
       "       0, 1, 1, 0, 0, 0, 0, 0, 0, 1, 0, 0, 0, 0, 1, 1, 0, 0, 0, 0, 1, 1,\n",
       "       0, 1, 0, 0, 0, 0, 0, 1, 1, 0, 1, 0, 0, 1, 0, 0, 1, 1, 1, 0, 0, 0,\n",
       "       1, 0, 0, 0, 0, 1, 0, 0, 0, 0, 1, 0, 0, 0, 0, 1, 1, 0, 0, 0, 0, 0,\n",
       "       0, 1, 0, 0, 0, 0, 0, 1, 0, 0, 0, 1, 0, 0, 0, 0, 1, 1, 1, 0, 0, 1,\n",
       "       0, 0, 1, 0, 0, 0, 1, 0, 0, 0, 1, 0, 0, 0, 1, 0, 0, 1, 1, 1, 1, 0,\n",
       "       1, 0, 1, 1, 0, 0, 0, 1, 1, 1, 1, 0, 1, 0, 1, 1, 1, 1, 1, 1, 1, 1,\n",
       "       0, 1, 0, 0, 0, 0, 1, 0, 0, 1, 0, 1, 1, 1, 1, 0, 0, 1, 1, 1, 1, 1,\n",
       "       0, 0, 1, 0, 0, 0, 1, 0, 1, 1, 0, 1, 1, 0, 1, 0, 1, 0, 1, 1, 1, 1,\n",
       "       1, 1, 0, 0, 1, 0, 1, 0, 1, 1, 0, 0, 0, 0, 0, 0, 0, 0, 0, 0, 0, 0,\n",
       "       0, 0, 0, 1, 1, 1, 1, 0, 0, 1, 0, 0, 0, 0, 0, 0, 0, 0, 0, 1, 1, 1,\n",
       "       1, 1, 1, 0, 0, 0, 0, 0, 1, 0, 1, 1, 1, 1, 1, 1, 1, 1, 0, 1, 0, 1,\n",
       "       1, 1, 1, 1, 1, 1, 0, 0, 1, 0, 1, 1, 0, 0, 0, 0, 0, 0, 1, 1, 1, 0,\n",
       "       1, 0, 0, 0, 1, 1, 0, 1, 1, 1, 1, 0, 1, 1, 1, 1, 1, 1, 1, 1, 0, 0,\n",
       "       0, 1, 1, 0, 0, 0, 0, 0, 0, 1, 0, 1, 0, 1, 0, 1, 1, 1, 1, 0, 1, 0,\n",
       "       1, 1, 0, 1, 0, 0, 0, 1, 1, 1, 0, 1, 1, 0, 0, 0, 0, 0, 0, 0, 0, 1,\n",
       "       0, 0, 1, 0, 0, 0, 0, 0, 0, 1, 0, 1, 0, 0, 0, 0, 1, 0, 0, 0, 1, 1,\n",
       "       1, 1, 0, 0, 0, 0, 1, 0, 0, 0, 0, 1, 1, 0, 1, 0, 1, 1, 1, 1, 1, 1,\n",
       "       1, 1, 0, 0, 0, 0, 0, 0, 0, 1, 0, 1, 0, 1, 0, 1, 0, 0, 1, 1, 1, 0,\n",
       "       1, 1, 1, 1, 1, 1, 0, 1, 1, 1, 0, 1, 1, 0, 0, 1, 1, 0, 1, 1, 1, 0,\n",
       "       1, 0, 1, 1, 1, 1, 1, 1, 0, 0, 1, 1, 0, 0, 0, 0, 0, 0], dtype=int64)"
      ]
     },
     "execution_count": 601,
     "metadata": {},
     "output_type": "execute_result"
    }
   ],
   "source": [
    "#preview predictions\n",
    "pred_test"
   ]
  },
  {
   "cell_type": "code",
   "execution_count": 602,
   "metadata": {},
   "outputs": [
    {
     "name": "stdout",
     "output_type": "stream",
     "text": [
      "[[213  36]\n",
      " [ 91 206]]\n",
      "              precision    recall  f1-score   support\n",
      "\n",
      "           0       0.70      0.86      0.77       249\n",
      "           1       0.85      0.69      0.76       297\n",
      "\n",
      "    accuracy                           0.77       546\n",
      "   macro avg       0.78      0.77      0.77       546\n",
      "weighted avg       0.78      0.77      0.77       546\n",
      "\n",
      "F1 score = 0.77\n",
      "AUC score = 0.775\n"
     ]
    }
   ],
   "source": [
    "#evaluate the model\n",
    "\n",
    "from sklearn.metrics import confusion_matrix, classification_report, f1_score, roc_auc_score\n",
    "\n",
    "print(confusion_matrix(test_df['Polarity'], pred_test))\n",
    "print(classification_report(test_df['Polarity'], pred_test))\n",
    "print(\"F1 score = {:.2f}\".format(f1_score(test_df['Polarity'], pred_test, average='macro')))\n",
    "print(\"AUC score = {:.3f}\".format(roc_auc_score(test_df['Polarity'], pred_test, average='macro')))\n",
    "\n",
    "#MODEL PERFORMANCE ON TEST SET:\n",
    "    #Logistic Regression: 75% accuracy and 75% F1-score\n",
    "    #Random Forest: 75% accuracy and 74% F1-score\n",
    "    #Tuned Random Forest: 75% accuracy and 75% F1-score\n",
    "    #Multinomial Naive Bayes: 57% accuracy and 54% F1-score\n",
    "    #SVC: 77% accuracy and 77% F1-score\n",
    "    #MLP: 74% accuracy and 74% F1-score\n",
    "    #GBT: 76% accuracy and 76% F1-score\n",
    "    #Tuned GBT: 77% accuracy and 77% F1-score"
   ]
  },
  {
   "cell_type": "markdown",
   "metadata": {},
   "source": [
    "## Identify Incorrect Predictions"
   ]
  },
  {
   "cell_type": "code",
   "execution_count": 603,
   "metadata": {},
   "outputs": [],
   "source": [
    "pred_test = pd.DataFrame(pred_test)\n",
    "pred_test.columns = ['prediction']"
   ]
  },
  {
   "cell_type": "code",
   "execution_count": 604,
   "metadata": {},
   "outputs": [],
   "source": [
    "#attach predictions to test set\n",
    "test_df_predicted = pd.concat([test_df, pred_test], axis=1)"
   ]
  },
  {
   "cell_type": "code",
   "execution_count": 605,
   "metadata": {},
   "outputs": [
    {
     "data": {
      "text/html": [
       "<div>\n",
       "<style scoped>\n",
       "    .dataframe tbody tr th:only-of-type {\n",
       "        vertical-align: middle;\n",
       "    }\n",
       "\n",
       "    .dataframe tbody tr th {\n",
       "        vertical-align: top;\n",
       "    }\n",
       "\n",
       "    .dataframe thead th {\n",
       "        text-align: right;\n",
       "    }\n",
       "</style>\n",
       "<table border=\"1\" class=\"dataframe\">\n",
       "  <thead>\n",
       "    <tr style=\"text-align: right;\">\n",
       "      <th></th>\n",
       "      <th>Sentence</th>\n",
       "      <th>Polarity</th>\n",
       "      <th>prediction</th>\n",
       "    </tr>\n",
       "  </thead>\n",
       "  <tbody>\n",
       "    <tr>\n",
       "      <td>0</td>\n",
       "      <td>A good commentary of today's love and undoubte...</td>\n",
       "      <td>1</td>\n",
       "      <td>1</td>\n",
       "    </tr>\n",
       "    <tr>\n",
       "      <td>1</td>\n",
       "      <td>For people who are first timers in film making...</td>\n",
       "      <td>1</td>\n",
       "      <td>1</td>\n",
       "    </tr>\n",
       "    <tr>\n",
       "      <td>2</td>\n",
       "      <td>It was very popular when I was in the cinema, ...</td>\n",
       "      <td>1</td>\n",
       "      <td>1</td>\n",
       "    </tr>\n",
       "    <tr>\n",
       "      <td>3</td>\n",
       "      <td>It's a feel-good film and that's how I felt wh...</td>\n",
       "      <td>1</td>\n",
       "      <td>0</td>\n",
       "    </tr>\n",
       "    <tr>\n",
       "      <td>4</td>\n",
       "      <td>It has northern humour and positive about the ...</td>\n",
       "      <td>1</td>\n",
       "      <td>1</td>\n",
       "    </tr>\n",
       "  </tbody>\n",
       "</table>\n",
       "</div>"
      ],
      "text/plain": [
       "                                            Sentence  Polarity  prediction\n",
       "0  A good commentary of today's love and undoubte...         1           1\n",
       "1  For people who are first timers in film making...         1           1\n",
       "2  It was very popular when I was in the cinema, ...         1           1\n",
       "3  It's a feel-good film and that's how I felt wh...         1           0\n",
       "4  It has northern humour and positive about the ...         1           1"
      ]
     },
     "execution_count": 605,
     "metadata": {},
     "output_type": "execute_result"
    }
   ],
   "source": [
    "test_df_predicted.head()"
   ]
  },
  {
   "cell_type": "code",
   "execution_count": 609,
   "metadata": {},
   "outputs": [],
   "source": [
    "#grab incorrect predictions\n",
    "incorrect_pred = test_df_predicted[test_df_predicted['prediction']!=test_df_predicted['Polarity']]"
   ]
  },
  {
   "cell_type": "code",
   "execution_count": 610,
   "metadata": {},
   "outputs": [],
   "source": [
    "#export incorrect predictions\n",
    "incorrect_pred.to_csv('incorrect_predictions.csv', index=False)"
   ]
  },
  {
   "cell_type": "markdown",
   "metadata": {},
   "source": [
    "## Investigate Incorrect Predictions"
   ]
  },
  {
   "cell_type": "code",
   "execution_count": 631,
   "metadata": {},
   "outputs": [],
   "source": [
    "#manually add exclamation_count feature to df\n",
    "df['exclamation_count'] = df.Sentence.str.count('!')"
   ]
  },
  {
   "cell_type": "code",
   "execution_count": 636,
   "metadata": {},
   "outputs": [],
   "source": [
    "#subset of relevant reviews with > 0 exclamation marks\n",
    "df_exclamation = df[df['exclamation_count'] > 0]"
   ]
  },
  {
   "cell_type": "code",
   "execution_count": 637,
   "metadata": {},
   "outputs": [
    {
     "data": {
      "text/plain": [
       "1    0.650847\n",
       "0    0.349153\n",
       "Name: Polarity, dtype: float64"
      ]
     },
     "execution_count": 637,
     "metadata": {},
     "output_type": "execute_result"
    },
    {
     "data": {
      "image/png": "[encoded data removed]",
      "text/plain": [
       "<Figure size 432x288 with 1 Axes>"
      ]
     },
     "metadata": {
      "needs_background": "light"
     },
     "output_type": "display_data"
    }
   ],
   "source": [
    "sns.countplot(df_exclamation['Polarity'])\n",
    "\n",
    "df_exclamation['Polarity'].value_counts(normalize=True)"
   ]
  }
 ],
 "metadata": {
  "kernelspec": {
   "display_name": "Python 3",
   "language": "python",
   "name": "python3"
  },
  "language_info": {
   "codemirror_mode": {
    "name": "ipython",
    "version": 3
   },
   "file_extension": ".py",
   "mimetype": "text/x-python",
   "name": "python",
   "nbconvert_exporter": "python",
   "pygments_lexer": "ipython3",
   "version": "3.7.4"
  }
 },
 "nbformat": 4,
 "nbformat_minor": 2
}
