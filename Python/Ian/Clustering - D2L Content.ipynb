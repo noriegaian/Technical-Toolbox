{
 "cells": [
  {
   "cell_type": "markdown",
   "metadata": {},
   "source": [
    "# Import Data"
   ]
  },
  {
   "cell_type": "code",
   "execution_count": null,
   "metadata": {},
   "outputs": [],
   "source": [
    "import pandas as pd\n",
    "import numpy as np\n",
    "import matplotlib.pyplot as plt\n",
    "import seaborn as sns\n",
    "%matplotlib inline\n",
    "\n",
    "from IPython.core.interactiveshell import InteractiveShell\n",
    "InteractiveShell.ast_node_interactivity = \"all\""
   ]
  },
  {
   "cell_type": "code",
   "execution_count": 18,
   "metadata": {},
   "outputs": [],
   "source": [
    "#connect to the data via the GitHub fork of uncle steve's sandbox\n",
    "url = 'https://raw.githubusercontent.com/noriegaian/sandbox/master/data/clustering_exec.csv'\n",
    "df = pd.read_csv(url)"
   ]
  },
  {
   "cell_type": "code",
   "execution_count": 19,
   "metadata": {},
   "outputs": [
    {
     "name": "stdout",
     "output_type": "stream",
     "text": [
      "<class 'pandas.core.frame.DataFrame'>\n",
      "RangeIndex: 40 entries, 0 to 39\n",
      "Data columns (total 2 columns):\n",
      "Age        40 non-null float64\n",
      "Savings    40 non-null float64\n",
      "dtypes: float64(2)\n",
      "memory usage: 768.0 bytes\n"
     ]
    }
   ],
   "source": [
    "df.info()"
   ]
  },
  {
   "cell_type": "code",
   "execution_count": 21,
   "metadata": {},
   "outputs": [
    {
     "data": {
      "text/html": [
       "<div>\n",
       "<style scoped>\n",
       "    .dataframe tbody tr th:only-of-type {\n",
       "        vertical-align: middle;\n",
       "    }\n",
       "\n",
       "    .dataframe tbody tr th {\n",
       "        vertical-align: top;\n",
       "    }\n",
       "\n",
       "    .dataframe thead th {\n",
       "        text-align: right;\n",
       "    }\n",
       "</style>\n",
       "<table border=\"1\" class=\"dataframe\">\n",
       "  <thead>\n",
       "    <tr style=\"text-align: right;\">\n",
       "      <th></th>\n",
       "      <th>Age</th>\n",
       "      <th>Savings</th>\n",
       "    </tr>\n",
       "  </thead>\n",
       "  <tbody>\n",
       "    <tr>\n",
       "      <td>0</td>\n",
       "      <td>40.9</td>\n",
       "      <td>76.4</td>\n",
       "    </tr>\n",
       "    <tr>\n",
       "      <td>1</td>\n",
       "      <td>40.1</td>\n",
       "      <td>2.2</td>\n",
       "    </tr>\n",
       "    <tr>\n",
       "      <td>2</td>\n",
       "      <td>37.1</td>\n",
       "      <td>1.7</td>\n",
       "    </tr>\n",
       "    <tr>\n",
       "      <td>3</td>\n",
       "      <td>44.5</td>\n",
       "      <td>1.4</td>\n",
       "    </tr>\n",
       "    <tr>\n",
       "      <td>4</td>\n",
       "      <td>29.9</td>\n",
       "      <td>89.8</td>\n",
       "    </tr>\n",
       "  </tbody>\n",
       "</table>\n",
       "</div>"
      ],
      "text/plain": [
       "    Age  Savings\n",
       "0  40.9     76.4\n",
       "1  40.1      2.2\n",
       "2  37.1      1.7\n",
       "3  44.5      1.4\n",
       "4  29.9     89.8"
      ]
     },
     "execution_count": 21,
     "metadata": {},
     "output_type": "execute_result"
    }
   ],
   "source": [
    "df.head()"
   ]
  },
  {
   "cell_type": "code",
   "execution_count": 22,
   "metadata": {},
   "outputs": [],
   "source": [
    "#convert pandas df to numpy array (just easier to use with scikitlearn)\n",
    "X = df.to_numpy()"
   ]
  },
  {
   "cell_type": "code",
   "execution_count": 25,
   "metadata": {},
   "outputs": [
    {
     "data": {
      "text/plain": [
       "(40, 2)"
      ]
     },
     "execution_count": 25,
     "metadata": {},
     "output_type": "execute_result"
    }
   ],
   "source": [
    "X.shape"
   ]
  },
  {
   "cell_type": "code",
   "execution_count": 27,
   "metadata": {},
   "outputs": [
    {
     "data": {
      "text/plain": [
       "array([[ 40.9,  76.4],\n",
       "       [ 40.1,   2.2],\n",
       "       [ 37.1,   1.7],\n",
       "       [ 44.5,   1.4],\n",
       "       [ 29.9,  89.8],\n",
       "       [ 31.2, 101.3],\n",
       "       [ 30.2,  87.3],\n",
       "       [ 51.2,  10.3],\n",
       "       [ 55.7,   8.3],\n",
       "       [ 38.5,   0.6],\n",
       "       [ 57.9, 165.2],\n",
       "       [ 56.2, 179.1],\n",
       "       [ 53. ,  11.5],\n",
       "       [ 30.7, 107.7],\n",
       "       [ 34.4,  92.7],\n",
       "       [ 50.9,  10.1],\n",
       "       [ 56.2, 132.9],\n",
       "       [ 43.1,   1.4],\n",
       "       [ 53.2,  12.3],\n",
       "       [ 54.1,   7.5],\n",
       "       [ 33.7, 108.6],\n",
       "       [ 41.7,   1.2],\n",
       "       [ 42.9,   1.4],\n",
       "       [ 60.3, 152.9],\n",
       "       [ 54.5, 145.9],\n",
       "       [ 37.3, 106. ],\n",
       "       [ 52.1, 156.7],\n",
       "       [ 52.7,   8.8],\n",
       "       [ 57.9, 179.9],\n",
       "       [ 56.9,   8.6],\n",
       "       [ 55.2,   9.4],\n",
       "       [ 39.6,   2.2],\n",
       "       [ 33.5,  99.4],\n",
       "       [ 50.6,  10.8],\n",
       "       [ 41.3,   1.8],\n",
       "       [ 34.9,   1.7],\n",
       "       [ 61.7, 152.4],\n",
       "       [ 54.7, 156.3],\n",
       "       [ 31.9,  82.1],\n",
       "       [ 60.6, 158.9]])"
      ]
     },
     "execution_count": 27,
     "metadata": {},
     "output_type": "execute_result"
    }
   ],
   "source": [
    "#preview our data\n",
    "X"
   ]
  },
  {
   "cell_type": "markdown",
   "metadata": {},
   "source": [
    "# K-Means"
   ]
  },
  {
   "cell_type": "code",
   "execution_count": 30,
   "metadata": {},
   "outputs": [
    {
     "data": {
      "text/plain": [
       "<Figure size 432x288 with 0 Axes>"
      ]
     },
     "execution_count": 30,
     "metadata": {},
     "output_type": "execute_result"
    },
    {
     "data": {
      "text/plain": [
       "<matplotlib.collections.PathCollection at 0x187fee51888>"
      ]
     },
     "execution_count": 30,
     "metadata": {},
     "output_type": "execute_result"
    },
    {
     "data": {
      "image/png": "[encoded data removed]",
      "text/plain": [
       "<Figure size 432x288 with 1 Axes>"
      ]
     },
     "metadata": {
      "needs_background": "light"
     },
     "output_type": "display_data"
    }
   ],
   "source": [
    "#let's examine our data with a plot\n",
    "plt.figure()\n",
    "plt.scatter(X[:,0], X[:,1], c=\"black\") #column 1 vs column 2 (identified with indices)"
   ]
  },
  {
   "cell_type": "code",
   "execution_count": 31,
   "metadata": {},
   "outputs": [],
   "source": [
    "#standardize our values\n",
    "from sklearn.preprocessing import StandardScaler\n",
    "scaler = StandardScaler()\n",
    "X = scaler.fit_transform(X)"
   ]
  },
  {
   "cell_type": "code",
   "execution_count": 33,
   "metadata": {},
   "outputs": [
    {
     "data": {
      "text/plain": [
       "array([[-0.51612539,  0.15805912],\n",
       "       [-0.59591289, -0.98251823],\n",
       "       [-0.89511601, -0.99020406],\n",
       "       [-0.15708164, -0.99481556],\n",
       "       [-1.61320351,  0.36403939],\n",
       "       [-1.48354882,  0.54081351],\n",
       "       [-1.5832832 ,  0.32561024],\n",
       "       [ 0.51113867, -0.85800776],\n",
       "       [ 0.95994336, -0.88875109],\n",
       "       [-0.75548789, -1.00711289],\n",
       "       [ 1.17935898,  1.52306274],\n",
       "       [ 1.00981054,  1.73672884],\n",
       "       [ 0.69066054, -0.83956177],\n",
       "       [-1.53341601,  0.63919215],\n",
       "       [-1.16439882,  0.40861721],\n",
       "       [ 0.48121836, -0.8610821 ],\n",
       "       [ 1.00981054,  1.02655804],\n",
       "       [-0.29670976, -0.99481556],\n",
       "       [ 0.71060742, -0.82726444],\n",
       "       [ 0.80036836, -0.90104842],\n",
       "       [-1.23421289,  0.65302665],\n",
       "       [-0.43633789, -0.99788989],\n",
       "       [-0.31665664, -0.99481556],\n",
       "       [ 1.41872148,  1.33399129],\n",
       "       [ 0.84026211,  1.22638965],\n",
       "       [-0.87516914,  0.61306032],\n",
       "       [ 0.60089961,  1.39240361],\n",
       "       [ 0.66074023, -0.88106526],\n",
       "       [ 1.17935898,  1.74902617],\n",
       "       [ 1.07962461, -0.88413959],\n",
       "       [ 0.91007617, -0.87184226],\n",
       "       [-0.64578008, -0.98251823],\n",
       "       [-1.25415976,  0.51160735],\n",
       "       [ 0.45129805, -0.85032193],\n",
       "       [-0.47623164, -0.98866689],\n",
       "       [-1.11453164, -0.99020406],\n",
       "       [ 1.5583496 ,  1.32630546],\n",
       "       [ 0.86020898,  1.38625494],\n",
       "       [-1.41373476,  0.24567759],\n",
       "       [ 1.44864179,  1.42622126]])"
      ]
     },
     "execution_count": 33,
     "metadata": {},
     "output_type": "execute_result"
    }
   ],
   "source": [
    "X #here's our scaled data"
   ]
  },
  {
   "cell_type": "code",
   "execution_count": 35,
   "metadata": {},
   "outputs": [],
   "source": [
    "#K-Means algorithm\n",
    "from sklearn.cluster import KMeans\n",
    "k_means = KMeans(init='k-means++', n_clusters=4, n_init=10, random_state=42)"
   ]
  },
  {
   "cell_type": "code",
   "execution_count": 36,
   "metadata": {},
   "outputs": [
    {
     "data": {
      "text/plain": [
       "KMeans(algorithm='auto', copy_x=True, init='k-means++', max_iter=300,\n",
       "       n_clusters=4, n_init=10, n_jobs=None, precompute_distances='auto',\n",
       "       random_state=42, tol=0.0001, verbose=0)"
      ]
     },
     "execution_count": 36,
     "metadata": {},
     "output_type": "execute_result"
    }
   ],
   "source": [
    "#now fit the algorithm to our data\n",
    "k_means.fit(X)"
   ]
  },
  {
   "cell_type": "code",
   "execution_count": 38,
   "metadata": {},
   "outputs": [
    {
     "data": {
      "text/plain": [
       "array([2, 3, 3, 3, 2, 2, 2, 0, 0, 3, 1, 1, 0, 2, 2, 0, 1, 3, 0, 0, 2, 3,\n",
       "       3, 1, 1, 2, 1, 0, 1, 0, 0, 3, 2, 0, 3, 3, 1, 1, 2, 1])"
      ]
     },
     "execution_count": 38,
     "metadata": {},
     "output_type": "execute_result"
    }
   ],
   "source": [
    "#view the clusters that each instance has been assigned to\n",
    "k_means.labels_"
   ]
  },
  {
   "cell_type": "code",
   "execution_count": 40,
   "metadata": {},
   "outputs": [
    {
     "data": {
      "text/plain": [
       "array([[ 0.72556758, -0.86630846],\n",
       "       [ 1.11054226,  1.4126942 ],\n",
       "       [-1.26712523,  0.44597035],\n",
       "       [-0.56898461, -0.99235609]])"
      ]
     },
     "execution_count": 40,
     "metadata": {},
     "output_type": "execute_result"
    }
   ],
   "source": [
    "#view the cluster centres\n",
    "k_means.cluster_centers_ #here we get back a 4x2 array\n",
    "#observations: notice that these are hard to interpret since our features\n",
    "#have been standardized"
   ]
  },
  {
   "cell_type": "code",
   "execution_count": 54,
   "metadata": {},
   "outputs": [
    {
     "data": {
      "text/plain": [
       "array([[ 53.35,   9.76],\n",
       "       [ 57.21, 158.02],\n",
       "       [ 33.37,  95.13],\n",
       "       [ 40.37,   1.56]])"
      ]
     },
     "execution_count": 54,
     "metadata": {},
     "output_type": "execute_result"
    }
   ],
   "source": [
    "#inverse scaling\n",
    "scaler.inverse_transform(k_means.cluster_centers_)\n",
    "#observations: now we have cluster centres that are easier to interpret\n",
    "#(e.g., age of 53.35 and savings of 9.76)"
   ]
  },
  {
   "cell_type": "code",
   "execution_count": 62,
   "metadata": {},
   "outputs": [
    {
     "data": {
      "text/plain": [
       "KMeans(algorithm='auto', copy_x=True, init='k-means++', max_iter=300,\n",
       "       n_clusters=1, n_init=10, n_jobs=None, precompute_distances='auto',\n",
       "       random_state=None, tol=0.0001, verbose=0)"
      ]
     },
     "execution_count": 62,
     "metadata": {},
     "output_type": "execute_result"
    },
    {
     "data": {
      "text/plain": [
       "KMeans(algorithm='auto', copy_x=True, init='k-means++', max_iter=300,\n",
       "       n_clusters=2, n_init=10, n_jobs=None, precompute_distances='auto',\n",
       "       random_state=None, tol=0.0001, verbose=0)"
      ]
     },
     "execution_count": 62,
     "metadata": {},
     "output_type": "execute_result"
    },
    {
     "data": {
      "text/plain": [
       "KMeans(algorithm='auto', copy_x=True, init='k-means++', max_iter=300,\n",
       "       n_clusters=3, n_init=10, n_jobs=None, precompute_distances='auto',\n",
       "       random_state=None, tol=0.0001, verbose=0)"
      ]
     },
     "execution_count": 62,
     "metadata": {},
     "output_type": "execute_result"
    },
    {
     "data": {
      "text/plain": [
       "KMeans(algorithm='auto', copy_x=True, init='k-means++', max_iter=300,\n",
       "       n_clusters=4, n_init=10, n_jobs=None, precompute_distances='auto',\n",
       "       random_state=None, tol=0.0001, verbose=0)"
      ]
     },
     "execution_count": 62,
     "metadata": {},
     "output_type": "execute_result"
    },
    {
     "data": {
      "text/plain": [
       "KMeans(algorithm='auto', copy_x=True, init='k-means++', max_iter=300,\n",
       "       n_clusters=5, n_init=10, n_jobs=None, precompute_distances='auto',\n",
       "       random_state=None, tol=0.0001, verbose=0)"
      ]
     },
     "execution_count": 62,
     "metadata": {},
     "output_type": "execute_result"
    },
    {
     "data": {
      "text/plain": [
       "KMeans(algorithm='auto', copy_x=True, init='k-means++', max_iter=300,\n",
       "       n_clusters=6, n_init=10, n_jobs=None, precompute_distances='auto',\n",
       "       random_state=None, tol=0.0001, verbose=0)"
      ]
     },
     "execution_count": 62,
     "metadata": {},
     "output_type": "execute_result"
    },
    {
     "data": {
      "text/plain": [
       "KMeans(algorithm='auto', copy_x=True, init='k-means++', max_iter=300,\n",
       "       n_clusters=7, n_init=10, n_jobs=None, precompute_distances='auto',\n",
       "       random_state=None, tol=0.0001, verbose=0)"
      ]
     },
     "execution_count": 62,
     "metadata": {},
     "output_type": "execute_result"
    },
    {
     "data": {
      "text/plain": [
       "KMeans(algorithm='auto', copy_x=True, init='k-means++', max_iter=300,\n",
       "       n_clusters=8, n_init=10, n_jobs=None, precompute_distances='auto',\n",
       "       random_state=None, tol=0.0001, verbose=0)"
      ]
     },
     "execution_count": 62,
     "metadata": {},
     "output_type": "execute_result"
    },
    {
     "data": {
      "text/plain": [
       "KMeans(algorithm='auto', copy_x=True, init='k-means++', max_iter=300,\n",
       "       n_clusters=9, n_init=10, n_jobs=None, precompute_distances='auto',\n",
       "       random_state=None, tol=0.0001, verbose=0)"
      ]
     },
     "execution_count": 62,
     "metadata": {},
     "output_type": "execute_result"
    }
   ],
   "source": [
    "#use elbow method to identify k\n",
    "distortions = []\n",
    "K = range(1,10)\n",
    "for k in K:\n",
    "    kmeanModel = KMeans(n_clusters=k)\n",
    "    kmeanModel.fit(X)\n",
    "    distortions.append(kmeanModel.inertia_)"
   ]
  },
  {
   "cell_type": "code",
   "execution_count": 63,
   "metadata": {},
   "outputs": [
    {
     "data": {
      "text/plain": [
       "<Figure size 720x288 with 0 Axes>"
      ]
     },
     "execution_count": 63,
     "metadata": {},
     "output_type": "execute_result"
    },
    {
     "data": {
      "text/plain": [
       "[<matplotlib.lines.Line2D at 0x187819ce8c8>]"
      ]
     },
     "execution_count": 63,
     "metadata": {},
     "output_type": "execute_result"
    },
    {
     "data": {
      "text/plain": [
       "Text(0.5, 0, 'k')"
      ]
     },
     "execution_count": 63,
     "metadata": {},
     "output_type": "execute_result"
    },
    {
     "data": {
      "text/plain": [
       "Text(0, 0.5, 'Distortion')"
      ]
     },
     "execution_count": 63,
     "metadata": {},
     "output_type": "execute_result"
    },
    {
     "data": {
      "text/plain": [
       "Text(0.5, 1.0, 'The Elbow Method showing the optimal k')"
      ]
     },
     "execution_count": 63,
     "metadata": {},
     "output_type": "execute_result"
    },
    {
     "data": {
      "image/png": "[encoded data removed]",
      "text/plain": [
       "<Figure size 720x288 with 1 Axes>"
      ]
     },
     "metadata": {
      "needs_background": "light"
     },
     "output_type": "display_data"
    }
   ],
   "source": [
    "plt.figure(figsize=(10,4))\n",
    "plt.plot(K, distortions, 'bx-')\n",
    "plt.xlabel('k')\n",
    "plt.ylabel('Distortion')\n",
    "plt.title('The Elbow Method showing the optimal k')\n",
    "plt.show()\n",
    "#observations: indeed, appears to be 4 as the optimal k"
   ]
  },
  {
   "cell_type": "code",
   "execution_count": 65,
   "metadata": {},
   "outputs": [
    {
     "data": {
      "text/plain": [
       "0.7490346189454948"
      ]
     },
     "execution_count": 65,
     "metadata": {},
     "output_type": "execute_result"
    }
   ],
   "source": [
    "#examine silhouette score\n",
    "from sklearn.metrics import silhouette_score\n",
    "silhouette_score(X, k_means.labels_)\n",
    "#observations: silhouette coefficient of 0.75 indicates quite good accuracy\n",
    "#in terms of identifying instances in their proper clusters (close to centroids)"
   ]
  },
  {
   "cell_type": "markdown",
   "metadata": {},
   "source": [
    "# DBSCAN"
   ]
  },
  {
   "cell_type": "code",
   "execution_count": 43,
   "metadata": {},
   "outputs": [],
   "source": [
    "#import dbscan algorithm\n",
    "from sklearn.cluster import DBSCAN\n",
    "dbscan = DBSCAN(eps = 0.3, min_samples=3)"
   ]
  },
  {
   "cell_type": "code",
   "execution_count": 44,
   "metadata": {},
   "outputs": [
    {
     "data": {
      "text/plain": [
       "DBSCAN(algorithm='auto', eps=0.3, leaf_size=30, metric='euclidean',\n",
       "       metric_params=None, min_samples=3, n_jobs=None, p=None)"
      ]
     },
     "execution_count": 44,
     "metadata": {},
     "output_type": "execute_result"
    }
   ],
   "source": [
    "#now fit the algorithm to our data\n",
    "dbscan.fit(X)"
   ]
  },
  {
   "cell_type": "code",
   "execution_count": 46,
   "metadata": {},
   "outputs": [
    {
     "data": {
      "text/plain": [
       "array([-1,  0,  0,  0,  1,  1,  1,  2,  2,  0,  3,  3,  2,  1,  1,  2,  4,\n",
       "        0,  2,  2,  1,  0,  0,  3,  4, -1,  4,  2,  3,  2,  2,  0,  1,  2,\n",
       "        0,  0,  3,  4,  1,  3], dtype=int64)"
      ]
     },
     "execution_count": 46,
     "metadata": {},
     "output_type": "execute_result"
    }
   ],
   "source": [
    "#view the clusters that each instance has been assigned\n",
    "dbscan.labels_\n",
    "#observations: notice some instances were assigned a negative label...these\n",
    "#have been classified as noise; also notice that the algorithm has assigned\n",
    "#5 clusters (0,1,2,3,4)"
   ]
  },
  {
   "cell_type": "markdown",
   "metadata": {},
   "source": [
    "# Hierarchical"
   ]
  },
  {
   "cell_type": "code",
   "execution_count": 47,
   "metadata": {},
   "outputs": [],
   "source": [
    "#import hierarchical algorithm (scikitlearn doesn't have...use scipy)\n",
    "from scipy.cluster.hierarchy import linkage\n",
    "h = linkage(X, method='ward', metric='euclidean')\n",
    "#in scipy fitting works a bit differently - just call the function (is done above)"
   ]
  },
  {
   "cell_type": "code",
   "execution_count": 48,
   "metadata": {},
   "outputs": [],
   "source": [
    "#import dendrogram\n",
    "from scipy.cluster.hierarchy import dendrogram"
   ]
  },
  {
   "cell_type": "code",
   "execution_count": 49,
   "metadata": {},
   "outputs": [
    {
     "data": {
      "image/png": "[encoded data removed]",
      "text/plain": [
       "<Figure size 864x360 with 1 Axes>"
      ]
     },
     "metadata": {
      "needs_background": "light"
     },
     "output_type": "display_data"
    }
   ],
   "source": [
    "#plot dendrogram\n",
    "plt.figure(figsize=(12,5));\n",
    "dendrogram(h);\n",
    "#observations: 1&31 were merged, then 34 with them, etc. (review notes)"
   ]
  },
  {
   "cell_type": "code",
   "execution_count": 50,
   "metadata": {},
   "outputs": [],
   "source": [
    "#get cluster assignments for each instance\n",
    "from scipy.cluster.hierarchy import fcluster"
   ]
  },
  {
   "cell_type": "code",
   "execution_count": 52,
   "metadata": {},
   "outputs": [
    {
     "data": {
      "text/plain": [
       "array([2, 4, 4, 4, 2, 2, 2, 3, 3, 4, 1, 1, 3, 2, 2, 3, 1, 4, 3, 3, 2, 4,\n",
       "       4, 1, 1, 2, 1, 3, 1, 3, 3, 4, 2, 3, 4, 4, 1, 1, 2, 1], dtype=int32)"
      ]
     },
     "execution_count": 52,
     "metadata": {},
     "output_type": "execute_result"
    }
   ],
   "source": [
    "fcluster(h, 4, criterion='maxclust')"
   ]
  },
  {
   "cell_type": "code",
   "execution_count": 53,
   "metadata": {},
   "outputs": [
    {
     "data": {
      "text/plain": [
       "array([2, 2, 2, 2, 2, 2, 2, 2, 2, 2, 1, 1, 2, 2, 2, 2, 1, 2, 2, 2, 2, 2,\n",
       "       2, 1, 1, 2, 1, 2, 1, 2, 2, 2, 2, 2, 2, 2, 1, 1, 2, 1], dtype=int32)"
      ]
     },
     "execution_count": 53,
     "metadata": {},
     "output_type": "execute_result"
    }
   ],
   "source": [
    "#try with 2 clusters\n",
    "fcluster(h, 2, criterion='maxclust')"
   ]
  }
 ],
 "metadata": {
  "kernelspec": {
   "display_name": "Python 3",
   "language": "python",
   "name": "python3"
  },
  "language_info": {
   "codemirror_mode": {
    "name": "ipython",
    "version": 3
   },
   "file_extension": ".py",
   "mimetype": "text/x-python",
   "name": "python",
   "nbconvert_exporter": "python",
   "pygments_lexer": "ipython3",
   "version": "3.7.4"
  }
 },
 "nbformat": 4,
 "nbformat_minor": 2
}
