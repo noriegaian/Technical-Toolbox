{
 "cells": [
  {
   "cell_type": "code",
   "execution_count": 2,
   "metadata": {},
   "outputs": [],
   "source": [
    "#Purpose: Example of simple sentiment analysis using lexicon-based approach, \n",
    "#leveraging NLP package textblob"
   ]
  },
  {
   "cell_type": "code",
   "execution_count": 3,
   "metadata": {},
   "outputs": [],
   "source": [
    "from textblob import TextBlob"
   ]
  },
  {
   "cell_type": "code",
   "execution_count": 4,
   "metadata": {},
   "outputs": [],
   "source": [
    "sent = \"Steve is smart, handsome, and funny.\"\n",
    "tb = TextBlob(sent)"
   ]
  },
  {
   "cell_type": "code",
   "execution_count": 5,
   "metadata": {},
   "outputs": [
    {
     "data": {
      "text/plain": [
       "TextBlob(\"Steve is smart, handsome, and funny.\")"
      ]
     },
     "execution_count": 5,
     "metadata": {},
     "output_type": "execute_result"
    }
   ],
   "source": [
    "tb"
   ]
  },
  {
   "cell_type": "code",
   "execution_count": 12,
   "metadata": {},
   "outputs": [
    {
     "data": {
      "text/plain": [
       "[('Steve', 'NNP'),\n",
       " ('is', 'VBZ'),\n",
       " ('smart', 'JJ'),\n",
       " ('handsome', 'JJ'),\n",
       " ('and', 'CC'),\n",
       " ('funny', 'NN')]"
      ]
     },
     "execution_count": 12,
     "metadata": {},
     "output_type": "execute_result"
    }
   ],
   "source": [
    "tb.tags #shows the tag for each word in the sentence (e.g., is = verb, smart = adjective, etc.)"
   ]
  },
  {
   "cell_type": "code",
   "execution_count": 15,
   "metadata": {},
   "outputs": [
    {
     "data": {
      "text/plain": [
       "WordList(['steve'])"
      ]
     },
     "execution_count": 15,
     "metadata": {},
     "output_type": "execute_result"
    }
   ],
   "source": [
    "#can use this to print out certain types, here are noun phrases\n",
    "tb.noun_phrases"
   ]
  },
  {
   "cell_type": "code",
   "execution_count": 17,
   "metadata": {},
   "outputs": [
    {
     "data": {
      "text/plain": [
       "Sentiment(polarity=0.32142857142857145, subjectivity=0.8809523809523809)"
      ]
     },
     "execution_count": 17,
     "metadata": {},
     "output_type": "execute_result"
    }
   ],
   "source": [
    "#let's check out the sentiment\n",
    "tb.sentiment\n",
    "\n",
    "#observations: polarity score (b/w -1 and 1) and subjectivity score (b/w 0 and 1)\n",
    "#polarity score = 0.32 (above 0) so positive...makes sense!"
   ]
  },
  {
   "cell_type": "code",
   "execution_count": 18,
   "metadata": {},
   "outputs": [],
   "source": [
    "sentences = [\n",
    "    \"I love Princess Elsa.\",\n",
    "    \"I do not love Princess Elsa.\",\n",
    "    \"I am luke warm about Princess Elsa.\",\n",
    "    \"I love cheese but hate wine.\",\n",
    "    \"The boy is not mad.\",\n",
    "    \"The boy is not not mad.\",\n",
    "    \"GOING TO LA THIS WEEKEND.\",\n",
    "    \"I love being ignored.\",\n",
    "    \"Nobody gives a good performance.\",\n",
    "    \"Nobody should miss this movie.\"\n",
    "]"
   ]
  },
  {
   "cell_type": "code",
   "execution_count": 20,
   "metadata": {},
   "outputs": [
    {
     "name": "stdout",
     "output_type": "stream",
     "text": [
      "I love Princess Elsa.\n",
      "Sentiment(polarity=0.5, subjectivity=0.6)\n",
      "Positive\n",
      "\n",
      "I do not love Princess Elsa.\n",
      "Sentiment(polarity=-0.25, subjectivity=0.6)\n",
      "Negative\n",
      "\n",
      "I am luke warm about Princess Elsa.\n",
      "Sentiment(polarity=0.6, subjectivity=0.6)\n",
      "Positive\n",
      "\n",
      "I love cheese but hate wine.\n",
      "Sentiment(polarity=-0.15000000000000002, subjectivity=0.75)\n",
      "Negative\n",
      "\n",
      "The boy is not mad.\n",
      "Sentiment(polarity=0.3125, subjectivity=1.0)\n",
      "Positive\n",
      "\n",
      "The boy is not not mad.\n",
      "Sentiment(polarity=0.3125, subjectivity=1.0)\n",
      "Positive\n",
      "\n",
      "GOING TO LA THIS WEEKEND.\n",
      "Sentiment(polarity=0.0, subjectivity=0.0)\n",
      "Negative\n",
      "\n",
      "I love being ignored.\n",
      "Sentiment(polarity=0.5, subjectivity=0.6)\n",
      "Positive\n",
      "\n",
      "Nobody gives a good performance.\n",
      "Sentiment(polarity=0.7, subjectivity=0.6000000000000001)\n",
      "Positive\n",
      "\n",
      "Nobody should miss this movie.\n",
      "Sentiment(polarity=0.0, subjectivity=0.0)\n",
      "Negative\n",
      "\n"
     ]
    }
   ],
   "source": [
    "#function for sentiment over multiple sentences\n",
    "for sentence in sentences:\n",
    "    sent = TextBlob(sentence)\n",
    "    print(sent)\n",
    "    print(sent.sentiment)\n",
    "    if sent.sentiment.polarity > 0:\n",
    "        print(\"Positive\")\n",
    "    else:\n",
    "        print(\"Negative\")\n",
    "    print()\n",
    "    \n",
    "#observations: see and examine results below\n",
    "#does a good job with negation\n",
    "#luke warm in 3 a bit iffy (probably shouldn't be higher polarity than 1)\n",
    "#4 shows how it weighs after the but higher than before (hate wine)\n",
    "#Going to LA in all caps is expectedly 0, no sentiment (neutral, not negative)\n",
    "#I love being ignored is a good example of how we miss sarcasm (not positive)\n",
    "#Last two are pretty clearly wrong (still work that should be done...)"
   ]
  }
 ],
 "metadata": {
  "kernelspec": {
   "display_name": "Python 3",
   "language": "python",
   "name": "python3"
  },
  "language_info": {
   "codemirror_mode": {
    "name": "ipython",
    "version": 3
   },
   "file_extension": ".py",
   "mimetype": "text/x-python",
   "name": "python",
   "nbconvert_exporter": "python",
   "pygments_lexer": "ipython3",
   "version": "3.7.4"
  }
 },
 "nbformat": 4,
 "nbformat_minor": 2
}
